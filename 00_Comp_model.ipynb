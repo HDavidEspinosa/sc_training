{
 "cells": [
  {
   "cell_type": "code",
   "execution_count": null,
   "metadata": {},
   "outputs": [],
   "source": []
  },
  {
   "cell_type": "code",
   "execution_count": null,
   "metadata": {},
   "outputs": [],
   "source": [
    "#hide\r\n",
    "\r\n",
    "from nbdev.showdoc import *"
   ]
  },
  {
   "cell_type": "markdown",
   "metadata": {},
   "source": [
    "# 1 - SC2 Training Grounds Computer Model"
   ]
  },
  {
   "cell_type": "markdown",
   "metadata": {},
   "source": [
    "In this deliverable, I focus on developing the computer model of _SC2 Training Grounds_. This model is based on the application's conceptual model defined in the project's design brief.\n",
    "\n",
    "> Note: see this project's dissertation document (Chapter 2, Human-Computer Interaction section). There, I explore the idea of design as the process of connecting an artifact's computer and user models.\n",
    "\n",
    "To this end, I first use the activity diagrams shown below, which illustrates the application's three primary processes. I separate the processes, given that they are meant to be triggered by different events and run parallel to each other. However, they also interact with each other in different ways at different moments. \n",
    "\n",
    "## Primary User Interaction\n",
    "\n",
    "First, the following diagram shows the actions that define the users' primary interaction with the application. Through these actions, the application responds to two goals: handling the player profile classification process and offering recommendations based on the progress and results of that process. \n",
    "\n",
    "The profile classification process, in turn, has three goals:\n",
    "1. Check if the player's profile has been classified into one of the categories built in the application's clustering process (see Bellow).\n",
    "2. Remind and update the player about their progress in this process.\n",
    "3. Trigger the reclassification process once a player completes a training regime.\n",
    "\n",
    "> Note: The process proposed in the diagram asks players to play five classification online matches every time a season starts or when they complete a training regime. I settled on five matches since it's the number of matches that the game already asks players to complete to rank them in the online competitive ladders every season.\n",
    "\n",
    "Meanwhile, _SC2 Training Grounds_ centres its recommendation process on two tasks. First, it maintains a set of similarity matrixes that it uses to generate recommendations based on Item-to-Item and User-to-User comparisons. Second, it determines what recommendations to offer to the players based on their classification and current training regime status. \n",
    "\n",
    "It maintains the similarity matrixes by assigning positive or negative points to recommendations similarly to how other recommender systems award points through ranking or rating systems. However, in this case, the system rewards regimes and challenges chosen by the players, to regimes carried out to completion and regimes that elicit profile changes according to the reclassification.  Meanwhile, the process punishes regimes that players abandon. \n",
    "\n",
    "> Note: see dissertation document Section 4.3 for a review of collaborative filtering recommendation systems."
   ]
  },
  {
   "cell_type": "markdown",
   "metadata": {},
   "source": [
    "<img alt=\"Primary UX Diagram\" caption=\"Sc2 Training Grouns' Primary User Interaction Diagram\" id=\"interaction_diagram\" height=\"900\" src=\"images/Final_Activity_diagram.png\">"
   ]
  },
  {
   "cell_type": "markdown",
   "metadata": {},
   "source": [
    "## Clustering and Classification Model\n",
    "\n",
    "The next diagram shows the _clustering_ and _classification model training_ process that runs parallel and in the background of the users' interaction. \n",
    "\n",
    "This process is conceptualised to match StarCraft 2's ranked ladder season cycles. In other words, since players are being asked to get ranked every season, I propose that _SC2 Training Grounds_ recalculates its classification clusters at that same pace.\n",
    "\n",
    "In this case, the clustering is meant as a form of **Player Experience Modelling** (see Dissertation Document Chapters 2.1.2, 2.3.5 and 3.3.3). Here, the system responds to the changing tactics and strategies of the game to classify players dividing players into clusters based on their performance indicators every season. In addition, these cluster features can also be used as a source of information to communicate the state of the population's characteristics (see Dissertation Document Chapters 3.3.6). \n",
    "\n",
    "Clustering also tags the replay batch it uses to create its classification. These tags can then be used to train an efficient classification model that can be used during the Primary Interaction Loop described above. \n",
    "\n",
    "Since all other processes in the system are contingent upon this classification process, I develop the components that run this process in Section 1 of this deliverable."
   ]
  },
  {
   "cell_type": "markdown",
   "metadata": {},
   "source": [
    "<img alt=\"Clustering process diagram\" caption=\"Clustering and classification model training process diagram\" width=\"300\" id=\"cluster_diagram\" src=\"images/Clustering_diagram.png\">"
   ]
  },
  {
   "cell_type": "code",
   "execution_count": null,
   "metadata": {},
   "outputs": [],
   "source": []
  }
 ],
 "metadata": {
  "kernelspec": {
   "display_name": "Python 3.9.7 64-bit ('sctraining_env': conda)",
   "name": "python3"
  }
 },
 "nbformat": 4,
 "nbformat_minor": 5
}
