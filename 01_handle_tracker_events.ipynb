{
 "cells": [
  {
   "cell_type": "code",
   "execution_count": null,
   "id": "ae3f5867",
   "metadata": {},
   "outputs": [],
   "source": [
    "# default_exp handle_tracker_event\n"
   ]
  },
  {
   "cell_type": "code",
   "execution_count": null,
   "id": "9caec4d7",
   "metadata": {},
   "outputs": [],
   "source": [
    "#hide\n",
    "from nbdev.showdoc import *"
   ]
  },
  {
   "cell_type": "markdown",
   "id": "311f237a",
   "metadata": {},
   "source": [
    "# 01 handle_tracker_events Extracting information from the game's events\n",
    "> Module that explores the common elements between all TrackerEvents and creates some basic general purpose functions for this type of event. "
   ]
  },
  {
   "cell_type": "markdown",
   "id": "75291ec0",
   "metadata": {},
   "source": [
    "The following are this module's dependencies."
   ]
  },
  {
   "cell_type": "code",
   "execution_count": null,
   "id": "2770f70d",
   "metadata": {},
   "outputs": [],
   "source": [
    "#exports\n",
    "from pathlib import Path\n",
    "from pprint import pprint\n",
    "from typing import *\n",
    "\n",
    "import fastcore.test as ft\n",
    "\n",
    "import sc2reader"
   ]
  },
  {
   "cell_type": "markdown",
   "id": "9926a874",
   "metadata": {},
   "source": [
    "Meanwhile, the following code sets up the notebook's sample replay."
   ]
  },
  {
   "cell_type": "code",
   "execution_count": null,
   "id": "9569d871",
   "metadata": {},
   "outputs": [
    {
     "data": {
      "text/plain": [
       "<sc2reader.resources.Replay at 0x25645a8f340>"
      ]
     },
     "execution_count": null,
     "metadata": {},
     "output_type": "execute_result"
    }
   ],
   "source": [
    "rps_path = Path(\"./test_replays\")\n",
    "game_path = str(rps_path/\"Jagannatha LE.SC2Replay\")\n",
    "single_replay = sc2reader.load_replay(game_path)\n",
    "single_replay"
   ]
  },
  {
   "cell_type": "markdown",
   "id": "7b22d648",
   "metadata": {},
   "source": [
    "## Events\n",
    "\n",
    "Events contain a considerable part of the information regarding a `Replay`. As explained in sc2reader documentation:\n",
    "\n",
    "> All of the gameplay and state information contained in the replay is packed into events. [(Kim, 2015, p. 22)](https://sc2reader.readthedocs.io/en/latest/events/index.html)\n",
    "\n",
    "The main types of events registered by sc2reader are: \n",
    "- Game Events: Human actions and certain triggered events. \n",
    "- Message Events: Message and Pings to other players. \n",
    "- Tracker Events: Game state information."
   ]
  },
  {
   "cell_type": "markdown",
   "id": "d0421ecf",
   "metadata": {},
   "source": [
    "### Extract events\n",
    "The match's events can be extracted from the `Replay` or the `Participant` objects calling on the `events` attribute.\n",
    "\n",
    "For example, I can extract a list of all the events in a replay as follows:"
   ]
  },
  {
   "cell_type": "code",
   "execution_count": null,
   "id": "48776cf4",
   "metadata": {},
   "outputs": [],
   "source": [
    "match_events = [event for event in single_replay.events]\n",
    "tracker_e = [event for event in single_replay.events if isinstance(event, sc2reader.events.tracker.TrackerEvent)]\n",
    "game_e = [event for event in single_replay.events if isinstance(event, sc2reader.events.game.GameEvent)]\n",
    "message_e = [event for event in single_replay.events if isinstance(event, sc2reader.events.message.MessageEvent)]"
   ]
  },
  {
   "cell_type": "code",
   "execution_count": null,
   "id": "618fd772",
   "metadata": {},
   "outputs": [
    {
     "name": "stdout",
     "output_type": "stream",
     "text": [
      "The match contains 4988 events total\nThe match contains 830 events total\nThe match contains 4143 events total\nThe match contains 15 events total\n"
     ]
    }
   ],
   "source": [
    "print(f'The match contains {len(match_events)} events total')\n",
    "print(f'The match contains {len(tracker_e)} events total')\n",
    "print(f'The match contains {len(game_e)} events total')\n",
    "print(f'The match contains {len(message_e)} events total')"
   ]
  },
  {
   "cell_type": "markdown",
   "id": "5c6f18aa",
   "metadata": {},
   "source": [
    "In the following test, I check that the sum of the Tracker, Message and Game events effectively make up the whole of the events registered by the system."
   ]
  },
  {
   "cell_type": "code",
   "execution_count": null,
   "id": "ad5d0a84",
   "metadata": {},
   "outputs": [
    {
     "data": {
      "text/plain": [
       "True"
      ]
     },
     "execution_count": null,
     "metadata": {},
     "output_type": "execute_result"
    }
   ],
   "source": [
    "ft.equals((len(tracker_e) + len(game_e) + len(message_e)), len(match_events))"
   ]
  },
  {
   "cell_type": "markdown",
   "id": "d0f5579c",
   "metadata": {},
   "source": [
    "## Tracker Events\n",
    "These events store information relative to the state general of the game. They can be used to track various aspects of a player's performance.\n",
    "\n",
    "In this module, I explore the types of `TrackerEvents` and the information I found helpful in later modules.\n",
    "\n",
    "> Note: each type of object stores other data that goes beyond the data points I explore here. To extract a complete list of the data stored in each type of event, you can call the `__dict__` attribute on an object of each type.  \n",
    "\n",
    "Here, I also create various helper functions that address some management issues common to all this type of events. For example, I include the `calc_realtime_index` function, which corrects an event's time index to match the duration of a match.|"
   ]
  },
  {
   "cell_type": "markdown",
   "id": "4a3cbbd9",
   "metadata": {},
   "source": [
    "### Types of Tracker Events\n",
    "For comprehensive list of the different sub-classes of `TrackerEvents` see [(Kim, 2015, p. 24-25)](https://sc2reader.readthedocs.io/en/latest/events/tracker.html)."
   ]
  },
  {
   "cell_type": "code",
   "execution_count": null,
   "id": "74c64156",
   "metadata": {},
   "outputs": [
    {
     "data": {
      "text/plain": [
       "{sc2reader.events.tracker.PlayerSetupEvent,\n",
       " sc2reader.events.tracker.PlayerStatsEvent,\n",
       " sc2reader.events.tracker.UnitBornEvent,\n",
       " sc2reader.events.tracker.UnitDiedEvent,\n",
       " sc2reader.events.tracker.UnitDoneEvent,\n",
       " sc2reader.events.tracker.UnitInitEvent,\n",
       " sc2reader.events.tracker.UnitPositionsEvent,\n",
       " sc2reader.events.tracker.UnitTypeChangeEvent,\n",
       " sc2reader.events.tracker.UpgradeCompleteEvent}"
      ]
     },
     "execution_count": null,
     "metadata": {},
     "output_type": "execute_result"
    }
   ],
   "source": [
    "tracker_e = {type(event) for event in single_replay.events \n",
    "             if isinstance(event, sc2reader.events.tracker.TrackerEvent)}\n",
    "tracker_e"
   ]
  },
  {
   "cell_type": "markdown",
   "id": "dc9aa1a3",
   "metadata": {},
   "source": [
    "### PlayerSetupEvent\n",
    "These are basic events used by the system to organise players at the start of the match. However, since most of the data they stored exists elsewhere, I will not use this type of events."
   ]
  },
  {
   "cell_type": "code",
   "execution_count": null,
   "id": "8b37fa0c",
   "metadata": {},
   "outputs": [
    {
     "data": {
      "text/plain": [
       "{'frame': 0,\n",
       " 'second': 0,\n",
       " 'name': 'PlayerSetupEvent',\n",
       " 'pid': 1,\n",
       " 'type': 1,\n",
       " 'uid': 0,\n",
       " 'sid': 0}"
      ]
     },
     "execution_count": null,
     "metadata": {},
     "output_type": "execute_result"
    }
   ],
   "source": [
    "setup_e = [event for event in single_replay.events \n",
    "           if isinstance(event, sc2reader.events.tracker.PlayerSetupEvent) \n",
    "           and event.pid == 1]\n",
    "setup_e[0].__dict__"
   ]
  },
  {
   "cell_type": "markdown",
   "id": "7d1ea668",
   "metadata": {},
   "source": [
    "### PlayerStatsEvents\n",
    "If we want to extract some initial information regarding the game's flow, we can consult the instances of `sc2reader.events.tracker.PlayerStatsEvent`. \n",
    "\n",
    "TThese events are generated for each player every ten seconds, regardless of the player's presence in the match. In other words, if one is analysing a match of more than two players and one is defeated, the game still generates `PlayerStatsEvents` for that player up until the end of the match.\n",
    "\n",
    "Additionally, the game generates a `PlayerStatEvent` when a player leaves (i.e., defeated or surrenders) and when the match ends.\n",
    "\n",
    "> Note: In 1v1 games, the above behaviour can cause the losing player to have two events generated at the end of the game. One for leaving and one for the end of the game. Source [(Kim, 2015, p. 24)](https://sc2reader.readthedocs.io/en/latest/events/tracker.html)\n",
    "\n",
    "Note that this match lasted 590 seconds. Hence, there should be 59 `PlayerStatEvent`s per player, plus two or three for start and end events. Bellow, I show some important information about the `Replay` that can be useful for debugging and managing these events. "
   ]
  },
  {
   "cell_type": "code",
   "execution_count": null,
   "id": "95a1f431",
   "metadata": {},
   "outputs": [
    {
     "name": "stdout",
     "output_type": "stream",
     "text": [
      "Game length in seconds:          590\nGame frames per second:         16.0\nTotal frames in the match:    9440.0\n"
     ]
    }
   ],
   "source": [
    "print(f'{\"Game length in seconds:\":<30}{single_replay.game_length.seconds:>6}')\n",
    "print(f'{\"Game frames per second:\":<30}{single_replay.game_fps:>6}')\n",
    "print(f'{\"Total frames in the match:\":<30}{single_replay.game_length.seconds * single_replay.game_fps:>6}')"
   ]
  },
  {
   "cell_type": "markdown",
   "id": "e5da42c5",
   "metadata": {},
   "source": [
    "Here, I extract the `PlayerStatEvent` related to one player in the test match I am analysing."
   ]
  },
  {
   "cell_type": "code",
   "execution_count": null,
   "id": "d81d2854",
   "metadata": {},
   "outputs": [
    {
     "name": "stdout",
     "output_type": "stream",
     "text": [
      "Number of PlayerStatsEvents for player 1: 85\n"
     ]
    }
   ],
   "source": [
    "p_one_state = [event for event in match_events \n",
    "               if isinstance(event, sc2reader.events.tracker.PlayerStatsEvent) \n",
    "               and event.pid == 1]\n",
    "print(f'Number of PlayerStatsEvents for player 1: {len(p_one_state)}')"
   ]
  },
  {
   "cell_type": "markdown",
   "id": "314cb198",
   "metadata": {},
   "source": [
    "This information shows that there is a discrepancy in the number of `PlayerStatsEvenst` there should be (around 60 for the sample match) and the actual number there is (85)."
   ]
  },
  {
   "cell_type": "markdown",
   "id": "c93adaf0",
   "metadata": {},
   "source": [
    "Similarly, looking at the seconds and frame count registered in the last event, it is clear that they do not match the duration of the game (590 seconds, 9440 frames)."
   ]
  },
  {
   "cell_type": "code",
   "execution_count": null,
   "id": "c2f09020",
   "metadata": {},
   "outputs": [
    {
     "name": "stdout",
     "output_type": "stream",
     "text": [
      "Second recorded in the last event: 826\nFrame recorded in the last event: 13224\n"
     ]
    }
   ],
   "source": [
    "print(f'Second recorded in the last event: {p_one_state[len(p_one_state)-1].second}')\n",
    "print(f'Frame recorded in the last event: {p_one_state[len(p_one_state)-1].frame}')"
   ]
  },
  {
   "cell_type": "markdown",
   "id": "21313595",
   "metadata": {},
   "source": [
    "Fortunately, these inconsistencies appear to be the same for all the players. Look at the number of events, the last second and frame registered for Player 2. Note that this player has one less event because he or she was the match's winner."
   ]
  },
  {
   "cell_type": "code",
   "execution_count": null,
   "id": "822484db",
   "metadata": {},
   "outputs": [
    {
     "name": "stdout",
     "output_type": "stream",
     "text": [
      "Number of events recorded for p2: 84\nSecond recorded in the last event: 826\nFrame recorded in the last event: 13224\n"
     ]
    }
   ],
   "source": [
    "p_two_state = [event for event in match_events \n",
    "                if isinstance(event, sc2reader.events.tracker.PlayerStatsEvent) \n",
    "                and event.pid == 2]\n",
    "print(f'Number of events recorded for p2: {len(p_two_state)}')\n",
    "print(f'Second recorded in the last event: {p_two_state[len(p_two_state)-1].second}')\n",
    "print(f'Frame recorded in the last event: {p_two_state[len(p_two_state)-1].frame}')"
   ]
  },
  {
   "cell_type": "markdown",
   "id": "93b78c42",
   "metadata": {},
   "source": [
    "> Warning: this time index discrepancy will also affect other types of Tracker Events. I propose a basic solution in the functions section of this module further bellow (see `calc_realtime_index` function). "
   ]
  },
  {
   "cell_type": "markdown",
   "id": "bab02dc2",
   "metadata": {},
   "source": [
    "### Unit trackers\n",
    "\n",
    "#### UnitBornEvent\n",
    "This type of event stores multiple attributes. Of these attributes, I will focus on:\n",
    "- `second` (int): registered time of birth in seconds. Note that this timestamp does not match the match's duration. This inconsistency means that one must correct the time index of the event. (see `calc_realtime_index` function)\n",
    "- `unit_type_name` (str): type of the unit.\n",
    "- `location` (tuple(x, y)): tuple of ints that indicate the unit's x and y coordinates in the map.\n",
    "- `control_pid` (int): player id in the match.\n",
    "- `unit`: points to the `unit` object, which stores helpful information such as the minerals, vespene, and supply cost of the unit type [(see Kim, 2015, p. 30)](https://sc2reader.readthedocs.io/en/latest/dataobjects.html?highlight=unit#sc2reader.data.Unit).\n",
    "\n",
    "The following code illustrates some uses of these attributes:"
   ]
  },
  {
   "cell_type": "code",
   "execution_count": null,
   "id": "c3bd95df",
   "metadata": {},
   "outputs": [
    {
     "name": "stdout",
     "output_type": "stream",
     "text": [
      "The recorded time of birth of a unit:           731\nThe supply cost of the unit type:                 4\nThe unit type:                             Immortal\nThe birth x, y location of the unit:       (72, 40)\n"
     ]
    }
   ],
   "source": [
    "UnitBorn_e = [event for event in match_events \n",
    "              if isinstance(event, sc2reader.events.tracker.UnitBornEvent) \n",
    "              and event.control_pid == 1] # I can use the control_pid attributeto separate the UnitBornEvents of a single player.\n",
    "\n",
    "print(f'{\"The recorded time of birth of a unit:\":<40} {UnitBorn_e[62].second:>10}')\n",
    "print(f'{\"The supply cost of the unit type:\":<40} {UnitBorn_e[62].unit.supply:>10}')\n",
    "print(f'{\"The unit type:\":<40} {UnitBorn_e[62].unit_type_name:>10}')\n",
    "print(f'{\"The birth x, y location of the unit:\":<40} {str(UnitBorn_e[62].location):>10}')"
   ]
  },
  {
   "cell_type": "markdown",
   "id": "b112bbb2",
   "metadata": {},
   "source": [
    "To group all the game's UnitBornEvent, I can use the  `control_pid` attribute, which points to the participant that owns the unit.\n",
    "\n",
    "> Tip: Units with `control_pid` equal 0 are neutral units such as minerals, vespene geysers or obstacles.\n",
    "\n",
    "With this grouping, I can start to compose that player's build order. That is their sequence of built units during the game. However, I also need to consider the `UnitDoneEvent` instances to complete this build order (see below).\n",
    "\n",
    "Additionally, having grouped all the `UnitBornEvent` instances related to a particular player, I notice the following pattern:\n",
    "- The first 15 units born (indexes 0-14) are Beacons sc2reader uses for tracking.\n",
    "- Unit 15 is the starting base building (Nexus, CommandCenter, Hatchery).\n",
    "- Units 16-27 are the first worker units of each player.\n",
    "\n",
    "This pattern means I should only consider whatever units are born after index 27 to track the player's build order.\n",
    "\n",
    "The following code illustrates this pattern."
   ]
  },
  {
   "cell_type": "code",
   "execution_count": null,
   "id": "6fe9e5d2",
   "metadata": {},
   "outputs": [
    {
     "name": "stdout",
     "output_type": "stream",
     "text": [
      "{0: (0, 'BeaconArmy', 'second: 0'),\n 1: (1, 'BeaconDefend', 'second: 0'),\n 2: (2, 'BeaconAttack', 'second: 0'),\n 3: (3, 'BeaconHarass', 'second: 0'),\n 4: (4, 'BeaconIdle', 'second: 0'),\n 5: (5, 'BeaconAuto', 'second: 0'),\n 6: (6, 'BeaconDetect', 'second: 0'),\n 7: (7, 'BeaconScout', 'second: 0'),\n 8: (8, 'BeaconClaim', 'second: 0'),\n 9: (9, 'BeaconExpand', 'second: 0'),\n 10: (10, 'BeaconRally', 'second: 0'),\n 11: (11, 'BeaconCustom1', 'second: 0'),\n 12: (12, 'BeaconCustom2', 'second: 0'),\n 13: (13, 'BeaconCustom3', 'second: 0'),\n 14: (14, 'BeaconCustom4', 'second: 0'),\n 15: (15, 'Nexus', 'second: 0'),\n 16: (16, 'Probe', 'second: 0'),\n 17: (17, 'Probe', 'second: 0'),\n 18: (18, 'Probe', 'second: 0'),\n 19: (19, 'Probe', 'second: 0'),\n 20: (20, 'Probe', 'second: 0'),\n 21: (21, 'Probe', 'second: 0'),\n 22: (22, 'Probe', 'second: 0'),\n 23: (23, 'Probe', 'second: 0'),\n 24: (24, 'Probe', 'second: 0'),\n 25: (25, 'Probe', 'second: 0'),\n 26: (26, 'Probe', 'second: 0'),\n 27: (27, 'Probe', 'second: 0'),\n 28: (28, 'Probe', 'second: 18'),\n 29: (29, 'Probe', 'second: 69'),\n 30: (30, 'Probe', 'second: 133')}\n"
     ]
    }
   ],
   "source": [
    "UnitBorn_e = [event for event in match_events\n",
    "              if isinstance(event, sc2reader.events.tracker.UnitBornEvent) \n",
    "              and event.control_pid == 1]\n",
    "\n",
    "born_order = {k:(k, event.unit_type_name, f'second: {event.second}') for k, event in enumerate(UnitBorn_e) if k <=30}\n",
    "pprint(born_order, compact=True)"
   ]
  },
  {
   "cell_type": "code",
   "execution_count": null,
   "id": "3a00a2c7",
   "metadata": {},
   "outputs": [
    {
     "name": "stdout",
     "output_type": "stream",
     "text": [
      "Note: the first unit borned past second 0 is the 28th unit boned at 18th second.\n"
     ]
    }
   ],
   "source": [
    "print(f'Note: the first unit borned past second 0 is the 28th unit boned at {UnitBorn_e[28].second}th second.')"
   ]
  },
  {
   "cell_type": "markdown",
   "id": "57dfda3c",
   "metadata": {},
   "source": [
    "This information can also serve as the basis for a unit count. However, again, I should supplement this information with the `UnitInitEvent`, `UnitDoneEvent`, and `UnitTypeChangeEvent` data.\n",
    "\n",
    "For example, the following code produces a draft of the player's final unit tally. "
   ]
  },
  {
   "cell_type": "code",
   "execution_count": null,
   "id": "edbc2bd0",
   "metadata": {},
   "outputs": [
    {
     "data": {
      "text/plain": [
       "{'BeaconArmy': 1,\n",
       " 'BeaconDefend': 1,\n",
       " 'BeaconAttack': 1,\n",
       " 'BeaconHarass': 1,\n",
       " 'BeaconIdle': 1,\n",
       " 'BeaconAuto': 1,\n",
       " 'BeaconDetect': 1,\n",
       " 'BeaconScout': 1,\n",
       " 'BeaconClaim': 1,\n",
       " 'BeaconExpand': 1,\n",
       " 'BeaconRally': 1,\n",
       " 'BeaconCustom1': 1,\n",
       " 'BeaconCustom2': 1,\n",
       " 'BeaconCustom3': 1,\n",
       " 'BeaconCustom4': 1,\n",
       " 'Nexus': 1,\n",
       " 'Probe': 45,\n",
       " 'Stalker': 3,\n",
       " 'Sentry': 1,\n",
       " 'Immortal': 4}"
      ]
     },
     "execution_count": null,
     "metadata": {},
     "output_type": "execute_result"
    }
   ],
   "source": [
    "counts = {}\n",
    "for event in UnitBorn_e:\n",
    "    counts.setdefault(event.unit_type_name, 0)\n",
    "    counts[event.unit_type_name] += 1\n",
    "    \n",
    "counts"
   ]
  },
  {
   "cell_type": "markdown",
   "id": "4f2a531a",
   "metadata": {},
   "source": [
    "#### UnitInitEvent\n",
    "This type of event is a complement to the `UnitBonrEvent`, `UnitDoneEvent` and the `UnitTypeChangeEvent`. \n",
    "\n",
    "This event exists because not all units are born into the game. Instead, buildings (other than the initial base), warped units, mutated units, and others are instantiated through the `UnitInitEvent` with 0 life. Afterwards, they are built over time. During this building time, players may lose or cancel this unit or buildings under construction. \n",
    "\n",
    "The information extracted from these type of events is similar to the information in the `UnitBornedEvent`. Here, again, I will use the following attributes:\n",
    "- `second` (int): registered time of birth in seconds. This attribute requires the same consideration as in the previous cases. (see `calc_realtime_index` function)\n",
    "- `unit_type_name` (str): type of the unit.\n",
    "- `location` (tuple(x, y)): tuple of ints that indicate the unit's x and y coordinates in the map.\n",
    "- `control_pid` (int): player id in the match.\n",
    "- `unit`: points to the `unit` object, which stores helpful information such as the minerals, vespene, and supply cost of the unit type [(see Kim, 2015, p. 30)](https://sc2reader.readthedocs.io/en/latest/dataobjects.html?highlight=unit#sc2reader.data.Unit).\n",
    "\n",
    "Note that, in this case, there are no initial units that should be disregarded from the player's build order."
   ]
  },
  {
   "cell_type": "code",
   "execution_count": null,
   "id": "260a9abb",
   "metadata": {},
   "outputs": [
    {
     "data": {
      "text/plain": [
       "{0: ('Pylon', 'second: 47'),\n",
       " 1: ('Pylon', 'second: 74'),\n",
       " 2: ('Gateway', 'second: 91'),\n",
       " 3: ('Gateway', 'second: 100'),\n",
       " 4: ('Forge', 'second: 111'),\n",
       " 5: ('CyberneticsCore', 'second: 170'),\n",
       " 6: ('Assimilator', 'second: 182'),\n",
       " 7: ('Assimilator', 'second: 188'),\n",
       " 8: ('Pylon', 'second: 203'),\n",
       " 9: ('Pylon', 'second: 224'),\n",
       " 10: ('PhotonCannon', 'second: 241'),\n",
       " 11: ('PhotonCannon', 'second: 244'),\n",
       " 12: ('PhotonCannon', 'second: 260'),\n",
       " 13: ('PhotonCannon', 'second: 264'),\n",
       " 14: ('Pylon', 'second: 316'),\n",
       " 15: ('Nexus', 'second: 322'),\n",
       " 16: ('RoboticsFacility', 'second: 368'),\n",
       " 17: ('Assimilator', 'second: 381'),\n",
       " 18: ('Assimilator', 'second: 385'),\n",
       " 19: ('RoboticsFacility', 'second: 408'),\n",
       " 20: ('RoboticsFacility', 'second: 411'),\n",
       " 21: ('Zealot', 'second: 479'),\n",
       " 22: ('Zealot', 'second: 487'),\n",
       " 23: ('Sentry', 'second: 540'),\n",
       " 24: ('Pylon', 'second: 651'),\n",
       " 25: ('Pylon', 'second: 662'),\n",
       " 26: ('Nexus', 'second: 682'),\n",
       " 27: ('PhotonCannon', 'second: 693'),\n",
       " 28: ('PhotonCannon', 'second: 702'),\n",
       " 29: ('Zealot', 'second: 705'),\n",
       " 30: ('Zealot', 'second: 706'),\n",
       " 31: ('Stalker', 'second: 755'),\n",
       " 32: ('Stalker', 'second: 755'),\n",
       " 33: ('Stalker', 'second: 803'),\n",
       " 34: ('Stalker', 'second: 804')}"
      ]
     },
     "execution_count": null,
     "metadata": {},
     "output_type": "execute_result"
    }
   ],
   "source": [
    "UnitInit_e = [event for event in match_events \n",
    "              if isinstance(event, sc2reader.events.tracker.UnitInitEvent) \n",
    "              and event.control_pid == 1]\n",
    "\n",
    "init_order = {k:(event.unit_type_name, f'second: {event.second}') for k, event in enumerate(UnitInit_e)}\n",
    "\n",
    "init_order"
   ]
  },
  {
   "cell_type": "markdown",
   "id": "45e0ae5b",
   "metadata": {},
   "source": [
    "Also, given that these units can be buildings, army units or others, we can use this list to illustrate the use of the `unit.is_army`, `unit.is_building`, `unit.is_worker` attributes. "
   ]
  },
  {
   "cell_type": "code",
   "execution_count": null,
   "id": "967ebc8a",
   "metadata": {},
   "outputs": [
    {
     "name": "stdout",
     "output_type": "stream",
     "text": [
      "Unit_name: RoboticsFacility is building: True\nUnit_name: RoboticsFacility is army: False\nUnit_name: RoboticsFacility is worker: False\n"
     ]
    }
   ],
   "source": [
    "print(f'Unit_name: {UnitInit_e[20].unit.name} is building: {UnitInit_e[20].unit.is_building}')\n",
    "print(f'Unit_name: {UnitInit_e[20].unit.name} is army: {UnitInit_e[20].unit.is_army}')\n",
    "print(f'Unit_name: {UnitInit_e[20].unit.name} is worker: {UnitInit_e[20].unit.is_worker}')"
   ]
  },
  {
   "cell_type": "code",
   "execution_count": null,
   "id": "8814fd2c",
   "metadata": {},
   "outputs": [
    {
     "name": "stdout",
     "output_type": "stream",
     "text": [
      "Unit_name: Stalker is building: False\nUnit_name: Stalker is army: True\nUnit_name: Stalker is worker: False\n"
     ]
    }
   ],
   "source": [
    "print(f'Unit_name: {UnitInit_e[31].unit.name} is building: {UnitInit_e[31].unit.is_building}')\n",
    "print(f'Unit_name: {UnitInit_e[31].unit.name} is army: {UnitInit_e[31].unit.is_army}')\n",
    "print(f'Unit_name: {UnitInit_e[31].unit.name} is worker: {UnitInit_e[31].unit.is_worker}')"
   ]
  },
  {
   "cell_type": "markdown",
   "id": "16c823dd",
   "metadata": {},
   "source": [
    "#### UnitDoneEvent\n",
    "This type of event is a complement to the `UnitBonrEvent` and `UnitInitEvent`.\n",
    "\n",
    "After a `UnitInitEvent` and the unit's build time the unit comes into the game. At this point the unit triggers a `UnitDoneEvent`. \n",
    "\n",
    "This type of event has much less attributes associated to it than the `UnitBonrEvent` and `UnitInitEvent`. In this case, I will use the `second` and `unit` attributes. \n",
    "\n",
    "If I want to use these events to construct the build order based on completed units and not just only in units that where initiated, I need to use some of the `unit` object's attributes to complete the information. For example, to group the units per player I can use the `unit.owner.pid` attribute.\n"
   ]
  },
  {
   "cell_type": "code",
   "execution_count": null,
   "id": "357a02a7",
   "metadata": {},
   "outputs": [],
   "source": [
    "UnitDone_e = [event for event in match_events \n",
    "              if isinstance(event, sc2reader.events.tracker.UnitDoneEvent)\n",
    "             and event.unit.owner.pid == 2]"
   ]
  },
  {
   "cell_type": "code",
   "execution_count": null,
   "id": "f308cdfa",
   "metadata": {},
   "outputs": [
    {
     "name": "stdout",
     "output_type": "stream",
     "text": [
      "Refinery\n",
      "{'_type_class': <sc2reader.data.UnitType object at 0x0000025647B90BE0>,\n",
      " 'died_at': None,\n",
      " 'finished_at': 1999,\n",
      " 'flags': 0,\n",
      " 'hallucinated': False,\n",
      " 'id': 57933825,\n",
      " 'killed_by': None,\n",
      " 'killed_units': [],\n",
      " 'killing_player': None,\n",
      " 'killing_unit': None,\n",
      " 'location': (133, 148),\n",
      " 'owner': Player 2 - MxChrisxM (Terran),\n",
      " 'started_at': 1519,\n",
      " 'type_history': OrderedDict([(1519,\n",
      "                               <sc2reader.data.UnitType object at 0x0000025647B90BE0>)])}\n"
     ]
    }
   ],
   "source": [
    "print(UnitDone_e[2].unit.name)\n",
    "pprint(UnitDone_e[2].unit.__dict__)"
   ]
  },
  {
   "cell_type": "code",
   "execution_count": null,
   "id": "50ab3e1f",
   "metadata": {},
   "outputs": [
    {
     "name": "stdout",
     "output_type": "stream",
     "text": [
      "Probe\n{'_type_class': <sc2reader.data.UnitType object at 0x0000025647B9D850>,\n 'died_at': None,\n 'finished_at': 2143,\n 'flags': 0,\n 'hallucinated': False,\n 'id': 59506689,\n 'killed_by': None,\n 'killed_units': [],\n 'killing_player': None,\n 'killing_unit': None,\n 'location': (41, 31),\n 'owner': Player 1 - HDEspino (Protoss),\n 'started_at': 2143,\n 'type_history': OrderedDict([(2143,\n                               <sc2reader.data.UnitType object at 0x0000025647B9D850>)])}\n"
     ]
    }
   ],
   "source": [
    "print(UnitBorn_e[30].unit.name)\n",
    "pprint(UnitBorn_e[30].unit.__dict__)"
   ]
  },
  {
   "cell_type": "code",
   "execution_count": null,
   "id": "e244be2d",
   "metadata": {},
   "outputs": [
    {
     "name": "stdout",
     "output_type": "stream",
     "text": [
      "{0: ('second: 54', 'SupplyDepot', True),\n 1: ('second: 123', 'Barracks', True),\n 2: ('second: 124', 'Refinery', True),\n 3: ('second: 156', 'SupplyDepotLowered', True),\n 4: ('second: 172', 'FactoryTechLab', True),\n 5: ('second: 183', 'Refinery', True),\n 6: ('second: 254', 'Factory', True),\n 7: ('second: 265', 'OrbitalCommand', True),\n 8: ('second: 268', 'EngineeringBay', True),\n 9: ('second: 352', 'Armory', True),\n 10: ('second: 392', 'FactoryReactor', True),\n 11: ('second: 464', 'MissileTurret', True),\n 12: ('second: 470', 'Factory', True),\n 13: ('second: 471', 'Refinery', True),\n 14: ('second: 476', 'Refinery', True),\n 15: ('second: 496', 'SupplyDepotLowered', True),\n 16: ('second: 496', 'SupplyDepotLowered', True),\n 17: ('second: 497', 'SupplyDepotLowered', True),\n 18: ('second: 497', 'SupplyDepotLowered', True),\n 19: ('second: 511', 'FactoryTechLab', True),\n 20: ('second: 528', 'SupplyDepotLowered', True)}\n"
     ]
    }
   ],
   "source": [
    "done_order = {k:(f'second: {event.second}', event.unit.name, event.unit.is_building) \n",
    "              for k, event in enumerate(UnitDone_e)\n",
    "             if k <=20}\n",
    "pprint(done_order)"
   ]
  },
  {
   "cell_type": "markdown",
   "id": "42cb82a7",
   "metadata": {},
   "source": [
    "#### UpgradeCompleteEvent\n",
    "Other than constructing buildings and training units, the third way players can spend their resources is by researching upgrades. Each time a player completes an upgrade it generates a `UpgradeCompleteEvent`.\n",
    "\n",
    "I will use the following features from this event type:\n",
    "- `pid` (int): player id in the match.\n",
    "-  `upgrade_type_name` (str): name of the upgrade.\n",
    "- `second (int)`: registered time of birth in seconds. This attribute requires the same consideration as in the previous cases. (see `calc_realtime_index` function)"
   ]
  },
  {
   "cell_type": "code",
   "execution_count": null,
   "id": "32b9a286",
   "metadata": {},
   "outputs": [],
   "source": [
    "Upgrades = [event for event in single_replay.events \n",
    "           if isinstance(event, sc2reader.events.tracker.UpgradeCompleteEvent) \n",
    "           and event.pid == 2]"
   ]
  },
  {
   "cell_type": "code",
   "execution_count": null,
   "metadata": {},
   "outputs": [
    {
     "data": {
      "text/plain": [
       "{'frame': 10631,\n",
       " 'second': 664,\n",
       " 'name': 'UpgradeCompleteEvent',\n",
       " 'pid': 2,\n",
       " 'player': Player 2 - MxChrisxM (Terran),\n",
       " 'upgrade_type_name': 'SmartServos',\n",
       " 'count': 1}"
      ]
     },
     "execution_count": null,
     "metadata": {},
     "output_type": "execute_result"
    }
   ],
   "source": [
    "Upgrades[10].__dict__"
   ]
  },
  {
   "cell_type": "code",
   "execution_count": null,
   "id": "9acc162c",
   "metadata": {},
   "outputs": [
    {
     "data": {
      "text/plain": [
       "<sc2reader.events.tracker.UpgradeCompleteEvent at 0x1fdf83c7220>"
      ]
     },
     "execution_count": null,
     "metadata": {},
     "output_type": "execute_result"
    }
   ],
   "source": []
  },
  {
   "cell_type": "code",
   "execution_count": null,
   "id": "acf0d031",
   "metadata": {},
   "outputs": [
    {
     "name": "stdout",
     "output_type": "stream",
     "text": [
      "{0: ('second: 0', 'RewardDanceGhost', 1),\n 1: ('second: 0', 'RewardDanceMule', 1),\n 2: ('second: 0', 'RewardDanceViking', 1),\n 3: ('second: 0', 'SprayTerran', 1),\n 4: ('second: 0', 'SprayTerran', 1),\n 5: ('second: 165', 'SprayTerran', 1),\n 6: ('second: 265', 'SprayTerran', 1),\n 7: ('second: 550', 'SprayTerran', 1),\n 8: ('second: 613', 'TerranVehicleWeaponsLevel1', 1),\n 9: ('second: 650', 'SprayTerran', 1),\n 10: ('second: 664', 'SmartServos', 1),\n 11: ('second: 712', 'HighCapacityBarrels', 1),\n 12: ('second: 819', 'SprayTerran', 1)}\n"
     ]
    }
   ],
   "source": [
    "upgrade_order = {k:(f'second: {event.second}', event.upgrade_type_name, event.count) for k, event in enumerate(Upgrades)}\n",
    "pprint(upgrade_order)"
   ]
  },
  {
   "cell_type": "markdown",
   "id": "6c182170",
   "metadata": {},
   "source": [
    "> Note: The upgrades that start with names that start with Spray or Reward should not be counted as activated by the player. They are generated by the game as a reward for a player's achievements but do not affect gameplay."
   ]
  },
  {
   "cell_type": "markdown",
   "id": "89a81124",
   "metadata": {},
   "source": [
    "#### UnitTypeChangeEvent\n",
    "During a game some units and buildings appear (they change type) as the product of tech research, player ordered morphs, mergings and upgrades.\n",
    "\n",
    "Meanwhile, some objects can change states through the match, while they remain the same unti type. For example, zerg units can burrow, some terran and protoss units cloack, and units such as siege tanks can change between several modes, like siege and tank mode.\n",
    "\n",
    "All these changes are registered by the UnitTypeChangeEvent."
   ]
  },
  {
   "cell_type": "code",
   "execution_count": null,
   "id": "8435cbf9",
   "metadata": {},
   "outputs": [
    {
     "name": "stdout",
     "output_type": "stream",
     "text": [
      "{(473, 'WarpGate'): (False, 58195969), (480, 'WarpGate'): (False, 57671681)}\n"
     ]
    }
   ],
   "source": [
    "prototype = {(event.second, event.unit_type_name): (event.unit.is_army, event.unit_id) \n",
    "            for event in single_replay.events \n",
    "            if isinstance(event, sc2reader.events.tracker.UnitTypeChangeEvent)\n",
    "            and event.unit.owner.pid == 1}\n",
    "pprint(prototype, sort_dicts=False)"
   ]
  },
  {
   "cell_type": "code",
   "execution_count": null,
   "id": "63836aea",
   "metadata": {},
   "outputs": [
    {
     "name": "stdout",
     "output_type": "stream",
     "text": [
      "{(159, 'SupplyDepotLowered'): (False, 59244545),\n (163, 'OrbitalCommand'): (False, 51380225),\n (257, 'FactoryFlying'): (False, 62390273),\n (260, 'BarracksFlying'): (False, 56360961),\n (260, 'TechLab'): (False, 59768833),\n (270, 'CommandCenterFlying'): (False, 60555265),\n (273, 'Factory'): (False, 62390273),\n (273, 'FactoryTechLab'): (False, 59768833),\n (299, 'CommandCenter'): (False, 60555265),\n (302, 'Barracks'): (False, 56360961),\n (327, 'SiegeTankSieged'): (True, 67633153),\n (334, 'OrbitalCommand'): (False, 60555265),\n (348, 'SiegeTank'): (True, 67633153),\n (357, 'SiegeTankSieged'): (True, 67633153),\n (377, 'SiegeTank'): (True, 67633153),\n (385, 'SiegeTankSieged'): (True, 67633153),\n (389, 'OrbitalCommandFlying'): (False, 60555265),\n (398, 'SiegeTankSieged'): (True, 71565313),\n (419, 'OrbitalCommand'): (False, 60555265),\n (471, 'FactoryFlying'): (False, 72089601),\n (472, 'BarracksFlying'): (False, 56360961),\n (472, 'Reactor'): (False, 69206017),\n (481, 'Factory'): (False, 72089601),\n (481, 'FactoryReactor'): (False, 69206017),\n (486, 'Barracks'): (False, 56360961),\n (506, 'SupplyDepotLowered'): (False, 76021761),\n (508, 'SupplyDepotLowered'): (False, 76808193),\n (516, 'BarracksFlying'): (False, 56360961),\n (516, 'TechLab'): (False, 77856769),\n (536, 'Barracks'): (False, 56360961),\n (556, 'SupplyDepotLowered'): (False, 78643201),\n (575, 'SiegeTankSieged'): (True, 82575361),\n (580, 'FactoryTechLab'): (False, 77856769),\n (643, 'HellionTank'): (True, 89653249),\n (648, 'SiegeTank'): (True, 82575361),\n (648, 'ThorAP'): (False, 87818241),\n (691, 'OrbitalCommand'): (False, 83361793),\n (715, 'SiegeTankSieged'): (True, 82575361),\n (749, 'SupplyDepotLowered'): (False, 72613892),\n (761, 'SiegeTank'): (True, 71565313),\n (768, 'SiegeTankSieged'): (True, 71565313),\n (770, 'SiegeTankSieged'): (True, 82575361),\n (782, 'HellionTank'): (True, 91226113),\n (824, 'SiegeTank'): (True, 82575361)}\n"
     ]
    }
   ],
   "source": [
    "prototype_2 = {(event.second,event.unit_type_name): (event.unit.is_army, event.unit_id) \n",
    "            for event in single_replay.events \n",
    "            if isinstance(event, sc2reader.events.tracker.UnitTypeChangeEvent)\n",
    "            and event.unit.owner.pid == 2}\n",
    "pprint(prototype_2, sort_dicts=False)"
   ]
  },
  {
   "cell_type": "markdown",
   "id": "b8f50cb5",
   "metadata": {},
   "source": [
    "#### UnitDiedEvent\n",
    "These events are generated when units are taken off the match for any reason.\n",
    "\n",
    "Since `UnitDiedEvents` can be triggered when a unit is morphed, merged or exhausted, it is important not to assume that every kill results from an opponent's actions. \n",
    "\n",
    "Thus, in this case, I will use the following attributes:\n",
    "- `second` (int): registered time of birth in seconds. This attribute requires the same consideration as in the previous cases. (see `calc_realtime_index` function) \n",
    "- `killer_pid` (int): player id for the player who destroys a unit. This attribute can be a significant component to build a player kill list.\n",
    "- `unit` (unit)"
   ]
  },
  {
   "cell_type": "code",
   "execution_count": null,
   "id": "35a08dea",
   "metadata": {},
   "outputs": [
    {
     "name": "stdout",
     "output_type": "stream",
     "text": [
      "Player 1 kill list:\n{0: ('second: 304', 'unit: SCV             , owner: 2, killer:1'),\n 1: ('second: 608', 'unit: Hellion         , owner: 2, killer:1'),\n 2: ('second: 617', 'unit: Hellion         , owner: 2, killer:1'),\n 3: ('second: 687', 'unit: BattleHellion   , owner: 2, killer:1'),\n 4: ('second: 703', 'unit: BattleHellion   , owner: 2, killer:1'),\n 5: ('second: 723', 'unit: SiegeTankSieged , owner: 2, killer:1'),\n 6: ('second: 769', 'unit: BattleHellion   , owner: 2, killer:1'),\n 7: ('second: 781', 'unit: Hellion         , owner: 2, killer:1'),\n 8: ('second: 790', 'unit: BattleHellion   , owner: 2, killer:1')}\n"
     ]
    }
   ],
   "source": [
    "UnitDied_e = [event for event in single_replay.events \n",
    "              if isinstance(event, sc2reader.events.tracker.UnitDiedEvent)\n",
    "             and event.killer_pid == 1 \n",
    "             and event.unit.owner != None\n",
    "             and event.unit.owner.pid == 2]\n",
    "\n",
    "kill_list = {k:(f'second: {event.second}', f'unit: {event.unit.name:<16}, owner: {event.unit.owner.pid}, killer:{event.killer_pid}') \n",
    "             for k, event in enumerate(UnitDied_e)}\n",
    "\n",
    "print('Player 1 kill list:')\n",
    "pprint(kill_list)"
   ]
  },
  {
   "cell_type": "code",
   "execution_count": null,
   "id": "53fa4dc4",
   "metadata": {},
   "outputs": [],
   "source": [
    "UnitPos_e = [event for event in single_replay.events if isinstance(event, sc2reader.events.tracker.UnitPositionsEvent)]"
   ]
  },
  {
   "cell_type": "markdown",
   "metadata": {},
   "source": [
    "## Module Exports\n",
    "\n"
   ]
  },
  {
   "cell_type": "markdown",
   "metadata": {},
   "source": [
    "### Exportable constants\n",
    "Additionally, this module exports a constant `INTERVALS_BASE` which defines the number of seconds that should determine the time intervals used to analyse the replays.\n",
    "\n",
    "In the following modules, I separate the analysis of many performance indicators derived from several types of Tracker Events into four game intervals, i.e. the whole, early, mid and late games. These intervals are meant to match the economy and initial strategy building portion of the game (i.e. the early game), the initial strategy execution and response state (i.e. the mid-game), and the counter strategic stage of the game (i.e. the late-game).  The early match takes typically between 4 and 5 minutes, or 240 and 300 seconds. Afterwards, the mid-game takes about the same time. Suppose the game has not ended by minutes 8 to 10. In that case, players typically re-organise their strategy using updated, more advanced and expensive, units, i.e. late game.\n",
    "Thus, in this case, I establish a base value in seconds that I use in later modules as the finish time for the early game. I also use it to calculate the end mark of the mid-game as double this base value. The late-game always covers the portion from the mid-game's end to the match's end. \n",
    "\n",
    "I establish this constant here in case I need to change it. This way, any change will automatically be propagated through all modules.  "
   ]
  },
  {
   "cell_type": "code",
   "execution_count": null,
   "metadata": {},
   "outputs": [],
   "source": [
    "#export\n",
    "INTERVALS_BASE = 4*60"
   ]
  },
  {
   "cell_type": "markdown",
   "metadata": {},
   "source": [
    "### Exportable Functions\n",
    "Similarly, I export the `calc_realtime_index` function. I use this function in later modules to recalculate the time when an event took place in seconds to match the game's recorded length.\n",
    "This recalculation is necessary because Tracker Events seem to record the time they happened as the quotient of their recorded execution frame and the match's frames-per-second, which does not match its duration,"
   ]
  },
  {
   "cell_type": "code",
   "execution_count": null,
   "id": "9a7337ec",
   "metadata": {},
   "outputs": [],
   "source": [
    "#export\n",
    "def calc_realtime_index(registered_time: int, rpl: sc2reader.resources.Replay) -> float:\n",
    "    \"\"\"Calculate the time index of an event based on the replay recorded duration. \n",
    "    \n",
    "    Given that the registered time index on TrackerEvents don not necessarily coincide with the replay\n",
    "    duration, this function recalculates the time index of an event to correct this discrepancy.\n",
    "    \n",
    "    *Args*\n",
    "        - registered_time (int)\n",
    "            The time index in seconds recorded in the event. Normally accessible through the .second\n",
    "            attribute.\n",
    "        - rpl (sc2reader.resources.Replay)\n",
    "            Working replay\n",
    "            \n",
    "    *Returns*\n",
    "        - float\n",
    "            The time index that would match the replay's duration\n",
    "    \"\"\"\n",
    "    rpl_length = rpl.length.seconds\n",
    "    rpl_last_rec_time = [e.second for e in rpl.events if isinstance(e, sc2reader.events.tracker.PlayerStatsEvent)][-1] \n",
    "    return (registered_time/rpl_last_rec_time) * rpl_length"
   ]
  },
  {
   "cell_type": "markdown",
   "id": "e7cef5f5",
   "metadata": {},
   "source": [
    "The following code illustrates the use of this function to correct the time index of various `UnitBornEvent`. The function should work just as well with all `TrakerEvents`."
   ]
  },
  {
   "cell_type": "code",
   "execution_count": null,
   "id": "76fb4805",
   "metadata": {},
   "outputs": [
    {
     "name": "stdout",
     "output_type": "stream",
     "text": [
      "Unit:    Probe, Birth recorded time:     0, Brith real time:    0.00 \nUnit:    Probe, Birth recorded time:    18, Brith real time:   12.86 \nUnit:    Probe, Birth recorded time:   820, Brith real time:  585.71 \nUnit: FinalFrame, Birth recorded time:   826, Brith real time:  590.00 \n"
     ]
    }
   ],
   "source": [
    "first_e = UnitBorn_e[27]\n",
    "second_e = UnitBorn_e[28]\n",
    "last_e = UnitBorn_e[-1]\n",
    "\n",
    "print(f'Unit: {first_e.unit.name:>8}, Birth recorded time: {first_e.second:>5}, Brith real time: {calc_realtime_index(first_e.second, single_replay):>7.2f} ')\n",
    "print(f'Unit: {second_e.unit.name:>8}, Birth recorded time: {second_e.second:>5}, Brith real time: {calc_realtime_index(second_e.second, single_replay):>7.2f} ')\n",
    "print(f'Unit: {last_e.unit.name:>8}, Birth recorded time: {last_e.second:>5}, Brith real time: {calc_realtime_index(last_e.second, single_replay):>7.2f} ')\n",
    "print(f'Unit: {\"FinalFrame\":>8}, Birth recorded time: {826:>5}, Brith real time: {calc_realtime_index(826, single_replay):>7.2f} ')\n"
   ]
  },
  {
   "cell_type": "code",
   "execution_count": null,
   "id": "797044c8",
   "metadata": {},
   "outputs": [
    {
     "name": "stdout",
     "output_type": "stream",
     "text": [
      "Converted 00_summarise_rpl.ipynb.\n",
      "Converted 01_handle_tracker_events.ipynb.\n",
      "Converted 02_macro_econ_parser.ipynb.\n",
      "Converted 03_build_parser.ipynb.\n",
      "Converted index.ipynb.\n"
     ]
    }
   ],
   "source": [
    "#hide\n",
    "from nbdev.export import notebook2script\n",
    "notebook2script()"
   ]
  },
  {
   "cell_type": "code",
   "execution_count": null,
   "id": "458a6403",
   "metadata": {},
   "outputs": [],
   "source": []
  }
 ],
 "metadata": {
  "kernelspec": {
   "display_name": "Python 3.9.5 64-bit ('sctraining_env': conda)",
   "name": "python3"
  }
 },
 "nbformat": 4,
 "nbformat_minor": 5
}
