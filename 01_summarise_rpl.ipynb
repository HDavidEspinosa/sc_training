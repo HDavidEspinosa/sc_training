{
 "cells": [
  {
   "cell_type": "code",
   "execution_count": null,
   "metadata": {},
   "outputs": [],
   "source": [
    "#default_exp summarise_rpl"
   ]
  },
  {
   "cell_type": "code",
   "execution_count": null,
   "metadata": {},
   "outputs": [],
   "source": [
    "#hide\n",
    "from nbdev.showdoc import *"
   ]
  },
  {
   "cell_type": "markdown",
   "metadata": {},
   "source": [
    "# Chapter 1 - summarise_rpl\n",
    "\n",
    "> : In this module, I explore the necessary elements to set up a `sc2reader`. I also review some of the data someone can extract using `sc2reader`."
   ]
  },
  {
   "cell_type": "markdown",
   "metadata": {},
   "source": [
    "## Setup\n",
    "\n",
    "1. Import `sc2reader` and libraries that you need in your project. For example, here, I use `pathlib.Path` to standardise the use of files and dirs.\n",
    "2. Locate the directory for the replay files."
   ]
  },
  {
   "cell_type": "code",
   "execution_count": null,
   "metadata": {},
   "outputs": [],
   "source": [
    "#exporti\n",
    "\n",
    "# Load Module's dependencies\n",
    "\n",
    "from pathlib import Path\n",
    "from pprint import pprint\n",
    "from dataclasses import dataclass, astuple, field\n",
    "from datetime import datetime\n",
    "from typing import *\n",
    "\n",
    "import sc2reader"
   ]
  },
  {
   "cell_type": "markdown",
   "metadata": {},
   "source": [
    "### File loading\n",
    "\n",
    "One can load one replay at a time using the `sc2replays.load_replay(<str_file_path>)` method."
   ]
  },
  {
   "cell_type": "code",
   "execution_count": null,
   "metadata": {},
   "outputs": [
    {
     "data": {
      "text/plain": [
       "<sc2reader.resources.Replay at 0x1ecb6871340>"
      ]
     },
     "execution_count": null,
     "metadata": {},
     "output_type": "execute_result"
    }
   ],
   "source": [
    "# This code sets up the notebook's sample replay.\n",
    "rps_path = Path(\"./test_replays\")\n",
    "game_path = str(rps_path/\"Jagannatha LE.SC2Replay\")\n",
    "single_replay = sc2reader.load_replay(game_path)\n",
    "single_replay"
   ]
  },
  {
   "cell_type": "markdown",
   "metadata": {},
   "source": [
    "Alternatively, one can use the `sc2replays.load_replays(<str_dir_path>)` method, which returns a generator of replay objects."
   ]
  },
  {
   "cell_type": "code",
   "execution_count": null,
   "metadata": {},
   "outputs": [
    {
     "data": {
      "text/plain": [
       "<generator object SC2Factory.load_all at 0x000001ECB87AD970>"
      ]
     },
     "execution_count": null,
     "metadata": {},
     "output_type": "execute_result"
    }
   ],
   "source": [
    "rps_path = Path(\"./test_replays\")\n",
    "replays = sc2reader.load_replays(str(rps_path))\n",
    "replays"
   ]
  },
  {
   "cell_type": "code",
   "execution_count": null,
   "metadata": {},
   "outputs": [
    {
     "data": {
      "text/plain": [
       "sc2reader.resources.Replay"
      ]
     },
     "execution_count": null,
     "metadata": {},
     "output_type": "execute_result"
    }
   ],
   "source": [
    "type(next(replays))"
   ]
  },
  {
   "cell_type": "markdown",
   "metadata": {},
   "source": [
    "## Objects\n",
    "\n",
    "### The `Replay` Object\n",
    "\n",
    "From a `Replay` object, one can access a variety of attributes that can be usefull as meta-data for a particular match.\n",
    "\n",
    "Here, for example, I access most of the information about the replay calling different attributes of the `Replay` object."
   ]
  },
  {
   "cell_type": "code",
   "execution_count": null,
   "metadata": {},
   "outputs": [
    {
     "name": "stdout",
     "output_type": "stream",
     "text": [
      "File path: test_replays\\Jagannatha LE.SC2Replay\n",
      "File hash: ffdcccf847aa496305a76be69e4d53c28422d308d59015558a149bd9363d0268\n",
      "Version of the game in which the replay was played:  5.0.6.83830\n",
      "Expansion (WoL: Wingd of Liberty, HotS: Heart of the Swarm,  LotV: Legacy of the Void): LotV\n",
      "Game region: us\n",
      "Game category: Ladder\n",
      "Game type: 1v1\n",
      "Map: Jagannatha LE\n",
      "Date start (datetime.datetime): 2021-02-24 02:43:16\n",
      "Date end (datetime.datetime): 2021-02-24 02:53:06\n",
      "Duration in MM.SS (minutes.seconds): 09.50\n",
      "Duration in MM.SS (minutes.seconds):  <class 'int'>\n",
      "Duration in frames: 13224\n",
      "Frames per Second: 16.0\n",
      "Players dict: {1: Player 1 - HDEspino (Protoss), 2: Player 2 - MxChrisxM (Terran)}\n",
      "Winner : Team 2: Player 2 - MxChrisxM (Terran)\n"
     ]
    }
   ],
   "source": [
    "print(f'File path: {single_replay.filename}')\n",
    "print(f'File hash: {single_replay.filehash}')\n",
    "print(f'Version of the game in which the replay was played: ',\n",
    "    f'{single_replay.release_string}')\n",
    "\n",
    "print(f'Expansion (WoL: Wingd of Liberty, HotS: Heart of the Swarm, ',\n",
    "    f'LotV: Legacy of the Void): {single_replay.expansion}')\n",
    "\n",
    "print(f'Game region: {single_replay.region}')\n",
    "print(f'Game category: {single_replay.category}')\n",
    "print(f'Game type: {single_replay.game_type}')\n",
    "print(f'Map: {single_replay.map_name}')\n",
    "print(f'Date start (datetime.datetime): {single_replay.start_time}')\n",
    "print(f'Date end (datetime.datetime): {single_replay.end_time}')\n",
    "print(f'Duration in MM.SS (minutes.seconds): {single_replay.game_length}')\n",
    "print(f'Duration in MM.SS (minutes.seconds): ',\n",
    "    f'{type(single_replay.length.seconds)}')\n",
    "\n",
    "print(f'Duration in frames: {single_replay.frames}')\n",
    "print(f'Frames per Second: {single_replay.game_fps}')\n",
    "print(f'Players dict: {single_replay.player}')\n",
    "print(f'Winner : {single_replay.winner}')\n"
   ]
  },
  {
   "cell_type": "markdown",
   "metadata": {},
   "source": [
    "> Note: More detailed information about the match can be extracted from the events that compose a match. One can list all the events from a match calling the `events` attribute of the `Replay`. However, due to the complexity of this information I will cover it in more detail in later modules (see the `01_hand_event` notebook for more information)."
   ]
  },
  {
   "cell_type": "markdown",
   "metadata": {},
   "source": [
    "### The `Participant` Object\n",
    "\n",
    "A lot of the information one could need from a `Replay` to build a summary could be drawn directly from its attributes. However, to summarise who where the players in the match, what races they played with and their results, I need to access the attributes of the match's `Participants`.\n",
    "\n",
    "Note that, as explained in [sc2reader documentation](https://sc2reader.readthedocs.io/en/latest/articles/conceptsinsc2reader.html):\n",
    "\n",
    "All entities in a replay fall into one of two overlapping buckets:\n",
    "- **User**: is a human entity. Only users have *game and message events*.\n",
    "- **Player**: is an entity that actively plays in the game. Only players have *tracker events*.\n",
    "\n",
    "As such, one can summarise the entities encountered in replays as follows:\n",
    "- A **Participant** is a Player and a User\n",
    "- An **Observer** is a User and not a Player\n",
    "- A **Computer** is a Player and not a User\n",
    "\n",
    "With this in mind, here I access the match participans' information as follows:"
   ]
  },
  {
   "cell_type": "code",
   "execution_count": null,
   "metadata": {},
   "outputs": [
    {
     "data": {
      "text/plain": [
       "sc2reader.objects.Participant"
      ]
     },
     "execution_count": null,
     "metadata": {},
     "output_type": "execute_result"
    }
   ],
   "source": [
    "player_one = single_replay.player[1]\n",
    "player_two = single_replay.player[2]\n",
    "type(player_one)\n"
   ]
  },
  {
   "cell_type": "markdown",
   "metadata": {},
   "source": [
    "This way I locate the each `Participant` within a variable, which allows me to extract meaningful information from these objects, as I show bellow."
   ]
  },
  {
   "cell_type": "code",
   "execution_count": null,
   "metadata": {},
   "outputs": [
    {
     "name": "stdout",
     "output_type": "stream",
     "text": [
      "User Name: HDEspino\n",
      "Race played in match: Protoss\n",
      "Match result: Loss\n",
      "Player ID: 1\n"
     ]
    }
   ],
   "source": [
    "print(f'User Name: {player_one.name}')\n",
    "print(f'Race played in match: {player_one.play_race}')\n",
    "print(f'Match result: {player_one.result}')\n",
    "print(f'Player ID: {player_one.pid}')"
   ]
  },
  {
   "cell_type": "code",
   "execution_count": null,
   "metadata": {},
   "outputs": [
    {
     "name": "stdout",
     "output_type": "stream",
     "text": [
      "User Name: MxChrisxM\n",
      "Race played in match: Terran\n",
      "Match result: Win\n",
      "Player ID: 2\n"
     ]
    }
   ],
   "source": [
    "print(f'User Name: {player_two.name}')\n",
    "print(f'Race played in match: {player_two.play_race}')\n",
    "print(f'Match result: {player_two.result}')\n",
    "print(f'Player ID: {player_two.pid}')\n"
   ]
  },
  {
   "cell_type": "markdown",
   "metadata": {},
   "source": [
    "> Note: One can list all the events from a match associated with each player separately via the events attribute of each `Participant` (see the `01_hand_event` notebook for more information)."
   ]
  },
  {
   "cell_type": "markdown",
   "metadata": {},
   "source": [
    "## Functions\n",
    "\n",
    "Now that I know what data I can extract directly from the `Replay` and the `Participant` objects, I will compose a function that will summarise a 1v1 match. I will use frozen `dataclass` as the primary data structure where I store this summary to enforce immutability."
   ]
  },
  {
   "cell_type": "markdown",
   "metadata": {},
   "source": [
    "### Data structures\n",
    "\n",
    "First, I define a couple of frozen datacasses that can store the data I will extract from the `Replay`.\n",
    "\n",
    "The `Player_data` class will store a sumary of each player's basic information."
   ]
  },
  {
   "cell_type": "code",
   "execution_count": null,
   "metadata": {},
   "outputs": [],
   "source": [
    "#export\n",
    "\n",
    "@dataclass(frozen=True)\n",
    "class Player_data:\n",
    "    \"\"\"\n",
    "    Immutable dataclass that contains Information that describes a\n",
    "    player's attributes in a match.\n",
    "\n",
    "    *Attributes:*\n",
    "        - player_number (int):\n",
    "            Player number in the match. In a 1v1, match there would be a\n",
    "            Player 1 and 2.\n",
    "        - username (str):\n",
    "            The player's user name.\n",
    "        - race (str):\n",
    "            The game race (Protoss, Terran, Zerg) with which the player\n",
    "            played this match.\n",
    "        - result (str):\n",
    "            Variable descriving whether the player was the matches winner\n",
    "            ('Win') or loser ('Loss').\n",
    "\n",
    "    \"\"\"\n",
    "    player_number: int\n",
    "    username: str\n",
    "    race: str\n",
    "    result: str\n",
    "\n",
    "    def __str__(self):\n",
    "        headers = ('Player Number:', 'User Name:', 'Race:', 'Result:')\n",
    "        print_lines = (f'{h:<15}{att:>10}\\n' for h, att\n",
    "                        in zip(headers, astuple(self)))\n",
    "        return ''.join(print_lines)"
   ]
  },
  {
   "cell_type": "code",
   "execution_count": null,
   "metadata": {},
   "outputs": [
    {
     "data": {
      "text/markdown": [
       "<h4 id=\"Player_data\" class=\"doc_header\"><code>class</code> <code>Player_data</code><a href=\"\" class=\"source_link\" style=\"float:right\">[source]</a></h4>\n",
       "\n",
       "> <code>Player_data</code>(**`player_number`**:`int`, **`username`**:`str`, **`race`**:`str`, **`result`**:`str`)\n",
       "\n",
       "Immutable dataclass that contains Information that describes a\n",
       "player's attributes in a match.\n",
       "\n",
       "*Attributes:*\n",
       "    - player_number (int):\n",
       "        Player number in the match. In a 1v1, match there would be a\n",
       "        Player 1 and 2.\n",
       "    - username (str):\n",
       "        The player's user name.\n",
       "    - race (str):\n",
       "        The game race (Protoss, Terran, Zerg) with which the player\n",
       "        played this match.\n",
       "    - result (str):\n",
       "        Variable descriving whether the player was the matches winner\n",
       "        ('Win') or loser ('Loss')."
      ],
      "text/plain": [
       "<IPython.core.display.Markdown object>"
      ]
     },
     "metadata": {},
     "output_type": "display_data"
    }
   ],
   "source": [
    "show_doc(Player_data, title_level=4)\n"
   ]
  },
  {
   "cell_type": "markdown",
   "metadata": {},
   "source": [
    "This data class can store the information of each player as shown here."
   ]
  },
  {
   "cell_type": "code",
   "execution_count": null,
   "metadata": {},
   "outputs": [
    {
     "data": {
      "text/plain": [
       "(1, 'HDEspino', 'Protoss', 'Loss')"
      ]
     },
     "execution_count": null,
     "metadata": {},
     "output_type": "execute_result"
    }
   ],
   "source": [
    "p_one = Player_data(\n",
    "    single_replay.player[1].pid, \n",
    "    single_replay.player[1].name,\n",
    "    single_replay.player[1].play_race,\n",
    "    single_replay.player[1].result\n",
    ")\n",
    "astuple(p_one)\n"
   ]
  },
  {
   "cell_type": "markdown",
   "metadata": {},
   "source": [
    "I have also implemented the `__str__()` function of the class to offer a user friendly representation of the `Player_data` objects."
   ]
  },
  {
   "cell_type": "code",
   "execution_count": null,
   "metadata": {},
   "outputs": [
    {
     "name": "stdout",
     "output_type": "stream",
     "text": [
      "Player Number:          1\n",
      "User Name:       HDEspino\n",
      "Race:             Protoss\n",
      "Result:              Loss\n",
      "\n"
     ]
    }
   ],
   "source": [
    "print(p_one)\n"
   ]
  },
  {
   "cell_type": "markdown",
   "metadata": {},
   "source": [
    "Meanwhile, the `Replay_data` class stores the information on the match. This includes a list of `Player_data` instances that consolidate the information of the match's players in a single location."
   ]
  },
  {
   "cell_type": "code",
   "execution_count": null,
   "metadata": {},
   "outputs": [],
   "source": [
    "#export\n",
    "\n",
    "@dataclass(frozen=True)\n",
    "class Replay_data:\n",
    "    \"\"\"\n",
    "    Immutable dataclass that contains information summarising a\n",
    "    match's main attributes.\n",
    "\n",
    "    *Attributes:*\n",
    "        - replay_name (str):\n",
    "            Absolute path of where the Replay was stored when uploaded.\n",
    "        - replay_id (str):\n",
    "            Name of the SC2Replay file.\n",
    "        - date_time (datetime):\n",
    "            Date and time when the match was played and recorded.\n",
    "        - game_length (int):\n",
    "            Length of the match in seconds.\n",
    "        - match_type (str):\n",
    "            Descrives the team configuration of the match (eg '1v1', '2v2').\n",
    "        - game_release (str):\n",
    "            Version and patch number for the game release where the match\n",
    "            played.\n",
    "        - map_name (str):\n",
    "            Name of the match's map.\n",
    "        - category (str):\n",
    "            Descrives if the match was 'Ladder' or other type of match.\n",
    "        - winner (str):\n",
    "            User name of the match's winner\n",
    "        - players (list):\n",
    "            Summarised information of the match's players (see Player_data\n",
    "            class).\n",
    "    \"\"\"\n",
    "    replay_name: str\n",
    "    replay_id: str\n",
    "    date_time: datetime\n",
    "    game_length: int\n",
    "    match_type: str\n",
    "    game_release: str\n",
    "    map_name: str\n",
    "    category: str\n",
    "    winner: str\n",
    "    players: list[Player_data]\n",
    "\n",
    "    def __str__(self):\n",
    "        headers = ('File path:',\n",
    "                   'File name:',\n",
    "                   'Date (datetime.datetime):',\n",
    "                   'Duration (seconds):',\n",
    "                   'Game type:',\n",
    "                   'Game release:',\n",
    "                   'Map:',\n",
    "                   'Game category:',\n",
    "                   'winner:',\n",
    "                   'players:'\n",
    "                   )\n",
    "        print_lines = (f'{h:<28} {str(att)} \\n'\n",
    "                       for h, att in zip(headers, astuple(self)))\n",
    "        return ''.join(print_lines)"
   ]
  },
  {
   "cell_type": "code",
   "execution_count": null,
   "metadata": {},
   "outputs": [
    {
     "data": {
      "text/markdown": [
       "<h4 id=\"Replay_data\" class=\"doc_header\"><code>class</code> <code>Replay_data</code><a href=\"\" class=\"source_link\" style=\"float:right\">[source]</a></h4>\n",
       "\n",
       "> <code>Replay_data</code>(**`replay_name`**:`str`, **`replay_id`**:`str`, **`date_time`**:`datetime`, **`game_length`**:`int`, **`match_type`**:`str`, **`game_release`**:`str`, **`map_name`**:`str`, **`category`**:`str`, **`winner`**:`str`, **`players`**:`list`\\[`Player_data`\\])\n",
       "\n",
       "Immutable dataclass that contains information summarising a\n",
       "match's main attributes.\n",
       "\n",
       "*Attributes:*\n",
       "    - replay_name (str):\n",
       "        Absolute path of where the Replay was stored when uploaded.\n",
       "    - replay_id (str):\n",
       "        Name of the SC2Replay file.\n",
       "    - date_time (datetime):\n",
       "        Date and time when the match was played and recorded.\n",
       "    - game_length (int):\n",
       "        Length of the match in seconds.\n",
       "    - match_type (str):\n",
       "        Descrives the team configuration of the match (eg '1v1', '2v2').\n",
       "    - game_release (str):\n",
       "        Version and patch number for the game release where the match\n",
       "        played.\n",
       "    - map_name (str):\n",
       "        Name of the match's map.\n",
       "    - category (str):\n",
       "        Descrives if the match was 'Ladder' or other type of match.\n",
       "    - winner (str):\n",
       "        User name of the match's winner\n",
       "    - players (list):\n",
       "        Summarised information of the match's players (see Player_data\n",
       "        class)."
      ],
      "text/plain": [
       "<IPython.core.display.Markdown object>"
      ]
     },
     "metadata": {},
     "output_type": "display_data"
    }
   ],
   "source": [
    "show_doc(Replay_data, title_level=4)\n"
   ]
  },
  {
   "cell_type": "markdown",
   "metadata": {},
   "source": [
    "### Helper Functions\n",
    "\n",
    "To illustrate how this dataclass works, let me define a helper function (`get_players`) that I will use to iterate through the match's list of players (extracted as a `dict` calling on the replay's `player` attribute), converting each one into a `Player_data` instance and returning a new list with this summaries."
   ]
  },
  {
   "cell_type": "code",
   "execution_count": null,
   "metadata": {},
   "outputs": [],
   "source": [
    "#export\n",
    "\n",
    "def get_players(player_dict: Dict[Any, Any]) -> List[Player_data]:\n",
    "    \"\"\"\n",
    "    Extracts the players' data from a Participant Object, into a\n",
    "    Player_data instance.\n",
    "\n",
    "    *Args:*\n",
    "        - player_dict (Dict[int, sc2reader.objects.Participant]):\n",
    "            Dictionary of the players in the match.\n",
    "\n",
    "    *Returns:*\n",
    "        - List[Player_data]:\n",
    "            List of the match's players, each player contains a summary of\n",
    "            their match data.\n",
    "    \"\"\"\n",
    "    return [Player_data(p.pid, p.name, p.play_race, p.result)\n",
    "            for p in player_dict.values()]"
   ]
  },
  {
   "cell_type": "markdown",
   "metadata": {},
   "source": [
    "With this function and the attributes explored above I can store a summary of the matches meta-data in a `Replay_data` instance like this:"
   ]
  },
  {
   "cell_type": "code",
   "execution_count": null,
   "metadata": {},
   "outputs": [
    {
     "name": "stdout",
     "output_type": "stream",
     "text": [
      "File path:                   test_replays\\Jagannatha LE.SC2Replay \n",
      "File name:                   Jagannatha LE.SC2Replay \n",
      "Date (datetime.datetime):    2021-02-24 02:53:06 \n",
      "Duration (seconds):          590 \n",
      "Game type:                   1v1 \n",
      "Game release:                5.0.6.83830 \n",
      "Map:                         Jagannatha LE \n",
      "Game category:               Ladder \n",
      "winner:                      Team 2: Player 2 - MxChrisxM (Terran) \n",
      "players:                     [(1, 'HDEspino', 'Protoss', 'Loss'), (2, 'MxChrisxM', 'Terran', 'Win')] \n",
      "\n"
     ]
    }
   ],
   "source": [
    "match = Replay_data(\n",
    "        replay_name= single_replay.filename,\n",
    "        replay_id= Path(single_replay.filename).name,\n",
    "        date_time= single_replay.date,\n",
    "        game_length= single_replay.length.seconds,\n",
    "        match_type= single_replay.game_type,\n",
    "        game_release= single_replay.release_string,\n",
    "        map_name= single_replay.map_name,\n",
    "        category= single_replay.category,\n",
    "        winner= single_replay.winner,\n",
    "        players= get_players(single_replay.player) # note the use of the\n",
    "                                                   # helper function here\n",
    ")\n",
    "print(match)\n"
   ]
  },
  {
   "cell_type": "markdown",
   "metadata": {},
   "source": [
    "Again, I have implemented the class' `__str__()` method to provide a user friendly printy of the class."
   ]
  },
  {
   "cell_type": "code",
   "execution_count": null,
   "metadata": {},
   "outputs": [
    {
     "name": "stdout",
     "output_type": "stream",
     "text": [
      "File path:                   test_replays\\Jagannatha LE.SC2Replay \n",
      "File name:                   Jagannatha LE.SC2Replay \n",
      "Date (datetime.datetime):    2021-02-24 02:53:06 \n",
      "Duration (seconds):          590 \n",
      "Game type:                   1v1 \n",
      "Game release:                5.0.6.83830 \n",
      "Map:                         Jagannatha LE \n",
      "Game category:               Ladder \n",
      "winner:                      Team 2: Player 2 - MxChrisxM (Terran) \n",
      "players:                     [(1, 'HDEspino', 'Protoss', 'Loss'), (2, 'MxChrisxM', 'Terran', 'Win')] \n",
      "\n"
     ]
    }
   ],
   "source": [
    "print(match)\n"
   ]
  },
  {
   "cell_type": "markdown",
   "metadata": {},
   "source": [
    "### Exported Functions\n",
    "\n",
    "Having defined these data structures, I can define a simple function that receives a `Replay` and returns a replay summary as a `Replay_data` instance.\n",
    "\n",
    "Here is the documentation for that function."
   ]
  },
  {
   "cell_type": "code",
   "execution_count": null,
   "metadata": {},
   "outputs": [],
   "source": [
    "#export\n",
    "\n",
    "def get_replay_info(replay: sc2reader.resources.Replay) -> Replay_data:\n",
    "    '''\n",
    "    Extracts a summary of a match's general information into a Replay_data\n",
    "    dataclass instance.\n",
    "\n",
    "    *Args:*\n",
    "        - replay (sc2reader.resources.Replay):\n",
    "            Replay object to be analysed.\n",
    "\n",
    "    *Returns:*\n",
    "        - Replay_data\n",
    "            Summary of a matches main descriptive information.\n",
    "    '''\n",
    "\n",
    "    # Collect information about the match in a document.\n",
    "    return Replay_data(\n",
    "        replay_name= replay.filename,\n",
    "        replay_id= Path(replay.filename).name,\n",
    "        date_time= replay.date,\n",
    "        game_length= replay.length.seconds,\n",
    "        match_type= replay.game_type,\n",
    "        game_release= replay.release_string,\n",
    "        map_name= replay.map_name,\n",
    "        category= replay.category,\n",
    "        winner= replay.winner,\n",
    "        players= get_players(replay.player) # note the use of the helper\n",
    "                                            # function here\n",
    "    )"
   ]
  },
  {
   "cell_type": "markdown",
   "metadata": {},
   "source": [
    "#### Example use of the `get_replay_info()` function"
   ]
  },
  {
   "cell_type": "code",
   "execution_count": null,
   "metadata": {},
   "outputs": [
    {
     "name": "stdout",
     "output_type": "stream",
     "text": [
      "File path:                   test_replays\\Jagannatha LE.SC2Replay \n",
      "File name:                   Jagannatha LE.SC2Replay \n",
      "Date (datetime.datetime):    2021-02-24 02:53:06 \n",
      "Duration (seconds):          590 \n",
      "Game type:                   1v1 \n",
      "Game release:                5.0.6.83830 \n",
      "Map:                         Jagannatha LE \n",
      "Game category:               Ladder \n",
      "winner:                      Team 2: Player 2 - MxChrisxM (Terran) \n",
      "players:                     [(1, 'HDEspino', 'Protoss', 'Loss'), (2, 'MxChrisxM', 'Terran', 'Win')] \n",
      "\n"
     ]
    }
   ],
   "source": [
    "match = get_replay_info(single_replay)\n",
    "print(match)\n",
    "\n"
   ]
  },
  {
   "cell_type": "raw",
   "metadata": {},
   "source": [
    "#hide\n",
    "from nbdev.export import notebook2script\n",
    "notebook2script()"
   ]
  },
  {
   "cell_type": "raw",
   "metadata": {},
   "source": []
  }
 ],
 "metadata": {
  "kernelspec": {
   "display_name": "Python 3",
   "language": "python",
   "name": "python3"
  }
 },
 "nbformat": 4,
 "nbformat_minor": 2
}
