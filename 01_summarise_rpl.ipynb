{
 "cells": [
  {
   "cell_type": "code",
   "execution_count": null,
   "metadata": {},
   "outputs": [],
   "source": [
    "#default_exp ingest.summarise_rpl\r\n"
   ]
  },
  {
   "cell_type": "code",
   "execution_count": null,
   "metadata": {},
   "outputs": [],
   "source": [
    "#hide\r\n",
    "\r\n",
    "from nbdev.showdoc import *\r\n"
   ]
  },
  {
   "cell_type": "code",
   "execution_count": null,
   "metadata": {},
   "outputs": [],
   "source": [
    "#exporti\r\n",
    "\r\n",
    "# Load Module's dependencies\r\n",
    "\r\n",
    "from pathlib import Path\r\n",
    "from pprint import pprint\r\n",
    "from dataclasses import dataclass, astuple, field\r\n",
    "from datetime import datetime\r\n",
    "from typing import *\r\n",
    "\r\n",
    "import sc2reader"
   ]
  },
  {
   "cell_type": "markdown",
   "metadata": {},
   "source": [
    "# Section 1.1 - Summarising Replays"
   ]
  },
  {
   "cell_type": "markdown",
   "metadata": {},
   "source": [
    "## Introduction\n",
    "\n",
    "In this chapter I define the module `summarise_rpl` and I reviews how to extract a `Replay's` metadata with `sc2reader`. This metadata will allow me to index the replays when they are processed to group them by player and race to construct the players' profiles.\n",
    "\n",
    "### Exported Functions\n",
    "\n",
    "- get_replay_info\n",
    "\n",
    "## The `Replay` Object\n",
    "\n",
    "`sc2reader` loads replay files into `Repaly` objects. Once these objects are defined, users can access their data in two ways. \n",
    "\n",
    "- The user can access descriptive information about a `Replay` by calling on some of the object's attributes. This data is useful for indexing and organising purposes. \n",
    "\n",
    "- Second, the `Replay` can provide access to other objects representing the different events, entities and behaviours that make up a StarCraft II match. This data is helpful to calculate and compose the player's performance indicators.\n",
    "\n",
    "The following code shows how one can load a `Replay` into a variable."
   ]
  },
  {
   "cell_type": "code",
   "execution_count": null,
   "metadata": {},
   "outputs": [
    {
     "data": {
      "text/plain": [
       "<sc2reader.resources.Replay at 0x1ea483f7580>"
      ]
     },
     "execution_count": null,
     "metadata": {},
     "output_type": "execute_result"
    }
   ],
   "source": [
    "# This code sets up the notebook's sample replay.\r\n",
    "rps_path = Path(\"./test_replays\")\r\n",
    "game_path = str(rps_path/\"Jagannatha LE.SC2Replay\")\r\n",
    "single_replay = sc2reader.load_replay(game_path)\r\n",
    "single_replay"
   ]
  },
  {
   "cell_type": "markdown",
   "metadata": {},
   "source": [
    "Having defined the object, I can summarise the match's descriptive information as shown in the following code. "
   ]
  },
  {
   "cell_type": "code",
   "execution_count": null,
   "metadata": {},
   "outputs": [
    {
     "name": "stdout",
     "output_type": "stream",
     "text": [
      "File path: test_replays\\Jagannatha LE.SC2Replay\n",
      "File hash: ffdcccf847aa496305a76be69e4d53c28422d308d59015558a149bd9363d0268\n",
      "Version of the game in which the replay was played:  5.0.6.83830\n",
      "Expansion (WoL: Wingd of Liberty, HotS: Heart of the Swarm,  LotV: Legacy of the Void): LotV\n",
      "Game region: us\n",
      "Game category: Ladder\n",
      "Game type: 1v1\n",
      "Map: Jagannatha LE\n",
      "Date start (datetime.datetime): 2021-02-24 02:43:16\n",
      "Date end (datetime.datetime): 2021-02-24 02:53:06\n",
      "Duration in MM.SS (minutes.seconds): 09.50\n",
      "Duration in MM.SS (minutes.seconds):  <class 'int'>\n",
      "Duration in frames: 13224\n",
      "Frames per Second: 16.0\n",
      "Players dict: {1: Player 1 - HDEspino (Protoss), 2: Player 2 - MxChrisxM (Terran)}\n",
      "Winner : Team 2: Player 2 - MxChrisxM (Terran)\n"
     ]
    }
   ],
   "source": [
    "print(f'File path: {single_replay.filename}')\r\n",
    "print(f'File hash: {single_replay.filehash}')\r\n",
    "print(f'Version of the game in which the replay was played: ',\r\n",
    "    f'{single_replay.release_string}')\r\n",
    "\r\n",
    "print(f'Expansion (WoL: Wingd of Liberty, HotS: Heart of the Swarm, ',\r\n",
    "    f'LotV: Legacy of the Void): {single_replay.expansion}')\r\n",
    "\r\n",
    "print(f'Game region: {single_replay.region}')\r\n",
    "print(f'Game category: {single_replay.category}')\r\n",
    "print(f'Game type: {single_replay.game_type}')\r\n",
    "print(f'Map: {single_replay.map_name}')\r\n",
    "print(f'Date start (datetime.datetime): {single_replay.start_time}')\r\n",
    "print(f'Date end (datetime.datetime): {single_replay.end_time}')\r\n",
    "print(f'Duration in MM.SS (minutes.seconds): {single_replay.game_length}')\r\n",
    "print(f'Duration in MM.SS (minutes.seconds): ',\r\n",
    "    f'{type(single_replay.length.seconds)}')\r\n",
    "\r\n",
    "print(f'Duration in frames: {single_replay.frames}')\r\n",
    "print(f'Frames per Second: {single_replay.game_fps}')\r\n",
    "print(f'Players dict: {single_replay.player}')\r\n",
    "print(f'Winner : {single_replay.winner}')\r\n"
   ]
  },
  {
   "cell_type": "markdown",
   "metadata": {},
   "source": [
    "## The `Participant` Object\n",
    "\n",
    "Beyond the information contained in a `Replay's` attributes, users can call upon the `Participant` objects associated with it to complement this data. These `Participant` objects record the match's players, what races they played with, and their results.\n",
    "\n",
    "> Tip: All entities in a replay fall into one of two categories, i.e. *User* or *Player*. *Users* refer to human entities and use *game and message events* to record some of the entities' behaviours. *Players* actively play the game and use *tracker events* to record several performance indicators.\n",
    "\n",
    "As such, one can summarise the entities encountered in replays as follows:\n",
    "\n",
    "- A **Participant** is a Player and a User\n",
    "- An **Observer** is a User and not a Player\n",
    "- A **Computer** is a Player and not a User\n",
    "\n",
    "[(Kim, 2015, p. 37)](https://sc2reader.readthedocs.io/en/latest/articles/conceptsinsc2reader.html#player-vs-user)\n",
    "\n",
    "With this in mind, here I access the match participans' information as follows:"
   ]
  },
  {
   "cell_type": "code",
   "execution_count": null,
   "metadata": {},
   "outputs": [
    {
     "data": {
      "text/plain": [
       "sc2reader.objects.Participant"
      ]
     },
     "execution_count": null,
     "metadata": {},
     "output_type": "execute_result"
    }
   ],
   "source": [
    "player_one = single_replay.player[1]\r\n",
    "player_two = single_replay.player[2]\r\n",
    "type(player_one)"
   ]
  },
  {
   "cell_type": "markdown",
   "metadata": {},
   "source": [
    "This way I locate the each `Participant` within a variable, which allows me to extract meaningful information from these objects, as I show bellow."
   ]
  },
  {
   "cell_type": "code",
   "execution_count": null,
   "metadata": {},
   "outputs": [
    {
     "name": "stdout",
     "output_type": "stream",
     "text": [
      "User Name: HDEspino\n",
      "Race played in match: Protoss\n",
      "Match result: Loss\n",
      "Player ID: 1\n"
     ]
    }
   ],
   "source": [
    "print(f'User Name: {player_one.name}')\r\n",
    "print(f'Race played in match: {player_one.play_race}')\r\n",
    "print(f'Match result: {player_one.result}')\r\n",
    "print(f'Player ID: {player_one.pid}')"
   ]
  },
  {
   "cell_type": "code",
   "execution_count": null,
   "metadata": {},
   "outputs": [
    {
     "name": "stdout",
     "output_type": "stream",
     "text": [
      "User Name: MxChrisxM\n",
      "Race played in match: Terran\n",
      "Match result: Win\n",
      "Player ID: 2\n"
     ]
    }
   ],
   "source": [
    "print(f'User Name: {player_two.name}')\r\n",
    "print(f'Race played in match: {player_two.play_race}')\r\n",
    "print(f'Match result: {player_two.result}')\r\n",
    "print(f'Player ID: {player_two.pid}')\r\n"
   ]
  },
  {
   "cell_type": "markdown",
   "metadata": {},
   "source": [
    "## Functions\n",
    "\n",
    "Considering all of the above, I define a function that summarises the information I need to index and organise a set of replays. "
   ]
  },
  {
   "cell_type": "markdown",
   "metadata": {},
   "source": [
    "### Data structures\n",
    "\n",
    "First, I define a couple of frozen datacasses that can store the data I will extract from the `Replay`.\n",
    "\n",
    "The `Player_data` class will store a sumary of each player's basic information."
   ]
  },
  {
   "cell_type": "code",
   "execution_count": null,
   "metadata": {},
   "outputs": [],
   "source": [
    "#export\r\n",
    "\r\n",
    "@dataclass(frozen=True)\r\n",
    "class Player_data:\r\n",
    "    \"\"\"\r\n",
    "    Immutable dataclass that contains Information that describes a\r\n",
    "    player's attributes in a match.\r\n",
    "\r\n",
    "    *Attributes:*\r\n",
    "        - player_number (int):\r\n",
    "            Player number in the match. In a 1v1, match there would be a\r\n",
    "            Player 1 and 2.\r\n",
    "        - username (str):\r\n",
    "            The player's user name.\r\n",
    "        - race (str):\r\n",
    "            The game race (Protoss, Terran, Zerg) with which the player\r\n",
    "            played this match.\r\n",
    "        - result (str):\r\n",
    "            Variable descriving whether the player was the matches winner\r\n",
    "            ('Win') or loser ('Loss').\r\n",
    "\r\n",
    "    \"\"\"\r\n",
    "    player_number: int\r\n",
    "    username: str\r\n",
    "    race: str\r\n",
    "    result: str\r\n",
    "\r\n",
    "    def __str__(self):\r\n",
    "        headers = ('Player Number:', 'User Name:', 'Race:', 'Result:')\r\n",
    "        print_lines = (f'{h:<15}{att:>10}\\n' for h, att\r\n",
    "                        in zip(headers, astuple(self)))\r\n",
    "        return ''.join(print_lines)"
   ]
  },
  {
   "cell_type": "code",
   "execution_count": null,
   "metadata": {},
   "outputs": [
    {
     "data": {
      "text/markdown": [
       "<h4 id=\"Player_data\" class=\"doc_header\"><code>class</code> <code>Player_data</code><a href=\"\" class=\"source_link\" style=\"float:right\">[source]</a></h4>\n",
       "\n",
       "> <code>Player_data</code>(**`player_number`**:`int`, **`username`**:`str`, **`race`**:`str`, **`result`**:`str`)\n",
       "\n",
       "Immutable dataclass that contains Information that describes a\n",
       "player's attributes in a match.\n",
       "\n",
       "*Attributes:*\n",
       "    - player_number (int):\n",
       "        Player number in the match. In a 1v1, match there would be a\n",
       "        Player 1 and 2.\n",
       "    - username (str):\n",
       "        The player's user name.\n",
       "    - race (str):\n",
       "        The game race (Protoss, Terran, Zerg) with which the player\n",
       "        played this match.\n",
       "    - result (str):\n",
       "        Variable descriving whether the player was the matches winner\n",
       "        ('Win') or loser ('Loss')."
      ],
      "text/plain": [
       "<IPython.core.display.Markdown object>"
      ]
     },
     "metadata": {},
     "output_type": "display_data"
    }
   ],
   "source": [
    "show_doc(Player_data, title_level=4)\r\n"
   ]
  },
  {
   "cell_type": "markdown",
   "metadata": {},
   "source": [
    "The following is an example of this class. "
   ]
  },
  {
   "cell_type": "code",
   "execution_count": null,
   "metadata": {},
   "outputs": [
    {
     "name": "stdout",
     "output_type": "stream",
     "text": [
      "Player Number:          1\n",
      "User Name:       HDEspino\n",
      "Race:             Protoss\n",
      "Result:              Loss\n",
      "\n"
     ]
    }
   ],
   "source": [
    "p_one = Player_data(single_replay.player[1].pid, \r\n",
    "                    single_replay.player[1].name,\r\n",
    "                    single_replay.player[1].play_race,\r\n",
    "                    single_replay.player[1].result)\r\n",
    "\r\n",
    "print(p_one)"
   ]
  },
  {
   "cell_type": "markdown",
   "metadata": {},
   "source": [
    "Meanwhile, the `Replay_data` class stores the information on the match. This includes a list of `Player_data` instances that consolidate the information of the match's players in a single location."
   ]
  },
  {
   "cell_type": "code",
   "execution_count": null,
   "metadata": {},
   "outputs": [],
   "source": [
    "#export\r\n",
    "\r\n",
    "@dataclass(frozen=True)\r\n",
    "class Replay_data:\r\n",
    "    \"\"\"\r\n",
    "    Immutable dataclass that contains information summarising a\r\n",
    "    match's main attributes.\r\n",
    "\r\n",
    "    *Attributes:*\r\n",
    "        - replay_name (str):\r\n",
    "            Absolute path of where the Replay was stored when uploaded.\r\n",
    "        - replay_id (str):\r\n",
    "            Name of the SC2Replay file.\r\n",
    "        - date_time (datetime):\r\n",
    "            Date and time when the match was played and recorded.\r\n",
    "        - game_length (int):\r\n",
    "            Length of the match in seconds.\r\n",
    "        - match_type (str):\r\n",
    "            Descrives the team configuration of the match (eg '1v1', '2v2').\r\n",
    "        - game_release (str):\r\n",
    "            Version and patch number for the game release where the match\r\n",
    "            played.\r\n",
    "        - map_name (str):\r\n",
    "            Name of the match's map.\r\n",
    "        - category (str):\r\n",
    "            Descrives if the match was 'Ladder' or other type of match.\r\n",
    "        - winner (str):\r\n",
    "            User name of the match's winner\r\n",
    "        - players (list):\r\n",
    "            Summarised information of the match's players (see Player_data\r\n",
    "            class).\r\n",
    "    \"\"\"\r\n",
    "    replay_name: str\r\n",
    "    replay_id: str\r\n",
    "    date_time: datetime\r\n",
    "    game_length: int\r\n",
    "    match_type: str\r\n",
    "    game_release: str\r\n",
    "    map_name: str\r\n",
    "    category: str\r\n",
    "    winner: int\r\n",
    "    players: list[Player_data]\r\n",
    "\r\n",
    "    def __str__(self):\r\n",
    "        headers = ('File path:',\r\n",
    "                   'File name:',\r\n",
    "                   'Date (datetime.datetime):',\r\n",
    "                   'Duration (seconds):',\r\n",
    "                   'Game type:',\r\n",
    "                   'Game release:',\r\n",
    "                   'Map:',\r\n",
    "                   'Game category:',\r\n",
    "                   'winner:',\r\n",
    "                   'players:')\r\n",
    "                   \r\n",
    "        print_lines = (f'{h:<28} {str(att)} \\n'\r\n",
    "                       for h, att in zip(headers, astuple(self)))\r\n",
    "        return ''.join(print_lines)"
   ]
  },
  {
   "cell_type": "code",
   "execution_count": null,
   "metadata": {},
   "outputs": [
    {
     "data": {
      "text/markdown": [
       "<h4 id=\"Replay_data\" class=\"doc_header\"><code>class</code> <code>Replay_data</code><a href=\"\" class=\"source_link\" style=\"float:right\">[source]</a></h4>\n",
       "\n",
       "> <code>Replay_data</code>(**`replay_name`**:`str`, **`replay_id`**:`str`, **`date_time`**:`datetime`, **`game_length`**:`int`, **`match_type`**:`str`, **`game_release`**:`str`, **`map_name`**:`str`, **`category`**:`str`, **`winner`**:`int`, **`players`**:`list`\\[[`Player_data`](/sc_training/summarise_rpl.html#Player_data)\\])\n",
       "\n",
       "Immutable dataclass that contains information summarising a\n",
       "match's main attributes.\n",
       "\n",
       "*Attributes:*\n",
       "    - replay_name (str):\n",
       "        Absolute path of where the Replay was stored when uploaded.\n",
       "    - replay_id (str):\n",
       "        Name of the SC2Replay file.\n",
       "    - date_time (datetime):\n",
       "        Date and time when the match was played and recorded.\n",
       "    - game_length (int):\n",
       "        Length of the match in seconds.\n",
       "    - match_type (str):\n",
       "        Descrives the team configuration of the match (eg '1v1', '2v2').\n",
       "    - game_release (str):\n",
       "        Version and patch number for the game release where the match\n",
       "        played.\n",
       "    - map_name (str):\n",
       "        Name of the match's map.\n",
       "    - category (str):\n",
       "        Descrives if the match was 'Ladder' or other type of match.\n",
       "    - winner (str):\n",
       "        User name of the match's winner\n",
       "    - players (list):\n",
       "        Summarised information of the match's players (see Player_data\n",
       "        class)."
      ],
      "text/plain": [
       "<IPython.core.display.Markdown object>"
      ]
     },
     "metadata": {},
     "output_type": "display_data"
    }
   ],
   "source": [
    "show_doc(Replay_data, title_level=4)"
   ]
  },
  {
   "cell_type": "markdown",
   "metadata": {},
   "source": [
    "### Helper Functions\n",
    "\n",
    "To illustrate how this dataclass works, let me define a helper function (`get_players`) to iterate through the match's list of players converting each one into a `Player_data` instance and returning a new list with this summaries."
   ]
  },
  {
   "cell_type": "code",
   "execution_count": null,
   "metadata": {},
   "outputs": [],
   "source": [
    "#exporti\r\n",
    "\r\n",
    "def get_players(player_dict: Dict[Any, Any]) -> List[Player_data]:\r\n",
    "    \"\"\"\r\n",
    "    Extracts the players' data from a Participant Object, into a\r\n",
    "    Player_data instance.\r\n",
    "\r\n",
    "    *Args:*\r\n",
    "        - player_dict (Dict[int, sc2reader.objects.Participant]):\r\n",
    "            Dictionary of the players in the match.\r\n",
    "\r\n",
    "    *Returns:*\r\n",
    "        - List[Player_data]:\r\n",
    "            List of the match's players, each player contains a summary of\r\n",
    "            their match data.\r\n",
    "    \"\"\"\r\n",
    "    return [Player_data(p.pid, p.name, p.play_race, p.result)\r\n",
    "            for p in player_dict.values()]"
   ]
  },
  {
   "cell_type": "markdown",
   "metadata": {},
   "source": [
    "With this function, I can store a summary of the matches meta-data in a `Replay_data` instance like this:"
   ]
  },
  {
   "cell_type": "code",
   "execution_count": null,
   "metadata": {},
   "outputs": [
    {
     "name": "stdout",
     "output_type": "stream",
     "text": [
      "File path:                   test_replays\\Jagannatha LE.SC2Replay \n",
      "File name:                   Jagannatha LE.SC2Replay \n",
      "Date (datetime.datetime):    2021-02-24 02:53:06 \n",
      "Duration (seconds):          590 \n",
      "Game type:                   1v1 \n",
      "Game release:                5.0.6.83830 \n",
      "Map:                         Jagannatha LE \n",
      "Game category:               Ladder \n",
      "winner:                      Team 2: Player 2 - MxChrisxM (Terran) \n",
      "players:                     [(1, 'HDEspino', 'Protoss', 'Loss'), (2, 'MxChrisxM', 'Terran', 'Win')] \n",
      "\n"
     ]
    }
   ],
   "source": [
    "match = Replay_data(\r\n",
    "        replay_name= single_replay.filename,\r\n",
    "        replay_id= Path(single_replay.filename).name,\r\n",
    "        date_time= single_replay.date,\r\n",
    "        game_length= single_replay.length.seconds,\r\n",
    "        match_type= single_replay.game_type,\r\n",
    "        game_release= single_replay.release_string,\r\n",
    "        map_name= single_replay.map_name,\r\n",
    "        category= single_replay.category,\r\n",
    "        winner= single_replay.winner,\r\n",
    "        players= get_players(single_replay.player)) # note the use of the\r\n",
    "                                                    # helper function here\r\n",
    "\r\n",
    "print(match)\r\n"
   ]
  },
  {
   "cell_type": "code",
   "execution_count": null,
   "metadata": {},
   "outputs": [],
   "source": [
    "#exporti\r\n",
    "def get_winner(winner: sc2reader.resources.Team) -> int:\r\n",
    "    if winner:\r\n",
    "        return winner.number\r\n",
    "    else:\r\n",
    "        return 0 "
   ]
  },
  {
   "cell_type": "markdown",
   "metadata": {},
   "source": [
    "### Exported Functions\n",
    "\n",
    "Having defined these data structures, I define the `get_replay_info` function which receives a `Replay` and returns its summary as a `Replay_data` instance."
   ]
  },
  {
   "cell_type": "code",
   "execution_count": null,
   "metadata": {},
   "outputs": [],
   "source": [
    "#export\r\n",
    "\r\n",
    "def get_replay_info(replay: sc2reader.resources.Replay) -> Replay_data:\r\n",
    "    '''\r\n",
    "    Extracts a summary of a match's general information into a Replay_data\r\n",
    "    dataclass instance.\r\n",
    "\r\n",
    "    *Args:*\r\n",
    "        - replay (sc2reader.resources.Replay):\r\n",
    "            Replay object to be analysed.\r\n",
    "\r\n",
    "    *Returns:*\r\n",
    "        - Replay_data\r\n",
    "            Summary of a matches main descriptive information.\r\n",
    "    '''\r\n",
    "\r\n",
    "    # Collect information about the match in a document.\r\n",
    "    return Replay_data(\r\n",
    "        replay_name= replay.filename,\r\n",
    "        replay_id= Path(replay.filename).name,\r\n",
    "        date_time= replay.date,\r\n",
    "        game_length= replay.length.seconds,\r\n",
    "        match_type= replay.game_type,\r\n",
    "        game_release= replay.release_string,\r\n",
    "        map_name= replay.map_name,\r\n",
    "        category= replay.category,\r\n",
    "        winner= get_winner(replay.winner),\r\n",
    "        players= get_players(replay.player)) # note the use of the helper\r\n",
    "                                             # function here"
   ]
  },
  {
   "cell_type": "markdown",
   "metadata": {},
   "source": [
    "The following code demonstrates the use of this function."
   ]
  },
  {
   "cell_type": "code",
   "execution_count": null,
   "metadata": {},
   "outputs": [
    {
     "name": "stdout",
     "output_type": "stream",
     "text": [
      "File path:                   test_replays\\Jagannatha LE.SC2Replay \n",
      "File name:                   Jagannatha LE.SC2Replay \n",
      "Date (datetime.datetime):    2021-02-24 02:53:06 \n",
      "Duration (seconds):          590 \n",
      "Game type:                   1v1 \n",
      "Game release:                5.0.6.83830 \n",
      "Map:                         Jagannatha LE \n",
      "Game category:               Ladder \n",
      "winner:                      2 \n",
      "players:                     [(1, 'HDEspino', 'Protoss', 'Loss'), (2, 'MxChrisxM', 'Terran', 'Win')] \n",
      "\n"
     ]
    }
   ],
   "source": [
    "match = get_replay_info(single_replay)\r\n",
    "print(match)\r\n",
    "\r\n"
   ]
  },
  {
   "cell_type": "markdown",
   "metadata": {},
   "source": [
    "## References\n",
    "\n",
    "- Kim, G. (2015) 'sc2reader Documentation'. Available at: https://sc2reader.readthedocs.io/_/downloads/en/latest/pdf/."
   ]
  },
  {
   "cell_type": "code",
   "execution_count": null,
   "metadata": {},
   "outputs": [
    {
     "name": "stdout",
     "output_type": "stream",
     "text": [
      "Converted 00_Comp_model.ipynb.\n",
      "Converted 01_01_ingest_and_clustering.ipynb.\n",
      "Converted 01_summarise_rpl.ipynb.\n",
      "Converted 02_handle_tracker_events.ipynb.\n",
      "Converted 03_macro_econ_parser.ipynb.\n",
      "Converted 04_build_parser.ipynb.\n",
      "Converted 05_handle_command_events.ipynb.\n",
      "Converted 06_selection_parser.ipynb.\n",
      "Converted 07_ingest.ipynb.\n",
      "Converted index.ipynb.\n"
     ]
    }
   ],
   "source": [
    "#hide\r\n",
    "from nbdev.export import notebook2script\r\n",
    "notebook2script()"
   ]
  },
  {
   "cell_type": "code",
   "execution_count": null,
   "metadata": {},
   "outputs": [],
   "source": []
  }
 ],
 "metadata": {
  "kernelspec": {
   "display_name": "Python 3.9.6 64-bit ('sctraining_env': conda)",
   "name": "python3"
  }
 },
 "nbformat": 4,
 "nbformat_minor": 2
}
