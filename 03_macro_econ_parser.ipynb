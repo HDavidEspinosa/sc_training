{
 "cells": [
  {
   "cell_type": "code",
   "execution_count": null,
   "metadata": {},
   "outputs": [],
   "source": [
    "# default_exp ingest.macro_econ_parser\n"
   ]
  },
  {
   "cell_type": "code",
   "execution_count": null,
   "metadata": {},
   "outputs": [],
   "source": [
    "#hide\n",
    "\n",
    "from nbdev.showdoc import *\n"
   ]
  },
  {
   "cell_type": "code",
   "execution_count": null,
   "metadata": {},
   "outputs": [],
   "source": [
    "#exporti\n",
    "\n",
    "from pathlib import Path\n",
    "from pprint import pprint\n",
    "from dataclasses import dataclass, astuple, field\n",
    "from datetime import datetime\n",
    "from typing import *\n",
    "from fastcore import test as ft\n",
    "\n",
    "import pandas as pd\n",
    "import numpy as np\n",
    "\n",
    "import sc2reader\n",
    "\n",
    "from sc_training.ingest.handle_tracker_event import *"
   ]
  },
  {
   "cell_type": "markdown",
   "metadata": {},
   "source": [
    "# Section 1.3 - Parsing Macroeconomic Indicators"
   ]
  },
  {
   "cell_type": "markdown",
   "metadata": {},
   "source": [
    "## Introduction\n",
    "\n",
    "In this chapter, I explore how to use a `Replay`'s `PlayerStatsEvent` data to infer a player's macroeconomic performance indicators in a match. Based on this indicators I export the module `macro_econ_parser`, which exports functions that facilitate the rapid extraction of thsi indicators from a `Replay`.\n",
    "\n",
    "### Exportable Members\n",
    "\n",
    "#### Helper Fucntions\n",
    "- `gen_interval_sub_dfs`\n",
    "- `list_attr_interval_values`\n",
    "\n",
    "#### Primary function\n",
    "- `get_player_macro_econ_stats`\n",
    "\n",
    "\n",
    "## PlayerStatsEvents\n",
    "\n",
    "Of the different types of `TrackerEvents` (see <<Chapter 2 - Handling Tracker Events>>), `PlayerStatsEvents` contain several pieces of information I can use as the players' macroeconomic performance indicators in a match.\n",
    "\n",
    "In each `Replay`, StarCraft II registers a `PlayerStatsEvent` for each player every ten seconds, regardless of the player's presence in the match. In other words, if a player leaves a game without terminating it, the `Replay` still records`PlayerStatsEvents` for that player up until the end of the match.\n",
    "\n",
    "Additionally, the game generates a `PlayerStatEvent` when the game starts, each time a player leaves (i.e., is defeated or surrenders) and when the match ends.\n",
    "\n",
    "> Note: In 1v1 games, the above behaviour can cause the losing player to have two events generated at the end of the game; one for leaving and one for the end of the game [(Kim, 2015, p. 24)](https://sc2reader.readthedocs.io/en/latest/events/tracker.html).\n",
    "\n",
    "In this section, I examine how to handle this events. The example follows the analysis of the replay I loaded in the following code."
   ]
  },
  {
   "cell_type": "code",
   "execution_count": null,
   "metadata": {},
   "outputs": [],
   "source": [
    "# This code loads a sample replay and extracts its tracker events.\n",
    "rps_path = Path(\"./test_replays\")\n",
    "game_path = str(rps_path/\"Jagannatha LE.SC2Replay\")\n",
    "single_replay = sc2reader.load_replay(game_path)\n",
    "single_replay\n",
    "\n",
    "match_events = [event for event in single_replay.events]\n",
    "tracker_e = [event for event in single_replay.events \n",
    "            if isinstance(event, sc2reader.events.tracker.TrackerEvent)]\n"
   ]
  },
  {
   "cell_type": "markdown",
   "metadata": {},
   "source": [
    "> Tip: The sample match lasted 590 seconds. Hence, there should be 59 `PlayerStatEvent`s per player, plus two or three for start and end events. However, below I show that there are 85 such events instead of the 59 or 60 there should be. In <<Chapter 2 - Handling Tracker Events>>, I discuss this discrepancy in and how I address it with the `calc_realtime_index` function. Meanwhile, in the following code, I will demonstrate how I use this function in the specific case of `PlayerStatsEvents`."
   ]
  },
  {
   "cell_type": "code",
   "execution_count": null,
   "metadata": {},
   "outputs": [
    {
     "name": "stdout",
     "output_type": "stream",
     "text": [
      "Game length in seconds:        590\n",
      "Game frames per second:       16.0\n",
      "Total frames in the match:  9440.0\n",
      "Number of PlayerStatsEvents for player 1: 85\n"
     ]
    }
   ],
   "source": [
    "# Print general game duration descriptors.\n",
    "print(f'{\"Game length in seconds:\":<27}',\n",
    "    f'{single_replay.game_length.seconds:>6}')\n",
    "print(f'{\"Game frames per second:\":<27}',\n",
    "    f'{single_replay.game_fps:>6}')\n",
    "print(f'{\"Total frames in the match:\":<27}',\n",
    "    f'{single_replay.game_length.seconds * single_replay.game_fps:>6}')\n",
    "\n",
    "p_one_state = [event for event in tracker_e \n",
    "               if isinstance(event, sc2reader.events.tracker.PlayerStatsEvent) \n",
    "               and event.pid == 1]\n",
    "print(f'Number of PlayerStatsEvents for player 1: {len(p_one_state)}')"
   ]
  },
  {
   "cell_type": "markdown",
   "metadata": {},
   "source": [
    "Similarly, looking at the seconds and frame count registered in the last event, it is clear that they do not match the duration of the game (590 seconds, 9440 frames)."
   ]
  },
  {
   "cell_type": "code",
   "execution_count": null,
   "metadata": {},
   "outputs": [
    {
     "name": "stdout",
     "output_type": "stream",
     "text": [
      "Second recorded in the last event:  826\n",
      "Frame recorded in the last event:  13224\n"
     ]
    }
   ],
   "source": [
    "print(f'Second recorded in the last event: ', \n",
    "    f'{p_one_state[len(p_one_state)-1].second}')\n",
    "\n",
    "print(f'Frame recorded in the last event: ', \n",
    "    f'{p_one_state[len(p_one_state)-1].frame}')"
   ]
  },
  {
   "cell_type": "markdown",
   "metadata": {},
   "source": [
    "Plotting the graph for the army value in two different ways, I can demonstrate how `calc_realtime_index` can correct the time indexing discrepancy. I use the army value given that it is usually used as one of the most common measures of a player's performance. Meanwhile, comparing these graphs shows how this solution changes the information stored in these events.\n",
    "\n",
    "First, I plot this value with the time registered in the events as the graph's horizontal axis."
   ]
  },
  {
   "cell_type": "code",
   "execution_count": null,
   "metadata": {},
   "outputs": [],
   "source": [
    "pd.set_option('display.precision', 2)\n",
    "\n",
    "# Calculate the army value (a_value), adding the amounts of minerals and\n",
    "# vespene spent in the player's active army at each point during the game.\n",
    "a_mineral_value = np.array([e.minerals_used_active_forces \n",
    "                        for e in  p_one_state])\n",
    "a_vespene_value = np.array([e.vespene_used_active_forces \n",
    "                        for e in  p_one_state])\n",
    "a_value = a_mineral_value + a_vespene_value\n",
    "\n",
    "# Generate a DataFrame of the army value at each point in the game using \n",
    "# the seconds as an index.\n",
    "pstats_noprocess = pd.DataFrame({'second': [e.second for e in p_one_state],\n",
    "                             'army_value': a_value})\n",
    "pstats_noprocess.set_index('second', inplace=True)\n",
    "#print(pstats_noprocess.tail(10).to_markdown())"
   ]
  },
  {
   "cell_type": "markdown",
   "metadata": {},
   "source": [
    "The following table shows the last ten army_value records indexed according to the seconds registered in the `PlayerStatsEvent`.\n",
    "\n",
    "|   second |   army_value |\n",
    "|---------:|----------:|\n",
    "|      750 |         0 |\n",
    "|      760 |         0 |\n",
    "|      770 |       350 |\n",
    "|      780 |         0 |\n",
    "|      790 |         0 |\n",
    "|      800 |         0 |\n",
    "|      810 |       350 |\n",
    "|      820 |         0 |\n",
    "|      826 |         0 |\n",
    "|      826 |         0 |"
   ]
  },
  {
   "cell_type": "code",
   "execution_count": null,
   "metadata": {},
   "outputs": [
    {
     "data": {
      "text/plain": [
       "<AxesSubplot:xlabel='Time Index Recorded in Events', ylabel='Army Value'>"
      ]
     },
     "execution_count": null,
     "metadata": {},
     "output_type": "execute_result"
    },
    {
     "data": {
      "image/png": "[encoded data removed]",
      "text/plain": [
       "<Figure size 720x360 with 1 Axes>"
      ]
     },
     "metadata": {
      "needs_background": "light"
     },
     "output_type": "display_data"
    }
   ],
   "source": [
    "x_values = [x for x in pstats_noprocess.index if x % 50 == 0]\n",
    "pstats_noprocess['army_value'].plot(figsize= (10,5), xticks= x_values,\n",
    "                                    xlabel='Time Index Recorded in Events',\n",
    "                                    ylabel='Army Value')"
   ]
  },
  {
   "cell_type": "markdown",
   "metadata": {},
   "source": [
    "Next, I recalculate the index of the DataFrame based on the actual duration of the match."
   ]
  },
  {
   "cell_type": "code",
   "execution_count": null,
   "metadata": {},
   "outputs": [],
   "source": [
    "# Add a column with the new second count to the dataFrame.\n",
    "# Establish the new second count as index.\n",
    "pstats_change_seconds = pstats_noprocess.reset_index()\n",
    "pstats_change_seconds['real_time'] = [\n",
    "                                calc_realtime_index(event.second, \n",
    "                                                    single_replay)\n",
    "                                for event in p_one_state]\n",
    "\n",
    "pstats_change_seconds.set_index('real_time', inplace=True)\n",
    "\n",
    "# print(pstats_change_seconds.tail(10).to_markdown())"
   ]
  },
  {
   "cell_type": "markdown",
   "metadata": {},
   "source": [
    "The following table shows the difference in the last ten army_value records between the original time index recorded in the `PlayerStatsEvent` and the time indexes calculated according to replay's length.\n",
    "\n",
    "|   real_time |   second |   army_value |\n",
    "|------------:|---------:|-------------:|\n",
    "|     535.714 |      750 |            0 |\n",
    "|     542.857 |      760 |            0 |\n",
    "|     550     |      770 |          350 |\n",
    "|     557.143 |      780 |            0 |\n",
    "|     564.286 |      790 |            0 |\n",
    "|     571.429 |      800 |            0 |\n",
    "|     578.571 |      810 |          350 |\n",
    "|     585.714 |      820 |            0 |\n",
    "|     590     |      826 |            0 |\n",
    "|     590     |      826 |            0 |"
   ]
  },
  {
   "cell_type": "markdown",
   "metadata": {},
   "source": [
    "While the difference in the index is notable, note that the form of the graph remains the same."
   ]
  },
  {
   "cell_type": "code",
   "execution_count": null,
   "metadata": {},
   "outputs": [
    {
     "data": {
      "text/plain": [
       "<AxesSubplot:xlabel='Real-time Index', ylabel='Army Value'>"
      ]
     },
     "execution_count": null,
     "metadata": {},
     "output_type": "execute_result"
    },
    {
     "data": {
      "image/png": "[encoded data removed]",
      "text/plain": [
       "<Figure size 720x360 with 1 Axes>"
      ]
     },
     "metadata": {
      "needs_background": "light"
     },
     "output_type": "display_data"
    }
   ],
   "source": [
    "# Create list of values for the xticks on the plot.\n",
    "real_x_ticks = np.arange(0,590,50)\n",
    "\n",
    "# Create the plot with the new time index\n",
    "pstats_change_seconds['army_value'].plot(figsize= (10,5), \n",
    "                                        xticks= real_x_ticks,\n",
    "                                        xlabel='Real-time Index',\n",
    "                                        ylabel='Army Value')"
   ]
  },
  {
   "cell_type": "markdown",
   "metadata": {},
   "source": [
    "Since the time index is evenly spaced in both cases, there is no change to the curve. However, the timing of the events is different, which one can see using in the graph bellow, where I use the same x_axis from the second graph with the army_values indexed by the original time index."
   ]
  },
  {
   "cell_type": "code",
   "execution_count": null,
   "metadata": {},
   "outputs": [
    {
     "data": {
      "text/plain": [
       "<AxesSubplot:xlabel='Real-time Index', ylabel='Army Value'>"
      ]
     },
     "execution_count": null,
     "metadata": {},
     "output_type": "execute_result"
    },
    {
     "data": {
      "image/png": "[encoded data removed]",
      "text/plain": [
       "<Figure size 720x360 with 1 Axes>"
      ]
     },
     "metadata": {
      "needs_background": "light"
     },
     "output_type": "display_data"
    }
   ],
   "source": [
    "pstats_noprocess['army_value'].plot(figsize= (10,5), \n",
    "                                    xticks= real_x_ticks,\n",
    "                                    xlabel='Real-time Index',\n",
    "                                    ylabel='Army Value')"
   ]
  },
  {
   "cell_type": "markdown",
   "metadata": {},
   "source": [
    "### Data in `PlayStatsEvent`\n",
    "\n",
    "Having examined how to manipulate `PlayerStatsEvent` objects, I can examine the type of data they store. In general, this type of objects store macro-economic data.\n",
    "\n",
    "Here is a list of their attributes and how they can be used to compose player stats.\n",
    "\n",
    "-  `minerals_used_active_forces` and `vespene_used_active_forces`: As I show in the example above, these indicators can be used to calculate the players' army value.\n",
    "-  `minerals_collection_rate`, `vespene_collection_rate`, `workers_active_count`: are important indicators about the rate of growth of the economy.\n",
    "- `minerals_current` and `vespene_current`: these attributes can be added and averaged over time to extract the average unspent resources. This information is critical because the game's macro strategy is built around growing an economy and spending resources. Thus, an unspent economy can signal missed opportunities.\n",
    "- `food_used` and `food_made`: these two attributes can be used to signal moments where the players' supply has been capped. Therefore the player is blocked, preventing players from training units.\n",
    "- Economy use and lost indicators divide the players' resources into:\n",
    "    - *used_in_progress*: resources that have been spent in elements (structures, units or research) under development.\n",
    "        - `minerals_used_in_progress`\n",
    "        - `vespene_used_in_progress`\n",
    "        - `resources_used_in_progress`\n",
    "    - *used_current*: resources invested in elements that are currently in play.\n",
    "        - `minerals_used_current`\n",
    "        - `vespene_used_current`\n",
    "        - `resources_used_current`\n",
    "    - *lost*: resources invested in elements that a player has lost (by killing or destruction) during the game.\n",
    "        - `minerals_lost`\n",
    "        - `vespene_lost`\n",
    "        - `resources_lost`\n",
    "    - *killed*: resources that an opponent had invested in elements that the player has killed.\n",
    "        -  `minerals_killed`\n",
    "        - `vespene_killed`\n",
    "        - `resources_killed`\n",
    "    - Additionally, each mineral and vespene resource attribute has three more associated attributes, providing more detail into the economy. These extended attributes break each indicator into army, economy and technology indicators (buildings, units and research). For example, the `minerals_used_in_progress` attribute has the following attributes that disaggregate it:\n",
    "        - `minerals_used_in_progress_army`\n",
    "        - `minerals_used_in_progress_economy`\n",
    "        - `minerals_used_in_progress_technology`"
   ]
  },
  {
   "cell_type": "markdown",
   "metadata": {},
   "source": [
    "### Helper Functions\n",
    "\n",
    "In this module, I define various helper functions that simplify the definition of the module's main exportable functions.\n",
    "\n",
    "> Note: For brevity, I only expand the definition of exported functions in this documentation. The implementation of the helper functions that are not exported from the modules can be consulted in the modules' development jupyter notebook or source code.\n",
    "\n",
    "- `get_pstatse` extracts a list of all the `PlayerStatsEvent` instances related to a player from a `Replay`.\n",
    "- `complete_pstatse_df` expands the initial `DataFrame` that can be extracted directly from the PlayerStatsEvents with several relevant features. I use this function in the `get_player_macro_econ_df` definition.\n",
    "\n",
    "- Some functions that allow for the functional computation of various indicators:\n",
    "    - `get_subdf_mean`\n",
    "    - `get_subdf_total`\n",
    "    - `calculate_spending_coeficient`\n",
    "\n",
    "- `get_player_macro_econ_df` extracts all significant indicators from the `PlayerStatsEvents`, and compiles them into a `pandas.DataFrame`. This `DataFrame` expands the information in these events with several columns. Chiefly, the data frame includes a `real_time`column that allows for the correct indexing of the events based on the match's duration.\n"
   ]
  },
  {
   "cell_type": "code",
   "execution_count": null,
   "metadata": {},
   "outputs": [],
   "source": [
    "#exporti\n",
    "\n",
    "# The Following are the module's helper functions\n",
    "\n",
    "def get_pstatse(rpl: sc2reader.resources.Replay,\n",
    "                current_pid: int) \\\n",
    "                -> list[sc2reader.events.tracker.PlayerStatsEvent]:\n",
    "    \"\"\"Extracts a list of all the `PlayerStatsEvent` instances related to\n",
    "    a player from a replay.\n",
    "\n",
    "    *Args*\n",
    "        - rpl (sc2reader.resources.Replay)\n",
    "            The replay that contains the information.\n",
    "        - current_pid (int):\n",
    "            The player id of the player who's events are being extracted.\n",
    "\n",
    "    *Retruns*\n",
    "        - lis[PlayerStatsEvent]\n",
    "            List of all the `PlayerStatsEvent` instances of a player in a\n",
    "            replay.\n",
    "    \"\"\"\n",
    "\n",
    "    return [event for event in rpl.events\n",
    "            if isinstance(event, sc2reader.events.tracker.PlayerStatsEvent)\n",
    "            and event.pid == current_pid]"
   ]
  },
  {
   "cell_type": "code",
   "execution_count": null,
   "metadata": {},
   "outputs": [],
   "source": [
    "#exporti\n",
    "\n",
    "def complete_pstatse_df(rpl: sc2reader.resources.Replay,\n",
    "                        df: pd.DataFrame) -> pd.DataFrame:\n",
    "    \"\"\"Expands the initial DataFrame that can be extracted directly from\n",
    "    the PlayerStatsEvents with several relevant features.\n",
    "\n",
    "    This function uses the replay data to compose several features time\n",
    "    series that can facilitate the extraction of macroeconomic stats later.\n",
    "    The function adds the following columns to the macroeconomic stats\n",
    "    DataFrame extracted from the PlayerStatsEvents: real_time (realtime\n",
    "    indexes that match the replay duration), unspent_rsrc,\n",
    "    rsrc_collection_rate.\n",
    "\n",
    "    *Args*\n",
    "        - rpl (sc2reader.resources.Replay)\n",
    "            Working replay.\n",
    "        - df (pd.DataFrame)\n",
    "            DataFrame containing the data on the main macroeconomic\n",
    "            indicators recorded in the Replay's the PlayerStatsEvents.\n",
    "\n",
    "    *Returns*\n",
    "        - pd.DataFrame\n",
    "            Expanded DataFrame that includes all relevant data about a\n",
    "            replay's macroeconomic indicators.\n",
    "\n",
    "    \"\"\"\n",
    "    # Eliminate the record of the loser record if present.\n",
    "    if (df.iloc[-1] == df.iloc[-2]).all():\n",
    "        df_no_loss_record = df.drop([len(df)-1])\n",
    "    else:\n",
    "        df_no_loss_record = df.copy()\n",
    "\n",
    "    # Get the last recorded time in the dataframe\n",
    "    last_time_record = df_no_loss_record.iloc[-1].second\n",
    "\n",
    "    # Calculate the values for the real time column\n",
    "    real_time_indexes = [calc_realtime_index(rec_time_ind, rpl)\n",
    "                         for rec_time_ind in df_no_loss_record.second]\n",
    "\n",
    "    # Add the real_time indexes column to the data frame\n",
    "    df_no_loss_record.insert(0,'real_time', real_time_indexes)\n",
    "\n",
    "    # Add columns for extra features\n",
    "    df_no_loss_record.insert(4,'unspent_rsrc',\n",
    "                            (df_no_loss_record.minerals_current \n",
    "                            + df_no_loss_record.vespene_current))\n",
    "    df_no_loss_record.insert(7,'army_value',\n",
    "                            (df_no_loss_record.minerals_used_active_forces \n",
    "                            +df_no_loss_record.vespene_used_active_forces))\n",
    "    df_no_loss_record.insert(10,'rsrc_collection_rate',\n",
    "                            (df_no_loss_record.minerals_collection_rate \n",
    "                            + df_no_loss_record.vespene_collection_rate))\n",
    "\n",
    "    supply_capped_column = np.where(df_no_loss_record['food_made'] <=\n",
    "                                    df_no_loss_record['food_used'],\n",
    "                                    True, False)\n",
    "                                    \n",
    "    df_no_loss_record.insert(26, 'supply_capped', supply_capped_column)\n",
    "    return df_no_loss_record"
   ]
  },
  {
   "cell_type": "code",
   "execution_count": null,
   "metadata": {},
   "outputs": [],
   "source": [
    "#exporti\n",
    "# Functions for specific indicators\n",
    "def get_subdf_mean(subdf: pd.DataFrame) -> float:\n",
    "    \"\"\"Wraper for the pd.DataFrame.mean() function.\n",
    "\n",
    "    *Args*\n",
    "        -subdf (pd.DataFrame)\n",
    "               This is the DatraFrame whos mean will be evaluated.\n",
    "\n",
    "    *Returns*\n",
    "        - float\n",
    "            Mean value of the DataFrame.\n",
    "    \"\"\"\n",
    "    return subdf.mean()\n",
    "\n",
    "def get_subdf_total(subdf: pd.DataFrame) -> float:\n",
    "    \"\"\"Wraper for the pd.DataFrame.mean() function.\n",
    "\n",
    "    *Args*\n",
    "        -subdf (pd.DataFrame)\n",
    "               This is the DatraFrame whos mean will be evaluated.\n",
    "\n",
    "    *Returns*\n",
    "        - float\n",
    "            Total value of a particular attribute up to a certain point of\n",
    "            the game.\n",
    "    \"\"\"\n",
    "    return subdf.iloc[len(subdf)-1]\n",
    "\n",
    "def get_cappedTime(subdf:pd.DataFrame) -> float:\n",
    "    lapse_start = 0\n",
    "    capped_lapses = []\n",
    "\n",
    "    # Verify row by row if at the time the supply was capped.\n",
    "    # Add a time lapse to the capped_lapses list every time concludes.\n",
    "    for _, row in subdf.iterrows():\n",
    "        if row['supply_capped']:\n",
    "            if not lapse_start:\n",
    "                lapse_start = row['real_time']\n",
    "        else:\n",
    "            if lapse_start:\n",
    "                capped_lapses.append(row['real_time'] - lapse_start)\n",
    "                lapse_start = 0\n",
    "\n",
    "    # Verify if the interval finished capped. If so, account\n",
    "    # for the lapse.\n",
    "    if lapse_start:\n",
    "\n",
    "        last_event_length = (subdf.iloc[-1]['real_time']\n",
    "                             - subdf.iloc[-2]['real_time'])\n",
    "        capped_lapses.append(subdf.iloc[-1]['real_time']\n",
    "                             - lapse_start + last_event_length)\n",
    "\n",
    "    return sum(capped_lapses)\n",
    "\n",
    "\n",
    "def calculate_spending_coeficient(unspent_rsrc: float,\n",
    "                                  total_rates: float) -> float:\n",
    "    if unspent_rsrc and total_rates:\n",
    "        return (35*((0.00137*total_rates) - np.log(unspent_rsrc)) + 240)\n",
    "    else:\n",
    "        return None"
   ]
  },
  {
   "cell_type": "code",
   "execution_count": null,
   "metadata": {},
   "outputs": [],
   "source": [
    "#exporti\n",
    "\n",
    "def get_player_macro_econ_df(rpl: sc2reader.resources.Replay,\n",
    "                             pid: int) -> pd.DataFrame:\n",
    "    \"\"\"This function organises the records of a player's major\n",
    "    macroeconomic performance indicators.\n",
    "\n",
    "    The function uses a player's PlayerStatsEvents contained in a Replay\n",
    "    object to compose a DataFrame. In the DataFrame, each column points to\n",
    "    a particular indicator. Each row points to the records of all\n",
    "    indicators at a specific moment during the game.\n",
    "\n",
    "    *Arguments*\n",
    "        - rpl (sc2reader.resources.Replay)\n",
    "                Replay object generated with sc2reader containing a match's\n",
    "                data.\n",
    "        - pid (int)\n",
    "                A player's id number distinguishes them from the other\n",
    "                players in a match. It can be extracted from a Participant\n",
    "                object through the pid attribute.\n",
    "\n",
    "    *Returns*\n",
    "        - pd.DataFrame\n",
    "            This DataFrame contains all the time series that illustrate the\n",
    "            changes of each attribute during a match. Each column alludes\n",
    "            to an attribute, each row to a moment during the match.\n",
    "    \"\"\"\n",
    "\n",
    "    columns_names =[\n",
    "    'second',\n",
    "    'minerals_current',\n",
    "    'vespene_current',\n",
    "    'minerals_used_active_forces',\n",
    "    'vespene_used_active_forces',\n",
    "    'minerals_collection_rate',\n",
    "    'vespene_collection_rate',\n",
    "    'workers_active_count',\n",
    "    'minerals_used_in_progress',\n",
    "    'vespene_used_in_progress',\n",
    "    'resources_used_in_progress',\n",
    "    'minerals_used_current',\n",
    "    'vespene_used_current',\n",
    "    'resources_used_current',\n",
    "    'minerals_lost',\n",
    "    'vespene_lost',\n",
    "    'resources_lost',\n",
    "    'minerals_killed',\n",
    "    'vespene_killed',\n",
    "    'resources_killed',\n",
    "    'food_used',\n",
    "    'food_made'\n",
    "    ]\n",
    "\n",
    "    # Generate a DataFrame with the columns listed above\n",
    "    pstatse_list = get_pstatse(rpl, pid)\n",
    "    pstatse_dicts_list = [event.__dict__ for event in pstatse_list]\n",
    "    pstatse_df = pd.DataFrame(pstatse_dicts_list, columns= columns_names)\n",
    "\n",
    "    # Complete the DataFrame with the real_time, unspent_rsrc columns and\n",
    "    # army_value.\n",
    "    # Also, eliminate possible duplicate last record.\n",
    "    return complete_pstatse_df(rpl, pstatse_df)"
   ]
  },
  {
   "cell_type": "markdown",
   "metadata": {},
   "source": [
    "The `get_player_macro_econ_df` function organises a player's `PlayerStatsEvents` into a `DataFrame` where the columns represent each indicators' values. In said  `DataFrame` the rows represent the player's events.\n",
    "\n",
    "The code below shows the recorded data for the last event (i.e. row) of the DataFrame extracted from a sample replay using this function."
   ]
  },
  {
   "cell_type": "code",
   "execution_count": null,
   "metadata": {},
   "outputs": [
    {
     "name": "stdout",
     "output_type": "stream",
     "text": [
      "real_time                      590.0\n",
      "second                           826\n",
      "minerals_current                2750\n",
      "vespene_current                  996\n",
      "unspent_rsrc                    3746\n",
      "minerals_used_active_forces        0\n",
      "vespene_used_active_forces         0\n",
      "army_value                         0\n",
      "minerals_collection_rate        1455\n",
      "vespene_collection_rate          447\n",
      "rsrc_collection_rate            1902\n",
      "workers_active_count              41\n",
      "minerals_used_in_progress          0\n",
      "vespene_used_in_progress           0\n",
      "resources_used_in_progress         0\n",
      "minerals_used_current           3875\n",
      "vespene_used_current               0\n",
      "resources_used_current          3875\n",
      "minerals_lost                   5000\n",
      "vespene_lost                    1250\n",
      "resources_lost                  6250\n",
      "minerals_killed                  900\n",
      "vespene_killed                   125\n",
      "resources_killed                1025\n",
      "food_used                       41.0\n",
      "food_made                       39.0\n",
      "supply_capped                   True\n",
      "Name: 83, dtype: object\n"
     ]
    }
   ],
   "source": [
    "test_df = get_player_macro_econ_df(single_replay, 1)\n",
    "print(test_df.iloc[-1])"
   ]
  },
  {
   "cell_type": "markdown",
   "metadata": {},
   "source": [
    "## Exportable Fucntions\n",
    "\n",
    "The following two functions facilitate the division of information so that stats can be calculated based on pandas.DataFrames for the whole match and the early, mid and late intervals of the game.\n",
    "\n",
    "- `gen_interval_sub_dfs`\n",
    "- `list_attr_interval_values`\n",
    "\n",
    "Meanwhile, is the main function exported by this module.\n",
    "\n",
    "- `get_player_macro_econ_stats`"
   ]
  },
  {
   "cell_type": "code",
   "execution_count": null,
   "metadata": {},
   "outputs": [],
   "source": [
    "#export\n",
    "\n",
    "def gen_interval_sub_dfs(rpl_length: float,\n",
    "                        df: pd.DataFrame, column: str) -> pd.DataFrame:\n",
    "    \"\"\"Extract a set of DataFrames containing the records for a particular\n",
    "    field of the PlayerStatsEvent.\n",
    "\n",
    "    The function extracts the information of a particular column of the df\n",
    "    DataFrame. It returns a list of four DataFrames for the whole, early,\n",
    "    mid and late game intervals.\n",
    "\n",
    "    *Args*\n",
    "        - df (pd.DataFrame)\n",
    "            DataFrame containing all PlayerStatsEvent instances of a\n",
    "            replay. The DataFrame must have a 'real_time' column that \n",
    "            indexes the events in the data frame in time in a manner that\n",
    "            consistent with the replays length.\n",
    "        - rpl_length (float)\n",
    "            Length of a match in seconds.\n",
    "        - column (str)\n",
    "            Name of the column that should be extracted in the DataFrames\n",
    "\n",
    "    *Returns*\n",
    "        - list[DataFrame]\n",
    "            List of the DataFrames, containing the column information for\n",
    "            the whole, early, mid and late games in that order.\n",
    "    \"\"\"\n",
    "    process_df = df.copy()\n",
    "    early_mark = INTERVALS_BASE\n",
    "    mid_mark = early_mark * 2\n",
    "\n",
    "\n",
    "    if rpl_length > mid_mark:\n",
    "        time_intervals = [(0, rpl_length), (0, early_mark),\n",
    "                         (early_mark, mid_mark), (mid_mark, rpl_length)]\n",
    "\n",
    "    elif early_mark < rpl_length <= mid_mark:\n",
    "        time_intervals = [(0, rpl_length), (0, early_mark),\n",
    "                         (early_mark, rpl_length), None]\n",
    "\n",
    "    elif 0 < rpl_length <= early_mark:\n",
    "        time_intervals = [(0, rpl_length), (0, rpl_length), None, None]\n",
    "\n",
    "\n",
    "    sub_dfs = [process_df[column].loc[process_df.real_time.between(*interval)]\n",
    "               if interval != None else pd.DataFrame()\n",
    "               for interval in time_intervals]\n",
    "\n",
    "    return sub_dfs"
   ]
  },
  {
   "cell_type": "code",
   "execution_count": null,
   "metadata": {},
   "outputs": [],
   "source": [
    "#export\n",
    "\n",
    "def list_attr_interval_values(df: pd.DataFrame,\n",
    "                            func: Callable[[pd.DataFrame], Any],\n",
    "                            df_attribute: str, rpl_length: float) -> list[Any]:\n",
    "    \"\"\"Lists the result of a function it receives applied to the values of\n",
    "    various listed DataFrames.\n",
    "\n",
    "    This function receives a DataFrame, splits it into sub-DataFrames based\n",
    "    on various game intervals, and then applies a function to those\n",
    "    intervals listing the results.\n",
    "\n",
    "    *Args*\n",
    "        - df (pandas.DataFrame)\n",
    "            A DataFrame of various attributes of a replay, including those\n",
    "            that must be processed.\n",
    "        - func (callable)\n",
    "            A function that will be applied to each interval\n",
    "        - df_attribute (str)\n",
    "            Name of the DataFrame's attribute (i.e. column) to which the\n",
    "            function must be applied.\n",
    "        - rpl_length (float)\n",
    "            The duration of the Replay from which the DataFrame is\n",
    "            constructed in seconds.\n",
    "\n",
    "    *Returns*\n",
    "        -  List of the return values of the function func applied to the\n",
    "        various game intervals.\n",
    "\n",
    "    \"\"\"\n",
    "    return [func(subdf) if not subdf.empty else None\n",
    "            for subdf in gen_interval_sub_dfs(rpl_length, df, df_attribute)]"
   ]
  },
  {
   "cell_type": "code",
   "execution_count": null,
   "metadata": {},
   "outputs": [],
   "source": [
    "#export\n",
    "\n",
    "def get_player_macro_econ_stats(rpl: sc2reader.resources.Replay, \n",
    "                                pid: int)-> dict:\n",
    "    \"\"\"This function organises a player's major macroeconomic performance\n",
    "    indicatorsinto a dictionary.\n",
    "\n",
    "    The function uses a player's PlayerStatsEvents in a Replay object to\n",
    "    calculate the player's major economic performance indicators. These\n",
    "    indicators are calculated for the whole game, as well as for the early\n",
    "    (first 4 minutes), mid (between minutes 4 and 8) and\n",
    "    late games (paste minute 8).\n",
    "\n",
    "    *Arguments*\n",
    "        - rpl (sc2reader.resources.Replay)\n",
    "                Replay object generated with sc2reader containing a match's\n",
    "                data.\n",
    "        - pid (int)\n",
    "                A player's id number distinguishes them from the other\n",
    "                players in a match. It can be extracted from a Participant\n",
    "                object through the pid attribute.\n",
    "\n",
    "    *Returns*\n",
    "        - dict\n",
    "            This dictionary contains the values for a player's major\n",
    "            macroeconomic performance indicators. Each indicator is\n",
    "            calculated for the entire game and the early, mid and late\n",
    "            game intervals.\n",
    "    \"\"\"\n",
    "\n",
    "    replay_info = {'replay_name': rpl.filename,\n",
    "                'player_username': rpl.player[pid].name,\n",
    "                'player_id': pid}\n",
    "\n",
    "    rpl_length = rpl.length.seconds\n",
    "    pstatse_complete_df = get_player_macro_econ_df(rpl, pid)\n",
    "\n",
    "    # I use the following list of tuples to direct the generation of the\n",
    "    # macroeconomic indicators based on the comluns of the replay's df.\n",
    "    # Each tuple has three values:\n",
    "    #   - The name used as a key to store the value in the macroeconomic\n",
    "    #     stats dictionary returned by this function\n",
    "    #   - The name of the indicator's column in the replay's DataFrame\n",
    "    #   - The function that must be used to transform the values of the\n",
    "    #     latter column in the DataFrame into a single value stored with\n",
    "    #     the former key in the dictionary.\n",
    "\n",
    "    main_indicators_params = [\n",
    "                    ('unspent_minerals_avg', 'minerals_current',\n",
    "                     get_subdf_mean),\n",
    "                    ('unspent_vespene_avg', 'vespene_current',\n",
    "                     get_subdf_mean),\n",
    "                    ('unspent_resources_avg', 'unspent_rsrc',\n",
    "                     get_subdf_mean),\n",
    "                    ('active_workers_avg', 'workers_active_count',\n",
    "                     get_subdf_mean),\n",
    "                    ('mineral_collection_rate_avg',\n",
    "                     'minerals_collection_rate',\n",
    "                      get_subdf_mean),\n",
    "                    ('vespene_collection_rate_avg',\n",
    "                     'vespene_collection_rate',\n",
    "                     get_subdf_mean),\n",
    "                    ('resource_collection_rate_avg',\n",
    "                     'rsrc_collection_rate',\n",
    "                     get_subdf_mean),\n",
    "                    ('army_value_avg', 'army_value', get_subdf_mean),\n",
    "                    ('lost_minerals_totals', 'minerals_lost',\n",
    "                     get_subdf_total),\n",
    "                    ('lost_vespene_totals', 'vespene_lost',\n",
    "                     get_subdf_total),\n",
    "                    ('time_supply_capped', ['real_time', 'supply_capped'],\n",
    "                     get_cappedTime)\n",
    "                    ]\n",
    "\n",
    "    # Run the functions to build dict\n",
    "    indicator_groups = {k: list_attr_interval_values(pstatse_complete_df,\n",
    "                                                     func, attr,\n",
    "                                                     rpl_length)\n",
    "                        for (k, attr, func)\n",
    "                        in main_indicators_params}\n",
    "\n",
    "\n",
    "\n",
    "    # Add a column for the spending qs value. This is compute separately,\n",
    "    # because its values do not depend on the DataFrame, but in the\n",
    "    # indicators dictionaries.\n",
    "    indicator_groups['spending_qs'] = [\n",
    "                    calculate_spending_coeficient(unspent, col_rate)\n",
    "                    for unspent, col_rate\n",
    "                    in zip(indicator_groups['unspent_resources_avg'],\n",
    "                           indicator_groups['resource_collection_rate_avg'])\n",
    "                    ]\n",
    "\n",
    "    game_intervals = ['whole', 'early', 'mid', 'late']\n",
    "\n",
    "    attr_full_list = {f'{k}_{interval}':v[game_intervals.index(interval)]\n",
    "                      for k, v in indicator_groups.items()\n",
    "                      for interval in game_intervals}\n",
    "\n",
    "    replay_info.update(attr_full_list)\n",
    "\n",
    "    return replay_info"
   ]
  },
  {
   "cell_type": "markdown",
   "metadata": {},
   "source": [
    "The indicators extracted with this function include:\n",
    "\n",
    "- Average unspent minerals, vespene and minerals\n",
    "- Average Active Workers\n",
    "- Average mineral, vespene and resource collection rate\n",
    "- Average army value\n",
    "- Total minerals and vespene lost\n",
    "- Spending Quotient\n",
    "\n",
    "Note that the spending quotient is a performance measurement that the community has adopted to compare and evaluate a player's macroeconomic performance ([whatthefat, 2011](https://tl.net/forum/starcraft-2/266019-do-you-macro-like-a-pro); [Spending Quotient, 2020](https://liquipedia.net/starcraft2/Spending_quotient)).\n",
    "\n",
    "Moreover, I calculate each of these indicators for the entire match and the early (first 4 minutes), mid (minutes 4-8) and late game (past minute 8).\n",
    "\n",
    "The following are three sample results of this function used on a short, medium and long replays of the same player."
   ]
  },
  {
   "cell_type": "code",
   "execution_count": null,
   "metadata": {},
   "outputs": [
    {
     "name": "stdout",
     "output_type": "stream",
     "text": [
      "{'replay_name': 'test_replays\\\\Jagannatha LE.SC2Replay',\n",
      " 'player_username': 'HDEspino',\n",
      " 'player_id': 1,\n",
      " 'unspent_minerals_avg_whole': 607.2619047619048,\n",
      " 'unspent_minerals_avg_early': 348.0882352941176,\n",
      " 'unspent_minerals_avg_mid': 441.7647058823529,\n",
      " 'unspent_minerals_avg_late': 1509.6875,\n",
      " 'unspent_vespene_avg_whole': 197.04761904761904,\n",
      " 'unspent_vespene_avg_early': 35.470588235294116,\n",
      " 'unspent_vespene_avg_mid': 170.52941176470588,\n",
      " 'unspent_vespene_avg_late': 596.75,\n",
      " 'unspent_resources_avg_whole': 804.3095238095239,\n",
      " 'unspent_resources_avg_early': 383.55882352941177,\n",
      " 'unspent_resources_avg_mid': 612.2941176470588,\n",
      " 'unspent_resources_avg_late': 2106.4375,\n",
      " 'active_workers_avg_whole': 26.678571428571427,\n",
      " 'active_workers_avg_early': 16.5,\n",
      " 'active_workers_avg_mid': 30.941176470588236,\n",
      " 'active_workers_avg_late': 39.25,\n",
      " 'mineral_collection_rate_avg_whole': 1106.6785714285713,\n",
      " 'mineral_collection_rate_avg_early': 770.6764705882352,\n",
      " 'mineral_collection_rate_avg_mid': 1243.3529411764705,\n",
      " 'mineral_collection_rate_avg_late': 1530.25,\n",
      " 'vespene_collection_rate_avg_whole': 269.0952380952381,\n",
      " 'vespene_collection_rate_avg_early': 52.470588235294116,\n",
      " 'vespene_collection_rate_avg_mid': 408.44117647058823,\n",
      " 'vespene_collection_rate_avg_late': 433.3125,\n",
      " 'resource_collection_rate_avg_whole': 1375.7738095238096,\n",
      " 'resource_collection_rate_avg_early': 823.1470588235294,\n",
      " 'resource_collection_rate_avg_mid': 1651.7941176470588,\n",
      " 'resource_collection_rate_avg_late': 1963.5625,\n",
      " 'army_value_avg_whole': 436.01190476190476,\n",
      " 'army_value_avg_early': 0.0,\n",
      " 'army_value_avg_mid': 874.2647058823529,\n",
      " 'army_value_avg_late': 431.25,\n",
      " 'lost_minerals_totals_whole': 5000,\n",
      " 'lost_minerals_totals_early': 0,\n",
      " 'lost_minerals_totals_mid': 400,\n",
      " 'lost_minerals_totals_late': 5000,\n",
      " 'lost_vespene_totals_whole': 1250,\n",
      " 'lost_vespene_totals_early': 0,\n",
      " 'lost_vespene_totals_mid': 0,\n",
      " 'lost_vespene_totals_late': 1250,\n",
      " 'time_supply_capped_whole': 54.28571428571422,\n",
      " 'time_supply_capped_early': 0,\n",
      " 'time_supply_capped_mid': 42.85714285714295,\n",
      " 'time_supply_capped_late': 11.428571428571331,\n",
      " 'spending_qs_whole': 71.81890804321279,\n",
      " 'spending_qs_early': 71.23764664416228,\n",
      " 'spending_qs_mid': 94.60108164010262,\n",
      " 'spending_qs_late': 66.30645249314745}\n"
     ]
    }
   ],
   "source": [
    "pprint(get_player_macro_econ_stats(single_replay, 1), sort_dicts=False)"
   ]
  },
  {
   "cell_type": "code",
   "execution_count": null,
   "metadata": {},
   "outputs": [],
   "source": [
    "short_rpl = sc2reader.load_replay('./test_replays/Oxide LE (12).SC2replay')\n",
    "long_rpl = sc2reader.load_replay('./test_replays/Blackburn LE (2).SC2replay')"
   ]
  },
  {
   "cell_type": "code",
   "execution_count": null,
   "metadata": {},
   "outputs": [
    {
     "name": "stdout",
     "output_type": "stream",
     "text": [
      "{'replay_name': './test_replays/Oxide LE (12).SC2replay',\n",
      " 'player_username': 'HDEspino',\n",
      " 'player_id': 1,\n",
      " 'unspent_minerals_avg_whole': 163.9189189189189,\n",
      " 'unspent_minerals_avg_early': 155.0,\n",
      " 'unspent_minerals_avg_mid': 265.0,\n",
      " 'unspent_minerals_avg_late': None,\n",
      " 'unspent_vespene_avg_whole': 154.59459459459458,\n",
      " 'unspent_vespene_avg_early': 126.47058823529412,\n",
      " 'unspent_vespene_avg_mid': 473.3333333333333,\n",
      " 'unspent_vespene_avg_late': None,\n",
      " 'unspent_resources_avg_whole': 318.5135135135135,\n",
      " 'unspent_resources_avg_early': 281.47058823529414,\n",
      " 'unspent_resources_avg_mid': 738.3333333333334,\n",
      " 'unspent_resources_avg_late': None,\n",
      " 'active_workers_avg_whole': 19.054054054054053,\n",
      " 'active_workers_avg_early': 18.705882352941178,\n",
      " 'active_workers_avg_mid': 23.0,\n",
      " 'active_workers_avg_late': None,\n",
      " 'mineral_collection_rate_avg_whole': 697.5405405405405,\n",
      " 'mineral_collection_rate_avg_early': 693.2941176470588,\n",
      " 'mineral_collection_rate_avg_mid': 745.6666666666666,\n",
      " 'mineral_collection_rate_avg_late': None,\n",
      " 'vespene_collection_rate_avg_whole': 115.86486486486487,\n",
      " 'vespene_collection_rate_avg_early': 98.47058823529412,\n",
      " 'vespene_collection_rate_avg_mid': 313.0,\n",
      " 'vespene_collection_rate_avg_late': None,\n",
      " 'resource_collection_rate_avg_whole': 813.4054054054054,\n",
      " 'resource_collection_rate_avg_early': 791.7647058823529,\n",
      " 'resource_collection_rate_avg_mid': 1058.6666666666667,\n",
      " 'resource_collection_rate_avg_late': None,\n",
      " 'army_value_avg_whole': 54.054054054054056,\n",
      " 'army_value_avg_early': 44.11764705882353,\n",
      " 'army_value_avg_mid': 166.66666666666666,\n",
      " 'army_value_avg_late': None,\n",
      " 'lost_minerals_totals_whole': 650,\n",
      " 'lost_minerals_totals_early': 550,\n",
      " 'lost_minerals_totals_mid': 650,\n",
      " 'lost_minerals_totals_late': None,\n",
      " 'lost_vespene_totals_whole': 0,\n",
      " 'lost_vespene_totals_early': 0,\n",
      " 'lost_vespene_totals_mid': 0,\n",
      " 'lost_vespene_totals_late': None,\n",
      " 'time_supply_capped_whole': 57.04545454545456,\n",
      " 'time_supply_capped_early': 57.04545454545456,\n",
      " 'time_supply_capped_mid': 0,\n",
      " 'time_supply_capped_late': None,\n",
      " 'spending_qs_whole': 77.27451759377894,\n",
      " 'spending_qs_early': 80.56413905297947,\n",
      " 'spending_qs_mid': 59.60922788327724,\n",
      " 'spending_qs_late': None}\n"
     ]
    }
   ],
   "source": [
    "pprint(get_player_macro_econ_stats(short_rpl, 1), sort_dicts=False)"
   ]
  },
  {
   "cell_type": "code",
   "execution_count": null,
   "metadata": {},
   "outputs": [
    {
     "name": "stdout",
     "output_type": "stream",
     "text": [
      "{'replay_name': './test_replays/Blackburn LE (2).SC2replay',\n",
      " 'player_username': 'HDEspino',\n",
      " 'player_id': 2,\n",
      " 'unspent_minerals_avg_whole': 1435.680473372781,\n",
      " 'unspent_minerals_avg_early': 205.88235294117646,\n",
      " 'unspent_minerals_avg_mid': 688.9705882352941,\n",
      " 'unspent_minerals_avg_late': 2101.039603960396,\n",
      " 'unspent_vespene_avg_whole': 326.9585798816568,\n",
      " 'unspent_vespene_avg_early': 41.411764705882355,\n",
      " 'unspent_vespene_avg_mid': 275.2352941176471,\n",
      " 'unspent_vespene_avg_late': 440.4950495049505,\n",
      " 'unspent_resources_avg_whole': 1762.6390532544378,\n",
      " 'unspent_resources_avg_early': 247.2941176470588,\n",
      " 'unspent_resources_avg_mid': 964.2058823529412,\n",
      " 'unspent_resources_avg_late': 2541.5346534653463,\n",
      " 'active_workers_avg_whole': 33.142011834319526,\n",
      " 'active_workers_avg_early': 17.88235294117647,\n",
      " 'active_workers_avg_mid': 33.794117647058826,\n",
      " 'active_workers_avg_late': 38.05940594059406,\n",
      " 'mineral_collection_rate_avg_whole': 1121.3254437869823,\n",
      " 'mineral_collection_rate_avg_early': 801.1470588235294,\n",
      " 'mineral_collection_rate_avg_mid': 1241.7058823529412,\n",
      " 'mineral_collection_rate_avg_late': 1188.5841584158416,\n",
      " 'vespene_collection_rate_avg_whole': 456.6804733727811,\n",
      " 'vespene_collection_rate_avg_early': 107.70588235294117,\n",
      " 'vespene_collection_rate_avg_mid': 558.2352941176471,\n",
      " 'vespene_collection_rate_avg_late': 539.9702970297029,\n",
      " 'resource_collection_rate_avg_whole': 1578.0059171597634,\n",
      " 'resource_collection_rate_avg_early': 908.8529411764706,\n",
      " 'resource_collection_rate_avg_mid': 1799.9411764705883,\n",
      " 'resource_collection_rate_avg_late': 1728.5544554455446,\n",
      " 'army_value_avg_whole': 2233.579881656805,\n",
      " 'army_value_avg_early': 111.76470588235294,\n",
      " 'army_value_avg_mid': 1258.8235294117646,\n",
      " 'army_value_avg_late': 3275.990099009901,\n",
      " 'lost_minerals_totals_whole': 14450,\n",
      " 'lost_minerals_totals_early': 0,\n",
      " 'lost_minerals_totals_mid': 150,\n",
      " 'lost_minerals_totals_late': 14450,\n",
      " 'lost_vespene_totals_whole': 6700,\n",
      " 'lost_vespene_totals_early': 0,\n",
      " 'lost_vespene_totals_mid': 150,\n",
      " 'lost_vespene_totals_late': 6700,\n",
      " 'time_supply_capped_whole': 264.31723315444253,\n",
      " 'time_supply_capped_early': 21.431127012522364,\n",
      " 'time_supply_capped_mid': 42.86225402504476,\n",
      " 'time_supply_capped_late': 200.0238521168755,\n",
      " 'spending_qs_whole': 54.055523781485874,\n",
      " 'spending_qs_early': 90.70925495148984,\n",
      " 'spending_qs_mid': 85.81150991680738,\n",
      " 'spending_qs_late': 48.465868124269775}\n"
     ]
    }
   ],
   "source": [
    "pprint(get_player_macro_econ_stats(long_rpl, 2), sort_dicts=False)"
   ]
  },
  {
   "cell_type": "markdown",
   "metadata": {},
   "source": [
    "## References\n",
    "\n",
    "- Kim, G. (2015) 'sc2reader Documentation'. Available at: https://sc2reader.readthedocs.io/_/downloads/en/latest/pdf/.\n",
    "- Spending Quotient (2020) Liquipedia - The StarCraft II Encyclopedia. Available at: https://liquipedia.net/starcraft2/Spending_quotient (Accessed: 18 June 2021).\n",
    "- whatthefat (2011) Do you macro like a pro?, TL.net blog. Available at: https://tl.net/forum/starcraft-2/266019-do-you-macro-like-a-pro (Accessed: 18 June 2021).\n"
   ]
  },
  {
   "cell_type": "code",
   "execution_count": null,
   "metadata": {},
   "outputs": [
    {
     "name": "stdout",
     "output_type": "stream",
     "text": [
      "Converted 00_Comp_model.ipynb.\n",
      "Converted 01_01_ingest_process.ipynb.\n",
      "Converted 01_summarise_rpl.ipynb.\n",
      "Converted 02_handle_tracker_events.ipynb.\n",
      "Converted 03_macro_econ_parser.ipynb.\n",
      "Converted 04_build_parser.ipynb.\n",
      "Converted 05_handle_command_events.ipynb.\n",
      "Converted 06_selection_parser.ipynb.\n",
      "Converted index.ipynb.\n"
     ]
    }
   ],
   "source": [
    "#hide\n",
    "from nbdev.export import notebook2script\n",
    "notebook2script()"
   ]
  },
  {
   "cell_type": "code",
   "execution_count": null,
   "metadata": {},
   "outputs": [],
   "source": []
  }
 ],
 "metadata": {
  "kernelspec": {
   "display_name": "Python 3 (ipykernel)",
   "language": "python",
   "name": "python3"
  }
 },
 "nbformat": 4,
 "nbformat_minor": 2
}
