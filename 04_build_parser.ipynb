{
 "cells": [
  {
   "cell_type": "code",
   "execution_count": null,
   "metadata": {},
   "outputs": [],
   "source": [
    "#default_exp ingest.build_parser"
   ]
  },
  {
   "cell_type": "code",
   "execution_count": null,
   "metadata": {},
   "outputs": [],
   "source": [
    "#hide\r\n",
    "from nbdev.showdoc import *"
   ]
  },
  {
   "cell_type": "code",
   "execution_count": null,
   "metadata": {},
   "outputs": [],
   "source": [
    "#exporti\r\n",
    "\r\n",
    "# Import dependencies\r\n",
    "from pathlib import Path\r\n",
    "from pprint import pprint\r\n",
    "from dataclasses import dataclass, astuple, field\r\n",
    "from datetime import datetime\r\n",
    "from typing import *\r\n",
    "from fastcore import test as ft\r\n",
    "from itertools import zip_longest\r\n",
    "\r\n",
    "import pandas as pd\r\n",
    "import numpy as np\r\n",
    "import csv\r\n",
    "import json"
   ]
  },
  {
   "cell_type": "code",
   "execution_count": null,
   "metadata": {},
   "outputs": [],
   "source": [
    "#exporti\r\n",
    "\r\n",
    "import sc2reader\r\n",
    "from sc_training.ingest.handle_tracker_event import *\r\n",
    "from sc_training.ingest.macro_econ_parser import *"
   ]
  },
  {
   "cell_type": "markdown",
   "metadata": {},
   "source": [
    "# Section 1.4 - Parsing Build Orders"
   ]
  },
  {
   "cell_type": "markdown",
   "metadata": {},
   "source": [
    "## Introduction\r\n",
    "\r\n",
    "In this chapter, I review how to extract information on a player's build strategy. In accordance with this review I then  define the `build_parser` module. This module contains functions that developers can use to parse the players' build orders, and to inventory their army, base and technology upgrades.\r\n",
    "\r\n",
    "\r\n",
    "## Exportable Members\r\n",
    "- `count_composition`\r\n",
    "- `count_started`\r\n",
    "- `get_expan_times`\r\n",
    "- `get_expan_counts`\r\n",
    "- `list_player_upgrades`\r\n",
    "\r\n",
    "## Builds-orders\r\n",
    "\r\n",
    "A crucial part of how players execute a strategy is how they construct their bases and their armies. Currently, in the game, players can review the order in which the game participants build their first 40 elements once a match is over. These build-orders include buildings (built, upgraded, expanded), units (trained, mutated, warped, merged), and any tech researched.\r\n",
    "\r\n",
    "Since this package is meant to build player profiles based on the players' performance indicators, I need to find a way to capture the overall composition of the players' bases and armies. Moreover, afterwards, I must be able to generalise this composition data to build the players profiles.\r\n",
    "\r\n",
    "Initially, my first instinct was to store the build orders as a time series. I thought of recording a sequence of snapshots, evenly spaced over time, that marked the time and order in which each element entered the game. However, storing the build-orders as a time series is too detailed and is not suited to practical generalisation. Hence, I am opting to extract units, buildings and research compositions at four different game intervals, i.e. whole, early, mid, and late games. These intervals match the measures that I take for macroeconomic indicators in <<Chapter 3 - Parsing Macroeconomic Indicators>>.\r\n",
    "\r\n",
    "This section explores the factors I need to consider to define a set of functions that users can call to extract the player's elements compositions at the different game intervals and other related indicators."
   ]
  },
  {
   "cell_type": "markdown",
   "metadata": {},
   "source": [
    "### Listing a player's elements\n",
    "\n",
    "In any case, the first step to parse any indicators related to the build order is to obtain a list of the player's elements.\n",
    "\n",
    "In the following code, I use the `Player` object's `units` attribute to extract a list of all these elements owned by the player during the match. I also use a list of all the units I want to include in my analysis (i.e. `UNIT_NAMES`) to filter unwanted units. For example, I exclude Zerg larvae from my analysis because they are generated automatically by the game with little control from the player.\n",
    "\n",
    "> Note: In this example, I exclude some units that change their play-state during the game (e.g. burrowed troops). I exclude these units for the time being to focus on the game's basic unit types. Later, I expand on some considerations related to this stage changes that I need to account for in the module's `composition_df` helper function to generate an accurate unit count.\n",
    "\n",
    "Allow me to describe the code step by step to clarify the ideas behind this module. First, I will define multiple constant values that I will use through the module's development to filter various data characteristics. These constants store information from multiple data files saved in this project's data folder. \n",
    "\n",
    "The constants include:\n",
    "\n",
    "- `UNIT_NAMES`: list of names for all the player-controllable units (buildings or troops) in the game. This list only contains one name per unit and excludes the various states a unit can have. \n",
    "- `RACE_ARMIES`: list of controllable troops separated by race; excludes workers and structures.\n",
    "- `RACE_BUILDINGS`: list of controllable structures separated by race.\n",
    "- `RACE_UPGRADES`: list of tech updates that players can research during a match. The list excludes any default upgrades that players do not directly trigger. "
   ]
  },
  {
   "cell_type": "code",
   "execution_count": null,
   "metadata": {},
   "outputs": [
    {
     "data": {
      "text/plain": [
       "Path('c:/Users/david/Documents/phdcode/sc_training/sc_training/ingest/build_parser.py')"
      ]
     },
     "execution_count": null,
     "metadata": {},
     "output_type": "execute_result"
    }
   ],
   "source": [
    "import sc_training.ingest.build_parser as bp\r\n",
    "Path(bp.__file__)"
   ]
  },
  {
   "cell_type": "code",
   "execution_count": null,
   "metadata": {},
   "outputs": [],
   "source": [
    "#exporti\r\n",
    "\r\n",
    "# Load data files\r\n",
    "if __name__ == \"__main__\":\r\n",
    "    data_path = Path(Path.cwd()/'data')\r\n",
    "\r\n",
    "else:\r\n",
    "    data_path = (Path(Path(__file__)/'data')\r\n",
    "            if Path(Path(__file__)/'data').exists() \r\n",
    "            else Path(Path(__file__)/'../../../data'))\r\n",
    "\r\n",
    "with open(data_path/'unit_names.csv') as f:\r\n",
    "    file_reader = csv.reader(f)\r\n",
    "    UNIT_NAMES = next(file_reader)\r\n",
    "\r\n",
    "# with open(data_path/'changes_names.csv') as f:\r\n",
    "#     file_reader = csv.reader(f)\r\n",
    "#     change_names = next(file_reader)\r\n",
    "\r\n",
    "with open(data_path/'army_list.json') as f:\r\n",
    "    RACE_ARMIES = json.load(f)\r\n",
    "\r\n",
    "with open(data_path/'buildings_list.json') as f:\r\n",
    "    RACE_BUILDINGS = json.load(f)\r\n",
    "\r\n",
    "with open(data_path/'upgrades.json') as f:\r\n",
    "    RACE_UPGRADES = json.load(f)\r\n",
    "\r\n",
    "BASES = {'Protoss': ['nexus'],\r\n",
    "        'Zerg': ['hatchery', 'lair', 'hive'],\r\n",
    "        'Terran':['commandcenter']}"
   ]
  },
  {
   "cell_type": "markdown",
   "metadata": {},
   "source": [
    "After loading these data, I load multiple sample replays. In this case, I need to use a larger pool of test cases to ensure that I am considering all the different types of game units and build variations."
   ]
  },
  {
   "cell_type": "code",
   "execution_count": null,
   "metadata": {},
   "outputs": [],
   "source": [
    "# The Replays are stored in the following dir.\r\n",
    "rps_path = Path(\"./test_replays\")\r\n",
    "\r\n",
    "# single_replay is the base case I use to develop the functions \r\n",
    "# in this module.\r\n",
    "single_replay = sc2reader.load_replay(str(rps_path/\"Jagannatha LE.SC2Replay\"))\r\n",
    "\r\n",
    "# The following replays have various compositions of races, armies, \r\n",
    "# structures, tech updates and other game elements that allow me to test \r\n",
    "# and debug the module's functions.\r\n",
    "sing_zerg = sc2reader.load_replay(str(rps_path/\"Oxide LE (14).SC2Replay\"))\r\n",
    "sing_protoss= sc2reader.load_replay(str(rps_path/\"Oxide LE (13).SC2Replay\"))\r\n",
    "zustates = sc2reader.load_replay(str(rps_path/'zustates.SC2Replay'))\r\n",
    "tustates = sc2reader.load_replay(str(rps_path/'tustates.SC2Replay'))\r\n",
    "tfly = sc2reader.load_replay(str(rps_path/'terranfly.SC2Replay'))\r\n",
    "\r\n",
    "# I store some basic variables out of the test case replay to make the  \r\n",
    "# sample code more readable.\r\n",
    "match_events = [event for event in single_replay.events]\r\n",
    "rpl_duration = single_replay.length.seconds\r\n",
    "rpl_rec_duration = match_events[-1].second\r\n",
    "rpl_fps = single_replay.game_fps\r\n"
   ]
  },
  {
   "cell_type": "markdown",
   "metadata": {},
   "source": [
    "With this setup in place, I can proceed to extract a list of all the units owned by a player during the course of the game. \n",
    "\n",
    "> Note: In this first example, I concetrate on player 2 of the sing_zerg replay, because the initial unit list of zerg players has some particularities that I want to ilustrate straight away."
   ]
  },
  {
   "cell_type": "code",
   "execution_count": null,
   "metadata": {},
   "outputs": [
    {
     "name": "stdout",
     "output_type": "stream",
     "text": [
      "1   Name: Lair                            Start:     0 End:  None\n",
      "2   Name: Drone                           Start:     0 End:  5184\n",
      "3   Name: Drone                           Start:     0 End:  3530\n",
      "4   Name: Drone                           Start:     0 End:  2046\n",
      "5   Name: Drone                           Start:     0 End:  None\n",
      "6   Name: Drone                           Start:     0 End: 13011\n",
      "7   Name: Drone                           Start:     0 End:  2739\n",
      "8   Name: Drone                           Start:     0 End:  None\n",
      "9   Name: Drone                           Start:     0 End:  None\n",
      "10  Name: Drone                           Start:     0 End:  None\n",
      "11  Name: Drone                           Start:     0 End:  None\n",
      "12  Name: Drone                           Start:     0 End:  2226\n",
      "13  Name: Drone                           Start:     0 End:  4969\n",
      "14  Name: Overlord                        Start:     0 End:  None\n",
      "15  Name: Overlord                        Start:   594 End:  None\n",
      "16  Name: Drone                           Start:   675 End:  None\n",
      "17  Name: Drone                           Start:   678 End:  None\n",
      "18  Name: Drone                           Start:   976 End:  None\n",
      "19  Name: Drone                           Start:   987 End:  None\n",
      "20  Name: SpawningPool                    Start:  1186 End:  None\n"
     ]
    }
   ],
   "source": [
    "# Extract player 2's unit list\r\n",
    "p2_units = [u for u in sing_zerg.player[2].units \r\n",
    "            if u.name.lower() in UNIT_NAMES]\r\n",
    "\r\n",
    "# Extract and print a sample containing the first 20 units owned by the\r\n",
    "# player during the game for examination.\r\n",
    "sample_prints = [f'{ind+1:<3} Name: {u.name:<15} \\\r\n",
    "                Start: {u.started_at:>5.0f} End: {str(u.died_at):>5}' \r\n",
    "                for ind, u in enumerate(p2_units[:20])]\r\n",
    "\r\n",
    "for string in sample_prints:\r\n",
    "    print(string)"
   ]
  },
  {
   "cell_type": "markdown",
   "metadata": {},
   "source": [
    "The example above shows how each player's unit list begins with thirteen or fourteen starting units. For instance, players who play with Protoss or Terran start with thirteen units (one main base plus twelve workers). However, if they play with Zerg, they begin with fourteen units (one main base, twelve workers, and one overlord). Because the players do not build these elements, I do not count them as part of their build strategy.\n",
    "\n",
    "The following code extracts the unit lists for both players in the sample match, ignoring the starting units. In the examples, I print their first ten elements to show the difference from the previous list. Note that none of the elements has a starting time of 0."
   ]
  },
  {
   "cell_type": "code",
   "execution_count": null,
   "metadata": {},
   "outputs": [
    {
     "name": "stdout",
     "output_type": "stream",
     "text": [
      "1   Name: SCV            Start:   305 End:  None\n",
      "2   Name: SCV            Start:   576 End:  None\n",
      "3   Name: SCV            Start:   847 End:  None\n",
      "4   Name: SCV            Start:  1239 End:  None\n",
      "5   Name: Refinery       Start:  1367 End:  None\n",
      "6   Name: Refinery       Start:  1385 End:  None\n",
      "7   Name: Barracks       Start:  1416 End:  None\n",
      "8   Name: SCV            Start:  1580 End:  None\n",
      "9   Name: SCV            Start:  1851 End:  None\n",
      "10  Name: SCV            Start:  2122 End:  None\n"
     ]
    }
   ],
   "source": [
    "# Store player's race and a list of all their units.\r\n",
    "p1_race = sing_zerg.player[1].play_race\r\n",
    "p1_units = [u for u in sing_zerg.players[0].units \r\n",
    "            if u.name.lower() in UNIT_NAMES]\r\n",
    "\r\n",
    "\r\n",
    "# Extract a sub-list of all elements excludind the starting elements \r\n",
    "# according to the player's race.\r\n",
    "p1_units_no_inits = p1_units[(13 if p1_race != 'Zerg' else 14):]\r\n",
    "\r\n",
    "\r\n",
    "# Print the new list of elements to show they skip the starting elements.\r\n",
    "p1_unit_list_print = [\r\n",
    "        (f'{ind+1:<3} Name: {u.name:<15}' \\\r\n",
    "        + f'Start: {u.started_at:>5.0f} End: {str(u.died_at):>5}') \r\n",
    "        for ind, u in enumerate(p1_units_no_inits[:10])]\r\n",
    "\r\n",
    "for string in p1_unit_list_print:\r\n",
    "    print(string)"
   ]
  },
  {
   "cell_type": "code",
   "execution_count": null,
   "metadata": {},
   "outputs": [
    {
     "name": "stdout",
     "output_type": "stream",
     "text": [
      "1   Name: Overlord       Start:   594 End:  None\n",
      "2   Name: Drone          Start:   675 End:  None\n",
      "3   Name: Drone          Start:   678 End:  None\n",
      "4   Name: Drone          Start:   976 End:  None\n",
      "5   Name: Drone          Start:   987 End:  None\n",
      "6   Name: SpawningPool   Start:  1186 End:  None\n",
      "7   Name: Drone          Start:  1223 End:  None\n",
      "8   Name: Extractor      Start:  1566 End:  None\n",
      "9   Name: Drone          Start:  1675 End:  None\n",
      "10  Name: Drone          Start:  1878 End:  None\n"
     ]
    }
   ],
   "source": [
    "# This is the same code applied to a different player.\r\n",
    "# This second player is playing with Zerg. Hence, they have more\r\n",
    "# starting units.\r\n",
    "p2_race = sing_zerg.player[2].play_race\r\n",
    "p2_units_no_inits = p2_units[(13 if p2_race != 'Zerg' else 14):]\r\n",
    "\r\n",
    "p2_unit_list_print = [\r\n",
    "        (f'{ind+1:<3} Name: {u.name:<15}'\r\n",
    "        + f'Start: {u.started_at:>5.0f} End: {str(u.died_at):>5}') \r\n",
    "        for ind, u in enumerate(p2_units_no_inits[:10])]\r\n",
    "\r\n",
    "for string in p2_unit_list_print:\r\n",
    "    print(string)\r\n"
   ]
  },
  {
   "cell_type": "markdown",
   "metadata": {},
   "source": [
    "### Alternative Implementation with `UnitTrackerEvents`\n",
    "\n",
    "A different way to generate these lists is to use the `Replay's` `UnitBornEvent`, `UnitInitEvent`, `UnitDoneEvent` and `UnitTypeChangeEvent` instances. This second approach offers access to the unit's spawning time through the event's `second` attribute. However, it also means having to consolidate four discrete lists with overlapping data.\n",
    "\n",
    "In the code below, I collect the events that store information on player 2's unit-spawning for the same sample `Replay` used in the previous examples. I split this information into four lists, according to different types of `TrackerEvents`. With these lists, I can review some of their differences and similarities. This comparison shows the information developers could use to separate them if need be.\n"
   ]
  },
  {
   "cell_type": "code",
   "execution_count": null,
   "metadata": {},
   "outputs": [
    {
     "name": "stdout",
     "output_type": "stream",
     "text": [
      "Units owned during the match: 138\n",
      "UnitsBorn: 106 Init: 32 Done: 31 Change: 28\n"
     ]
    }
   ],
   "source": [
    "p1_uborn_e = [event for event in sing_zerg.events \r\n",
    "            if isinstance(event, sc2reader.events.tracker.UnitBornEvent) \r\n",
    "            and event.control_pid == 1\r\n",
    "            and event.unit.name.lower() in UNIT_NAMES]\r\n",
    "p1_uinit_e = [event for event in sing_zerg.events \r\n",
    "            if isinstance(event, sc2reader.events.tracker.UnitInitEvent) \r\n",
    "            and event.control_pid == 1\r\n",
    "            and event.unit.name.lower() in UNIT_NAMES]\r\n",
    "p1_udone_e = [event for event in sing_zerg.events \r\n",
    "            if isinstance(event, sc2reader.events.tracker.UnitDoneEvent) \r\n",
    "            and event.unit.owner.pid == 1\r\n",
    "            and event.unit.name.lower() in UNIT_NAMES]\r\n",
    "p1_uchange_e = [event for event in sing_zerg.events \r\n",
    "            if isinstance(event, sc2reader.events.tracker.UnitTypeChangeEvent) \r\n",
    "            and event.unit.owner.pid == 1\r\n",
    "            and event.unit.name.lower() in UNIT_NAMES]\r\n",
    "\r\n",
    "print(f'Units owned during the match: {len(p1_units)}')\r\n",
    "print(f'UnitsBorn: {len(p1_uborn_e)} Init: {len(p1_uinit_e)} \\\r\n",
    "Done: {len(p1_udone_e)} Change: {len(p1_uchange_e)}')\r\n"
   ]
  },
  {
   "cell_type": "markdown",
   "metadata": {},
   "source": [
    "Next, I will use various set operationsto illustrate the relation between the lists. For example, the following code shows that, at least in this case, the union of the units linked to the `Replay's` `UnitBornEvent` and `UnitInitEvent` is the same as the list of units linked directly to the player. "
   ]
  },
  {
   "cell_type": "code",
   "execution_count": null,
   "metadata": {},
   "outputs": [
    {
     "data": {
      "text/plain": [
       "True"
      ]
     },
     "execution_count": null,
     "metadata": {},
     "output_type": "execute_result"
    }
   ],
   "source": [
    "p1_u_names = [u.id for u in p1_units]\r\n",
    "p1_u_born = [u.unit.id for u in p1_uborn_e]\r\n",
    "p1_u_init = [u.unit.id for u in p1_uinit_e]\r\n",
    "\r\n",
    "set(p1_u_names) == (set(p1_u_born).union(set(p1_u_init)))"
   ]
  },
  {
   "cell_type": "markdown",
   "metadata": {},
   "source": [
    "Meanwhile, looking at the intersections between the lists, I can see some overlap between them. See the code below."
   ]
  },
  {
   "cell_type": "code",
   "execution_count": null,
   "metadata": {},
   "outputs": [
    {
     "name": "stdout",
     "output_type": "stream",
     "text": [
      "31 where initialised and done.\n",
      "1 was destructed before completion.\n"
     ]
    }
   ],
   "source": [
    "u_init_done_intersection = set([e.unit.id for e in p1_udone_e]) \\\r\n",
    "                           & set([e.unit.id for e in p1_uinit_e])\r\n",
    "\r\n",
    "print(f'{len(u_init_done_intersection)} where initialised and done.')\r\n",
    "\r\n",
    "u_init_done_diff = set([e.unit.id for e in p1_uinit_e]) \\\r\n",
    "                        - set([e.unit.id for e in p1_udone_e])\r\n",
    "\r\n",
    "print(f'{len(u_init_done_diff)} was destructed before completion.')\r\n"
   ]
  },
  {
   "cell_type": "code",
   "execution_count": null,
   "metadata": {},
   "outputs": [
    {
     "name": "stdout",
     "output_type": "stream",
     "text": [
      "1 changed during the game.\n"
     ]
    }
   ],
   "source": [
    "u_born_change_intersection = set([e.unit.id for e in p1_uborn_e]) \\\r\n",
    "                             & set([e.unit.id for e in p1_uchange_e])\r\n",
    "\r\n",
    "print(f'{len(u_born_change_intersection)} changed during the game.')"
   ]
  },
  {
   "cell_type": "code",
   "execution_count": null,
   "metadata": {},
   "outputs": [
    {
     "name": "stdout",
     "output_type": "stream",
     "text": [
      "8 where initialised and change\n",
      "8 complete their building and changed\n"
     ]
    }
   ],
   "source": [
    "u_init_change_intersect = set([e.unit.id for e in p1_uinit_e]) \\\r\n",
    "                             & set([e.unit.id for e in p1_uchange_e])\r\n",
    "u_done_change_intersect = set([e.unit.id for e in p1_udone_e]) \\\r\n",
    "                             & set([e.unit.id for e in p1_uchange_e])\r\n",
    "\r\n",
    "print(f'{len(u_init_change_intersect)} where initialised and change')\r\n",
    "print(f'{len(u_done_change_intersect)} complete their building and changed')\r\n"
   ]
  },
  {
   "cell_type": "markdown",
   "metadata": {},
   "source": [
    "This overlap means that, while building a player's unit list from these events may be possible, it may be impractical compared to the first possibility. Still, I can learn how to extract the times for each unit's life stages (building initiation and completion, state change or death) during the match from the information contained in these events.\n",
    "\n",
    "For instance, take the case of `UnitBornEvents`. The frame at which these events are executed is equal to the start (building initiation) and finished (building completion) frames recorded by the units linked to them.\n",
    "\n",
    "Additionally, this data shows that the quotient of the units recorded birth frame (i.e. its `finished_at` attribute) and the replay's registered frames-per-second (i.e. `Replay.game_fps`) is equal to the UnitBornEvent's recorded execution time in seconds. I can convert this time into the real-time index using the `calc_realtime_index` function defined in <<Chapter 2 - Handling Tracker Events>>."
   ]
  },
  {
   "cell_type": "code",
   "execution_count": null,
   "metadata": {},
   "outputs": [
    {
     "data": {
      "text/plain": [
       "['UName:SCV     e_rec_sec:     52  U_time_quotient:     52',\n",
       " 'UName:SCV     e_rec_sec:     77  U_time_quotient:     77',\n",
       " 'UName:SCV     e_rec_sec:     98  U_time_quotient:     98',\n",
       " 'UName:SCV     e_rec_sec:    115  U_time_quotient:    115',\n",
       " 'UName:SCV     e_rec_sec:    132  U_time_quotient:    132']"
      ]
     },
     "execution_count": null,
     "metadata": {},
     "output_type": "execute_result"
    }
   ],
   "source": [
    "match_fps = sing_zerg.game_fps\r\n",
    "[(f'UName:{e.unit.name:<7} e_rec_sec:{e.second:>7.0f}  '\r\n",
    "    + f'U_time_quotient:{e.unit.finished_at//match_fps:>7.0f}')\r\n",
    "for e in p1_uborn_e][15:20]"
   ]
  },
  {
   "cell_type": "markdown",
   "metadata": {},
   "source": [
    "Similarly, the `UnitInitEvent's` recoded execution frame is the same as the unit's recorded `started_at` frame."
   ]
  },
  {
   "cell_type": "code",
   "execution_count": null,
   "metadata": {},
   "outputs": [
    {
     "data": {
      "text/plain": [
       "['UName: SupplyDepot    e_rec_frame: 12816 U_rec_start_frame: 12816',\n",
       " 'UName: SupplyDepot    e_rec_frame: 12835 U_rec_start_frame: 12835',\n",
       " 'UName: SupplyDepot    e_rec_frame: 12863 U_rec_start_frame: 12863',\n",
       " 'UName: SupplyDepot    e_rec_frame: 12966 U_rec_start_frame: 12966',\n",
       " 'UName: Bunker         e_rec_frame: 13796 U_rec_start_frame: 13796']"
      ]
     },
     "execution_count": null,
     "metadata": {},
     "output_type": "execute_result"
    }
   ],
   "source": [
    "[(f'UName: {e.unit.name:<15}'\r\n",
    "  + f'e_rec_frame: {str(e.frame):>4} '\r\n",
    "  + f'U_rec_start_frame: {str(e.unit.started_at):>5}') \r\n",
    "for e in p1_uinit_e][-5:]\r\n"
   ]
  },
  {
   "cell_type": "markdown",
   "metadata": {},
   "source": [
    "Meanwhile, in the case of the `UnitDoneEvents`, the event's recoded execution frame is the same as the unit's recorded `finish_at` frame.\n",
    "\n",
    "> Note: if a unit is killed before it finishes construction, it will not generate an `UnitDoneEvent`. Nevertheless, it still appears as part of the player's units list. Look at the last unit in the previous list. It is absent from the next."
   ]
  },
  {
   "cell_type": "code",
   "execution_count": null,
   "metadata": {},
   "outputs": [
    {
     "data": {
      "text/plain": [
       "['UName: SupplyDepot    Event_rec_frame:   13315 U_rec_finish_frame:   13315',\n",
       " 'UName: Armory         Event_rec_frame:   13333 U_rec_finish_frame:   13333',\n",
       " 'UName: SupplyDepot    Event_rec_frame:   13343 U_rec_finish_frame:   13343',\n",
       " 'UName: Armory         Event_rec_frame:   13391 U_rec_finish_frame:   13391',\n",
       " 'UName: SupplyDepot    Event_rec_frame:   13446 U_rec_finish_frame:   13446']"
      ]
     },
     "execution_count": null,
     "metadata": {},
     "output_type": "execute_result"
    }
   ],
   "source": [
    "[(f'UName: {e.unit.name:<15}' \r\n",
    "    + f'Event_rec_frame: {e.frame:>7.0f} '\r\n",
    "    + f'U_rec_finish_frame: {e.unit.finished_at:>7.0f}')\r\n",
    "for e in p1_udone_e][-5:]"
   ]
  },
  {
   "cell_type": "markdown",
   "metadata": {},
   "source": [
    "Meanwhile, I can demonstrate the relation between initiated and completed units examining another match to show the links between `UnitInitEvent`, `UnitDoneEvent` and a player's units list.\n",
    "\n",
    "For instance, the following code shows that three units get started but are never completed."
   ]
  },
  {
   "cell_type": "code",
   "execution_count": null,
   "metadata": {},
   "outputs": [
    {
     "name": "stdout",
     "output_type": "stream",
     "text": [
      "UnitsInit: 24 UnitsDone: 21\n"
     ]
    }
   ],
   "source": [
    "uinit_e = [event for event in single_replay.events \r\n",
    "            if isinstance(event, sc2reader.events.tracker.UnitInitEvent) \r\n",
    "            and event.control_pid == 2\r\n",
    "            and event.unit.name.lower() in UNIT_NAMES]\r\n",
    "\r\n",
    "udone_e = [event for event in single_replay.events \r\n",
    "            if isinstance(event, sc2reader.events.tracker.UnitDoneEvent) \r\n",
    "            and event.unit.owner.pid == 2\r\n",
    "            and event.unit.name.lower() in UNIT_NAMES]\r\n",
    "\r\n",
    "print(f'UnitsInit: {len(uinit_e)} UnitsDone: {len(udone_e)}')\r\n"
   ]
  },
  {
   "cell_type": "markdown",
   "metadata": {},
   "source": [
    "The next one shows that these units can be identified in the player's units-list by the difference between the `started_at` and `finished_at` values."
   ]
  },
  {
   "cell_type": "code",
   "execution_count": null,
   "metadata": {},
   "outputs": [
    {
     "data": {
      "text/plain": [
       "['UNane: CommandCenter      unitId: 94109700  u_start_frame:    13111 u_finish_frame:     None',\n",
       " 'UNane: Refinery           unitId: 92012546  u_start_frame:    13175 u_finish_frame:     None',\n",
       " 'UNane: Refinery           unitId: 94633985  u_start_frame:    13213 u_finish_frame:     None']"
      ]
     },
     "execution_count": null,
     "metadata": {},
     "output_type": "execute_result"
    }
   ],
   "source": [
    "\r\n",
    "incomplete_u = [\r\n",
    "    (f'UNane: {u.name:<18} unitId: {u.id:<10.0f}' \r\n",
    "        + f'u_start_frame: {u.started_at:>8.0f}' \r\n",
    "        + f' u_finish_frame: {str(u.finished_at):>8}')\r\n",
    "    for u in single_replay.players[1].units \r\n",
    "    if u.name.lower() in UNIT_NAMES\r\n",
    "    and u.finished_at == None]\r\n",
    "\r\n",
    "incomplete_u\r\n"
   ]
  },
  {
   "cell_type": "markdown",
   "metadata": {},
   "source": [
    "Interestingly, the `UnitDiedEvent` list only includes these incomplete units' destruction if they are killed by another player, as shown by the following code."
   ]
  },
  {
   "cell_type": "code",
   "execution_count": null,
   "metadata": {},
   "outputs": [
    {
     "name": "stdout",
     "output_type": "stream",
     "text": [
      "List of incomplete units on player 1's  units-list ['PhotonCannon, 78118917 ']\n",
      "List of units in UnitDiedEvent for player 1 ['PhotonCannon, 78118917']\n",
      "------------------------------------------------\n",
      "List of incomplete units on player 2's  units-list ['CommandCenter, 94109700', 'Refinery, 92012546', 'Refinery, 94633985']\n",
      "List of units in UnitDiedEvent for player 2 []\n"
     ]
    }
   ],
   "source": [
    "p1_incomplet_units_ids = [f'{u.name}, {u.id} '\r\n",
    "        for u in single_replay.player[1].units \r\n",
    "        if u.name.lower() in UNIT_NAMES\r\n",
    "        and u.finished_at == None]\r\n",
    "\r\n",
    "print(f'List of incomplete units on player 1\\'s ', \r\n",
    "      f'units-list {p1_incomplet_units_ids}')\r\n",
    "\r\n",
    "\r\n",
    "p1_udied_e = [f'{event.unit.name}, {event.unit.id}' \r\n",
    "            for event in single_replay.events \r\n",
    "            if isinstance(event, sc2reader.events.tracker.UnitDiedEvent)\r\n",
    "            and event.unit.owner != None\r\n",
    "            and event.unit.owner.pid == 1\r\n",
    "            and event.unit.name.lower() in UNIT_NAMES\r\n",
    "            and event.unit.finished_at == None]\r\n",
    "print(f'List of units in UnitDiedEvent for player 1 {p1_udied_e}')\r\n",
    "\r\n",
    "print('------------------------------------------------')\r\n",
    "\r\n",
    "p2_incomplet_units_ids = [f'{u.name}, {u.id}'\r\n",
    "        for u in single_replay.player[2].units \r\n",
    "        if u.name.lower() in UNIT_NAMES\r\n",
    "        and u.finished_at == None]\r\n",
    "\r\n",
    "print(f'List of incomplete units on player 2\\'s ',\r\n",
    "      f'units-list {p2_incomplet_units_ids}')\r\n",
    "\r\n",
    "\r\n",
    "p2_udied_e = [f'{event.unit.name}, {event.unit.id}' \r\n",
    "            for event in single_replay.events \r\n",
    "            if isinstance(event, sc2reader.events.tracker.UnitDiedEvent)\r\n",
    "            and event.unit.owner != None\r\n",
    "            and event.unit.owner.pid == 2\r\n",
    "            and event.unit.name.lower() in UNIT_NAMES\r\n",
    "            and event.unit.finished_at == None]\r\n",
    "\r\n",
    "print(f'List of units in UnitDiedEvent for player 2 {p2_udied_e}')\r\n"
   ]
  },
  {
   "cell_type": "markdown",
   "metadata": {},
   "source": [
    "In the case above case, units player 2's incomplete units do not generate `UnitDiedEvent`s becaused they were cancelled, not killed. This is the reason why player 2's `UnitDiedEvent` list is empty."
   ]
  },
  {
   "cell_type": "markdown",
   "metadata": {},
   "source": [
    "### Counting Units With Multiple States\n",
    "\n",
    "In the examples above, I have only counted units that remain in their primary state throughout the match for simplicity. However, in most games, some units will change states. I must consider this factor because of how sc2reader keeps track of the units.\n",
    "\n",
    "For example, suppose I extract a list of all Zerg units' names in a match. In that case, I may notice that some *Infestor* units are counted as such, but others are counted as *InfestorBurrowed*.\n",
    "\n",
    "Meanwhile, a similar operation around a Terran player's units shows units such as a *SiegeTank* have secondary stages like *SiegeTankSieged*. Similarly, a *Hellion* can also appear as a *BattleHellion* and a *WidowMine* as a *WidowMineBurrowed*."
   ]
  },
  {
   "cell_type": "code",
   "execution_count": null,
   "metadata": {},
   "outputs": [
    {
     "name": "stdout",
     "output_type": "stream",
     "text": [
      "Sample Zerg unit set in zustates replay.\n",
      "{'Baneling',\n",
      " 'Hydralisk',\n",
      " 'Infestor',\n",
      " 'InfestorBurrowed',\n",
      " 'Lurker',\n",
      " 'Overlord',\n",
      " 'Overseer',\n",
      " 'Queen',\n",
      " 'Ravager',\n",
      " 'Roach',\n",
      " 'Zergling'}\n",
      "\n",
      "Sample Terran unit set in tustates replay.\n",
      "{'BattleHellion',\n",
      " 'Hellion',\n",
      " 'Marauder',\n",
      " 'Marine',\n",
      " 'Medivac',\n",
      " 'SiegeTank',\n",
      " 'SiegeTankSieged',\n",
      " 'Thor',\n",
      " 'WidowMine',\n",
      " 'WidowMineBurrowed'}\n"
     ]
    }
   ],
   "source": [
    "# Print set of zerg units in a match\r\n",
    "zerg_player_units = [u.name for u in zustates.player[1].units\r\n",
    "                    if u.is_army]\r\n",
    "print('Sample Zerg unit set in zustates replay.')\r\n",
    "pprint(set(zerg_player_units))\r\n",
    "\r\n",
    "# Print set of terran units in a match\r\n",
    "terran_player_units = [u.name for u in tustates.player[1].units\r\n",
    "                    if u.is_army]\r\n",
    "print('\\nSample Terran unit set in tustates replay.')\r\n",
    "pprint(set(terran_player_units))\r\n"
   ]
  },
  {
   "cell_type": "markdown",
   "metadata": {},
   "source": [
    "However, an army composition should count these units in different stages as the same. Thus I need to account for how `sc2reader` stores the unit according to the state in which they finished or exited the game. In the following code, I use a unit types list and several conditions to demonstrate how one can filter the initial list. I also build a DataFrame with a Unit column that records the same name for units of the same type in multiple states to normalise the unit classification.\n",
    "\n",
    "Note that, if I count the units based on the type recorded by `sc2reader`, the count includes the different unit states. Meanwhile, the normalised count adds the units of the same type that are in different states."
   ]
  },
  {
   "cell_type": "code",
   "execution_count": null,
   "metadata": {},
   "outputs": [],
   "source": [
    "terran_player_units = [(uname, u, u.id) for u in tustates.player[1].units \r\n",
    "                    for uname in RACE_ARMIES['Terran']\r\n",
    "                    if uname in u.name.lower() # Use the naming convention \r\n",
    "                                               # to get all units in \r\n",
    "                                               # different states\r\n",
    "                    and u.is_army == True]\r\n",
    "\r\n",
    "\r\n",
    "tpunits_df = pd.DataFrame({\r\n",
    "        'Unit':[uname for uname, u, id in terran_player_units],\r\n",
    "        'Uname': [u.name for uname, u, id in terran_player_units],\r\n",
    "        'UnitID':[id for uname, u, id in terran_player_units]})\r\n",
    "\r\n",
    "# print(tpunits_df.groupby('Uname').size().to_markdown())\r\n",
    "# print(tpunits_df.groupby('Unit').size().to_markdown())\r\n"
   ]
  },
  {
   "cell_type": "markdown",
   "metadata": {},
   "source": [
    "This table shows the count based on `sc2reader` type register.\n",
    "\n",
    "| Uname             |    |\n",
    "|:------------------|----:|\n",
    "| BattleHellion     |  10 |\n",
    "| Hellion           |   6 |\n",
    "| Marauder          |  10 |\n",
    "| Marine            |  15 |\n",
    "| Medivac           |   3 |\n",
    "| SiegeTank         |   1 |\n",
    "| SiegeTankSieged   |   2 |\n",
    "| Thor              |   1 |\n",
    "| WidowMine         |   5 |\n",
    "| WidowMineBurrowed |   7 |\n",
    "\n",
    "This table shows the count based on the normalised names.\n",
    "\n",
    "| Unit      |        |\n",
    "|:----------|--------:|\n",
    "| hellion   |      16 |\n",
    "| marauder  |      10 |\n",
    "| marine    |      15 |\n",
    "| medivac   |       3 |\n",
    "| siegetank |       3 |\n",
    "| thor      |       1 |\n",
    "| widowmine |      12 |\n"
   ]
  },
  {
   "cell_type": "markdown",
   "metadata": {},
   "source": [
    "This same rule applies to buildings. However, in this case, there are two caveats when counting Terran buildings. First, _TechLab_ and _Reactor_ instances do not follow the same _Unit/State_ naming convention as the other multi-state units. Instead, they follow the inverse pattern, _State/Unit_. Second, both _TechLab_ and _Reactor_ generate a double count. Firstly, they appear as themselves, and, secondly, they re-register the production buildings they expand (i.e. barracks, starports, and factories). In this case, they re-register these production buildings with the same hash-id that identifies them. Thus, when counting Terran buildings, I must re-filter the DataFrame to account for these anomalies. The following code illustrates this issue."
   ]
  },
  {
   "cell_type": "code",
   "execution_count": null,
   "metadata": {},
   "outputs": [],
   "source": [
    "terran_player_buildings = [(uname, u, u.id) for u in tustates.player[1].units \r\n",
    "                    for uname in RACE_BUILDINGS['Terran']\r\n",
    "                    if uname in u.name.lower() # Use the naming \r\n",
    "                                               # convention to get all units \r\n",
    "                                               # in different states\r\n",
    "                    and u.is_building == True]\r\n",
    "\r\n",
    "tbunits_df = pd.DataFrame({\r\n",
    "        'Unit':[uname for uname, u, id in terran_player_buildings],\r\n",
    "        'Uname': [u.name for uname, u, id in terran_player_buildings],\r\n",
    "        'UnitID':[id for uname, u, id in terran_player_buildings]})\r\n",
    "\r\n",
    "# print(tbunits_df[9:25].to_markdown())\r\n"
   ]
  },
  {
   "cell_type": "markdown",
   "metadata": {},
   "source": [
    "> Note: see the rows 9, 10, 14, 15, 20 and 21 of the table that results from the code above.\n",
    "\n",
    "\n",
    "|    | Unit        | Uname           |   UnitID |\n",
    "|---:|:------------|:----------------|---------:|\n",
    "|  9 | barracks    | BarracksTechLab | 67895297 |\n",
    "| 10 | techlab     | BarracksTechLab | 67895297 |\n",
    "| 11 | factory     | Factory         | 68681729 |\n",
    "| 12 | supplydepot | SupplyDepot     | 71041026 |\n",
    "| 13 | supplydepot | SupplyDepot     | 74186754 |\n",
    "| 14 | factory     | FactoryTechLab  | 74711042 |\n",
    "| 15 | techlab     | FactoryTechLab  | 74711042 |\n",
    "| 16 | sensortower | SensorTower     | 76021761 |\n",
    "| 17 | refinery    | Refinery        | 76546050 |\n",
    "| 18 | factory     | Factory         | 77856769 |\n",
    "| 19 | refinery    | Refinery        | 78381057 |\n",
    "| 20 | supplydepot | SupplyDepot     | 83099649 |\n",
    "| 21 | factory     | FactoryReactor  | 83361793 |\n",
    "| 22 | reactor     | FactoryReactor  | 83361793 |\n",
    "| 23 | armory      | Armory          | 83623937 |\n",
    "| 24 | supplydepot | SupplyDepot     | 83886081 |\n"
   ]
  },
  {
   "cell_type": "code",
   "execution_count": null,
   "metadata": {},
   "outputs": [],
   "source": [
    "# Correct double count for tech labs\r\n",
    "tbunits_df.drop_duplicates(subset='UnitID', keep='last', inplace=True) \r\n",
    "\r\n",
    "# Correct misslabeling of reactors     \r\n",
    "tbunits_df.loc[tbunits_df['Uname'].str.contains('Reactor'), 'Unit'] = 'reactor'\r\n",
    "tbunits_df.loc[tbunits_df['Uname'].str.contains('TechLab'), 'Unit'] = 'techlab'\r\n",
    "# print(tbunits_df[8:25].to_markdown())\r\n"
   ]
  },
  {
   "cell_type": "markdown",
   "metadata": {},
   "source": [
    "> Note: in the following table the duplicates in lines 9, 14 and 21 have been filtered.\n",
    "\n",
    "\n",
    "|    | Unit              | Uname             |   UnitID |\n",
    "|---:|:------------------|:------------------|---------:|\n",
    "|  8 | planetaryfortress | PlanetaryFortress | 64749570 |\n",
    "| 10 | techlab           | BarracksTechLab   | 67895297 |\n",
    "| 11 | factory           | Factory           | 68681729 |\n",
    "| 12 | supplydepot       | SupplyDepot       | 71041026 |\n",
    "| 13 | supplydepot       | SupplyDepot       | 74186754 |\n",
    "| 15 | techlab           | FactoryTechLab    | 74711042 |\n",
    "| 16 | sensortower       | SensorTower       | 76021761 |\n",
    "| 17 | refinery          | Refinery          | 76546050 |\n",
    "| 18 | factory           | Factory           | 77856769 |\n",
    "| 19 | refinery          | Refinery          | 78381057 |\n",
    "| 20 | supplydepot       | SupplyDepot       | 83099649 |\n",
    "| 22 | reactor           | FactoryReactor    | 83361793 |\n",
    "| 23 | armory            | Armory            | 83623937 |\n",
    "| 24 | supplydepot       | SupplyDepot       | 83886081 |\n",
    "| 25 | planetaryfortress | PlanetaryFortress | 84672513 |\n",
    "| 26 | supplydepot       | SupplyDepot       | 29097986 |\n",
    "| 27 | supplydepot       | SupplyDepot       | 86507521 |\n",
    "\n"
   ]
  },
  {
   "cell_type": "markdown",
   "metadata": {},
   "source": [
    "## Functions\n",
    "\n",
    "In this section, I develop the functions this module exports. These functions allow for the extraction of various performance indicators relative to the units trained, buildings built and upgrades researched by players through a match.\n",
    "\n",
    "As is the case for other modules in this package, the exportable functions use several helper functions that can be consulted in the module's development notebooks or the module's source code. However, these helper functions are not included in this documentation.\n",
    "\n",
    "### Composition functions\n",
    "\n",
    "The following functions generate lists of dictionaries that describe a player's army or buildings composition (`count_composition`) and the number of units that started training or buildings that started construction (`count_started`) during the whole match and through the early, mid and late games.\n",
    "\n",
    "In this case, I define *composition* as the number of active units of different types a player has in the game. This count goes up every time a unit is created and down if they are killed. Meanwhile, *count_started* refers to the player's intended army, i.e. the number of units of different types they try to create at each interval of the game."
   ]
  },
  {
   "cell_type": "markdown",
   "metadata": {},
   "source": [
    "The two functions extract their information from a `pandas.DataFrame` generated by the helper function `composition_df`. This DataFrame includes each unit's type, the time they entered the game and their time of death. I illustrate this DataFrame's composition with a portion of the players' units during a sample match in the following table."
   ]
  },
  {
   "cell_type": "code",
   "execution_count": null,
   "metadata": {},
   "outputs": [],
   "source": [
    "#exporti\r\n",
    "def composition_df(rpl: sc2reader.resources.Replay,\r\n",
    "                   pid: int, buildings:bool=False) -> pd.DataFrame:\r\n",
    "    \"\"\"Generates a DataFrame that stores the spawning information of each\r\n",
    "    of a player's units\r\n",
    "\r\n",
    "    This function lists all of the units owned by a player during a match.\r\n",
    "    It also stores each unit's spawning_start, spawning_finish and death\r\n",
    "    times. These times have been calculated to coincide with the match's\r\n",
    "    duration.\r\n",
    "\r\n",
    "    *Args*\r\n",
    "        - rpl (sc2reader.resources.Replay)\r\n",
    "            The match's replay object.\r\n",
    "        - pid (int)\r\n",
    "            The player's match id.\r\n",
    "        - buildings (bool=False)\r\n",
    "            Boolean indicating if the function should calculate the army or\r\n",
    "            building units' DataFrame\r\n",
    "\r\n",
    "    *Returns*\r\n",
    "        - pd.DataFrame\r\n",
    "            DataFrame with columns: Unit, started_building, enter_game_time,\r\n",
    "            and died_time.\r\n",
    "\r\n",
    "    \"\"\"\r\n",
    "    p_race = rpl.player[pid].play_race\r\n",
    "\r\n",
    "    # Get the player's race list of army or building units.\r\n",
    "    u_list = RACE_BUILDINGS[p_race] if buildings else RACE_ARMIES[p_race]\r\n",
    "\r\n",
    "    # Get the player's units-list.\r\n",
    "    player_units = [(uname, u, u.id) for u in rpl.player[pid].units\r\n",
    "                    for uname in u_list\r\n",
    "                    if uname in u.name.lower()\r\n",
    "                    and (('hallucinated' not in u.__dict__)\r\n",
    "                         or ('hallucinated' in u.__dict__\r\n",
    "                             and u.hallucinated == False))\r\n",
    "                    and u.is_building == buildings]\r\n",
    "\r\n",
    "    player_units_df = pd.DataFrame({\r\n",
    "        'Unit':[uname for uname, u, id in player_units],\r\n",
    "        'Uname': [u.name for uname, u, id in player_units],\r\n",
    "        'UnitID':[id for uname, u, id in player_units],\r\n",
    "        'started_building':[calc_realtime_index((u.started_at/rpl.game_fps),\r\n",
    "                                                rpl)\r\n",
    "                            for uname, u, id in player_units],\r\n",
    "        'enter_game_time': [calc_realtime_index((u.finished_at/rpl.game_fps),\r\n",
    "                                                rpl)\r\n",
    "                            if u.finished_at != None else pd.NaT\r\n",
    "                            for uname, u, id in player_units],\r\n",
    "        'died_time': [calc_realtime_index((u.died_at/rpl.game_fps), rpl)\r\n",
    "                      if u.died_at != None else pd.NaT\r\n",
    "                      for uname, u, id in player_units]\r\n",
    "    })\r\n",
    "\r\n",
    "    if p_race == 'Terran' and buildings:\r\n",
    "        # Correct double count for tech labs\r\n",
    "        player_units_df.drop_duplicates(subset='UnitID',\r\n",
    "                                        keep='last',\r\n",
    "                                        inplace=True)\r\n",
    "\r\n",
    "        # Correct misslabeling of reactors\r\n",
    "        player_units_df.loc[player_units_df['Uname'].\\\r\n",
    "            str.contains('TechLab'), 'Unit'] = 'techlab'\r\n",
    "        player_units_df.loc[player_units_df['Uname'].\\\r\n",
    "            str.contains('Reactor'), 'Unit'] = 'reactor'\r\n",
    "\r\n",
    "\r\n",
    "\r\n",
    "    # Generate and return the DataFrame with info from the units.\r\n",
    "    return player_units_df.drop(['Uname', 'UnitID'], axis=1)"
   ]
  },
  {
   "cell_type": "code",
   "execution_count": null,
   "metadata": {},
   "outputs": [],
   "source": [
    "# hide\r\n",
    "army_df = composition_df(tfly, 1, buildings=False)\r\n",
    "# print(army_df.tail().to_markdown())\r\n"
   ]
  },
  {
   "cell_type": "markdown",
   "metadata": {},
   "source": [
    "The following table shows a the tail of a sample DataFrame generated by calling `composition_df` helper function on the `tfly` replay.\n",
    "\n",
    "|    | Unit       |   started_building |   enter_game_time | died_time         |\n",
    "|---:|:-----------|-------------------:|------------------:|:------------------|\n",
    "| 44 | marine     |            745.87  |           745.87  | NaT               |\n",
    "| 45 | autoturret |            748.883 |           748.883 | 759.0440051020407 |\n",
    "| 46 | marine     |            763.585 |           763.585 | NaT               |\n",
    "| 47 | marine     |            763.81  |           763.81  | NaT               |\n",
    "| 48 | autoturret |            783.998 |           783.998 | 794.2940051020408 |"
   ]
  },
  {
   "cell_type": "markdown",
   "metadata": {},
   "source": [
    "Similarly, the functions use the helper `count_active_units` function in conjunction with the `composition_df`'s output to generate DataFrames that counts a player's units in a specific period of time."
   ]
  },
  {
   "cell_type": "code",
   "execution_count": null,
   "metadata": {},
   "outputs": [],
   "source": [
    "#exporti\r\n",
    "def count_active_units(df: pd.DataFrame,\r\n",
    "                       end: float, start:float = 0) -> pd.DataFrame:\r\n",
    "    \"\"\"Generates a count of units started, born (completed), and died during a\r\n",
    "    specific period.\r\n",
    "\r\n",
    "    This function uses a player's units' spawning start and finishing times\r\n",
    "    and their death times to count their active units during a specific\r\n",
    "    period. This period is defined by start and end values in seconds\r\n",
    "\r\n",
    "    *Args*\r\n",
    "        - df (pd.DataFrame)\r\n",
    "            DataFrame of a player's units' start and finish spawning,\r\n",
    "            and death times (see `composition_df` function)\r\n",
    "        - end (float)\r\n",
    "            End of the period\r\n",
    "        - start (float = 0)\r\n",
    "            Start of the period, if not defined, the function assumes it\r\n",
    "            should count from the begining of the match\r\n",
    "\r\n",
    "    *Returns*\r\n",
    "        - pd.DataFrame\r\n",
    "            DataFrame with records for all of a player's units wich were\r\n",
    "            started, born, and died during a specific period of time.\r\n",
    "\r\n",
    "    \"\"\"\r\n",
    "\r\n",
    "\r\n",
    "    # Gets the titles of the relevant DataFrame columns. Ignores the index\r\n",
    "    # and the 'Units' columns.\r\n",
    "    column_headers = df.columns[1:]\r\n",
    "\r\n",
    "    # Gets a list of Sub-DataFrames that eliminate the rows where each of\r\n",
    "    # the relevant columns has na values.\r\n",
    "    dfs_no_na = [df.dropna(subset=[col_header])\r\n",
    "                 for col_header in column_headers]\r\n",
    "\r\n",
    "    # Takes each of the sub-DataFrames and eliminates the values that fall\r\n",
    "    # out of the time indexes that are counted (start and end)\r\n",
    "    states_dfs = [(state_df.loc[(state_df[header] > start)\r\n",
    "                  & (state_df[header] <= end)]\r\n",
    "                  if not state_df.empty else state_df)\r\n",
    "                  for header, state_df in zip(column_headers, dfs_no_na)]\r\n",
    "\r\n",
    "    # Counts the number of units in each sub-DataFrame.\r\n",
    "    # i.e. Counts how many of each unit type were started, born and died\r\n",
    "    # duringh the time limits (start, end).\r\n",
    "    count_frames = [state_df.groupby('Unit').size() for state_df in states_dfs]\r\n",
    "\r\n",
    "    # Organises the final DataFrame with the unit counts for the time period.\r\n",
    "    headers = ['started', 'born', 'died']\r\n",
    "    result_dfs = pd.DataFrame({head: count_frame\r\n",
    "                               for head, count_frame\r\n",
    "                               in zip(headers, count_frames)})\r\n",
    "    result_dfs['total'] = result_dfs['born'].subtract(result_dfs['died'],\r\n",
    "                                                      fill_value = 0)\r\n",
    "    return result_dfs"
   ]
  },
  {
   "cell_type": "code",
   "execution_count": null,
   "metadata": {},
   "outputs": [],
   "source": [
    "#hide\r\n",
    "# army_count_df_whole = count_active_units(army_df, start = 0, end=700)\r\n",
    "# print(army_count_df_whole.to_markdown())\r\n",
    "# army_count_df_early = count_active_units(army_df, start = 0, \r\n",
    "#                                          end = INTERVALS_BASE)\r\n",
    "# print(army_count_df_early.to_markdown())\r\n",
    "# army_count_df_mid = count_active_units(army_df, start = INTERVALS_BASE, \r\n",
    "#                                        end = INTERVALS_BASE*2)\r\n",
    "# print(army_count_df_mid.to_markdown())\r\n",
    "# army_count_df_late = count_active_units(army_df, start = INTERVALS_BASE*2, \r\n",
    "#                                         end = 700)\r\n",
    "# print(army_count_df_late.to_markdown())\r\n"
   ]
  },
  {
   "cell_type": "markdown",
   "metadata": {},
   "source": [
    "The following are tables show the DataFrames that result from counting the units in the sample composition DataFrame.\n",
    "\n",
    "Wole game table:\n",
    "\n",
    "| Unit     |   started |   born |   died |   total |\n",
    "|:---------|----------:|-------:|-------:|--------:|\n",
    "| marauder |         5 |      5 |    nan |       5 |\n",
    "| marine   |        27 |     27 |    nan |      27 |\n",
    "| medivac  |         5 |      5 |    nan |       5 |\n",
    "| raven    |         1 |      1 |    nan |       1 |\n",
    "\n",
    "Early game:\n",
    "\n",
    "| Unit   |   started |   born |   died |   total |\n",
    "|:-------|----------:|-------:|-------:|--------:|\n",
    "| marine |         1 |      1 |    nan |       1 |\n",
    "\n",
    "Mid-game:\n",
    "\n",
    "| Unit   |   started |   born |   died |   total |\n",
    "|:-------|----------:|-------:|-------:|--------:|\n",
    "| marine |        12 |     12 |    nan |      12 |\n",
    "\n",
    "Late game:\n",
    "\n",
    "| Unit     |   started |   born |   died |   total |\n",
    "|:---------|----------:|-------:|-------:|--------:|\n",
    "| marauder |         5 |      5 |    nan |       5 |\n",
    "| marine   |        14 |     14 |    nan |      14 |\n",
    "| medivac  |         5 |      5 |    nan |       5 |\n",
    "| raven    |         1 |      1 |    nan |       1 |\n"
   ]
  },
  {
   "cell_type": "markdown",
   "metadata": {},
   "source": [
    "After calculating a player's army composition or unit started counts, I need to format the output of the functions so that I can process them with the results of other matches.\n",
    "\n",
    "In this regard, I considered two options. On the one hand, I could store counts for all units of all races for each player in every match. Following this approach, I would have a single set of replays for each player that would, by averaging all unit counts, express the general building preferences of each player. On the other hand, I could segregate the results by game race. This second option implies that I would have to keep three separate sets of replays per player. I would also have to process three profiles per player that express their preferences when playing each game race.\n",
    "\n",
    "Although initially, I was inclined to opt for the first option, I decided on the second because it seems closer to the actual game experience. For example, in StarCraft II, players are classified separately in leagues when playing with different game races. Similarly, many of the game's achievements are repeated for each race. Thus, it felt more akin to the game experience to provide threes profiles.\n",
    "This second approach also means that each match's record will contain fewer blanc data points when processing the profiles, which safes storage and processing memory.\n",
    "\n",
    "With this in mind, the last step of each module's functions is to complete their outcomes to include values for all the units or buildings of each player's race.\n"
   ]
  },
  {
   "cell_type": "code",
   "execution_count": null,
   "metadata": {},
   "outputs": [],
   "source": [
    "#exporti\r\n",
    "def complete_count(compositions:list[pd.DataFrame],\r\n",
    "                   player_race:str,\r\n",
    "                   buildings:bool = False) -> list[dict[str, int]]:\r\n",
    "    \"\"\"\r\n",
    "    Generate a DataFrame of a players unit count including all possible\r\n",
    "    units for a player's race, even those that a player did not use\r\n",
    "    during a match.\r\n",
    "\r\n",
    "    Expands a player's simple unit count DataFrames adding columns for\r\n",
    "    all the units a player's race affords them. Having columns for all\r\n",
    "    units makes averaging with the results of multiple matches eassier.\r\n",
    "\r\n",
    "    *Args*\r\n",
    "        - compositions (list[pd.DataFrame])\r\n",
    "            List of DataFrames containing the players' unit counts or army\r\n",
    "            composition for different game stages or intervals.\r\n",
    "        - player_race (str)\r\n",
    "            The game race with which the player played the current match.\r\n",
    "            Needed to complete the list of units or structures.\r\n",
    "        - buildings (bool = False)\r\n",
    "            This flag indicates if the DataFrames being constructed are of\r\n",
    "            a player's buildings or army units.\r\n",
    "\r\n",
    "    *Returns*\r\n",
    "        - list[dict[str, int]]\r\n",
    "            List of dictionaries with all the player's race's units as keys\r\n",
    "            and the number of each unit a player had during a match as values.\r\n",
    "\r\n",
    "    \"\"\"\r\n",
    "    unit_list = RACE_ARMIES if not buildings else RACE_BUILDINGS\r\n",
    "    return [{unit: int(compo[unit]) if (unit in compo)\r\n",
    "            and not np.isnan(compo[unit]) else 0\r\n",
    "            for unit in unit_list[player_race]}\r\n",
    "            for compo in compositions]"
   ]
  },
  {
   "cell_type": "markdown",
   "metadata": {},
   "source": [
    "The following code demonstrates the result of the `complete_count` helper function as applyed to player 2's army composition for the whole game in the sample match."
   ]
  },
  {
   "cell_type": "code",
   "execution_count": null,
   "metadata": {},
   "outputs": [
    {
     "data": {
      "text/plain": [
       "autoturret        0\n",
       "banshee           0\n",
       "battlecruiser     0\n",
       "cyclone           0\n",
       "ghost             0\n",
       "hellion           0\n",
       "marauder          5\n",
       "marine           27\n",
       "medivac           5\n",
       "raven             1\n",
       "reaper            0\n",
       "siegetank         0\n",
       "thor              0\n",
       "viking            0\n",
       "warhound          0\n",
       "widowmine         0\n",
       "Name: Player2_ArmyComp, dtype: int64"
      ]
     },
     "execution_count": null,
     "metadata": {},
     "output_type": "execute_result"
    }
   ],
   "source": [
    "army_count_df_whole = count_active_units(army_df, start = 0, end=700)\r\n",
    "comp_test = complete_count([army_count_df_whole['total']], 'Terran', False)\r\n",
    "df = pd.DataFrame(comp_test, index=['Player2_ArmyComp'])\r\n",
    "\r\n",
    "df.iloc[0]"
   ]
  },
  {
   "cell_type": "code",
   "execution_count": null,
   "metadata": {},
   "outputs": [],
   "source": [
    "#export\r\n",
    "def count_composition(rpl: sc2reader.resources.Replay,\r\n",
    "                      pid: int, buildings:bool=False) \\\r\n",
    "                      -> dict[str, dict[str, int]]:\r\n",
    "    \"\"\"Generate a tally of all of a player's active units at different \r\n",
    "    stages of the match. \r\n",
    "\r\n",
    "    The function returns a dictionary of with four keys ('whole_comp', \r\n",
    "    'early_comp', 'mid_comp', 'late_comp') each of which refers to a \r\n",
    "    dictionary that stores pairs of 'unit_type' : 'active_unit_type_count`. \r\n",
    "    There are values for all player's race unit types, even if the player \r\n",
    "    has no active units of some types.\r\n",
    "\r\n",
    "    *Args*\r\n",
    "        - rpl (sc2reader.resources.Replay)\r\n",
    "            Replay being processed\r\n",
    "        - pid (int)\r\n",
    "            In-game id for the player being analysed.\r\n",
    "        - buildings (bool)=False\r\n",
    "            Flag indicating if the function should count buildings (True) \r\n",
    "            or troops (False)\r\n",
    "\r\n",
    "    *Returns*\r\n",
    "        - dict\r\n",
    "            Tally of a player's active units during a match\r\n",
    "    \"\"\"\r\n",
    "    \r\n",
    "    player_race = rpl.player[pid].play_race\r\n",
    "\r\n",
    "\r\n",
    "    # In this function the intervals count the units from the begining of\r\n",
    "    # the match to the end of the interval.\r\n",
    "    interval_marks = [rpl.length.seconds,\r\n",
    "                      INTERVALS_BASE,\r\n",
    "                      INTERVALS_BASE*2,\r\n",
    "                      rpl.length.seconds]\r\n",
    "\r\n",
    "    # The units_df contains all the units owned by player (pid) in a\r\n",
    "    # replay (rpl), with their birth and death times\r\n",
    "    units_df = composition_df(rpl, pid, buildings=buildings)\r\n",
    "\r\n",
    "    # Based on the interval_marks I devide and list the units_df into the\r\n",
    "    # corresponding sub-dataframes\r\n",
    "    dfs = [units_df.loc[units_df.started_building <= mark]\r\n",
    "           for mark in interval_marks]\r\n",
    "\r\n",
    "    # I use the count_active_units function to calculate the unit counts\r\n",
    "    # and extract the totals for the different intervals\r\n",
    "    compositions = [count_active_units(data, interval_mark)['total']\r\n",
    "                    for interval_mark, data in zip(interval_marks, dfs)]\r\n",
    "\r\n",
    "\r\n",
    "    # I use the compositions to generate four dictionaries with the full\r\n",
    "    # army count which includes all possible units of all possible races.\r\n",
    "    fin_dict = complete_count(compositions, player_race, buildings)\r\n",
    "\r\n",
    "    indexes=['whole_comp', 'early_comp', 'mid_comp', 'late_comp']\r\n",
    "    return {name: comp for name, comp in zip(indexes,fin_dict)}"
   ]
  },
  {
   "cell_type": "code",
   "execution_count": null,
   "metadata": {},
   "outputs": [],
   "source": [
    "test_army = count_composition(sing_zerg, 1)\r\n",
    "army_comp_df = pd.DataFrame(test_army)\r\n",
    "# print(army_comp_df.to_markdown())"
   ]
  },
  {
   "cell_type": "markdown",
   "metadata": {},
   "source": [
    "|               |   whole_comp |   early_comp |   mid_comp |   late_comp |\n",
    "|:--------------|-------------:|-------------:|-----------:|------------:|\n",
    "| autoturret    |            0 |            0 |          0 |           0 |\n",
    "| banshee       |            0 |            0 |          0 |           0 |\n",
    "| battlecruiser |            0 |            0 |          0 |           0 |\n",
    "| cyclone       |           10 |            0 |          2 |          10 |\n",
    "| ghost         |            0 |            0 |          0 |           0 |\n",
    "| hellion       |           14 |            2 |          7 |          14 |\n",
    "| marauder      |            0 |            0 |          0 |           0 |\n",
    "| marine        |            0 |            0 |          0 |           0 |\n",
    "| medivac       |            0 |            0 |          0 |           0 |\n",
    "| raven         |            1 |            0 |          0 |           1 |\n",
    "| reaper        |            0 |            0 |          0 |           0 |\n",
    "| siegetank     |            0 |            0 |          0 |           0 |\n",
    "| thor          |            0 |            0 |          0 |           0 |\n",
    "| viking        |            1 |            1 |          1 |           1 |\n",
    "| warhound      |            0 |            0 |          0 |           0 |\n",
    "| widowmine     |            4 |            0 |          4 |           4 |"
   ]
  },
  {
   "cell_type": "code",
   "execution_count": null,
   "metadata": {},
   "outputs": [],
   "source": [
    "test_buildings_comp = count_composition(sing_zerg, 1, buildings=True)\r\n",
    "buildings_comp_df = pd.DataFrame(test_buildings_comp)\r\n",
    "# print(buildings_comp_df.to_markdown())"
   ]
  },
  {
   "cell_type": "markdown",
   "metadata": {},
   "source": [
    "|                   |   whole_comp |   early_comp |   mid_comp |   late_comp |\n",
    "|:------------------|-------------:|-------------:|-----------:|------------:|\n",
    "| armory            |            3 |            0 |          1 |           3 |\n",
    "| barracks          |            1 |            1 |          1 |           1 |\n",
    "| bunker            |            0 |            0 |          0 |           0 |\n",
    "| commandcenter     |            1 |            0 |          0 |           1 |\n",
    "| engineeringbay    |            1 |            0 |          0 |           1 |\n",
    "| factory           |            6 |            2 |          6 |           6 |\n",
    "| fusioncore        |            0 |            0 |          0 |           0 |\n",
    "| ghostacademy      |            0 |            0 |          0 |           0 |\n",
    "| missileturret     |            0 |            0 |          0 |           0 |\n",
    "| orbitalcommand    |            2 |            1 |          2 |           2 |\n",
    "| planetaryfortress |            1 |            0 |          0 |           1 |\n",
    "| reactor           |            0 |            1 |          0 |           0 |\n",
    "| refinery          |            6 |            2 |          4 |           6 |\n",
    "| sensortower       |            0 |            0 |          0 |           0 |\n",
    "| starport          |            2 |            1 |          1 |           2 |\n",
    "| supplydepot       |           13 |            3 |          8 |          13 |\n",
    "| techlab           |            6 |            1 |          6 |           6 |"
   ]
  },
  {
   "cell_type": "code",
   "execution_count": null,
   "metadata": {},
   "outputs": [],
   "source": [
    "#export\r\n",
    "def count_started(rpl: sc2reader.resources.Replay,\r\n",
    "                  pid: int, buildings:bool =False) \\\r\n",
    "                  -> list[dict[str, int]]:\r\n",
    "    \"\"\"Generate a tally of all of a player's started units at different \r\n",
    "    stages of the match. \r\n",
    "\r\n",
    "    The function returns a dictionary of with four keys ('whole_started', \r\n",
    "    'early_started', 'mid_started', 'late_started') each of which refers \r\n",
    "    to a dictionary that stores pairs of 'unit_type' : \r\n",
    "    'started_unit_type_count`. There are values for all player's race unit \r\n",
    "    types, even if the player has no units of some types.\r\n",
    "\r\n",
    "    *Args*\r\n",
    "        - rpl (sc2reader.resources.Replay)\r\n",
    "            Replay being processed\r\n",
    "        - pid (int)\r\n",
    "            In-game id for the player being analysed.\r\n",
    "        - buildings (bool)=False\r\n",
    "            Flag indicating if the function should count buildings (True) \r\n",
    "            or troops (False)\r\n",
    "\r\n",
    "    *Returns*\r\n",
    "        dict\r\n",
    "            Tally of a player's started units during a match\r\n",
    "\r\n",
    "    \"\"\"\r\n",
    "    player_race = rpl.player[pid].play_race\r\n",
    "    # In this function the intervals count the units from the begining of\r\n",
    "    # the interval to the end of the interval.\r\n",
    "    interval_marks = [(0, rpl.length.seconds),\r\n",
    "                      (0, INTERVALS_BASE),\r\n",
    "                      (INTERVALS_BASE, INTERVALS_BASE*2),\r\n",
    "                      (INTERVALS_BASE*2, rpl.length.seconds)]\r\n",
    "\r\n",
    "    # The units_df contains all the units owned by player (pid) in a\r\n",
    "    # replay (rpl), with their birth and death times\r\n",
    "    units_df = composition_df(rpl, pid, buildings=buildings)\r\n",
    "\r\n",
    "    #\r\n",
    "    army_counts = [count_active_units(units_df,\r\n",
    "                                      start= inter_start,\r\n",
    "                                      end=inter_end)['started']\r\n",
    "                   for inter_start, inter_end in interval_marks]\r\n",
    "\r\n",
    "    indexes = ['whole_started', \r\n",
    "               'early_started', \r\n",
    "               'mid_started',\r\n",
    "               'late_started']\r\n",
    "    \r\n",
    "    fin_dict = complete_count(army_counts, player_race, buildings)\r\n",
    "    \r\n",
    "    return {name: comp for name, comp in zip(indexes,fin_dict)}"
   ]
  },
  {
   "cell_type": "code",
   "execution_count": null,
   "metadata": {},
   "outputs": [],
   "source": [
    "army_training_count = count_started(sing_zerg, 2)\r\n",
    "atc_df = pd.DataFrame(army_training_count)\r\n",
    "\r\n",
    "# print(atc_df.to_markdown())"
   ]
  },
  {
   "cell_type": "markdown",
   "metadata": {},
   "source": [
    "|                  |   whole_started |   early_started |   mid_started |   late_started |\n",
    "|:-----------------|----------------:|----------------:|--------------:|---------------:|\n",
    "| baneling         |               0 |               0 |             0 |              0 |\n",
    "| broodling        |               0 |               0 |             0 |              0 |\n",
    "| broodlord        |               0 |               0 |             0 |              0 |\n",
    "| corruptor        |               0 |               0 |             0 |              0 |\n",
    "| hydralisk        |               3 |               0 |             0 |              3 |\n",
    "| infestedterran   |               0 |               0 |             0 |              0 |\n",
    "| infestor         |               0 |               0 |             0 |              0 |\n",
    "| infestorburrowed |               0 |               0 |             0 |              0 |\n",
    "| locust           |               0 |               0 |             0 |              0 |\n",
    "| lurker           |               0 |               0 |             0 |              0 |\n",
    "| mutalisk         |               0 |               0 |             0 |              0 |\n",
    "| overlord         |              12 |               3 |             7 |              2 |\n",
    "| overseer         |               0 |               0 |             0 |              0 |\n",
    "| queen            |               7 |               1 |             4 |              2 |\n",
    "| ravager          |              14 |               1 |            13 |              0 |\n",
    "| roach            |               0 |               0 |             0 |              0 |\n",
    "| swarmhost        |               0 |               0 |             0 |              0 |\n",
    "| ultralisk        |               0 |               0 |             0 |              0 |\n",
    "| viper            |               0 |               0 |             0 |              0 |\n",
    "| zergling         |              10 |               0 |             0 |             10 |"
   ]
  },
  {
   "cell_type": "code",
   "execution_count": null,
   "metadata": {},
   "outputs": [],
   "source": [
    "buildings_started_count = count_started(sing_zerg, 2, buildings=True)\r\n",
    "bsc_df = pd.DataFrame(buildings_started_count)\r\n",
    "\r\n",
    "# print(bsc_df.to_markdown())"
   ]
  },
  {
   "cell_type": "markdown",
   "metadata": {},
   "source": [
    "|                  |   whole_started |   early_started |   mid_started |   late_started |\n",
    "|:-----------------|----------------:|----------------:|--------------:|---------------:|\n",
    "| banelingnest     |               0 |               0 |             0 |              0 |\n",
    "| creeptumor       |               2 |               1 |             1 |              0 |\n",
    "| evolutionchamber |               0 |               0 |             0 |              0 |\n",
    "| extractor        |               4 |               2 |             0 |              2 |\n",
    "| greaterspire     |               0 |               0 |             0 |              0 |\n",
    "| hatchery         |               0 |               0 |             0 |              0 |\n",
    "| hive             |               0 |               0 |             0 |              0 |\n",
    "| hydraliskden     |               1 |               0 |             0 |              1 |\n",
    "| infestationpit   |               0 |               0 |             0 |              0 |\n",
    "| lair             |               1 |               1 |             0 |              0 |\n",
    "| lurkerden        |               0 |               0 |             0 |              0 |\n",
    "| nydusnetwork     |               0 |               0 |             0 |              0 |\n",
    "| nydusworm        |               0 |               0 |             0 |              0 |\n",
    "| roachwarren      |               1 |               1 |             0 |              0 |\n",
    "| spawningpool     |               1 |               1 |             0 |              0 |\n",
    "| spinecrawler     |               0 |               0 |             0 |              0 |\n",
    "| spire            |               0 |               0 |             0 |              0 |\n",
    "| sporecrawler     |               0 |               0 |             0 |              0 |\n",
    "| ultraliskcavern  |               0 |               0 |             0 |              0 |"
   ]
  },
  {
   "cell_type": "markdown",
   "metadata": {},
   "source": [
    "### Base Expansion\n",
    "\n",
    "To build their economy, players will, in most cases, establish more than one base. These expansions allow them to more speedily and efficiently collect and prevent running out of resources. To be precise, I define _expansion_ as building one of the main base structures for the player's play race in a location that allows for exploiting complementary reservoirs of resources. These main structures are a Nexus for Protoss, a Command Center for Terrans, or a Hatchery, Lair or Hive for the Zerg.\n",
    "\n",
    "In this case, I am using the speed with which players build their expansions and the amounts they maintain at each stage as indicators for their economic development strategy.\n",
    "\n",
    "In this regard, I define two exportable functions that extract two performance indicators:\n",
    "\n",
    "- `get_expan_times` extracts the time of the first three expansions\n",
    "- `get_expan_counts` exports a dictionary containing the expansion counts for the differt game stages."
   ]
  },
  {
   "cell_type": "code",
   "execution_count": null,
   "metadata": {},
   "outputs": [],
   "source": [
    "#export\r\n",
    "def get_expan_times(rpl: sc2reader.resources.Replay,\r\n",
    "                        pid: int) -> dict[str, float]:\r\n",
    "    \"\"\"Gets a dictionary with the finished_at times for a player's first\r\n",
    "    three expansions.\r\n",
    "\r\n",
    "    The functions searches a player's list of buildings and extracts the\r\n",
    "    times (in seconds) when the first three base buildings are finished.\r\n",
    "    These times are indexed as expan_1, expan_2 and expan_3.\r\n",
    "\r\n",
    "    If the player had less than three expansions during the game the\r\n",
    "    missing values are filled with np.nan. If they have more than 3\r\n",
    "    expansions, the rest of the expansions are ignored.\r\n",
    "\r\n",
    "    *Args*\r\n",
    "        - rpl (sc2reader.resources.Replay)\r\n",
    "                Replay containing the data of the match.\r\n",
    "        - pid (int)\r\n",
    "                Player id during the match.\r\n",
    "\r\n",
    "    *Returns*\r\n",
    "        - dict[str, float]\r\n",
    "                Dictionary containing the names and completion times of the\r\n",
    "                player's first three expansions.\r\n",
    "    \"\"\"\r\n",
    "    max_expan = 4\r\n",
    "    expansions = (f'expan_{num}' for num in range(1,max_expan))\r\n",
    "\r\n",
    "    units_df = composition_df(rpl, pid, buildings=True)\r\n",
    "\r\n",
    "\r\n",
    "    bases_df = units_df.loc[units_df['Unit'].isin(BASES[rpl.\r\n",
    "                                                        player[pid].\r\n",
    "                                                        play_race])\r\n",
    "                            & units_df['enter_game_time'].notna()\r\n",
    "                            & units_df['enter_game_time'] != 0]\r\n",
    "    \r\n",
    "    if (max_expan - 1) < len(bases_df):\r\n",
    "\r\n",
    "        return {expan: u\r\n",
    "                for expan, u\r\n",
    "                in zip(expansions,\r\n",
    "                       bases_df.enter_game_time.iloc[:2])}\r\n",
    "\r\n",
    "    else:\r\n",
    "        return {expan: u\r\n",
    "                for expan, u\r\n",
    "                in zip_longest(expansions,\r\n",
    "                               bases_df.enter_game_time,\r\n",
    "                               fillvalue= np.nan)}"
   ]
  },
  {
   "cell_type": "markdown",
   "metadata": {},
   "source": [
    "The code bellow shows how `get_expan_times` works."
   ]
  },
  {
   "cell_type": "code",
   "execution_count": null,
   "metadata": {},
   "outputs": [
    {
     "name": "stdout",
     "output_type": "stream",
     "text": [
      "{'expan_1': 344.77611940298505, 'expan_2': 791.4626865671642, 'expan_3': 984.9850746268656}\n"
     ]
    }
   ],
   "source": [
    "print(get_expan_times(zustates, 1))\r\n"
   ]
  },
  {
   "cell_type": "code",
   "execution_count": null,
   "metadata": {},
   "outputs": [
    {
     "name": "stdout",
     "output_type": "stream",
     "text": [
      "4\n",
      "False\n",
      "Case1\n",
      "{'expan_1': 261.0943458686441, 'expan_2': 515.4802039194916}\n"
     ]
    }
   ],
   "source": [
    "test = test_rpl = sc2reader.load_replay(\"./test_replays/TestProfilerBatch/2000 Atmospheres LE (14).SC2Replay\")\r\n",
    "print(get_expan_times(test, 2))"
   ]
  },
  {
   "cell_type": "code",
   "execution_count": null,
   "metadata": {},
   "outputs": [],
   "source": [
    "#export\r\n",
    "def get_expan_counts(rpl: sc2reader.resources.Replay,\r\n",
    "                        pid: int) -> dict[str, int]:\r\n",
    "    '''The function counts the number of base structures a player built \r\n",
    "    at each game stage.\r\n",
    "\r\n",
    "    *Args*\r\n",
    "        - rpl (sc2reader.resources.Replay)\r\n",
    "            Replay containing a match's information.\r\n",
    "        - pid (int)\r\n",
    "            The match player ID for the player being consider in the \r\n",
    "            analysis.\r\n",
    "\r\n",
    "    *Returns*\r\n",
    "        - dict[str, int]\r\n",
    "            Dictionary containing the base count for the whole, early, \r\n",
    "            mid and late stages of the game.\r\n",
    "\r\n",
    "    '''\r\n",
    "\r\n",
    "    units_df = composition_df(rpl, pid, buildings=True)\r\n",
    "    units_df['real_time'] = units_df['enter_game_time']\r\n",
    "\r\n",
    "    interval_units_dfs = gen_interval_sub_dfs(rpl.length.seconds,\r\n",
    "                                              units_df,\r\n",
    "                                              ['Unit','enter_game_time'])\r\n",
    "    \r\n",
    "    expansion_count_names  = ['total_expan',\r\n",
    "                              'earlyg_expan', \r\n",
    "                              'midg_expan', \r\n",
    "                              'lateg_expan']\r\n",
    "\r\n",
    "    expansion_counts = dict()\r\n",
    "    for in_name, in_df in zip(expansion_count_names, interval_units_dfs):\r\n",
    "        interval_df = in_df.loc[units_df['Unit'].isin(BASES[rpl.\r\n",
    "                                                        player[pid].\r\n",
    "                                                        play_race])\r\n",
    "                                & units_df['enter_game_time'].ne(0)]\r\n",
    "\r\n",
    "        expansion_counts[in_name] = len(interval_df)\r\n",
    "\r\n",
    "\r\n",
    "    return expansion_counts\r\n",
    "    "
   ]
  },
  {
   "cell_type": "markdown",
   "metadata": {},
   "source": [
    "The following are two examples of the use of `get_expan_counts`."
   ]
  },
  {
   "cell_type": "code",
   "execution_count": null,
   "metadata": {},
   "outputs": [
    {
     "data": {
      "text/plain": [
       "{'total_expan': 3, 'earlyg_expan': 0, 'midg_expan': 1, 'lateg_expan': 2}"
      ]
     },
     "execution_count": null,
     "metadata": {},
     "output_type": "execute_result"
    }
   ],
   "source": [
    "exp_counts = get_expan_counts(zustates, 1)\r\n",
    "exp_counts"
   ]
  },
  {
   "cell_type": "code",
   "execution_count": null,
   "metadata": {},
   "outputs": [
    {
     "data": {
      "text/plain": [
       "{'total_expan': 2, 'earlyg_expan': 1, 'midg_expan': 0, 'lateg_expan': 1}"
      ]
     },
     "execution_count": null,
     "metadata": {},
     "output_type": "execute_result"
    }
   ],
   "source": [
    "exp_counts = get_expan_counts(sing_protoss, 1)\r\n",
    "exp_counts"
   ]
  },
  {
   "cell_type": "markdown",
   "metadata": {},
   "source": [
    "### Player Tech Update\n",
    "\n",
    "Beyond buildings and training units, the third way players can spend their resources is by researching tech updates.\n",
    "\n",
    "However, contrary to units and buildings, player objects do not store a list of tech upgrades. Thus, I need to use the match's `UpgradeCompleteEvents` to build this list. \n",
    "\n",
    "Another difference between tracking units and upgrades is that it makes no sense to count the occurrences of each update because players can only 'buy' them once during each match. For this reason, I record the second at which the update takes place instead. Based on this record, when building the player profiles, I can average the times a player researched each update to get a rough measurement of the game stage when they prefer to use them. At that moment, I can also count the number of times they research each upgrade to see what upgrades they favour.\n",
    "\n",
    "Bellow, I define the `list_player_upgrades` function, which returns a dictionary of all the player's race upgrades and when they were completed."
   ]
  },
  {
   "cell_type": "code",
   "execution_count": null,
   "metadata": {},
   "outputs": [],
   "source": [
    "#export\r\n",
    "def list_player_upgrades(rpl: sc2reader.resources.Replay,\r\n",
    "                         pid: int) -> dict[str, float]:\r\n",
    "    \"\"\"Lists the times at wich the player completed their updates\r\n",
    "    \"\"\"\r\n",
    "    player_race = rpl.player[pid].play_race\r\n",
    "\r\n",
    "    upg_events = {upg_event.upgrade_type_name\r\n",
    "        : calc_realtime_index(upg_event.second, rpl)\r\n",
    "        for upg_event in rpl.events\r\n",
    "        if isinstance(upg_event, sc2reader.events.tracker.UpgradeCompleteEvent)\r\n",
    "        and upg_event.pid == pid\r\n",
    "        and upg_event.upgrade_type_name in RACE_UPGRADES[player_race]}\r\n",
    "\r\n",
    "    return {upgrade_name: upg_events.get(upgrade_name, 0)\r\n",
    "            for upgrade_name in RACE_UPGRADES[player_race]}"
   ]
  },
  {
   "cell_type": "markdown",
   "metadata": {},
   "source": [
    "The following table shows a sample result from applaying `list_player_upgrades` on a replay."
   ]
  },
  {
   "cell_type": "code",
   "execution_count": null,
   "metadata": {},
   "outputs": [],
   "source": [
    "player1_upgrades = list_player_upgrades(sing_zerg, 1)\r\n",
    "# print(pd.DataFrame(player1_upgrades, index=['P_1 Upgrdes']).T.to_markdown())"
   ]
  },
  {
   "cell_type": "markdown",
   "metadata": {},
   "source": [
    "|                                    |   P_1 Upgrdes |\n",
    "|:-----------------------------------|--------------:|\n",
    "| BansheeCloak                       |         0     |\n",
    "| BansheeSpeed                       |         0     |\n",
    "| BattlecruiserEnableSpecializations |         0     |\n",
    "| CycloneLockOnDamageUpgrade         |       546.304 |\n",
    "| DrillClaws                         |       427.76  |\n",
    "| EnhancedShockwaves                 |         0     |\n",
    "| HiSecAutoTracking                  |         0     |\n",
    "| HighCapacityBarrels                |       347.778 |\n",
    "| LiberatorAGRangeUpgrade            |         0     |\n",
    "| MedivacIncreaseSpeedBoost          |         0     |\n",
    "| PersonalCloaking                   |         0     |\n",
    "| PunisherGrenades                   |         0     |\n",
    "| RavenCorvidReactor                 |         0     |\n",
    "| ShieldWall                         |         0     |\n",
    "| SmartServos                        |       526.309 |\n",
    "| Stimpack                           |         0     |\n",
    "| TerranBuildingArmor                |         0     |\n",
    "| TerranInfantryArmorsLevel1         |         0     |\n",
    "| TerranInfantryArmorsLevel2         |         0     |\n",
    "| TerranInfantryArmorsLevel3         |         0     |\n",
    "| TerranInfantryWeaponsLevel1        |         0     |\n",
    "| TerranInfantryWeaponsLevel2        |         0     |\n",
    "| TerranInfantryWeaponsLevel3        |         0     |\n",
    "| TerranShipWeaponsLevel1            |         0     |\n",
    "| TerranShipWeaponsLevel2            |         0     |\n",
    "| TerranShipWeaponsLevel3            |         0     |\n",
    "| TerranVehicleAndShipArmorsLevel1   |         0     |\n",
    "| TerranVehicleAndShipArmorsLevel2   |         0     |\n",
    "| TerranVehicleAndShipArmorsLevel3   |         0     |\n",
    "| TerranVehicleWeaponsLevel1         |       574.155 |\n",
    "| TerranVehicleWeaponsLevel2         |         0     |\n",
    "| TerranVehicleWeaponsLevel3         |         0     |"
   ]
  },
  {
   "cell_type": "code",
   "execution_count": null,
   "metadata": {},
   "outputs": [
    {
     "name": "stdout",
     "output_type": "stream",
     "text": [
      "Converted 00_Comp_model.ipynb.\n",
      "Converted 01_01_ingest_and_clustering.ipynb.\n",
      "Converted 01_summarise_rpl.ipynb.\n",
      "Converted 02_handle_tracker_events.ipynb.\n",
      "Converted 03_macro_econ_parser.ipynb.\n",
      "Converted 04_build_parser.ipynb.\n",
      "Converted 05_handle_command_events.ipynb.\n",
      "Converted 06_selection_parser.ipynb.\n",
      "Converted 07_ingest.ipynb.\n",
      "Converted index.ipynb.\n"
     ]
    }
   ],
   "source": [
    "#hide\r\n",
    "from nbdev.export import notebook2script\r\n",
    "notebook2script()"
   ]
  },
  {
   "cell_type": "code",
   "execution_count": null,
   "metadata": {},
   "outputs": [],
   "source": []
  },
  {
   "cell_type": "code",
   "execution_count": null,
   "metadata": {},
   "outputs": [],
   "source": []
  }
 ],
 "metadata": {
  "kernelspec": {
   "display_name": "Python 3.9.6 64-bit ('sctraining_env': conda)",
   "name": "python3"
  }
 },
 "nbformat": 4,
 "nbformat_minor": 2
}
