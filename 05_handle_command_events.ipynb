{
 "cells": [
  {
   "cell_type": "code",
   "execution_count": null,
   "metadata": {},
   "outputs": [],
   "source": [
    "#default_exp ingest.handle_command_events"
   ]
  },
  {
   "cell_type": "code",
   "execution_count": null,
   "metadata": {},
   "outputs": [],
   "source": [
    "#hide\r\n",
    "from nbdev.showdoc import *"
   ]
  },
  {
   "cell_type": "code",
   "execution_count": null,
   "metadata": {},
   "outputs": [],
   "source": [
    "#exporti\r\n",
    "\r\n",
    "# Load Module's dependencies\r\n",
    "from pathlib import Path\r\n",
    "from pprint import pprint\r\n",
    "from typing import *\r\n",
    "\r\n",
    "import json\r\n",
    "import pandas as pd\r\n",
    "import fastcore.test as ft\r\n"
   ]
  },
  {
   "cell_type": "code",
   "execution_count": null,
   "metadata": {},
   "outputs": [],
   "source": [
    "#exporti\r\n",
    "import sc2reader\r\n",
    "from sc2reader.engine.plugins import SelectionTracker, APMTracker \r\n",
    "sc2reader.engine.register_plugin(SelectionTracker()) \r\n",
    "sc2reader.engine.register_plugin(APMTracker())\r\n",
    "\r\n",
    "from sc_training.ingest.handle_tracker_event import *\r\n",
    "from sc_training.ingest.macro_econ_parser import *"
   ]
  },
  {
   "cell_type": "markdown",
   "metadata": {},
   "source": [
    "# Chapter 5 - Handling Command Events"
   ]
  },
  {
   "cell_type": "markdown",
   "metadata": {},
   "source": [
    "In this chapter, I review the `GameEvent` and `CommandEvent` objects as sources of information about the players' tactical characteristics. Here I also develop the functions contained in `handle_command_events` module. The module can be used to process some of the player's tactical performance indicators.\r\n",
    "\r\n",
    "In the previous modules, I focussed on the indicators I could extract and build based on the information in a replay's `PlayerStatsEvents`. For the most part, these indicators revolve around economic and building indicators, which point to the game's strategic (i.e. macro) dimension. Meanwhile, beyond what a player's build orders and army composition may tangentially suggest, these indicators don't seem to reveal much about the game's tactical (i.e. micro) dimension. Moreover, the game itself and other applications like [sc2replaystats](https://sc2replaystats.com/) offer players little information in this regard.\r\n",
    "\r\n",
    "One indicator gets some attention in this respect, the average actions per minute (APM). This indicator points to how fast players can play. The assumption around this marker is that if players have high APMs, this indicates that they use many of the game commands directly to control their unit's actions. Thus, I will take this indicator into account when building the player's profiles. Thankfully, sc2reader includes the `APMTracker` pug-in that facilitates the collection of this information [(Kim, 2015, p. 16-17)](https://sc2reader.readthedocs.io/en/latest/plugins.html#apmtracker).\r\n",
    "\r\n",
    "> Tip: To activate `APMTracker` one has to import it into the module and setit up as part of sc2reader's engine, as shown in the following code:"
   ]
  },
  {
   "cell_type": "code",
   "execution_count": null,
   "metadata": {},
   "outputs": [],
   "source": [
    "from sc2reader.engine.plugins import APMTracker\r\n",
    "sc2reader.engine.register_plugin(APMTracker())"
   ]
  },
  {
   "cell_type": "markdown",
   "metadata": {},
   "source": [
    "\r\n",
    "\r\n",
    "The following code loads this notebook's sample replays and demonstrates the use of `APMTracker` to extract this indicator."
   ]
  },
  {
   "cell_type": "code",
   "execution_count": null,
   "metadata": {},
   "outputs": [],
   "source": [
    "# \r\n",
    "# Load sample replays\r\n",
    "RPS_PATH = Path(\"./test_replays\")\r\n",
    "\r\n",
    "game_path = str(RPS_PATH/\"Jagannatha LE.SC2Replay\")\r\n",
    "single_replay = sc2reader.load_replay(game_path)\r\n",
    "single_replay\r\n",
    "\r\n",
    "ta_test = sc2reader.load_replay(str(RPS_PATH/'Terran_abilities.SC2Replay'))\r\n",
    "pa_test = sc2reader.load_replay(str(RPS_PATH/'ProtossAbilities.SC2Replay'))\r\n",
    "\r\n",
    "tms_test = sc2reader.load_replay(str(RPS_PATH/'TMovesSelect.SC2Replay'))\r\n",
    "pms_test = sc2reader.load_replay(str(RPS_PATH/'p_move_test.SC2Replay'))"
   ]
  },
  {
   "cell_type": "code",
   "execution_count": null,
   "metadata": {},
   "outputs": [
    {
     "name": "stdout",
     "output_type": "stream",
     "text": [
      "39.661016949152604\n"
     ]
    }
   ],
   "source": [
    "# \r\n",
    "# Given APMTracker is enable Player objects have a avg_apm attribute\r\n",
    "p1_avg_apm = single_replay.player[1].avg_apm\r\n",
    "print(p1_avg_apm)"
   ]
  },
  {
   "cell_type": "markdown",
   "metadata": {},
   "source": [
    "## GameEvents\r\n",
    "\r\n",
    "The problem is that this APM tells the observer little of what actions players use and when. Looking beyond this indicator, in this module, I define the functions `calc_spe_abil_ratios`, `get_prefered_spec_abil` and `calc_attack_ratio` . These functions use the information stored in the `Replay's` `GameEvents` to infer several measurements that quantify some aspects of the players' tactical preferences.\r\n",
    "\r\n",
    "As explained in sc2reader's documentation:\r\n",
    "\r\n",
    "> : Game events are what the Starcraft II engine uses to reconstruct games [(Kim, 2015, p. 22)](https://sc2reader.readthedocs.io/en/latest/events/game.html).\r\n",
    "\r\n",
    "In particular, I focus on three of the `GameEvent`'s sub-classes, `CommandEvents` and, `SelectionEvents` and `ControlGroupEvents` (see <<Chapter 6 - Tracking Control Groups>>).\r\n",
    "\r\n",
    "First, I use the information stored in the `CommandEvents` to measure two elements: the ratio of attack orders and special abilities. On the one hand, the balance of attack orders vs the total number of commands partially describes a player's tactical aggressiveness.\r\n",
    "\r\n",
    "On the other, the use of special abilities suggests a level of awareness of the possibilities offered by different units and enough control to activate and use them. Furthermore, tallying the times a player uses the abilities provided by their race, I can infer part of their tactical preferences.\r\n",
    "\r\n",
    "In the following code, I can extract its `GameEvents`. "
   ]
  },
  {
   "cell_type": "code",
   "execution_count": null,
   "metadata": {},
   "outputs": [
    {
     "data": {
      "text/plain": [
       "5076"
      ]
     },
     "execution_count": null,
     "metadata": {},
     "output_type": "execute_result"
    }
   ],
   "source": [
    "TEST_MATCH = pa_test\r\n",
    "match_ge = [event for event in TEST_MATCH.events \r\n",
    "            if isinstance(event, sc2reader.events.game.GameEvent)]\r\n",
    "len(match_ge)"
   ]
  },
  {
   "cell_type": "markdown",
   "metadata": {},
   "source": [
    "## CommandEvents\r\n",
    "\r\n",
    "`CommandEvents` are generated and recorded every time a player orders a unit to do something during a match [(Kim, 2015, p. 22-24)](https://sc2reader.readthedocs.io/en/latest/events/game.html?highlight=commandevent#sc2reader.events.game.CommandEvent). These orders include building orders, some basic common commands or the use of a unit's special abilities. \r\n",
    "\r\n",
    "> Note: Based on these classes, I exclude building and upgrade orders from the micro-game analysis because they are already reflected on the macro-game analysis (see <<Chapter 3 - Parsing Macroeconomic Indicators>> and <<Chapter 4 -  Parsing Build Orders>>). \r\n",
    "\r\n",
    "For my analysis, I group the common commands (i.e. move, stop, patrol, hold position, follow, collect, attack) to expose play patterns shared by all units. Similarly, I review the use of special abilities separately because it can unveil some of the player's preferences regarding the unique potential of their play race.\r\n",
    "\r\n",
    "The following code shows how I use the events' attributes to classify the command events. In it, I use some internal constants that store multiple lists I use to filter the different categories of commands. The constants include such as `ABILITIES`, `COMMON_ABILITIES` and `MOVE_COMMANDS`. The reader may review the implementation and values of these constants in the module's source code or the development notebook. Regardless, it is worth clarifying that `ABILITIES` lists capabilities that belong to specific units or buildings not automatically executed by the game. These abilities requiere the players' direct orders to be performed.\r\n",
    "\r\n",
    "> Warning: The following list comprehensions build on each other. This relationship means that the user should create them following the definition order shown below for the code to run correctly. "
   ]
  },
  {
   "cell_type": "code",
   "execution_count": null,
   "metadata": {},
   "outputs": [],
   "source": [
    "#exporti\r\n",
    "#\r\n",
    "# Internal constants\r\n",
    "data_path = (Path(Path.cwd()/'data')\r\n",
    "             if Path('data').exists() else Path('../../data'))\r\n",
    "\r\n",
    "with open(data_path/'ability_list.json') as af:\r\n",
    "    ABILITIES = json.load(af)\r\n",
    "\r\n",
    "COMMON_ABILITIES = ['Attack',\r\n",
    "                    'Stop',\r\n",
    "                    'HoldPosition',\r\n",
    "                    'Patrol',\r\n",
    "                    'RightClick']\r\n",
    "\r\n",
    "MOVE_COMMAND = ['RightClick']"
   ]
  },
  {
   "cell_type": "code",
   "execution_count": null,
   "metadata": {},
   "outputs": [],
   "source": [
    "# \r\n",
    "# The following is a temporary variable for the examples.\r\n",
    "race_abilities = ABILITIES[TEST_MATCH.players[0].play_race]\r\n",
    "\r\n",
    "# First, I can use the events' types to extract all CommandEvents appart \r\n",
    "# from other GameEvents.\r\n",
    "commands = [com_e for com_e in match_ge\r\n",
    "            if isinstance(com_e, sc2reader.events.game.CommandEvent)\r\n",
    "            and com_e.pid == 0]\r\n",
    "\r\n",
    "# From that first list, I extract the commands linked to special abilities\r\n",
    "# used during the game as follows.\r\n",
    "special_comm = [com_e for com_e in match_ge \r\n",
    "                if isinstance(com_e, sc2reader.events.game.CommandEvent)\r\n",
    "                and com_e.pid == 0\r\n",
    "                and com_e.ability_name in race_abilities\r\n",
    "                and com_e.ability_name not in COMMON_ABILITIES]\r\n",
    "\r\n",
    "# I can also extract the commands related to upgrades and tech research.\r\n",
    "upgrades = [com_e for com_e in match_ge \r\n",
    "            if isinstance(com_e, sc2reader.events.game.CommandEvent)\r\n",
    "            and com_e.pid == 0\r\n",
    "            and com_e.has_ability\r\n",
    "            and not com_e.ability.is_build\r\n",
    "            and com_e.ability_name not in race_abilities\r\n",
    "            and com_e.ability_name not in COMMON_ABILITIES]\r\n",
    "\r\n",
    "\r\n",
    "# The following lists the common actions related to unit direction.\r\n",
    "common_comm = [com_e for com_e in match_ge \r\n",
    "             if isinstance(com_e, sc2reader.events.game.CommandEvent)\r\n",
    "             and com_e.pid == 0\r\n",
    "             and not com_e.ability.is_build\r\n",
    "             and com_e.ability.name in COMMON_ABILITIES\r\n",
    "             and com_e.ability_name in COMMON_ABILITIES]\r\n",
    "\r\n",
    "# While the code bellow lists the commands that are related to building.\r\n",
    "# In this case, I need two lists. \r\n",
    "# The first lsit is composed of the abilities that are labeled as\r\n",
    "# \"is_build\" \r\n",
    "build_comm1 = [com_e for com_e in match_ge\r\n",
    "            if isinstance(com_e, sc2reader.events.game.CommandEvent)\r\n",
    "            and com_e.pid == 0\r\n",
    "            and com_e.has_ability\r\n",
    "            and not com_e.ability_name in race_abilities\r\n",
    "            and com_e.ability.is_build]\r\n",
    "\r\n",
    "# The second list has no linked ability, but it includes commands that \r\n",
    "# order the construction of each race's vespene gas extraction facilities.\r\n",
    "build_comm2 = [com_e for com_e in match_ge\r\n",
    "            if isinstance(com_e, sc2reader.events.game.CommandEvent)\r\n",
    "            and com_e.pid == 0\r\n",
    "            and not com_e.has_ability\r\n",
    "            and (not com_e.ability.is_build\r\n",
    "               and 'Build' in com_e.ability_name)]\r\n"
   ]
  },
  {
   "cell_type": "markdown",
   "metadata": {},
   "source": [
    "I can verify the validity of this classification by adding all the lists lengths and confirming they have the same number of elements as the `CommandEvent` list."
   ]
  },
  {
   "cell_type": "code",
   "execution_count": null,
   "metadata": {},
   "outputs": [
    {
     "name": "stdout",
     "output_type": "stream",
     "text": [
      "Special abilities commands: 64\n",
      "Special abilities upgrades commands: 30\n",
      "Common commands: 180\n",
      "Build Commands: 78\n",
      "Build Vespene Extractor Facility Commands: 3\n",
      "Extras: 0\n",
      "Total sum: 355\n",
      "Total Commands: 355\n"
     ]
    }
   ],
   "source": [
    "extras = [com_e for com_e in match_ge\r\n",
    "        if isinstance(com_e, sc2reader.events.game.CommandEvent)\r\n",
    "        and com_e.pid == 0\r\n",
    "        and (com_e not in special_comm\r\n",
    "            and com_e not in upgrades\r\n",
    "            and com_e not in common_comm\r\n",
    "            and com_e not in build_comm1\r\n",
    "            and com_e not in build_comm2)]\r\n",
    "\r\n",
    "print(f'Special abilities commands: {len(special_comm)}')\r\n",
    "print(f'Special abilities upgrades commands: {len(upgrades)}')\r\n",
    "print(f'Common commands: {len(common_comm)}')\r\n",
    "print(f'Build Commands: {len(build_comm1)}')\r\n",
    "print(f'Build Vespene Extractor Facility Commands: {len(build_comm2)}')\r\n",
    "print(f'Extras: {len(extras)}')\r\n",
    "\r\n",
    "command_lists=[special_comm, \r\n",
    "              upgrades,\r\n",
    "              common_comm,\r\n",
    "              build_comm1,\r\n",
    "              build_comm2,\r\n",
    "              extras]\r\n",
    "\r\n",
    "sum_lists = sum([len(c_list) for c_list in command_lists])\r\n",
    "\r\n",
    "print(f'Total sum: {sum_lists}')\r\n",
    "print(f'Total Commands: {len(commands)}')\r\n"
   ]
  },
  {
   "cell_type": "markdown",
   "metadata": {},
   "source": [
    "Additionally, I run the following test to ensure that the sum above counts each element once to avoid double-counting some while ignoring others."
   ]
  },
  {
   "cell_type": "code",
   "execution_count": null,
   "metadata": {},
   "outputs": [],
   "source": [
    "lists=[special_comm, upgrades, common_comm, build_comm1, build_comm2]\r\n",
    "repeats = []\r\n",
    "for ind1, l1 in enumerate(lists):\r\n",
    "    for ind2, l2 in enumerate(lists):\r\n",
    "        if l1 != l2:\r\n",
    "            for e in l1:\r\n",
    "                if e in l2:\r\n",
    "                    repeats.append(e)\r\n",
    "\r\n",
    "ft.test_eq(len(repeats), 0)\r\n"
   ]
  },
  {
   "cell_type": "markdown",
   "metadata": {},
   "source": [
    "### Classifying common commands\r\n",
    "\r\n",
    "Beyond the command classification above, I can also sub-divide the common commands into distinct types. Upon some examination, I realise that these events relate to direct attacks, unit movement orders, or collection orders that tell units to gather Minerals or Vespene Gas.\r\n",
    "\r\n",
    "The following code illustrates how I can list the common commands into these categories."
   ]
  },
  {
   "cell_type": "code",
   "execution_count": null,
   "metadata": {},
   "outputs": [],
   "source": [
    "# \r\n",
    "# Group attack orders\r\n",
    "attacks = [att for att in common_comm\r\n",
    "        if att.ability.name == 'Attack']\r\n",
    "\r\n",
    "# Collection orders\r\n",
    "resources = ['Mineral', 'Vespene', 'Extractor', 'Refinary', 'Assimilator']\r\n",
    "collects = [coll for coll in common_comm\r\n",
    "           if hasattr(coll, 'target')\r\n",
    "           and (lambda event: any(map(lambda rsc: rsc in event.target.name, \r\n",
    "                                      resources))\r\n",
    "                if hasattr(event, 'target') else True)(coll)]\r\n",
    "\r\n",
    "# Orders to follow other units\r\n",
    "follows = [foll for foll in common_comm\r\n",
    "           if hasattr(foll, 'target')\r\n",
    "           and not (lambda event: any(map(lambda rsc: rsc in event.target.name,\r\n",
    "                                         resources))\r\n",
    "                if hasattr(event, 'target') else True)(foll)]\r\n",
    "\r\n",
    "# Other unit movement orders\r\n",
    "moves_names = ['Stop', 'Patrol', 'HoldPosition', 'RightClick']\r\n",
    "moves = [move for move in common_comm\r\n",
    "        if move.ability_name in moves_names\r\n",
    "        and move not in collects\r\n",
    "        and move not in follows]"
   ]
  },
  {
   "cell_type": "markdown",
   "metadata": {},
   "source": [
    "Once more, the following code verifies the classification."
   ]
  },
  {
   "cell_type": "code",
   "execution_count": null,
   "metadata": {},
   "outputs": [
    {
     "name": "stdout",
     "output_type": "stream",
     "text": [
      "Attacks: 12\n",
      "Collects: 23\n",
      "Follows: 23\n",
      "Moves: 116\n",
      "Extras: 0\n",
      "Common Commands: 180\n",
      "Total sum: 151\n"
     ]
    }
   ],
   "source": [
    "extras = [ext for ext in common_comm\r\n",
    "        if not(lambda x: any(map(lambda e_list: x not in e_list, \r\n",
    "                                 [attacks, moves, collects])))(ext)]\r\n",
    "\r\n",
    "print(f'Attacks: {len(attacks)}')\r\n",
    "print(f'Collects: {len(collects)}')\r\n",
    "print(f'Follows: {len(collects)}')\r\n",
    "print(f'Moves: {len(moves)}')\r\n",
    "print(f'Extras: {len(extras)}')\r\n",
    "\r\n",
    "command_lists=[attacks, \r\n",
    "              collects,\r\n",
    "              moves,\r\n",
    "              extras]\r\n",
    "\r\n",
    "sum_lists = sum([len(c_list) for c_list in command_lists])\r\n",
    "\r\n",
    "print(f'Common Commands: {len(common_comm)}')\r\n",
    "print(f'Total sum: {sum_lists}')\r\n",
    "\r\n",
    "ft.test_eq(len(extras),0)"
   ]
  },
  {
   "cell_type": "code",
   "execution_count": null,
   "metadata": {},
   "outputs": [],
   "source": [
    "lists=[attacks, collects, follows, moves, extras]\r\n",
    "\r\n",
    "repeats = []\r\n",
    "for ind1, l1 in enumerate(lists):\r\n",
    "    for ind2, l2 in enumerate(lists):\r\n",
    "        if l1 != l2:\r\n",
    "            for e in l1:\r\n",
    "                if e in l2:\r\n",
    "                    repeats.append(e)\r\n",
    "\r\n",
    "ft.test_eq(len(repeats), 0)"
   ]
  },
  {
   "cell_type": "markdown",
   "metadata": {},
   "source": [
    "## Exportable Functions\r\n",
    "\r\n",
    "In this section, I define this `handle_command_events` exportable functions. These functions use the `CommandEvent` classification discussed above to calculate several micro-game performance indicators.\r\n",
    "\r\n",
    "First, I define the function `calc_spe_abil_ratios`. In this function, I use the special abilities list to calculate the ratio between them and the total commands executed by the player. With this ratio, I can quantify the use of these abilities. The measurement helps me separate players that use their race's unique capabilities from those who do not.\r\n",
    "\r\n",
    "> Note: Following the logic set in previous modules, I define these functions to calculate all indicators for the early, mid, late and whole game. Although I do this to remain consistent, I also think this level of detail makes sense given how players have access to different units and abilities at various game stages.\r\n"
   ]
  },
  {
   "cell_type": "code",
   "execution_count": null,
   "metadata": {},
   "outputs": [],
   "source": [
    "#exporti\r\n",
    "def build_commands_df(rpl: sc2reader.resources.Replay,\r\n",
    "                events: list[sc2reader.events.game.GameEvent]) -> pd.DataFrame:\r\n",
    "\r\n",
    "    df_columns =  ['real_time', 'second', 'ability_name']\r\n",
    "\r\n",
    "    commands_df = pd.DataFrame([[calc_realtime_index(com_e.second, rpl),\r\n",
    "                            com_e.second,\r\n",
    "                            com_e.ability_name]\r\n",
    "                        for com_e in events], columns= df_columns)\r\n",
    "\r\n",
    "    return commands_df"
   ]
  },
  {
   "cell_type": "code",
   "execution_count": null,
   "metadata": {},
   "outputs": [],
   "source": [
    "#export\r\n",
    "\r\n",
    "def calc_spe_abil_ratios(rpl: sc2reader.resources.Replay, \r\n",
    "                         pid: int) -> dict[float]:\r\n",
    "    '''\r\n",
    "    Extracts a ratio from 0 to 1 that quantifies the use use of special \r\n",
    "    abilities. \r\n",
    "\r\n",
    "    The special abilities ratio (sar) indicates the proportion of special \r\n",
    "    abilities to general commands executed by the player.\r\n",
    "\r\n",
    "    *Args*\r\n",
    "        - rpl (sc2reader.resources.Replay)\r\n",
    "            The replay being analysed.\r\n",
    "        - pid (int)\r\n",
    "            In-game player ID of the player being considered in the \r\n",
    "            analysis.\r\n",
    "    \r\n",
    "    *Returns*\r\n",
    "        - dict[float]\r\n",
    "            A dictionary containing the special abilities ratio (sar) \r\n",
    "            values for the whole, early, mid and late game.\r\n",
    "            \r\n",
    "    '''\r\n",
    "\r\n",
    "    replay_lenght = rpl.length.seconds\r\n",
    "    player_race = rpl.player[pid].play_race\r\n",
    "\r\n",
    "    commands_list = [com_e for com_e in rpl.events\r\n",
    "                if isinstance(com_e, sc2reader.events.game.CommandEvent)\r\n",
    "                and com_e.player.pid == pid]\r\n",
    "\r\n",
    "    abil_comm_list = [com_e for com_e in rpl.events\r\n",
    "                    if isinstance(com_e, sc2reader.events.game.CommandEvent)\r\n",
    "                    and com_e.player.pid == pid\r\n",
    "                    and com_e.ability_name in ABILITIES[player_race]\r\n",
    "                    and com_e.ability_name not in COMMON_ABILITIES]\r\n",
    "\r\n",
    "    commands = build_commands_df(rpl, commands_list)\r\n",
    "    abilities_commands = build_commands_df(rpl, abil_comm_list)\r\n",
    "\r\n",
    "    commands_dfs = gen_interval_sub_dfs(replay_lenght, commands,\r\n",
    "                                       ['real_time', 'ability_name'])\r\n",
    "    abilities_dfs = gen_interval_sub_dfs(replay_lenght, abilities_commands,\r\n",
    "                                        ['real_time', 'ability_name'])\r\n",
    "\r\n",
    "    ratios = [total_abilities / total_commands if total_commands != 0 else 0\r\n",
    "              for total_abilities, total_commands\r\n",
    "              in zip(map(len, abilities_dfs), map(len, commands_dfs))]\r\n",
    "    ratios_names = ['whole_sar', 'early_sar', 'mid_sar', 'late_sar']\r\n",
    "\r\n",
    "    return {nam: rat for nam, rat in zip(ratios_names, ratios)}"
   ]
  },
  {
   "cell_type": "code",
   "execution_count": null,
   "metadata": {},
   "outputs": [
    {
     "name": "stdout",
     "output_type": "stream",
     "text": [
      "{'early_sar': 0.045454545454545456,\n",
      " 'late_sar': 0.22007722007722008,\n",
      " 'mid_sar': 0.09615384615384616,\n",
      " 'whole_sar': 0.18028169014084508}\n"
     ]
    }
   ],
   "source": [
    "# \\\r\n",
    "# calc_spe_abil_ratios sample run\r\n",
    "test_restult = calc_spe_abil_ratios(TEST_MATCH, 1)\r\n",
    "pprint(test_restult)"
   ]
  },
  {
   "cell_type": "markdown",
   "metadata": {},
   "source": [
    "Meawhile, the function `get_prefered_spec_abil` calculates the player's first and second preferred abilities, if they use any. Again, this function separates the results for the early, mid and late games."
   ]
  },
  {
   "cell_type": "code",
   "execution_count": null,
   "metadata": {},
   "outputs": [],
   "source": [
    "#exporti\r\n",
    "\r\n",
    "def get_top_abilities(abilities: pd.DataFrame) -> tuple[str,str]:\r\n",
    "    prefered = None\r\n",
    "    second = None\r\n",
    "\r\n",
    "    ability_count = (abilities\r\n",
    "                    .groupby('ability_name')\r\n",
    "                    .size())\r\n",
    "\r\n",
    "    ability_count.sort_values(ascending=False, inplace=True)\r\n",
    "\r\n",
    "    if len(ability_count) > 0:\r\n",
    "        prefered = ability_count.index[0]\r\n",
    "\r\n",
    "    if len(ability_count) >= 2:\r\n",
    "        second = ability_count.index[1]\r\n",
    "\r\n",
    "    return prefered, second"
   ]
  },
  {
   "cell_type": "code",
   "execution_count": null,
   "metadata": {},
   "outputs": [],
   "source": [
    "#export\r\n",
    "def get_prefered_spec_abil(rpl: sc2reader.resources.Replay,\r\n",
    "                           pid: int) -> dict[str, tuple[str, int]]:\r\n",
    "\r\n",
    "    '''Extracts the names of the two special abilities a player uses the \r\n",
    "    most during the whole, early, mid and late games.\r\n",
    "\r\n",
    "    *Args*\r\n",
    "        - rpl (sc2reader.resources.Replay)\r\n",
    "            The replay being analysed.\r\n",
    "        - pid (int)\r\n",
    "            In-game player ID of the player being considered in the \r\n",
    "            analysis.\r\n",
    "    \r\n",
    "    *Returns*\r\n",
    "        - dict[str, tuple[str, int]]\r\n",
    "            The keys of the dictionary separate the preferences according\r\n",
    "            to the game stages. The dictionary values contain a tuple with \r\n",
    "            the first and second abilities the player uses the most in \r\n",
    "            that order. \r\n",
    "    '''\r\n",
    "    replay_lenght = rpl.length.seconds\r\n",
    "    player_race = rpl.player[pid].play_race\r\n",
    "\r\n",
    "\r\n",
    "    abil_comm_list = [com_e for com_e in rpl.events\r\n",
    "                    if isinstance(com_e, sc2reader.events.game.CommandEvent)\r\n",
    "                    and com_e.player.pid == pid\r\n",
    "                    and com_e.ability_name in ABILITIES[player_race]\r\n",
    "                    and com_e.ability_name not in COMMON_ABILITIES]\r\n",
    "\r\n",
    "    abilities_commands = build_commands_df(rpl, abil_comm_list)\r\n",
    "\r\n",
    "    abilities_dfs = gen_interval_sub_dfs(replay_lenght, abilities_commands,\r\n",
    "                                        ['real_time', 'ability_name'])\r\n",
    "\r\n",
    "    stage_names = ['whole_pref_sab', 'early_pref_sab',\r\n",
    "                   'mid_pref_sab', 'late_pref_sab']\r\n",
    "    preferences = [get_top_abilities(df) for df in abilities_dfs]\r\n",
    "\r\n",
    "    return {nam: pref for nam, pref in zip(stage_names, preferences)}"
   ]
  },
  {
   "cell_type": "code",
   "execution_count": null,
   "metadata": {},
   "outputs": [
    {
     "data": {
      "text/plain": [
       "{'whole_pref_sab': ('GravitonBeam', 'Feedback'),\n",
       " 'early_pref_sab': ('ChronoBoostEnergyCost', None),\n",
       " 'mid_pref_sab': ('GravitonBeam', 'AdeptPhaseShift'),\n",
       " 'late_pref_sab': ('GravitonBeam', 'Feedback')}"
      ]
     },
     "execution_count": null,
     "metadata": {},
     "output_type": "execute_result"
    }
   ],
   "source": [
    "# \r\n",
    "# get_prefered_spec_abil sample run\r\n",
    "prefered_abilities_test = get_prefered_spec_abil(TEST_MATCH, 1)\r\n",
    "prefered_abilities_test"
   ]
  },
  {
   "cell_type": "markdown",
   "metadata": {},
   "source": [
    "Meanwhile, I define `calc_attack_ratio` to estimate a player's aggressiveness. This function calculates the ratio between attack commands and the number of common commands as a potential indicator of a player's aggressiveness."
   ]
  },
  {
   "cell_type": "code",
   "execution_count": null,
   "metadata": {},
   "outputs": [],
   "source": [
    "#export\r\n",
    "def calc_attack_ratio(rpl: sc2reader.resources.Replay, \r\n",
    "                      pid: int) -> dict[str, float]:\r\n",
    "    '''Calculates the ratio between a player's attack orders and their \r\n",
    "    common commands.\r\n",
    "\r\n",
    "    Offers a ratio between attacks and other common commands such as move,\r\n",
    "    follow, stop, and hold position as a measurement of a player's tactical\r\n",
    "    aggresiveness.\r\n",
    "\r\n",
    "    *Args*\r\n",
    "        - rpl (sc2reader.resources.Replay)\r\n",
    "            The replay being analysed.\r\n",
    "        - pid (int)\r\n",
    "            In-game player ID of the player being considered in the \r\n",
    "            analysis.\r\n",
    "    \r\n",
    "    *Returns*\r\n",
    "        - dict[str, float]\r\n",
    "            A dictionary that separates a player's attack ratios for the \r\n",
    "            different stages of a match. \r\n",
    "    '''\r\n",
    "    replay_lenght = rpl.length.seconds\r\n",
    "\r\n",
    "    common_comms = [com_e for com_e in rpl.events\r\n",
    "                if isinstance(com_e, sc2reader.events.game.CommandEvent)\r\n",
    "                and com_e.player.pid == pid\r\n",
    "                and not com_e.ability.is_build\r\n",
    "                and com_e.ability.name in COMMON_ABILITIES\r\n",
    "                and com_e.ability_name in COMMON_ABILITIES]\r\n",
    "\r\n",
    "    attack_comms = [att for att in common_comms\r\n",
    "                if att.ability.name == 'Attack']\r\n",
    "\r\n",
    "    common_comms_dfs = build_commands_df(rpl, common_comms)\r\n",
    "    attack_comms_dfs = build_commands_df(rpl, attack_comms)\r\n",
    "\r\n",
    "    cc_subdf_list = gen_interval_sub_dfs(replay_lenght, common_comms_dfs,\r\n",
    "                                        ['real_time', 'ability_name'])\r\n",
    "\r\n",
    "    ca_subdf_list = gen_interval_sub_dfs(replay_lenght, attack_comms_dfs,\r\n",
    "                                        ['real_time', 'ability_name'])\r\n",
    "\r\n",
    "    \r\n",
    "    ratios_names = ['whole_att_ratio', 'early_att_ratio',\r\n",
    "                   'mid_att_ratio', 'late_att_ratio']\r\n",
    "    att_ratios = [round(len(att) / len(comm), ndigits=3)\r\n",
    "                  if len(comm) != 0 else 0 \r\n",
    "                  for att, comm in zip(ca_subdf_list, cc_subdf_list)]\r\n",
    "                  \r\n",
    "    return {nam: rat for nam, rat in zip(ratios_names, att_ratios)}"
   ]
  },
  {
   "cell_type": "code",
   "execution_count": null,
   "metadata": {},
   "outputs": [
    {
     "data": {
      "text/plain": [
       "{'whole_att_ratio': 0.067,\n",
       " 'early_att_ratio': 0.0,\n",
       " 'mid_att_ratio': 0.03,\n",
       " 'late_att_ratio': 0.084}"
      ]
     },
     "execution_count": null,
     "metadata": {},
     "output_type": "execute_result"
    }
   ],
   "source": [
    "# \r\n",
    "# calc_attack_ratio sample run\r\n",
    "test_attack_ratios = calc_attack_ratio(TEST_MATCH, 1)\r\n",
    "test_attack_ratios"
   ]
  },
  {
   "cell_type": "markdown",
   "metadata": {},
   "source": [
    "## References\r\n",
    "\r\n",
    "- Kim, G. (2015) 'sc2reader Documentation'. Available at: https://sc2reader.readthedocs.io/_/downloads/en/latest/pdf/."
   ]
  },
  {
   "cell_type": "code",
   "execution_count": null,
   "metadata": {},
   "outputs": [
    {
     "name": "stdout",
     "output_type": "stream",
     "text": [
      "Converted 01_summarise_rpl.ipynb.\n",
      "Converted 02_handle_tracker_events.ipynb.\n",
      "Converted 03_macro_econ_parser.ipynb.\n",
      "Converted 04_build_parser.ipynb.\n",
      "Converted 05_handle_command_events.ipynb.\n",
      "Converted 06_selection_parser.ipynb.\n",
      "Converted index.ipynb.\n"
     ]
    }
   ],
   "source": [
    "#hide\r\n",
    "from nbdev.export import notebook2script\r\n",
    "notebook2script()"
   ]
  },
  {
   "cell_type": "code",
   "execution_count": null,
   "metadata": {},
   "outputs": [],
   "source": []
  }
 ],
 "metadata": {
  "kernelspec": {
   "display_name": "Python 3.9.6 64-bit ('sctraining_env': conda)",
   "name": "python3"
  }
 },
 "nbformat": 4,
 "nbformat_minor": 2
}
