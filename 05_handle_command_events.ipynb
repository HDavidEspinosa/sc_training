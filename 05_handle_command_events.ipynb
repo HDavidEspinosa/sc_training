{
 "cells": [
  {
   "cell_type": "code",
   "execution_count": null,
   "metadata": {},
   "outputs": [],
   "source": [
    "#default_exp ingest.handle_command_events"
   ]
  },
  {
   "cell_type": "code",
   "execution_count": null,
   "metadata": {},
   "outputs": [],
   "source": [
    "#hide\n",
    "from nbdev.showdoc import *"
   ]
  },
  {
   "cell_type": "code",
   "execution_count": null,
   "metadata": {},
   "outputs": [],
   "source": [
    "#exporti\n",
    "\n",
    "# Load Module's dependencies\n",
    "from pathlib import Path\n",
    "from pprint import pprint\n",
    "from typing import *\n",
    "\n",
    "import json\n",
    "import pandas as pd\n",
    "import fastcore.test as ft\n"
   ]
  },
  {
   "cell_type": "code",
   "execution_count": null,
   "metadata": {},
   "outputs": [],
   "source": [
    "#exporti\n",
    "import sc2reader\n",
    "from sc2reader.engine.plugins import SelectionTracker, APMTracker \n",
    "sc2reader.engine.register_plugin(SelectionTracker()) \n",
    "sc2reader.engine.register_plugin(APMTracker())\n",
    "\n",
    "from sc_training.ingest.handle_tracker_event import *\n",
    "from sc_training.ingest.macro_econ_parser import *"
   ]
  },
  {
   "cell_type": "markdown",
   "metadata": {},
   "source": [
    "# Section 1.5 - Handling Command Events"
   ]
  },
  {
   "cell_type": "markdown",
   "metadata": {},
   "source": [
    "## Introduction\n",
    "\n",
    "In this chapter, I review the `GameEvent` and `CommandEvent` objects as sources of information about the players' tactical characteristics. Here I also develop the functions contained in `handle_command_events` module. The module can be used to process some of the player's tactical performance indicators.\n",
    "\n",
    "In the previous modules, I focussed on the indicators I could extract and build based on the information in a replay's `PlayerStatsEvents`. For the most part, these indicators revolve around economic and building indicators, which point to the game's strategic (i.e. macro) dimension. Meanwhile, beyond what a player's build orders and army composition may tangentially suggest, these indicators don't seem to reveal much about the game's tactical (i.e. micro) dimension. Moreover, the game itself and other applications like [sc2replaystats](https://sc2replaystats.com/) offer players little information in this regard.\n",
    "\n",
    "### Exportable Members\n",
    "\n",
    "- `calc_spe_abil_ratios`\n",
    "- `get_prefered_spec_abil`\n",
    "- `calc_attack_ratio`\n",
    "\n",
    "## APM\n",
    "\n",
    "One indicator gets some attention in this respect, the average actions per minute (APM). This indicator points to how fast players can play. The assumption around this marker is that if players have high APMs, this indicates that they use many of the game commands directly to control their unit's actions. Thus, I will take this indicator into account when building the player's profiles. Thankfully, sc2reader includes the `APMTracker` pug-in that facilitates the collection of this information [(Kim, 2015, p. 16-17)](https://sc2reader.readthedocs.io/en/latest/plugins.html#apmtracker).\n",
    "\n",
    "> Tip: To activate `APMTracker` one has to import it into the module and setit up as part of sc2reader's engine, as shown in the following code:"
   ]
  },
  {
   "cell_type": "code",
   "execution_count": null,
   "metadata": {},
   "outputs": [],
   "source": [
    "from sc2reader.engine.plugins import APMTracker\n",
    "sc2reader.engine.register_plugin(APMTracker())"
   ]
  },
  {
   "cell_type": "markdown",
   "metadata": {},
   "source": [
    "\n",
    "\n",
    "The following code loads this notebook's sample replays and demonstrates the use of `APMTracker` to extract this indicator."
   ]
  },
  {
   "cell_type": "code",
   "execution_count": null,
   "metadata": {},
   "outputs": [],
   "source": [
    "# \n",
    "# Load sample replays\n",
    "RPS_PATH = Path(\"./test_replays\")\n",
    "\n",
    "game_path = str(RPS_PATH/\"Jagannatha LE.SC2Replay\")\n",
    "single_replay = sc2reader.load_replay(game_path)\n",
    "single_replay\n",
    "\n",
    "ta_test = sc2reader.load_replay(str(RPS_PATH/'Terran_abilities.SC2Replay'))\n",
    "pa_test = sc2reader.load_replay(str(RPS_PATH/'ProtossAbilities.SC2Replay'))\n",
    "\n",
    "tms_test = sc2reader.load_replay(str(RPS_PATH/'TMovesSelect.SC2Replay'))\n",
    "pms_test = sc2reader.load_replay(str(RPS_PATH/'p_move_test.SC2Replay'))"
   ]
  },
  {
   "cell_type": "code",
   "execution_count": null,
   "metadata": {},
   "outputs": [
    {
     "name": "stdout",
     "output_type": "stream",
     "text": [
      "39.661016949152604\n"
     ]
    }
   ],
   "source": [
    "# \n",
    "# Given APMTracker is enable Player objects have a avg_apm attribute\n",
    "p1_avg_apm = single_replay.player[1].avg_apm\n",
    "print(p1_avg_apm)"
   ]
  },
  {
   "cell_type": "markdown",
   "metadata": {},
   "source": [
    "## GameEvents\n",
    "\n",
    "The problem is that this APM tells the observer little of what actions players use and when. Looking beyond this indicator, in this module, I define the functions `calc_spe_abil_ratios`, `get_prefered_spec_abil` and `calc_attack_ratio` . These functions use the information stored in the `Replay's` `GameEvents` to infer several measurements that quantify some aspects of the players' tactical preferences.\n",
    "\n",
    "As explained in sc2reader's documentation:\n",
    "\n",
    "> : Game events are what the Starcraft II engine uses to reconstruct games [(Kim, 2015, p. 22)](https://sc2reader.readthedocs.io/en/latest/events/game.html).\n",
    "\n",
    "In particular, I focus on three of the `GameEvent`'s sub-classes, `CommandEvents` and, `SelectionEvents` and `ControlGroupEvents` (see <<Chapter 6 - Tracking Control Groups>>).\n",
    "\n",
    "First, I use the information stored in the `CommandEvents` to measure two elements: the ratio of attack orders and special abilities. On the one hand, the balance of attack orders vs the total number of commands partially describes a player's tactical aggressiveness.\n",
    "\n",
    "On the other, the use of special abilities suggests a level of awareness of the possibilities offered by different units and enough control to activate and use them. Furthermore, tallying the times a player uses the abilities provided by their race, I can infer part of their tactical preferences.\n",
    "\n",
    "In the following code, I can extract its `GameEvents`. "
   ]
  },
  {
   "cell_type": "code",
   "execution_count": null,
   "metadata": {},
   "outputs": [
    {
     "data": {
      "text/plain": [
       "5076"
      ]
     },
     "execution_count": null,
     "metadata": {},
     "output_type": "execute_result"
    }
   ],
   "source": [
    "TEST_MATCH = pa_test\n",
    "match_ge = [event for event in TEST_MATCH.events \n",
    "            if isinstance(event, sc2reader.events.game.GameEvent)]\n",
    "len(match_ge)"
   ]
  },
  {
   "cell_type": "markdown",
   "metadata": {},
   "source": [
    "## CommandEvents\n",
    "\n",
    "`CommandEvents` are generated and recorded every time a player orders a unit to do something during a match [(Kim, 2015, p. 22-24)](https://sc2reader.readthedocs.io/en/latest/events/game.html?highlight=commandevent#sc2reader.events.game.CommandEvent). These orders include building orders, some basic common commands or the use of a unit's special abilities. \n",
    "\n",
    "> Note: Based on these classes, I exclude building and upgrade orders from the micro-game analysis because they are already reflected on the macro-game analysis (see <<Chapter 3 - Parsing Macroeconomic Indicators>> and <<Chapter 4 -  Parsing Build Orders>>). \n",
    "\n",
    "For my analysis, I group the common commands (i.e. move, stop, patrol, hold position, follow, collect, attack) to expose play patterns shared by all units. Similarly, I review the use of special abilities separately because it can unveil some of the player's preferences regarding the unique potential of their play race.\n",
    "\n",
    "The following code shows how I use the events' attributes to classify the command events. In it, I use some internal constants that store multiple lists I use to filter the different categories of commands. The constants include such as `ABILITIES`, `COMMON_ABILITIES` and `MOVE_COMMANDS`. The reader may review the implementation and values of these constants in the module's source code or the development notebook. Regardless, it is worth clarifying that `ABILITIES` lists capabilities that belong to specific units or buildings not automatically executed by the game. These abilities requiere the players' direct orders to be performed.\n",
    "\n",
    "> Warning: The following list comprehensions build on each other. This relationship means that the user should create them following the definition order shown below for the code to run correctly. "
   ]
  },
  {
   "cell_type": "code",
   "execution_count": null,
   "metadata": {},
   "outputs": [],
   "source": [
    "#exporti\n",
    "#\n",
    "# Internal constants\n",
    "data_path = (Path(Path.cwd()/'data')\n",
    "             if Path('data').exists() else Path('../../data'))\n",
    "\n",
    "with open(data_path/'ability_list.json') as af:\n",
    "    ABILITIES = json.load(af)\n",
    "\n",
    "COMMON_ABILITIES = ['Attack',\n",
    "                    'Stop',\n",
    "                    'HoldPosition',\n",
    "                    'Patrol',\n",
    "                    'RightClick']\n",
    "\n",
    "MOVE_COMMAND = ['RightClick']"
   ]
  },
  {
   "cell_type": "code",
   "execution_count": null,
   "metadata": {},
   "outputs": [],
   "source": [
    "# \n",
    "# The following is a temporary variable for the examples.\n",
    "race_abilities = ABILITIES[TEST_MATCH.players[0].play_race]\n",
    "\n",
    "# First, I can use the events' types to extract all CommandEvents appart \n",
    "# from other GameEvents.\n",
    "commands = [com_e for com_e in match_ge\n",
    "            if isinstance(com_e, sc2reader.events.game.CommandEvent)\n",
    "            and com_e.pid == 0]\n",
    "\n",
    "# From that first list, I extract the commands linked to special abilities\n",
    "# used during the game as follows.\n",
    "special_comm = [com_e for com_e in match_ge \n",
    "                if isinstance(com_e, sc2reader.events.game.CommandEvent)\n",
    "                and com_e.pid == 0\n",
    "                and com_e.ability_name in race_abilities\n",
    "                and com_e.ability_name not in COMMON_ABILITIES]\n",
    "\n",
    "# I can also extract the commands related to upgrades and tech research.\n",
    "upgrades = [com_e for com_e in match_ge \n",
    "            if isinstance(com_e, sc2reader.events.game.CommandEvent)\n",
    "            and com_e.pid == 0\n",
    "            and com_e.has_ability\n",
    "            and not com_e.ability.is_build\n",
    "            and com_e.ability_name not in race_abilities\n",
    "            and com_e.ability_name not in COMMON_ABILITIES]\n",
    "\n",
    "\n",
    "# The following lists the common actions related to unit direction.\n",
    "common_comm = [com_e for com_e in match_ge \n",
    "             if isinstance(com_e, sc2reader.events.game.CommandEvent)\n",
    "             and com_e.pid == 0\n",
    "             and not com_e.ability.is_build\n",
    "             and com_e.ability.name in COMMON_ABILITIES\n",
    "             and com_e.ability_name in COMMON_ABILITIES]\n",
    "\n",
    "# While the code bellow lists the commands that are related to building.\n",
    "# In this case, I need two lists. \n",
    "# The first lsit is composed of the abilities that are labeled as\n",
    "# \"is_build\" \n",
    "build_comm1 = [com_e for com_e in match_ge\n",
    "            if isinstance(com_e, sc2reader.events.game.CommandEvent)\n",
    "            and com_e.pid == 0\n",
    "            and com_e.has_ability\n",
    "            and not com_e.ability_name in race_abilities\n",
    "            and com_e.ability.is_build]\n",
    "\n",
    "# The second list has no linked ability, but it includes commands that \n",
    "# order the construction of each race's vespene gas extraction facilities.\n",
    "build_comm2 = [com_e for com_e in match_ge\n",
    "            if isinstance(com_e, sc2reader.events.game.CommandEvent)\n",
    "            and com_e.pid == 0\n",
    "            and not com_e.has_ability\n",
    "            and (not com_e.ability.is_build\n",
    "               and 'Build' in com_e.ability_name)]\n"
   ]
  },
  {
   "cell_type": "markdown",
   "metadata": {},
   "source": [
    "I can verify the validity of this classification by adding all the lists lengths and confirming they have the same number of elements as the `CommandEvent` list."
   ]
  },
  {
   "cell_type": "code",
   "execution_count": null,
   "metadata": {},
   "outputs": [
    {
     "name": "stdout",
     "output_type": "stream",
     "text": [
      "Special abilities commands: 64\n",
      "Special abilities upgrades commands: 30\n",
      "Common commands: 180\n",
      "Build Commands: 78\n",
      "Build Vespene Extractor Facility Commands: 3\n",
      "Extras: 0\n",
      "Total sum: 355\n",
      "Total Commands: 355\n"
     ]
    }
   ],
   "source": [
    "extras = [com_e for com_e in match_ge\n",
    "        if isinstance(com_e, sc2reader.events.game.CommandEvent)\n",
    "        and com_e.pid == 0\n",
    "        and (com_e not in special_comm\n",
    "            and com_e not in upgrades\n",
    "            and com_e not in common_comm\n",
    "            and com_e not in build_comm1\n",
    "            and com_e not in build_comm2)]\n",
    "\n",
    "print(f'Special abilities commands: {len(special_comm)}')\n",
    "print(f'Special abilities upgrades commands: {len(upgrades)}')\n",
    "print(f'Common commands: {len(common_comm)}')\n",
    "print(f'Build Commands: {len(build_comm1)}')\n",
    "print(f'Build Vespene Extractor Facility Commands: {len(build_comm2)}')\n",
    "print(f'Extras: {len(extras)}')\n",
    "\n",
    "command_lists=[special_comm, \n",
    "              upgrades,\n",
    "              common_comm,\n",
    "              build_comm1,\n",
    "              build_comm2,\n",
    "              extras]\n",
    "\n",
    "sum_lists = sum([len(c_list) for c_list in command_lists])\n",
    "\n",
    "print(f'Total sum: {sum_lists}')\n",
    "print(f'Total Commands: {len(commands)}')\n"
   ]
  },
  {
   "cell_type": "markdown",
   "metadata": {},
   "source": [
    "Additionally, I run the following test to ensure that the sum above counts each element once to avoid double-counting some while ignoring others."
   ]
  },
  {
   "cell_type": "code",
   "execution_count": null,
   "metadata": {},
   "outputs": [],
   "source": [
    "lists=[special_comm, upgrades, common_comm, build_comm1, build_comm2]\n",
    "repeats = []\n",
    "for ind1, l1 in enumerate(lists):\n",
    "    for ind2, l2 in enumerate(lists):\n",
    "        if l1 != l2:\n",
    "            for e in l1:\n",
    "                if e in l2:\n",
    "                    repeats.append(e)\n",
    "\n",
    "ft.test_eq(len(repeats), 0)\n"
   ]
  },
  {
   "cell_type": "markdown",
   "metadata": {},
   "source": [
    "### Classifying common commands\n",
    "\n",
    "Beyond the command classification above, I can also sub-divide the common commands into distinct types. Upon some examination, I realise that these events relate to direct attacks, unit movement orders, or collection orders that tell units to gather Minerals or Vespene Gas.\n",
    "\n",
    "The following code illustrates how I can list the common commands into these categories."
   ]
  },
  {
   "cell_type": "code",
   "execution_count": null,
   "metadata": {},
   "outputs": [],
   "source": [
    "# \n",
    "# Group attack orders\n",
    "attacks = [att for att in common_comm\n",
    "        if att.ability.name == 'Attack']\n",
    "\n",
    "# Collection orders\n",
    "resources = ['Mineral', 'Vespene', 'Extractor', 'Refinary', 'Assimilator']\n",
    "collects = [coll for coll in common_comm\n",
    "           if hasattr(coll, 'target')\n",
    "           and (lambda event: any(map(lambda rsc: rsc in event.target.name, \n",
    "                                      resources))\n",
    "                if hasattr(event, 'target') else True)(coll)]\n",
    "\n",
    "# Orders to follow other units\n",
    "follows = [foll for foll in common_comm\n",
    "           if hasattr(foll, 'target')\n",
    "           and not (lambda event: any(map(lambda rsc: rsc in event.target.name,\n",
    "                                         resources))\n",
    "                if hasattr(event, 'target') else True)(foll)]\n",
    "\n",
    "# Other unit movement orders\n",
    "moves_names = ['Stop', 'Patrol', 'HoldPosition', 'RightClick']\n",
    "moves = [move for move in common_comm\n",
    "        if move.ability_name in moves_names\n",
    "        and move not in collects\n",
    "        and move not in follows]"
   ]
  },
  {
   "cell_type": "markdown",
   "metadata": {},
   "source": [
    "Once more, the following code verifies the classification."
   ]
  },
  {
   "cell_type": "code",
   "execution_count": null,
   "metadata": {},
   "outputs": [
    {
     "name": "stdout",
     "output_type": "stream",
     "text": [
      "Attacks: 12\n",
      "Collects: 23\n",
      "Follows: 23\n",
      "Moves: 116\n",
      "Extras: 0\n",
      "Common Commands: 180\n",
      "Total sum: 151\n"
     ]
    }
   ],
   "source": [
    "extras = [ext for ext in common_comm\n",
    "        if not(lambda x: any(map(lambda e_list: x not in e_list, \n",
    "                                 [attacks, moves, collects])))(ext)]\n",
    "\n",
    "print(f'Attacks: {len(attacks)}')\n",
    "print(f'Collects: {len(collects)}')\n",
    "print(f'Follows: {len(collects)}')\n",
    "print(f'Moves: {len(moves)}')\n",
    "print(f'Extras: {len(extras)}')\n",
    "\n",
    "command_lists=[attacks, \n",
    "              collects,\n",
    "              moves,\n",
    "              extras]\n",
    "\n",
    "sum_lists = sum([len(c_list) for c_list in command_lists])\n",
    "\n",
    "print(f'Common Commands: {len(common_comm)}')\n",
    "print(f'Total sum: {sum_lists}')\n",
    "\n",
    "ft.test_eq(len(extras),0)"
   ]
  },
  {
   "cell_type": "code",
   "execution_count": null,
   "metadata": {},
   "outputs": [],
   "source": [
    "lists=[attacks, collects, follows, moves, extras]\n",
    "\n",
    "repeats = []\n",
    "for ind1, l1 in enumerate(lists):\n",
    "    for ind2, l2 in enumerate(lists):\n",
    "        if l1 != l2:\n",
    "            for e in l1:\n",
    "                if e in l2:\n",
    "                    repeats.append(e)\n",
    "\n",
    "ft.test_eq(len(repeats), 0)"
   ]
  },
  {
   "cell_type": "markdown",
   "metadata": {},
   "source": [
    "## Exportable Functions\n",
    "\n",
    "In this section, I define this `handle_command_events` exportable functions. These functions use the `CommandEvent` classification discussed above to calculate several micro-game performance indicators.\n",
    "\n",
    "First, I define the function `calc_spe_abil_ratios`. In this function, I use the special abilities list to calculate the ratio between them and the total commands executed by the player. With this ratio, I can quantify the use of these abilities. The measurement helps me separate players that use their race's unique capabilities from those who do not.\n",
    "\n",
    "> Note: Following the logic set in previous modules, I define these functions to calculate all indicators for the early, mid, late and whole game. Although I do this to remain consistent, I also think this level of detail makes sense given how players have access to different units and abilities at various game stages.\n"
   ]
  },
  {
   "cell_type": "code",
   "execution_count": null,
   "metadata": {},
   "outputs": [],
   "source": [
    "#exporti\n",
    "def build_commands_df(rpl: sc2reader.resources.Replay,\n",
    "                events: list[sc2reader.events.game.GameEvent]) -> pd.DataFrame:\n",
    "\n",
    "    df_columns =  ['real_time', 'second', 'ability_name']\n",
    "\n",
    "    commands_df = pd.DataFrame([[calc_realtime_index(com_e.second, rpl),\n",
    "                            com_e.second,\n",
    "                            com_e.ability_name]\n",
    "                        for com_e in events], columns= df_columns)\n",
    "\n",
    "    return commands_df"
   ]
  },
  {
   "cell_type": "code",
   "execution_count": null,
   "metadata": {},
   "outputs": [],
   "source": [
    "#export\n",
    "\n",
    "def calc_spe_abil_ratios(rpl: sc2reader.resources.Replay, \n",
    "                         pid: int) -> dict[float]:\n",
    "    '''\n",
    "    Extracts a ratio from 0 to 1 that quantifies the use use of special \n",
    "    abilities. \n",
    "\n",
    "    The special abilities ratio (sar) indicates the proportion of special \n",
    "    abilities to general commands executed by the player.\n",
    "\n",
    "    *Args*\n",
    "        - rpl (sc2reader.resources.Replay)\n",
    "            The replay being analysed.\n",
    "        - pid (int)\n",
    "            In-game player ID of the player being considered in the \n",
    "            analysis.\n",
    "    \n",
    "    *Returns*\n",
    "        - dict[float]\n",
    "            A dictionary containing the special abilities ratio (sar) \n",
    "            values for the whole, early, mid and late game.\n",
    "            \n",
    "    '''\n",
    "\n",
    "    replay_lenght = rpl.length.seconds\n",
    "    player_race = rpl.player[pid].play_race\n",
    "\n",
    "    commands_list = [com_e for com_e in rpl.events\n",
    "                if isinstance(com_e, sc2reader.events.game.CommandEvent)\n",
    "                and com_e.player.pid == pid]\n",
    "\n",
    "    abil_comm_list = [com_e for com_e in rpl.events\n",
    "                    if isinstance(com_e, sc2reader.events.game.CommandEvent)\n",
    "                    and com_e.player.pid == pid\n",
    "                    and com_e.ability_name in ABILITIES[player_race]\n",
    "                    and com_e.ability_name not in COMMON_ABILITIES]\n",
    "\n",
    "    commands = build_commands_df(rpl, commands_list)\n",
    "    abilities_commands = build_commands_df(rpl, abil_comm_list)\n",
    "\n",
    "    commands_dfs = gen_interval_sub_dfs(replay_lenght, commands,\n",
    "                                       ['real_time', 'ability_name'])\n",
    "    abilities_dfs = gen_interval_sub_dfs(replay_lenght, abilities_commands,\n",
    "                                        ['real_time', 'ability_name'])\n",
    "\n",
    "    ratios = [total_abilities / total_commands if total_commands != 0 else 0\n",
    "              for total_abilities, total_commands\n",
    "              in zip(map(len, abilities_dfs), map(len, commands_dfs))]\n",
    "    ratios_names = ['whole_sar', 'early_sar', 'mid_sar', 'late_sar']\n",
    "\n",
    "    return {nam: rat for nam, rat in zip(ratios_names, ratios)}"
   ]
  },
  {
   "cell_type": "code",
   "execution_count": null,
   "metadata": {},
   "outputs": [
    {
     "name": "stdout",
     "output_type": "stream",
     "text": [
      "{'early_sar': 0.045454545454545456,\n",
      " 'late_sar': 0.22007722007722008,\n",
      " 'mid_sar': 0.09615384615384616,\n",
      " 'whole_sar': 0.18028169014084508}\n"
     ]
    }
   ],
   "source": [
    "# \n",
    "# calc_spe_abil_ratios sample run\n",
    "test_restult = calc_spe_abil_ratios(TEST_MATCH, 1)\n",
    "pprint(test_restult)"
   ]
  },
  {
   "cell_type": "markdown",
   "metadata": {},
   "source": [
    "Meawhile, the function `get_prefered_spec_abil` calculates the player's first and second preferred abilities, if they use any. Again, this function separates the results for the early, mid and late games."
   ]
  },
  {
   "cell_type": "code",
   "execution_count": null,
   "metadata": {},
   "outputs": [],
   "source": [
    "#exporti\n",
    "\n",
    "def get_top_abilities(abilities: pd.DataFrame) -> tuple[str,str]:\n",
    "    prefered = None\n",
    "    second = None\n",
    "\n",
    "    ability_count = (abilities\n",
    "                    .groupby('ability_name')\n",
    "                    .size())\n",
    "\n",
    "    ability_count.sort_values(ascending=False, inplace=True)\n",
    "\n",
    "    if len(ability_count) > 0:\n",
    "        prefered = ability_count.index[0]\n",
    "\n",
    "    if len(ability_count) >= 2:\n",
    "        second = ability_count.index[1]\n",
    "\n",
    "    return prefered, second"
   ]
  },
  {
   "cell_type": "code",
   "execution_count": null,
   "metadata": {},
   "outputs": [],
   "source": [
    "#export\n",
    "def get_prefered_spec_abil(rpl: sc2reader.resources.Replay,\n",
    "                           pid: int) -> dict[str, tuple[str, int]]:\n",
    "\n",
    "    '''Extracts the names of the two special abilities a player uses the \n",
    "    most during the whole, early, mid and late games.\n",
    "\n",
    "    *Args*\n",
    "        - rpl (sc2reader.resources.Replay)\n",
    "            The replay being analysed.\n",
    "        - pid (int)\n",
    "            In-game player ID of the player being considered in the \n",
    "            analysis.\n",
    "    \n",
    "    *Returns*\n",
    "        - dict[str, tuple[str, int]]\n",
    "            The keys of the dictionary separate the preferences according\n",
    "            to the game stages. The dictionary values contain a tuple with \n",
    "            the first and second abilities the player uses the most in \n",
    "            that order. \n",
    "    '''\n",
    "    replay_lenght = rpl.length.seconds\n",
    "    player_race = rpl.player[pid].play_race\n",
    "\n",
    "\n",
    "    abil_comm_list = [com_e for com_e in rpl.events\n",
    "                    if isinstance(com_e, sc2reader.events.game.CommandEvent)\n",
    "                    and com_e.player.pid == pid\n",
    "                    and com_e.ability_name in ABILITIES[player_race]\n",
    "                    and com_e.ability_name not in COMMON_ABILITIES]\n",
    "\n",
    "    abilities_commands = build_commands_df(rpl, abil_comm_list)\n",
    "\n",
    "    abilities_dfs = gen_interval_sub_dfs(replay_lenght, abilities_commands,\n",
    "                                        ['real_time', 'ability_name'])\n",
    "\n",
    "    stage_names = ['whole_pref_sab', 'early_pref_sab',\n",
    "                   'mid_pref_sab', 'late_pref_sab']\n",
    "    preferences = [get_top_abilities(df) for df in abilities_dfs]\n",
    "\n",
    "    return {nam: pref for nam, pref in zip(stage_names, preferences)}"
   ]
  },
  {
   "cell_type": "code",
   "execution_count": null,
   "metadata": {},
   "outputs": [
    {
     "data": {
      "text/plain": [
       "{'whole_pref_sab': ('GravitonBeam', 'Feedback'),\n",
       " 'early_pref_sab': ('ChronoBoostEnergyCost', None),\n",
       " 'mid_pref_sab': ('GravitonBeam', 'AdeptPhaseShift'),\n",
       " 'late_pref_sab': ('GravitonBeam', 'Feedback')}"
      ]
     },
     "execution_count": null,
     "metadata": {},
     "output_type": "execute_result"
    }
   ],
   "source": [
    "# \n",
    "# get_prefered_spec_abil sample run\n",
    "prefered_abilities_test = get_prefered_spec_abil(TEST_MATCH, 1)\n",
    "prefered_abilities_test"
   ]
  },
  {
   "cell_type": "markdown",
   "metadata": {},
   "source": [
    "Meanwhile, I define `calc_attack_ratio` to estimate a player's aggressiveness. This function calculates the ratio between attack commands and the number of common commands as a potential indicator of a player's aggressiveness."
   ]
  },
  {
   "cell_type": "code",
   "execution_count": null,
   "metadata": {},
   "outputs": [],
   "source": [
    "#export\n",
    "def calc_attack_ratio(rpl: sc2reader.resources.Replay, \n",
    "                      pid: int) -> dict[str, float]:\n",
    "    '''Calculates the ratio between a player's attack orders and their \n",
    "    common commands.\n",
    "\n",
    "    Offers a ratio between attacks and other common commands such as move,\n",
    "    follow, stop, and hold position as a measurement of a player's tactical\n",
    "    aggresiveness.\n",
    "\n",
    "    *Args*\n",
    "        - rpl (sc2reader.resources.Replay)\n",
    "            The replay being analysed.\n",
    "        - pid (int)\n",
    "            In-game player ID of the player being considered in the \n",
    "            analysis.\n",
    "    \n",
    "    *Returns*\n",
    "        - dict[str, float]\n",
    "            A dictionary that separates a player's attack ratios for the \n",
    "            different stages of a match. \n",
    "    '''\n",
    "    replay_lenght = rpl.length.seconds\n",
    "\n",
    "    common_comms = [com_e for com_e in rpl.events\n",
    "                if isinstance(com_e, sc2reader.events.game.CommandEvent)\n",
    "                and com_e.player.pid == pid\n",
    "                and not com_e.ability.is_build\n",
    "                and com_e.ability.name in COMMON_ABILITIES\n",
    "                and com_e.ability_name in COMMON_ABILITIES]\n",
    "\n",
    "    attack_comms = [att for att in common_comms\n",
    "                if att.ability.name == 'Attack']\n",
    "\n",
    "    common_comms_dfs = build_commands_df(rpl, common_comms)\n",
    "    attack_comms_dfs = build_commands_df(rpl, attack_comms)\n",
    "\n",
    "    cc_subdf_list = gen_interval_sub_dfs(replay_lenght, common_comms_dfs,\n",
    "                                        ['real_time', 'ability_name'])\n",
    "\n",
    "    ca_subdf_list = gen_interval_sub_dfs(replay_lenght, attack_comms_dfs,\n",
    "                                        ['real_time', 'ability_name'])\n",
    "\n",
    "    \n",
    "    ratios_names = ['whole_att_ratio', 'early_att_ratio',\n",
    "                   'mid_att_ratio', 'late_att_ratio']\n",
    "    att_ratios = [round(len(att) / len(comm), ndigits=3)\n",
    "                  if len(comm) != 0 else 0 \n",
    "                  for att, comm in zip(ca_subdf_list, cc_subdf_list)]\n",
    "                  \n",
    "    return {nam: rat for nam, rat in zip(ratios_names, att_ratios)}"
   ]
  },
  {
   "cell_type": "code",
   "execution_count": null,
   "metadata": {},
   "outputs": [
    {
     "data": {
      "text/plain": [
       "{'whole_att_ratio': 0.067,\n",
       " 'early_att_ratio': 0.0,\n",
       " 'mid_att_ratio': 0.03,\n",
       " 'late_att_ratio': 0.084}"
      ]
     },
     "execution_count": null,
     "metadata": {},
     "output_type": "execute_result"
    }
   ],
   "source": [
    "# \n",
    "# calc_attack_ratio sample run\n",
    "test_attack_ratios = calc_attack_ratio(TEST_MATCH, 1)\n",
    "test_attack_ratios"
   ]
  },
  {
   "cell_type": "markdown",
   "metadata": {},
   "source": [
    "## References\n",
    "\n",
    "- Kim, G. (2015) 'sc2reader Documentation'. Available at: https://sc2reader.readthedocs.io/_/downloads/en/latest/pdf/."
   ]
  },
  {
   "cell_type": "code",
   "execution_count": null,
   "metadata": {},
   "outputs": [
    {
     "name": "stdout",
     "output_type": "stream",
     "text": [
      "Converted 00_Comp_model.ipynb.\n",
      "Converted 01_01_ingest_process.ipynb.\n",
      "Converted 01_summarise_rpl.ipynb.\n",
      "Converted 02_handle_tracker_events.ipynb.\n",
      "Converted 03_macro_econ_parser.ipynb.\n",
      "Converted 04_build_parser.ipynb.\n",
      "Converted 05_handle_command_events.ipynb.\n",
      "Converted 06_selection_parser.ipynb.\n",
      "Converted index.ipynb.\n"
     ]
    }
   ],
   "source": [
    "#hide\n",
    "from nbdev.export import notebook2script\n",
    "notebook2script()"
   ]
  },
  {
   "cell_type": "code",
   "execution_count": null,
   "metadata": {},
   "outputs": [],
   "source": []
  }
 ],
 "metadata": {
  "kernelspec": {
   "display_name": "Python 3 (ipykernel)",
   "language": "python",
   "name": "python3"
  }
 },
 "nbformat": 4,
 "nbformat_minor": 2
}
