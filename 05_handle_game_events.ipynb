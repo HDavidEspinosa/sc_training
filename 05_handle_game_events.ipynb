{
 "cells": [
  {
   "cell_type": "code",
   "execution_count": null,
   "metadata": {},
   "outputs": [],
   "source": [
    "# default_exp handle_game_events"
   ]
  },
  {
   "cell_type": "code",
   "execution_count": null,
   "metadata": {},
   "outputs": [],
   "source": [
    "#hide\r\n",
    "from nbdev.showdoc import *\r\n"
   ]
  },
  {
   "cell_type": "markdown",
   "metadata": {},
   "source": [
    "  # Chapter 05 - handle_game_events\n",
    "\n",
    "  > : Module that explores the common elements between all GameEvents and creates some basic general purpose functions for this type of event."
   ]
  },
  {
   "cell_type": "markdown",
   "metadata": {},
   "source": [
    " In the previous modules, I focussed on the indicators I could extract and build based on the information in a replay's PlayerStatsEvents. For the most part, these indicators revolve around economic and building indicators, which point to the game's strategic (i.e. macro) dimension. Meanwhile, beyond what a player's build orders and army composition may tangentially suggest, these indicators don't seem to reveal much about the game's tactical (i.e. micro) dimension.\n",
    " What is more, the game itself and other applications like sc2replaystats offer players little information in this regard.\n",
    "\n",
    " One indicator gets some attention in this respect, the average actions per minute (APM). This indicator does points how fast players can play. The assumption around this marker is that if players have high APMs, this indicates that they use many of the game commands directly to control their unit's actions. Thus, I will take this indicator into account when building the player's profiles. Thankfully, sc2reader includes the APMTracker pug-in that facilitates the collection of this information.\n",
    "\n",
    " The problem is that this APM tells the observer little of what actions players use and when.\n",
    "\n",
    " In this module, I define the function ..."
   ]
  },
  {
   "cell_type": "code",
   "execution_count": null,
   "metadata": {},
   "outputs": [],
   "source": [
    "#exporti\r\n",
    "\r\n",
    "# Load Module's dependencies\r\n",
    "\r\n",
    "from pathlib import Path\r\n",
    "from pprint import pprint\r\n",
    "from typing import *\r\n",
    "from itertools import zip_longest\r\n",
    "\r\n",
    "import json\r\n",
    "import pandas as pd\r\n",
    "import fastcore.test as ft\r\n",
    "\r\n",
    "import sc2reader\r\n",
    "\r\n",
    "from sc_training import *"
   ]
  },
  {
   "cell_type": "markdown",
   "metadata": {},
   "source": [
    " Beyond the module import requirements, I will also use a list of each race's unique abilities. These abilities belong to specific units or buildings but are not automatically executed. Instead, players need to select the units, order the use of the ability and, in cases, chose the ability's target.\n",
    "\n",
    " The following code loads a dictionary that stores the list of abilities for each race into the `ab_list` variable."
   ]
  },
  {
   "cell_type": "code",
   "execution_count": null,
   "metadata": {},
   "outputs": [],
   "source": [
    "#exports\r\n",
    "data_path = (Path(Path.cwd()/'data')\r\n",
    "             if Path('data').exists() else Path('../data'))\r\n",
    "\r\n",
    "with open(data_path/'ability_list.json') as af:\r\n",
    "    ABILITIES = json.load(af)"
   ]
  },
  {
   "cell_type": "code",
   "execution_count": null,
   "metadata": {},
   "outputs": [],
   "source": [
    "# Load teh sample replays for this notebook\r\n",
    "\r\n",
    "RPS_PATH = Path(\"./test_replays\")\r\n",
    "\r\n",
    "game_path = str(RPS_PATH/\"Jagannatha LE.SC2Replay\")\r\n",
    "single_replay = sc2reader.load_replay(game_path)\r\n",
    "single_replay\r\n",
    "\r\n",
    "ta_test = sc2reader.load_replay(str(RPS_PATH/'Terran_abilities.SC2Replay'))\r\n",
    "pa_test = sc2reader.load_replay(str(RPS_PATH/'ProtossAbilities.SC2Replay'))\r\n",
    "\r\n",
    "tms_test = sc2reader.load_replay(str(RPS_PATH/'TMovesSelect.SC2Replay'))\r\n",
    "pms_test = sc2reader.load_replay(str(RPS_PATH/'p_move_test.SC2Replay'))\r\n"
   ]
  },
  {
   "cell_type": "markdown",
   "metadata": {},
   "source": [
    " ## GameEvents\n",
    "\n",
    " From the replay, I can extract its `GameEvents` (see code below). As explained in sc2reader's documentation:\n",
    " > : Game events are what the Starcraft II engine uses to reconstruct games [(Kim, 2015, p. 22)](https://sc2reader.readthedocs.io/en/latest/events/game.html).\n",
    "\n",
    " In particular, I focus on two of the `GameEvent`'s sub-classes, `CommandEvents` and `ControlGroupEvents`.\n"
   ]
  },
  {
   "cell_type": "code",
   "execution_count": null,
   "metadata": {},
   "outputs": [
    {
     "data": {
      "text/plain": [
       "5076"
      ]
     },
     "execution_count": null,
     "metadata": {},
     "output_type": "execute_result"
    }
   ],
   "source": [
    "TEST_MATCH = pa_test\r\n",
    "match_ge = [event for event in TEST_MATCH.events \r\n",
    "            if isinstance(event, sc2reader.events.game.GameEvent)]\r\n",
    "len(match_ge)"
   ]
  },
  {
   "cell_type": "markdown",
   "metadata": {},
   "source": [
    " ## CommandEvents\n",
    "\n",
    " `CommandEvents` are generated and recorded every time a player orders a unit to do something during a match. These orders include building orders, some basic common commands or the use of the player's units' special abilities. Based on these classes, I exclude building and upgrade orders from the micro-game analysis because they are already reflected on the macro-game analysis. Meanwhile, I group the common commands (i.e. move, stop, patrol, hold position, follow, collect, attack) to expose play patterns common to all units. Lastly, I review the use of special abilities because it can unveil some of the player's preferences regarding the unique potential of their play race.\n",
    "\n",
    " The following code shows how I can use the events' attributes to classify the command events.\n",
    "\n",
    " > Warning: The following list of comprehensions build on each other. This relationship means that for the code to run correctly, the lists must be created following the order in which they are defined.\n",
    "\n"
   ]
  },
  {
   "cell_type": "code",
   "execution_count": null,
   "metadata": {},
   "outputs": [],
   "source": [
    "#exporti\r\n",
    "# Module's internal constants\r\n",
    "COMMON_ABILITIES = ['Attack', \r\n",
    "                    'Stop', \r\n",
    "                    'HoldPosition',\r\n",
    "                    'Patrol',\r\n",
    "                    'RightClick']\r\n",
    "\r\n",
    "MOVE_COMMAND = ['RightClick']"
   ]
  },
  {
   "cell_type": "code",
   "execution_count": null,
   "metadata": {},
   "outputs": [],
   "source": [
    "# The following is a temporary variable for the examples.\r\n",
    "race_abilities = ABILITIES[TEST_MATCH.players[0].play_race]\r\n",
    "\r\n",
    "# Firs, I can use the class to extract all command events appart from other \r\n",
    "# other GameEvents.\r\n",
    "commands = [com_e for com_e in match_ge\r\n",
    "            if isinstance(com_e, sc2reader.events.game.CommandEvent)\r\n",
    "            and com_e.pid == 0]\r\n",
    "\r\n",
    "# From that first list, I extract the commands linked to special abilities\r\n",
    "# used during the game as follows.\r\n",
    "special_comm = [com_e for com_e in match_ge \r\n",
    "             if isinstance(com_e, sc2reader.events.game.CommandEvent)\r\n",
    "             and com_e.pid == 0\r\n",
    "             and com_e.ability_name in race_abilities\r\n",
    "             and com_e.ability_name not in COMMON_ABILITIES]\r\n",
    "\r\n",
    "# I can also extract the commands related to upgrades and tech research.\r\n",
    "upgrades = [com_e for com_e in match_ge \r\n",
    "             if isinstance(com_e, sc2reader.events.game.CommandEvent)\r\n",
    "             and com_e.pid == 0\r\n",
    "             and com_e.has_ability\r\n",
    "             and not com_e.ability.is_build\r\n",
    "             and com_e.ability_name not in race_abilities\r\n",
    "             and com_e.ability_name not in COMMON_ABILITIES]\r\n",
    "\r\n",
    "\r\n",
    "# I can list the common actions related to unit direction.\r\n",
    "common_comm = [com_e for com_e in match_ge \r\n",
    "             if isinstance(com_e, sc2reader.events.game.CommandEvent)\r\n",
    "             and com_e.pid == 0\r\n",
    "             and not com_e.ability.is_build\r\n",
    "             and com_e.ability.name in COMMON_ABILITIES\r\n",
    "             and com_e.ability_name in COMMON_ABILITIES\r\n",
    "             ]\r\n",
    "\r\n",
    "# And I can list the commands that are related to building.\r\n",
    "# In this case, I need two lists, one that is composed of the \r\n",
    "# abilities that are labeled as \"is_build\" \r\n",
    "build_comm1 = [com_e for com_e in match_ge\r\n",
    "            if isinstance(com_e, sc2reader.events.game.CommandEvent)\r\n",
    "            and com_e.pid == 0\r\n",
    "            and com_e.has_ability\r\n",
    "            and not com_e.ability_name in race_abilities\r\n",
    "            and com_e.ability.is_build]\r\n",
    "\r\n",
    "# and one that has no linked ability, but are that construct \r\n",
    "# each race's vespene gas extraction facilities.\r\n",
    "build_comm2 = [com_e for com_e in match_ge\r\n",
    "            if isinstance(com_e, sc2reader.events.game.CommandEvent)\r\n",
    "            and com_e.pid == 0\r\n",
    "            and not com_e.has_ability\r\n",
    "            and (not com_e.ability.is_build\r\n",
    "               and 'Build' in com_e.ability_name)]\r\n"
   ]
  },
  {
   "cell_type": "markdown",
   "metadata": {},
   "source": [
    " I can verify the validity of this classification by adding all the lists lengths and confirming they have the same number of elements as the `CommandEvent` list."
   ]
  },
  {
   "cell_type": "code",
   "execution_count": null,
   "metadata": {},
   "outputs": [
    {
     "name": "stdout",
     "output_type": "stream",
     "text": [
      "Special abilities commands: 64\n",
      "Special abilities upgrades commands: 30\n",
      "Common commands: 180\n",
      "Build Commands: 78\n",
      "Build Vespene Extractor Facility Commands: 3\n",
      "Extras: 0\n",
      "Total sum: 355\n",
      "Total Commands: 355\n"
     ]
    }
   ],
   "source": [
    "extras = [com_e for com_e in match_ge\r\n",
    "        if isinstance(com_e, sc2reader.events.game.CommandEvent)\r\n",
    "        and com_e.pid == 0\r\n",
    "        and (com_e not in special_comm\r\n",
    "            and com_e not in upgrades\r\n",
    "            and com_e not in common_comm\r\n",
    "            and com_e not in build_comm1\r\n",
    "            and com_e not in build_comm2)]\r\n",
    "\r\n",
    "print(f'Special abilities commands: {len(special_comm)}')\r\n",
    "print(f'Special abilities upgrades commands: {len(upgrades)}')\r\n",
    "print(f'Common commands: {len(common_comm)}')\r\n",
    "print(f'Build Commands: {len(build_comm1)}')\r\n",
    "print(f'Build Vespene Extractor Facility Commands: {len(build_comm2)}')\r\n",
    "print(f'Extras: {len(extras)}')\r\n",
    "\r\n",
    "command_lists=[special_comm, \r\n",
    "              upgrades,\r\n",
    "              common_comm,\r\n",
    "              build_comm1,\r\n",
    "              build_comm2,\r\n",
    "              extras]\r\n",
    "\r\n",
    "sum_lists = sum([len(c_list) for c_list in command_lists])\r\n",
    "\r\n",
    "print(f'Total sum: {sum_lists}')\r\n",
    "print(f'Total Commands: {len(commands)}')\r\n"
   ]
  },
  {
   "cell_type": "markdown",
   "metadata": {},
   "source": [
    " Additionally, I run the following test to ensure that the sum above counts each element once and not double-counting some while ignoring others."
   ]
  },
  {
   "cell_type": "code",
   "execution_count": null,
   "metadata": {},
   "outputs": [],
   "source": [
    "lists=[special_comm, upgrades, common_comm, build_comm1, build_comm2]\r\n",
    "repeats = []\r\n",
    "for ind1, l1 in enumerate(lists):\r\n",
    "    for ind2, l2 in enumerate(lists):\r\n",
    "        if l1 != l2:\r\n",
    "            for e in l1:\r\n",
    "                if e in l2:\r\n",
    "                    repeats.append(e)\r\n",
    "\r\n",
    "ft.test_eq(len(repeats), 0)\r\n"
   ]
  },
  {
   "cell_type": "markdown",
   "metadata": {},
   "source": [
    " ### Classifying common commands\n",
    "\n",
    " Beyond the command classification above, I can also sub-divide the common commands into distinct types. Upon some examination, I realise that these events relate to direct attacks, unit movement orders, or collection orders that tell units to gather Minerals or Vespene Gas.\n",
    "\n",
    " The following code illustrates how I can list the common commands into these categories.\n"
   ]
  },
  {
   "cell_type": "code",
   "execution_count": null,
   "metadata": {},
   "outputs": [],
   "source": [
    "attacks = [att for att in common_comm\r\n",
    "        if att.ability.name == 'Attack']\r\n",
    "\r\n",
    "resources = ['Mineral', 'Vespene', 'Extractor', 'Refinary', 'Assimilator']\r\n",
    "collects = [coll for coll in common_comm\r\n",
    "           if hasattr(coll, 'target')\r\n",
    "           and (lambda event: any(map(lambda rsc: rsc in event.target.name, \r\n",
    "                                      resources))\r\n",
    "                if hasattr(event, 'target') else True)(coll)]\r\n",
    "\r\n",
    "follows = [foll for foll in common_comm\r\n",
    "           if hasattr(foll, 'target')\r\n",
    "           and not (lambda event: any(map(lambda rsc: rsc in event.target.name,\r\n",
    "                                         resources))\r\n",
    "                if hasattr(event, 'target') else True)(foll)]\r\n",
    "\r\n",
    "moves_names = ['Stop', 'Patrol', 'HoldPosition', 'RightClick']\r\n",
    "moves = [move for move in common_comm\r\n",
    "        if move.ability_name in moves_names\r\n",
    "        and move not in collects\r\n",
    "        and move not in follows]\r\n",
    "\r\n"
   ]
  },
  {
   "cell_type": "code",
   "execution_count": null,
   "metadata": {},
   "outputs": [
    {
     "name": "stdout",
     "output_type": "stream",
     "text": [
      "Attacks: 12\n",
      "Collects: 23\n",
      "Follows: 23\n",
      "Moves: 116\n",
      "Extras: 0\n",
      "Common Commands: 180\n",
      "Total sum: 151\n"
     ]
    }
   ],
   "source": [
    "extras = [ext for ext in common_comm\r\n",
    "        if not(lambda x: any(map(lambda e_list: x not in e_list, \r\n",
    "                                 [attacks, moves, collects])))(ext)]\r\n",
    "\r\n",
    "print(f'Attacks: {len(attacks)}')\r\n",
    "print(f'Collects: {len(collects)}')\r\n",
    "print(f'Follows: {len(collects)}')\r\n",
    "print(f'Moves: {len(moves)}')\r\n",
    "print(f'Extras: {len(extras)}')\r\n",
    "\r\n",
    "command_lists=[attacks, \r\n",
    "              collects,\r\n",
    "              moves,\r\n",
    "              extras]\r\n",
    "\r\n",
    "sum_lists = sum([len(c_list) for c_list in command_lists])\r\n",
    "\r\n",
    "print(f'Common Commands: {len(common_comm)}')\r\n",
    "print(f'Total sum: {sum_lists}')\r\n",
    "\r\n",
    "ft.test_eq(len(extras),0)\r\n",
    "\r\n"
   ]
  },
  {
   "cell_type": "code",
   "execution_count": null,
   "metadata": {},
   "outputs": [],
   "source": [
    "lists=[attacks, collects, follows, moves, extras]\r\n",
    "\r\n",
    "repeats = []\r\n",
    "for ind1, l1 in enumerate(lists):\r\n",
    "    for ind2, l2 in enumerate(lists):\r\n",
    "        if l1 != l2:\r\n",
    "            for e in l1:\r\n",
    "                if e in l2:\r\n",
    "                    repeats.append(e)\r\n",
    "\r\n",
    "ft.test_eq(len(repeats), 0)\r\n"
   ]
  },
  {
   "cell_type": "markdown",
   "metadata": {},
   "source": [
    " ## CommandEvents Exportable Functions\r\n",
    "\r\n",
    " In this section, I define this module's exportable functions. These functions use the `CommandEvent` classification discussed above to calculate several micro-game performance indicators.\r\n",
    "\r\n",
    " First, I define the function `calc_spe_abil_ratios`. In this function, I use the special abilities list to calculate the ratio between them and the total commands executed by the player. With this ratio, I can quantify the use of these abilities. The measurement helps me separate players that use their race's unique capabilities from those who do not.\r\n",
    "\r\n",
    "  > Note: Following the logic set in previous modules, I define these functions to calculate all indicators for the early, mid, late and whole game. Although I do this to remain consistent, I also think this level of detail makes sense given how players have access to different units and abilities at various game stages.\r\n"
   ]
  },
  {
   "cell_type": "code",
   "execution_count": null,
   "metadata": {},
   "outputs": [],
   "source": [
    "#exporti\r\n",
    "def build_commands_df(rpl: sc2reader.resources.Replay, \r\n",
    "                      pid: int) -> pd.DataFrame:\r\n",
    "\r\n",
    "\r\n",
    "    df_columns =  ['real_time', 'second', 'ability_name']\r\n",
    "\r\n",
    "    commands_df = pd.DataFrame([[calc_realtime_index(com_e.second, rpl),\r\n",
    "                            com_e.second,\r\n",
    "                            com_e.ability_name]\r\n",
    "                        for com_e in rpl.events \r\n",
    "                        if isinstance(com_e, sc2reader.events.game.CommandEvent)\r\n",
    "                        and com_e.player.pid == pid], columns= df_columns)\r\n",
    "\r\n",
    "    return commands_df"
   ]
  },
  {
   "cell_type": "code",
   "execution_count": null,
   "metadata": {},
   "outputs": [],
   "source": [
    "#exporti\r\n",
    "def build_abilities_df(rpl: sc2reader.resources.Replay, \r\n",
    "                       pid: int) -> pd.DataFrame:\r\n",
    "    \r\n",
    "    player_race = rpl.player[pid].play_race\r\n",
    "    df_columns =  ['real_time', 'second', 'ability_name']\r\n",
    "\r\n",
    "    special_comm = pd.DataFrame([[calc_realtime_index(com_e.second, rpl),\r\n",
    "                            com_e.second,\r\n",
    "                            com_e.ability_name] \r\n",
    "                        for com_e in rpl.events \r\n",
    "                        if isinstance(com_e, sc2reader.events.game.CommandEvent)\r\n",
    "                        and com_e.player.pid == pid\r\n",
    "                        and com_e.ability_name in ABILITIES[player_race]\r\n",
    "                        and com_e.ability_name not in COMMON_ABILITIES], \r\n",
    "                    columns=df_columns)\r\n",
    "\r\n",
    "    return special_comm"
   ]
  },
  {
   "cell_type": "code",
   "execution_count": null,
   "metadata": {},
   "outputs": [],
   "source": [
    "#export\r\n",
    "def calc_spe_abil_ratios(rpl: sc2reader.resources.Replay, pid: int) \\\r\n",
    "                    -> list[float]:\r\n",
    "\r\n",
    "    replay_lenght = rpl.length.seconds\r\n",
    "\r\n",
    "    commands = build_commands_df(rpl, pid) \r\n",
    "    abilities_commands = build_abilities_df(rpl, pid)\r\n",
    "\r\n",
    "    commands_dfs = gen_interval_sub_dfs(replay_lenght, commands, \r\n",
    "                                       ['real_time', 'ability_name'])\r\n",
    "    abilities_dfs = gen_interval_sub_dfs(replay_lenght, abilities_commands, \r\n",
    "                                        ['real_time', 'ability_name'])\r\n",
    "    \r\n",
    "    return [x / y for x, y in zip(map(len, abilities_dfs), \r\n",
    "                                  map(len, commands_dfs))] \r\n",
    "                        "
   ]
  },
  {
   "cell_type": "code",
   "execution_count": null,
   "metadata": {},
   "outputs": [
    {
     "name": "stdout",
     "output_type": "stream",
     "text": [
      "[0.18028169014084508,\n",
      " 0.045454545454545456,\n",
      " 0.09615384615384616,\n",
      " 0.22007722007722008]\n"
     ]
    }
   ],
   "source": [
    "test_restult = calc_spe_abil_ratios(TEST_MATCH, 1)\r\n",
    "pprint(test_restult)"
   ]
  },
  {
   "cell_type": "markdown",
   "metadata": {},
   "source": [
    " Meawhile, below, I define the function `get_prefered_spec_abil`. With this function, I can calculate the player's first and second preferred abilities, if they use any. This qualitative piece of information can indicate some aspects of the player's tactical preferences.\r\n"
   ]
  },
  {
   "cell_type": "code",
   "execution_count": null,
   "metadata": {},
   "outputs": [],
   "source": [
    "#exporti\r\n",
    "def get_top_abilities(abilities: pd.DataFrame) -> tuple[str,str]:\r\n",
    "    prefered = None\r\n",
    "    second = None\r\n",
    "    \r\n",
    "    ability_count = (abilities\r\n",
    "                    .groupby('ability_name')\r\n",
    "                    .size())\r\n",
    "    \r\n",
    "    ability_count.sort_values(ascending=False, inplace=True)\r\n",
    "\r\n",
    "    if len(ability_count) > 0:\r\n",
    "        prefered = ability_count.index[0]\r\n",
    "        \r\n",
    "    if len(ability_count) >= 2:\r\n",
    "        second = ability_count.index[1]\r\n",
    "        \r\n",
    "    return prefered, second"
   ]
  },
  {
   "cell_type": "code",
   "execution_count": null,
   "metadata": {},
   "outputs": [],
   "source": [
    "#export\r\n",
    "def get_prefered_spec_abil(rpl: sc2reader.resources.Replay, \r\n",
    "                           pid: int) -> list[tuple[str, int]]:\r\n",
    "    \r\n",
    "    replay_lenght = rpl.length.seconds\r\n",
    "\r\n",
    "    abilities_commands = build_abilities_df(rpl, pid)\r\n",
    "\r\n",
    "    abilities_dfs = gen_interval_sub_dfs(replay_lenght, abilities_commands, \r\n",
    "                                        ['real_time', 'ability_name'])\r\n",
    "\r\n",
    "    preferences = [get_top_abilities(df) for df in abilities_dfs] \r\n",
    "\r\n",
    "    return preferences\r\n",
    "        \r\n"
   ]
  },
  {
   "cell_type": "code",
   "execution_count": null,
   "metadata": {},
   "outputs": [
    {
     "data": {
      "text/plain": [
       "[('GravitonBeam', 'Feedback'),\n",
       " ('ChronoBoostEnergyCost', None),\n",
       " ('GravitonBeam', 'AdeptPhaseShift'),\n",
       " ('GravitonBeam', 'Feedback')]"
      ]
     },
     "execution_count": null,
     "metadata": {},
     "output_type": "execute_result"
    }
   ],
   "source": [
    "series = get_prefered_spec_abil(TEST_MATCH, 1)\r\n",
    "\r\n",
    "series"
   ]
  },
  {
   "cell_type": "code",
   "execution_count": null,
   "metadata": {},
   "outputs": [],
   "source": [
    "\r\n"
   ]
  },
  {
   "cell_type": "markdown",
   "metadata": {},
   "source": [
    " Meanwhile, I define the following function to estimate a player's aggressiveness. For this purpose, the function calculates the ratio between attack commands and the number of common commands as a potential indicator of a player's aggressiveness."
   ]
  },
  {
   "cell_type": "code",
   "execution_count": null,
   "metadata": {},
   "outputs": [],
   "source": [
    "\r\n",
    "\r\n"
   ]
  },
  {
   "cell_type": "code",
   "execution_count": null,
   "metadata": {},
   "outputs": [],
   "source": [
    "\r\n",
    "\r\n"
   ]
  },
  {
   "cell_type": "code",
   "execution_count": null,
   "metadata": {},
   "outputs": [],
   "source": [
    "\r\n",
    "\r\n"
   ]
  },
  {
   "cell_type": "code",
   "execution_count": null,
   "metadata": {},
   "outputs": [],
   "source": [
    "#hide\r\n",
    "from nbdev.export import notebook2script\r\n",
    "notebook2script()\r\n",
    "\r\n",
    "\r\n"
   ]
  }
 ],
 "metadata": {
  "kernelspec": {
   "display_name": "Python 3.9.5 64-bit",
   "name": "python3"
  }
 },
 "nbformat": 4,
 "nbformat_minor": 2
}
