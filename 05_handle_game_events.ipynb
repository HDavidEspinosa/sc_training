{
 "cells": [
  {
   "cell_type": "code",
   "execution_count": null,
   "metadata": {},
   "outputs": [],
   "source": [
    "#default_exp handle_game_events"
   ]
  },
  {
   "cell_type": "code",
   "execution_count": null,
   "metadata": {},
   "outputs": [],
   "source": [
    "#hide\n",
    "from nbdev.showdoc import *"
   ]
  },
  {
   "cell_type": "markdown",
   "metadata": {},
   "source": [
    "# Chapter 5 - handle_game_events\n",
    "\n",
    "> : Module that explores the common elements between all GameEvents and creates some basic general purpose functions for this type of event."
   ]
  },
  {
   "cell_type": "markdown",
   "metadata": {},
   "source": [
    "In the previous modules, I focussed on the indicators I could extract and build based on the information in a replay's PlayerStatsEvents. For the most part, these indicators revolve around economic and building indicators, which point to the game's strategic (i.e. macro) dimension. Meanwhile, beyond what a player's build orders and army composition may tangentially suggest, these indicators don't seem to reveal much about the game's tactical (i.e. micro) dimension.\n",
    "What is more, the game itself and other applications like sc2replaystats offer players little information in this regard.\n",
    "\n",
    "One indicator gets some attention in this respect, the average actions per minute (APM). This indicator does points how fast players can play. The assumption around this marker is that if players have high APMs, this indicates that they use many of the game commands directly to control their unit's actions. Thus, I will take this indicator into account when building the player's profiles. Thankfully, sc2reader includes the APMTracker pug-in that facilitates the collection of this information.\n",
    "\n",
    "The problem is that this APM tells the observer little of what actions players use and when.\n",
    "\n",
    "In this module, I define the function ..."
   ]
  },
  {
   "cell_type": "code",
   "execution_count": null,
   "metadata": {},
   "outputs": [],
   "source": [
    "#exporti\n",
    "\n",
    "# Load Module's dependencies\n",
    "from pathlib import Path\n",
    "from pprint import pprint\n",
    "from typing import *\n",
    "from itertools import zip_longest\n",
    "\n",
    "import json\n",
    "import pandas as pd\n",
    "import fastcore.test as ft"
   ]
  },
  {
   "cell_type": "code",
   "execution_count": null,
   "metadata": {},
   "outputs": [],
   "source": [
    "#exporti\n",
    "\n",
    "import sc2reader\n",
    "from sc_training.handle_tracker_event import *\n",
    "from sc_training.macro_econ_parser import *"
   ]
  },
  {
   "cell_type": "markdown",
   "metadata": {},
   "source": [
    "Beyond the module import requirements, I will also use a list of each race's unique abilities. These abilities belong to specific units or buildings but are not automatically executed. Instead, players need to select the units, order the use of the ability and, in cases, chose the ability's target.\n",
    "\n",
    "The following code loads a dictionary that stores the list of abilities for each race into the `ab_list` variable."
   ]
  },
  {
   "cell_type": "code",
   "execution_count": null,
   "metadata": {},
   "outputs": [],
   "source": [
    "#exports\n",
    "data_path = (Path(Path.cwd()/'data')\n",
    "             if Path('data').exists() else Path('../data'))\n",
    "\n",
    "with open(data_path/'ability_list.json') as af:\n",
    "    ABILITIES = json.load(af)"
   ]
  },
  {
   "cell_type": "code",
   "execution_count": null,
   "metadata": {},
   "outputs": [],
   "source": [
    "# Load teh sample replays for this notebook\n",
    "\n",
    "RPS_PATH = Path(\"./test_replays\")\n",
    "\n",
    "game_path = str(RPS_PATH/\"Jagannatha LE.SC2Replay\")\n",
    "single_replay = sc2reader.load_replay(game_path)\n",
    "single_replay\n",
    "\n",
    "ta_test = sc2reader.load_replay(str(RPS_PATH/'Terran_abilities.SC2Replay'))\n",
    "pa_test = sc2reader.load_replay(str(RPS_PATH/'ProtossAbilities.SC2Replay'))\n",
    "\n",
    "tms_test = sc2reader.load_replay(str(RPS_PATH/'TMovesSelect.SC2Replay'))\n",
    "pms_test = sc2reader.load_replay(str(RPS_PATH/'p_move_test.SC2Replay'))\n"
   ]
  },
  {
   "cell_type": "markdown",
   "metadata": {},
   "source": [
    "## GameEvents\n",
    "\n",
    "From the replay, I can extract its `GameEvents` (see code below). As explained in sc2reader's documentation:\n",
    "\n",
    "> : Game events are what the Starcraft II engine uses to reconstruct games [(Kim, 2015, p. 22)](https://sc2reader.readthedocs.io/en/latest/events/game.html).\n",
    "\n",
    "In particular, I focus on two of the `GameEvent`'s sub-classes, `CommandEvents` and `ControlGroupEvents`.\n"
   ]
  },
  {
   "cell_type": "code",
   "execution_count": null,
   "metadata": {},
   "outputs": [
    {
     "data": {
      "text/plain": [
       "5076"
      ]
     },
     "execution_count": null,
     "metadata": {},
     "output_type": "execute_result"
    }
   ],
   "source": [
    "TEST_MATCH = pa_test\n",
    "match_ge = [event for event in TEST_MATCH.events \n",
    "            if isinstance(event, sc2reader.events.game.GameEvent)]\n",
    "len(match_ge)"
   ]
  },
  {
   "cell_type": "markdown",
   "metadata": {},
   "source": [
    "## CommandEvents\n",
    "\n",
    "`CommandEvents` are generated and recorded every time a player orders a unit to do something during a match. These orders include building orders, some basic common commands or the use of the player's units' special abilities. Based on these classes, I exclude building and upgrade orders from the micro-game analysis because they are already reflected on the macro-game analysis. Meanwhile, I group the common commands (i.e. move, stop, patrol, hold position, follow, collect, attack) to expose play patterns common to all units. Lastly, I review the use of special abilities because it can unveil some of the player's preferences regarding the unique potential of their play race.\n",
    "\n",
    "The following code shows how I can use the events' attributes to classify the command events.\n",
    "\n",
    "> Warning: The following list of comprehensions build on each other. This relationship means that for the code to run correctly, the lists must be created following the order in which they are defined."
   ]
  },
  {
   "cell_type": "code",
   "execution_count": null,
   "metadata": {},
   "outputs": [],
   "source": [
    "#exporti\n",
    "# Module's internal constants\n",
    "COMMON_ABILITIES = ['Attack',\n",
    "                    'Stop',\n",
    "                    'HoldPosition',\n",
    "                    'Patrol',\n",
    "                    'RightClick']\n",
    "\n",
    "MOVE_COMMAND = ['RightClick']"
   ]
  },
  {
   "cell_type": "code",
   "execution_count": null,
   "metadata": {},
   "outputs": [],
   "source": [
    "# The following is a temporary variable for the examples.\n",
    "race_abilities = ABILITIES[TEST_MATCH.players[0].play_race]\n",
    "\n",
    "# Firs, I can use the class to extract all command events appart from other \n",
    "# other GameEvents.\n",
    "commands = [com_e for com_e in match_ge\n",
    "            if isinstance(com_e, sc2reader.events.game.CommandEvent)\n",
    "            and com_e.pid == 0]\n",
    "\n",
    "# From that first list, I extract the commands linked to special abilities\n",
    "# used during the game as follows.\n",
    "special_comm = [com_e for com_e in match_ge \n",
    "             if isinstance(com_e, sc2reader.events.game.CommandEvent)\n",
    "             and com_e.pid == 0\n",
    "             and com_e.ability_name in race_abilities\n",
    "             and com_e.ability_name not in COMMON_ABILITIES]\n",
    "\n",
    "# I can also extract the commands related to upgrades and tech research.\n",
    "upgrades = [com_e for com_e in match_ge \n",
    "             if isinstance(com_e, sc2reader.events.game.CommandEvent)\n",
    "             and com_e.pid == 0\n",
    "             and com_e.has_ability\n",
    "             and not com_e.ability.is_build\n",
    "             and com_e.ability_name not in race_abilities\n",
    "             and com_e.ability_name not in COMMON_ABILITIES]\n",
    "\n",
    "\n",
    "# I can list the common actions related to unit direction.\n",
    "common_comm = [com_e for com_e in match_ge \n",
    "             if isinstance(com_e, sc2reader.events.game.CommandEvent)\n",
    "             and com_e.pid == 0\n",
    "             and not com_e.ability.is_build\n",
    "             and com_e.ability.name in COMMON_ABILITIES\n",
    "             and com_e.ability_name in COMMON_ABILITIES\n",
    "             ]\n",
    "\n",
    "# And I can list the commands that are related to building.\n",
    "# In this case, I need two lists, one that is composed of the \n",
    "# abilities that are labeled as \"is_build\" \n",
    "build_comm1 = [com_e for com_e in match_ge\n",
    "            if isinstance(com_e, sc2reader.events.game.CommandEvent)\n",
    "            and com_e.pid == 0\n",
    "            and com_e.has_ability\n",
    "            and not com_e.ability_name in race_abilities\n",
    "            and com_e.ability.is_build]\n",
    "\n",
    "# and one that has no linked ability, but are that construct \n",
    "# each race's vespene gas extraction facilities.\n",
    "build_comm2 = [com_e for com_e in match_ge\n",
    "            if isinstance(com_e, sc2reader.events.game.CommandEvent)\n",
    "            and com_e.pid == 0\n",
    "            and not com_e.has_ability\n",
    "            and (not com_e.ability.is_build\n",
    "               and 'Build' in com_e.ability_name)]\n"
   ]
  },
  {
   "cell_type": "markdown",
   "metadata": {},
   "source": [
    "I can verify the validity of this classification by adding all the lists lengths and confirming they have the same number of elements as the `CommandEvent` list."
   ]
  },
  {
   "cell_type": "code",
   "execution_count": null,
   "metadata": {},
   "outputs": [
    {
     "name": "stdout",
     "output_type": "stream",
     "text": [
      "Special abilities commands: 64\nSpecial abilities upgrades commands: 30\nCommon commands: 180\nBuild Commands: 78\nBuild Vespene Extractor Facility Commands: 3\nExtras: 0\nTotal sum: 355\nTotal Commands: 355\n"
     ]
    }
   ],
   "source": [
    "extras = [com_e for com_e in match_ge\n",
    "        if isinstance(com_e, sc2reader.events.game.CommandEvent)\n",
    "        and com_e.pid == 0\n",
    "        and (com_e not in special_comm\n",
    "            and com_e not in upgrades\n",
    "            and com_e not in common_comm\n",
    "            and com_e not in build_comm1\n",
    "            and com_e not in build_comm2)]\n",
    "\n",
    "print(f'Special abilities commands: {len(special_comm)}')\n",
    "print(f'Special abilities upgrades commands: {len(upgrades)}')\n",
    "print(f'Common commands: {len(common_comm)}')\n",
    "print(f'Build Commands: {len(build_comm1)}')\n",
    "print(f'Build Vespene Extractor Facility Commands: {len(build_comm2)}')\n",
    "print(f'Extras: {len(extras)}')\n",
    "\n",
    "command_lists=[special_comm, \n",
    "              upgrades,\n",
    "              common_comm,\n",
    "              build_comm1,\n",
    "              build_comm2,\n",
    "              extras]\n",
    "\n",
    "sum_lists = sum([len(c_list) for c_list in command_lists])\n",
    "\n",
    "print(f'Total sum: {sum_lists}')\n",
    "print(f'Total Commands: {len(commands)}')\n"
   ]
  },
  {
   "cell_type": "markdown",
   "metadata": {},
   "source": [
    "Additionally, I run the following test to ensure that the sum above counts each element once and not double-counting some while ignoring others."
   ]
  },
  {
   "cell_type": "code",
   "execution_count": null,
   "metadata": {},
   "outputs": [],
   "source": [
    "lists=[special_comm, upgrades, common_comm, build_comm1, build_comm2]\n",
    "repeats = []\n",
    "for ind1, l1 in enumerate(lists):\n",
    "    for ind2, l2 in enumerate(lists):\n",
    "        if l1 != l2:\n",
    "            for e in l1:\n",
    "                if e in l2:\n",
    "                    repeats.append(e)\n",
    "\n",
    "ft.test_eq(len(repeats), 0)\n"
   ]
  },
  {
   "cell_type": "markdown",
   "metadata": {},
   "source": [
    "### Classifying common commands\n",
    "\n",
    "Beyond the command classification above, I can also sub-divide the common commands into distinct types. Upon some examination, I realise that these events relate to direct attacks, unit movement orders, or collection orders that tell units to gather Minerals or Vespene Gas.\n",
    "\n",
    "The following code illustrates how I can list the common commands into these categories."
   ]
  },
  {
   "cell_type": "code",
   "execution_count": null,
   "metadata": {},
   "outputs": [],
   "source": [
    "attacks = [att for att in common_comm\n",
    "        if att.ability.name == 'Attack']\n",
    "\n",
    "resources = ['Mineral', 'Vespene', 'Extractor', 'Refinary', 'Assimilator']\n",
    "collects = [coll for coll in common_comm\n",
    "           if hasattr(coll, 'target')\n",
    "           and (lambda event: any(map(lambda rsc: rsc in event.target.name, \n",
    "                                      resources))\n",
    "                if hasattr(event, 'target') else True)(coll)]\n",
    "\n",
    "follows = [foll for foll in common_comm\n",
    "           if hasattr(foll, 'target')\n",
    "           and not (lambda event: any(map(lambda rsc: rsc in event.target.name,\n",
    "                                         resources))\n",
    "                if hasattr(event, 'target') else True)(foll)]\n",
    "\n",
    "moves_names = ['Stop', 'Patrol', 'HoldPosition', 'RightClick']\n",
    "moves = [move for move in common_comm\n",
    "        if move.ability_name in moves_names\n",
    "        and move not in collects\n",
    "        and move not in follows]"
   ]
  },
  {
   "cell_type": "code",
   "execution_count": null,
   "metadata": {},
   "outputs": [
    {
     "name": "stdout",
     "output_type": "stream",
     "text": [
      "Attacks: 12\nCollects: 23\nFollows: 23\nMoves: 116\nExtras: 0\nCommon Commands: 180\nTotal sum: 151\n"
     ]
    }
   ],
   "source": [
    "extras = [ext for ext in common_comm\n",
    "        if not(lambda x: any(map(lambda e_list: x not in e_list, \n",
    "                                 [attacks, moves, collects])))(ext)]\n",
    "\n",
    "print(f'Attacks: {len(attacks)}')\n",
    "print(f'Collects: {len(collects)}')\n",
    "print(f'Follows: {len(collects)}')\n",
    "print(f'Moves: {len(moves)}')\n",
    "print(f'Extras: {len(extras)}')\n",
    "\n",
    "command_lists=[attacks, \n",
    "              collects,\n",
    "              moves,\n",
    "              extras]\n",
    "\n",
    "sum_lists = sum([len(c_list) for c_list in command_lists])\n",
    "\n",
    "print(f'Common Commands: {len(common_comm)}')\n",
    "print(f'Total sum: {sum_lists}')\n",
    "\n",
    "ft.test_eq(len(extras),0)"
   ]
  },
  {
   "cell_type": "code",
   "execution_count": null,
   "metadata": {},
   "outputs": [],
   "source": [
    "lists=[attacks, collects, follows, moves, extras]\n",
    "\n",
    "repeats = []\n",
    "for ind1, l1 in enumerate(lists):\n",
    "    for ind2, l2 in enumerate(lists):\n",
    "        if l1 != l2:\n",
    "            for e in l1:\n",
    "                if e in l2:\n",
    "                    repeats.append(e)\n",
    "\n",
    "ft.test_eq(len(repeats), 0)"
   ]
  },
  {
   "cell_type": "markdown",
   "metadata": {},
   "source": [
    "## CommandEvents Exportable Functions\n",
    "\n",
    "In this section, I define this module's exportable functions. These functions use the `CommandEvent` classification discussed above to calculate several micro-game performance indicators.\n",
    "\n",
    "First, I define the function `calc_spe_abil_ratios`. In this function, I use the special abilities list to calculate the ratio between them and the total commands executed by the player. With this ratio, I can quantify the use of these abilities. The measurement helps me separate players that use their race's unique capabilities from those who do not.\n",
    "\n",
    "> Note: Following the logic set in previous modules, I define these functions to calculate all indicators for the early, mid, late and whole game. Although I do this to remain consistent, I also think this level of detail makes sense given how players have access to different units and abilities at various game stages.\n"
   ]
  },
  {
   "cell_type": "code",
   "execution_count": null,
   "metadata": {},
   "outputs": [],
   "source": [
    "#exporti\n",
    "\n",
    "def build_commands_df(rpl: sc2reader.resources.Replay,\n",
    "                events: list[sc2reader.events.game.GameEvent])-> pd.DataFrame:\n",
    "\n",
    "    df_columns =  ['real_time', 'second', 'ability_name']\n",
    "\n",
    "    commands_df = pd.DataFrame([[calc_realtime_index(com_e.second, rpl),\n",
    "                            com_e.second,\n",
    "                            com_e.ability_name]\n",
    "                        for com_e in events], columns= df_columns)\n",
    "\n",
    "    return commands_df"
   ]
  },
  {
   "cell_type": "code",
   "execution_count": null,
   "metadata": {},
   "outputs": [],
   "source": [
    "#export\n",
    "\n",
    "def calc_spe_abil_ratios(rpl: sc2reader.resources.Replay, pid: int) \\\n",
    "                    -> list[float]:\n",
    "\n",
    "    replay_lenght = rpl.length.seconds\n",
    "    player_race = rpl.player[pid].play_race\n",
    "\n",
    "    commands_list = [com_e for com_e in rpl.events\n",
    "                if isinstance(com_e, sc2reader.events.game.CommandEvent)\n",
    "                and com_e.player.pid == pid]\n",
    "\n",
    "    abil_comm_list = [com_e for com_e in rpl.events\n",
    "                    if isinstance(com_e, sc2reader.events.game.CommandEvent)\n",
    "                    and com_e.player.pid == pid\n",
    "                    and com_e.ability_name in ABILITIES[player_race]\n",
    "                    and com_e.ability_name not in COMMON_ABILITIES]\n",
    "\n",
    "    commands = build_commands_df(rpl, commands_list)\n",
    "    abilities_commands = build_commands_df(rpl, abil_comm_list)\n",
    "\n",
    "    commands_dfs = gen_interval_sub_dfs(replay_lenght, commands,\n",
    "                                       ['real_time', 'ability_name'])\n",
    "    abilities_dfs = gen_interval_sub_dfs(replay_lenght, abilities_commands,\n",
    "                                        ['real_time', 'ability_name'])\n",
    "\n",
    "    return [total_abilities / total_commands if total_commands != 0 else 0\n",
    "            for total_abilities, total_commands\n",
    "            in zip(map(len, abilities_dfs), map(len, commands_dfs))]"
   ]
  },
  {
   "cell_type": "code",
   "execution_count": null,
   "metadata": {},
   "outputs": [
    {
     "name": "stdout",
     "output_type": "stream",
     "text": [
      "[0.18028169014084508,\n 0.045454545454545456,\n 0.09615384615384616,\n 0.22007722007722008]\n"
     ]
    }
   ],
   "source": [
    "test_restult = calc_spe_abil_ratios(TEST_MATCH, 1)\n",
    "pprint(test_restult)"
   ]
  },
  {
   "cell_type": "markdown",
   "metadata": {},
   "source": [
    "Meawhile, below, I define the function `get_prefered_spec_abil`. With this function, I can calculate the player's first and second preferred abilities, if they use any. This qualitative piece of information can indicate some aspects of the player's tactical preferences."
   ]
  },
  {
   "cell_type": "code",
   "execution_count": null,
   "metadata": {},
   "outputs": [],
   "source": [
    "#exporti\n",
    "\n",
    "def get_top_abilities(abilities: pd.DataFrame) -> tuple[str,str]:\n",
    "    prefered = None\n",
    "    second = None\n",
    "\n",
    "    ability_count = (abilities\n",
    "                    .groupby('ability_name')\n",
    "                    .size())\n",
    "\n",
    "    ability_count.sort_values(ascending=False, inplace=True)\n",
    "\n",
    "    if len(ability_count) > 0:\n",
    "        prefered = ability_count.index[0]\n",
    "\n",
    "    if len(ability_count) >= 2:\n",
    "        second = ability_count.index[1]\n",
    "\n",
    "    return prefered, second"
   ]
  },
  {
   "cell_type": "code",
   "execution_count": null,
   "metadata": {},
   "outputs": [],
   "source": [
    "#export\n",
    "\n",
    "def get_prefered_spec_abil(rpl: sc2reader.resources.Replay,\n",
    "                           pid: int) -> list[tuple[str, int]]:\n",
    "\n",
    "    replay_lenght = rpl.length.seconds\n",
    "    player_race = rpl.player[pid].play_race\n",
    "\n",
    "\n",
    "    abil_comm_list = [com_e for com_e in rpl.events\n",
    "                    if isinstance(com_e, sc2reader.events.game.CommandEvent)\n",
    "                    and com_e.player.pid == pid\n",
    "                    and com_e.ability_name in ABILITIES[player_race]\n",
    "                    and com_e.ability_name not in COMMON_ABILITIES]\n",
    "\n",
    "    abilities_commands = build_commands_df(rpl, abil_comm_list)\n",
    "\n",
    "    abilities_dfs = gen_interval_sub_dfs(replay_lenght, abilities_commands,\n",
    "                                        ['real_time', 'ability_name'])\n",
    "\n",
    "    preferences = [get_top_abilities(df) for df in abilities_dfs]\n",
    "\n",
    "    return preferences"
   ]
  },
  {
   "cell_type": "code",
   "execution_count": null,
   "metadata": {},
   "outputs": [
    {
     "data": {
      "text/plain": [
       "[('GravitonBeam', 'Feedback'),\n",
       " ('ChronoBoostEnergyCost', None),\n",
       " ('GravitonBeam', 'AdeptPhaseShift'),\n",
       " ('GravitonBeam', 'Feedback')]"
      ]
     },
     "execution_count": null,
     "metadata": {},
     "output_type": "execute_result"
    }
   ],
   "source": [
    "prefered_abilities_test = get_prefered_spec_abil(TEST_MATCH, 1)\n",
    "prefered_abilities_test"
   ]
  },
  {
   "cell_type": "markdown",
   "metadata": {},
   "source": [
    "Meanwhile, I define `calc_attack_ratio` to estimate a player's aggressiveness. This function calculates the ratio between attack commands and the number of common commands as a potential indicator of a player's aggressiveness."
   ]
  },
  {
   "cell_type": "code",
   "execution_count": null,
   "metadata": {},
   "outputs": [],
   "source": [
    "#export\n",
    "\n",
    "def calc_attack_ratio(rpl: sc2reader.resources.Replay, pid: int) -> list[float]:\n",
    "\n",
    "    replay_lenght = rpl.length.seconds\n",
    "\n",
    "    common_comms = [com_e for com_e in rpl.events\n",
    "                if isinstance(com_e, sc2reader.events.game.CommandEvent)\n",
    "                and com_e.player.pid == pid\n",
    "                and not com_e.ability.is_build\n",
    "                and com_e.ability.name in COMMON_ABILITIES\n",
    "                and com_e.ability_name in COMMON_ABILITIES]\n",
    "\n",
    "    attack_comms = [att for att in common_comms\n",
    "                if att.ability.name == 'Attack']\n",
    "\n",
    "    common_comms_dfs = build_commands_df(rpl, common_comms)\n",
    "    attack_comms_dfs = build_commands_df(rpl, attack_comms)\n",
    "\n",
    "    cc_subdf_list = gen_interval_sub_dfs(replay_lenght, common_comms_dfs,\n",
    "                                        ['real_time', 'ability_name'])\n",
    "\n",
    "    ca_subdf_list = gen_interval_sub_dfs(replay_lenght, attack_comms_dfs,\n",
    "                                        ['real_time', 'ability_name'])\n",
    "\n",
    "    return [len(att) / len(comm) if len(comm) != 0 else 0\n",
    "            for att, comm\n",
    "            in zip(ca_subdf_list, cc_subdf_list)]"
   ]
  },
  {
   "cell_type": "code",
   "execution_count": null,
   "metadata": {},
   "outputs": [
    {
     "data": {
      "text/plain": [
       "[0.06666666666666667, 0.0, 0.030303030303030304, 0.08396946564885496]"
      ]
     },
     "execution_count": null,
     "metadata": {},
     "output_type": "execute_result"
    }
   ],
   "source": [
    "test_attack_ratios = calc_attack_ratio(TEST_MATCH, 1)\n",
    "\n",
    "test_attack_ratios"
   ]
  },
  {
   "cell_type": "code",
   "execution_count": null,
   "metadata": {},
   "outputs": [
    {
     "name": "stdout",
     "output_type": "stream",
     "text": [
      "Converted 01_summarise_rpl.ipynb.\n",
      "Converted 02_handle_tracker_events.ipynb.\n",
      "Converted 03_macro_econ_parser.ipynb.\n",
      "Converted 04_build_parser.ipynb.\n",
      "Converted 05_handle_game_events.ipynb.\n",
      "Converted index.ipynb.\n"
     ]
    }
   ],
   "source": [
    "# #hide\n",
    "# from nbdev.export import notebook2script\n",
    "# notebook2script()"
   ]
  }
 ],
 "metadata": {
  "kernelspec": {
   "display_name": "Python 3.9.5 64-bit ('sctraining_env': conda)",
   "name": "python3"
  }
 },
 "nbformat": 4,
 "nbformat_minor": 2
}
