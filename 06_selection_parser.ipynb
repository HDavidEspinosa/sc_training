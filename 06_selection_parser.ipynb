{
 "cells": [
  {
   "cell_type": "code",
   "execution_count": null,
   "metadata": {},
   "outputs": [],
   "source": [
    "# default_exp selection_parser\r\n"
   ]
  },
  {
   "cell_type": "code",
   "execution_count": null,
   "metadata": {},
   "outputs": [],
   "source": [
    "#hide\r\n",
    "from nbdev.showdoc import *"
   ]
  },
  {
   "cell_type": "code",
   "execution_count": null,
   "metadata": {},
   "outputs": [],
   "source": [
    "#exporti\r\n",
    "# Load Module's dependencies\r\n",
    "from pathlib import Path\r\n",
    "from pprint import pprint\r\n",
    "from typing import *\r\n",
    "\r\n",
    "import json\r\n",
    "import pandas as pd\r\n",
    "import fastcore.test as ft"
   ]
  },
  {
   "cell_type": "code",
   "execution_count": null,
   "metadata": {},
   "outputs": [],
   "source": [
    "#exporti\r\n",
    "import sc2reader\r\n",
    "\r\n",
    "from sc_training.handle_tracker_event import *\r\n",
    "from sc_training.macro_econ_parser import *"
   ]
  },
  {
   "cell_type": "markdown",
   "metadata": {},
   "source": [
    "# Chapter 6 - Tracking Control Groups\r\n"
   ]
  },
  {
   "cell_type": "markdown",
   "metadata": {},
   "source": [
    "In this chapter, I explore the data from the game's `ControlGroupEvents` and I define the module `controlgroup_parser` to compile this information as an indicator of the players' tactical performance. "
   ]
  },
  {
   "cell_type": "code",
   "execution_count": null,
   "metadata": {},
   "outputs": [],
   "source": [
    "#export\r\n",
    "\r\n",
    "class CtrlGrpPlugin(object):\r\n",
    "    \"\"\"Tracks the composition of the Replay's Players Control Groups.\r\n",
    "\r\n",
    "    Using this plug-in, the Replay object will include the `ctrl_grp_trk` \r\n",
    "    attribute. This attribute will store a dictionary of the control group \r\n",
    "    compositions using the replay's human players' ids (`pid`) as keys. \r\n",
    "    i.e.:\r\n",
    "\t\r\n",
    "\t`dict[pid (int):  control_group_compositions (dict)]`\r\n",
    "\r\n",
    "    Each of these dictionaries uses the `second` attribute of a \r\n",
    "    `ControlGroupEvent` as an index and organises the control group \r\n",
    "    composition as one more dictionary, indexed with the integers 1 to 9, \r\n",
    "    which stores a list of units that compose each one of the nine control \r\n",
    "    groups of the player. i.e.\r\n",
    "\r\n",
    "    `dict[pid(int): dict[second(int): dict[group(int): list_of_units]]]`\r\n",
    "    \"\"\"\r\n",
    "    from sc2reader.engine.plugins import SelectionTracker  \r\n",
    "    sc2reader.engine.register_plugin(SelectionTracker())\r\n",
    "    name = \"CtrlGrpPlugin\"\r\n",
    "\r\n",
    "    def handleInitGame(self, event, replay):\r\n",
    "        replay.ctrl_grp_trk = dict()\r\n",
    "        for human in replay.humans:\r\n",
    "            selection = human.selection\r\n",
    "            replay.ctrl_grp_trk[human.pid] = {0:{k: v for k, v \r\n",
    "                                                in selection.items()\r\n",
    "                                                if 0<k<10}}\r\n",
    "\r\n",
    "    def handleEvent(self, event, replay):\r\n",
    "\r\n",
    "        if isinstance(event, sc2reader.events.game.ControlGroupEvent):\r\n",
    "            selection = event.player.selection\r\n",
    "            replay.ctrl_grp_trk[event.player.pid][event.second] = {\r\n",
    "                                                        k: v for k, v \r\n",
    "                                                        in selection.items()\r\n",
    "                                                        if 0<k<10} \r\n",
    "\r\n",
    "sc2reader.engine.register_plugin(CtrlGrpPlugin())"
   ]
  },
  {
   "cell_type": "code",
   "execution_count": null,
   "metadata": {},
   "outputs": [
    {
     "data": {
      "text/markdown": [
       "<h4 id=\"CtrlGrpPlugin\" class=\"doc_header\"><code>class</code> <code>CtrlGrpPlugin</code><a href=\"\" class=\"source_link\" style=\"float:right\">[source]</a></h4>\n",
       "\n",
       "> <code>CtrlGrpPlugin</code>()\n",
       "\n",
       "Tracks the composition of the Replay's Players Control Groups.\n",
       "\n",
       "Using this plug-in, the Replay object will include the `ctrl_grp_trk` \n",
       "attribute. This attribute will store a dictionary of the control group \n",
       "compositions using the replay's human players' ids (`pid`) as keys. \n",
       "i.e.:\n",
       "    \n",
       "    `dict[pid (int):  control_group_compositions (dict)]`\n",
       "\n",
       "Each of these dictionaries uses the `second` attribute of a \n",
       "`ControlGroupEvent` as an index and organises the control group \n",
       "composition as one more dictionary, indexed with the integers 1 to 9, \n",
       "which stores a list of units that compose each one of the nine control \n",
       "groups of the player. i.e.\n",
       "\n",
       "`dict[pid(int): dict[second(int): dict[group(int): list_of_units]]]`"
      ],
      "text/plain": [
       "<IPython.core.display.Markdown object>"
      ]
     },
     "metadata": {},
     "output_type": "display_data"
    }
   ],
   "source": [
    "show_doc(CtrlGrpPlugin, title_level=4)"
   ]
  },
  {
   "cell_type": "code",
   "execution_count": null,
   "metadata": {},
   "outputs": [],
   "source": [
    "#\r\n",
    "# Load sample replays\r\n",
    "\r\n",
    "\r\n",
    "RPS_PATH = Path(\"./test_replays\")\r\n",
    "\r\n",
    "game_path = str(RPS_PATH/\"Jagannatha LE.SC2Replay\")\r\n",
    "single_replay = sc2reader.load_replay(game_path)\r\n",
    "ctrl_grp_test = sc2reader.load_replay(str(RPS_PATH/'ctrl_grp_t.SC2Replay'))\r\n",
    "ctrl_grp_test_2 = sc2reader.load_replay(str(RPS_PATH/'ctrl_grp_t_2.SC2Replay'))\r\n",
    "\r\n",
    "ta_test = sc2reader.load_replay(str(RPS_PATH/'Terran_abilities.SC2Replay'))\r\n",
    "pa_test = sc2reader.load_replay(str(RPS_PATH/'ProtossAbilities.SC2Replay'))\r\n",
    "\r\n",
    "tms_test = sc2reader.load_replay(str(RPS_PATH/'TMovesSelect.SC2Replay'))\r\n",
    "pms_test = sc2reader.load_replay(str(RPS_PATH/'p_move_test.SC2Replay'))"
   ]
  },
  {
   "cell_type": "code",
   "execution_count": null,
   "metadata": {},
   "outputs": [
    {
     "name": "stdout",
     "output_type": "stream",
     "text": [
      "535\n"
     ]
    },
    {
     "data": {
      "text/plain": [
       "dict_keys([0, 37, 49, 56, 59, 60, 67, 79, 100, 103, 116, 125, 142, 146, 160, 165, 176, 179, 190, 193, 194, 229, 233, 244, 249, 255, 276, 280, 303, 310, 328, 333, 387, 408, 415, 428, 444, 450, 455, 487, 497, 525, 550, 565, 584, 586, 608, 629, 640, 644, 657, 667, 699, 700, 718, 723, 726])"
      ]
     },
     "execution_count": null,
     "metadata": {},
     "output_type": "execute_result"
    }
   ],
   "source": [
    "print(ctrl_grp_test.length.seconds)\r\n",
    "ctrl_grp_test.ctrl_grp_trk[1].keys()"
   ]
  },
  {
   "cell_type": "code",
   "execution_count": null,
   "metadata": {},
   "outputs": [
    {
     "name": "stdout",
     "output_type": "stream",
     "text": [
      "ControlGroupEvents: 100\n",
      "SetControlGroupEvents: 14\n",
      "GetControlGroupEvents: 86\n",
      "AddControlGroupEvents: 0\n"
     ]
    }
   ],
   "source": [
    "TEST_MATCH = single_replay\r\n",
    "TEST_PID = 1\r\n",
    "\r\n",
    "ctrl_grp_e = [e for e in TEST_MATCH.events \r\n",
    "              if isinstance(e, sc2reader.events.game.ControlGroupEvent)\r\n",
    "              and e.pid == TEST_PID]\r\n",
    "\r\n",
    "set_ctrl_grp = [e for e in ctrl_grp_e\r\n",
    "                if isinstance(e, sc2reader.events.game.SetControlGroupEvent)]\r\n",
    "\r\n",
    "get_ctrl_grp = [e for e in ctrl_grp_e\r\n",
    "                if isinstance(e, sc2reader.events.game.GetControlGroupEvent)]\r\n",
    "\r\n",
    "add_ctrl_grp = [e for e in ctrl_grp_e\r\n",
    "                if isinstance(e, \r\n",
    "                              sc2reader.events.game.AddToControlGroupEvent)]\r\n",
    "\r\n",
    "print(f'ControlGroupEvents: {len(ctrl_grp_e)}')\r\n",
    "print(f'SetControlGroupEvents: {len(set_ctrl_grp)}')\r\n",
    "print(f'GetControlGroupEvents: {len(get_ctrl_grp)}')\r\n",
    "print(f'AddControlGroupEvents: {len(add_ctrl_grp)}')\r\n"
   ]
  },
  {
   "cell_type": "code",
   "execution_count": null,
   "metadata": {},
   "outputs": [
    {
     "name": "stdout",
     "output_type": "stream",
     "text": [
      "215\n",
      "{1, 3, 4, 5, 10}\n"
     ]
    }
   ],
   "source": [
    "select_e = [e for e in TEST_MATCH.events \r\n",
    "              if isinstance(e, sc2reader.events.game.SelectionEvent)\r\n",
    "              and e.pid == TEST_PID]\r\n",
    "\r\n",
    "print(len(select_e))\r\n",
    "print(set([s.control_group for s in select_e]))"
   ]
  },
  {
   "cell_type": "code",
   "execution_count": null,
   "metadata": {},
   "outputs": [
    {
     "name": "stdout",
     "output_type": "stream",
     "text": [
      "select_e_times_indexes: 179\n",
      "ctrl_grp_times_indexes: 85\n",
      "Number of elements that intersect 7\n",
      "Number of elements that do not intersect 250\n",
      "Sum of select and ctrl_group: 257\n"
     ]
    }
   ],
   "source": [
    "sel_e_times = set([s.second for s in select_e])\r\n",
    "ctrl_grp_times = set([c.second for c in ctrl_grp_e])\r\n",
    "print(f'select_e_times_indexes: {len(sel_e_times)}')\r\n",
    "print(f'ctrl_grp_times_indexes: {len(ctrl_grp_times)}')\r\n",
    "\r\n",
    "intersect = sel_e_times.intersection(ctrl_grp_times)\r\n",
    "not_intersect_set = sel_e_times.symmetric_difference(ctrl_grp_times)\r\n",
    "print(f'Number of elements that intersect {len(intersect)}')\r\n",
    "print(f'Number of elements that do not intersect {len(not_intersect_set)}')\r\n",
    "print(f'Sum of select and ctrl_group: {len(sel_e_times | ctrl_grp_times)}')"
   ]
  },
  {
   "cell_type": "code",
   "execution_count": null,
   "metadata": {},
   "outputs": [
    {
     "name": "stdout",
     "output_type": "stream",
     "text": [
      "{'bank': 1,\n",
      " 'control_group': 1,\n",
      " 'frame': 2625,\n",
      " 'hotkey': 1,\n",
      " 'is_local': True,\n",
      " 'mask_data': None,\n",
      " 'mask_type': 'None',\n",
      " 'name': 'GetControlGroupEvent',\n",
      " 'pid': 1,\n",
      " 'player': Player 2 - MxChrisxM (Terran),\n",
      " 'second': 164,\n",
      " 'update_type': 2}\n",
      "{'bank': 1,\n",
      " 'control_group': 1,\n",
      " 'frame': 2624,\n",
      " 'is_local': True,\n",
      " 'mask_data': [],\n",
      " 'mask_type': 'ZeroIndices',\n",
      " 'name': 'SelectionEvent',\n",
      " 'new_unit_ids': [51380225],\n",
      " 'new_unit_info': [(51380225, 155, 34, 1)],\n",
      " 'new_unit_types': [(155, 34, 1, 1)],\n",
      " 'new_units': [OrbitalCommand [3100001]],\n",
      " 'objects': [OrbitalCommand [3100001]],\n",
      " 'pid': 1,\n",
      " 'player': Player 2 - MxChrisxM (Terran),\n",
      " 'second': 164,\n",
      " 'subgroup_index': 0}\n"
     ]
    }
   ],
   "source": [
    "ctrl_intersects = [c for c in ctrl_grp_e if c.second in intersect]\r\n",
    "select_intersects = [s for s in select_e if s.second in intersect]\r\n",
    "\r\n",
    "pprint(ctrl_intersects[0].__dict__)\r\n",
    "pprint(select_intersects[0].__dict__)"
   ]
  },
  {
   "cell_type": "markdown",
   "metadata": {},
   "source": [
    "TODO:\r\n",
    "Define functions:\r\n",
    "\r\n",
    "- `calc_ctrlg_ratio` to get the ratios of control group actions v commands for the different stages of the game. \r\n",
    "    - Should this ratio be calculated adding this commands to the action count?\r\n",
    "    - Maybe is better just to get a count?\r\n",
    "- `max_active_groups` get the maxium number of active control groups per game stage\r\n",
    "- `calc_group_select_ratio` can I calculate a ratio of selecting with group vs selecting in total (group and rightclick)?"
   ]
  },
  {
   "cell_type": "code",
   "execution_count": null,
   "metadata": {},
   "outputs": [],
   "source": [
    "def calc_ctrlg_ratio(rpl: sc2reader.resources.Replay, pid: int):\r\n",
    "    pass"
   ]
  },
  {
   "cell_type": "code",
   "execution_count": null,
   "metadata": {},
   "outputs": [],
   "source": []
  }
 ],
 "metadata": {
  "kernelspec": {
   "display_name": "Python 3.9.6 64-bit ('sctraining_env': conda)",
   "name": "python3"
  }
 },
 "nbformat": 4,
 "nbformat_minor": 2
}
