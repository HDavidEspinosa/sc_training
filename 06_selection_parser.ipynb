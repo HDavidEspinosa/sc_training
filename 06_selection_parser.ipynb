{
 "cells": [
  {
   "cell_type": "code",
   "execution_count": null,
   "metadata": {},
   "outputs": [],
   "source": [
    "# default_exp ingest.selection_parser\n"
   ]
  },
  {
   "cell_type": "code",
   "execution_count": null,
   "metadata": {},
   "outputs": [],
   "source": [
    "#hide\n",
    "from nbdev.showdoc import *"
   ]
  },
  {
   "cell_type": "code",
   "execution_count": null,
   "metadata": {},
   "outputs": [],
   "source": [
    "#exporti\n",
    "# Load Module's dependencies\n",
    "from pathlib import Path\n",
    "from pprint import pprint\n",
    "from typing import *\n",
    "\n",
    "import json\n",
    "import pandas as pd\n",
    "import fastcore.test as ft"
   ]
  },
  {
   "cell_type": "code",
   "execution_count": null,
   "metadata": {},
   "outputs": [],
   "source": [
    "#exporti\n",
    "import sc2reader\n",
    "\n",
    "from sc_training.ingest.handle_tracker_event import *\n",
    "from sc_training.ingest.macro_econ_parser import *"
   ]
  },
  {
   "cell_type": "markdown",
   "metadata": {},
   "source": [
    "# Section 1.6 - Tracking Control Groups\n"
   ]
  },
  {
   "cell_type": "markdown",
   "metadata": {},
   "source": [
    "## Introduction\n",
    "\n",
    "Beyond `CommandEvents` (see <<Chapter 5 - Handling Command Events>>), another potential indicator that I can use to profile the players' tactical play (i.e. their micro-game) is their **selection behaviour**. For instance, in StarCraft II, players can select units in two ways; they can use their mouse in conjunction with some hotkeys like `ctrl` or use control groups to assemble sets of units for custom and fast selection. \n",
    "\n",
    "This chapter explores how I can extract information about this behaviour with sc2reader's `SelectionEvents` and `ControlGroupEvents`. Using these events, I define a set of functions to quantify this characteristic of the players' play.\n",
    "\n",
    "### Exported Functions:\n",
    "\n",
    "- `calc_ctrlg_ratio`\n",
    "- `count_max_active_groups`\n",
    "- `calc_get_ctrl_grp_ratio`\n",
    "- `calc_select_ratio` "
   ]
  },
  {
   "cell_type": "markdown",
   "metadata": {},
   "source": [
    "## Extracting the Control Group Compositions\n",
    "\n",
    "Before examining the structure of the `ControlGroupEvents` and the `SelectionEvents`, I must explain how to load `Replays` to include enough information to quantify the abovementioned indicators.  The issue is that loading `Replays` with `sc2reader` as I have in previous modules does not record the composition of the players' control groups over time. This can be remediated to an extent using the `sc2reader` plug-in `SelectionTracker`, which is similar to the `APMTracker` I use in <<Chapter 5 -Handling Command Events>>. However, in contrast with `APMTracker`, `SelectionTracker` is meant as an input for user-defined plug-ins that specify its behaviour. \n",
    "\n",
    "> Note: this chapter's development notebook defines the module `selection_parser`, which exports the class `CtrlGroupTracker` that can be used as an `sc2reader` plug-in. This plug-in adds the `ctrl_grp_trk` attribute to the `Replay` objects upon load. This attribute stores the composition of the players' control groups each time the player triggers a `ControlGroupEvent` during the match. See the notebook or the module's source code for implementation details. "
   ]
  },
  {
   "cell_type": "code",
   "execution_count": null,
   "metadata": {},
   "outputs": [],
   "source": [
    "#export\n",
    "class CtrlGroupTracker(object):\n",
    "    \"\"\"Tracks the composition of the Replay's Players Control Groups.\n",
    "\n",
    "    Using this plug-in, the Replay object will include the `ctrl_grp_trk` \n",
    "    attribute. This attribute will store a dictionary of the control group \n",
    "    compositions using the replay's human players' ids (`pid`) as keys. \n",
    "    i.e.:\n",
    "\t`dict[pid (int):  control_group_compositions (dict)]`\n",
    "\n",
    "    Each of these dictionaries uses the `second` attribute of a \n",
    "    `ControlGroupEvent` as an index and organises the control group \n",
    "    composition as one more dictionary, indexed with the integers 1 to 9, \n",
    "    which stores a list of units that compose each one of the nine control \n",
    "    groups of the player. i.e.\n",
    "\n",
    "    `dict[pid(int): dict[second(int): dict[group(int): list_of_units]]]`\n",
    "    \"\"\"\n",
    "    from sc2reader.engine.plugins import SelectionTracker  \n",
    "    sc2reader.engine.register_plugin(SelectionTracker())\n",
    "    name = \"CtrlGroupTracker\"\n",
    "\n",
    "    def handleInitGame(self, event, replay):\n",
    "        replay.ctrl_grp_trk = dict()\n",
    "        for human in replay.humans:\n",
    "            selection = human.selection\n",
    "            replay.ctrl_grp_trk[human.pid] = {0:{k: v for k, v \n",
    "                                                in selection.items()\n",
    "                                                if 0<k<10}}\n",
    "\n",
    "    def handleEvent(self, event, replay):\n",
    "\n",
    "        if isinstance(event, sc2reader.events.game.ControlGroupEvent):\n",
    "            selection = event.player.selection\n",
    "            replay.ctrl_grp_trk[event.player.pid][event.second] = {\n",
    "                                                        k: v for k, v \n",
    "                                                        in selection.items()\n",
    "                                                        if 0<k<10} "
   ]
  },
  {
   "cell_type": "code",
   "execution_count": null,
   "metadata": {},
   "outputs": [
    {
     "data": {
      "text/markdown": [
       "<h5 id=\"CtrlGroupTracker\" class=\"doc_header\"><code>class</code> <code>CtrlGroupTracker</code><a href=\"\" class=\"source_link\" style=\"float:right\">[source]</a></h5>\n",
       "\n",
       "> <code>CtrlGroupTracker</code>()\n",
       "\n",
       "Tracks the composition of the Replay's Players Control Groups.\n",
       "\n",
       "Using this plug-in, the Replay object will include the `ctrl_grp_trk` \n",
       "attribute. This attribute will store a dictionary of the control group \n",
       "compositions using the replay's human players' ids (`pid`) as keys. \n",
       "i.e.:\n",
       "    `dict[pid (int):  control_group_compositions (dict)]`\n",
       "\n",
       "Each of these dictionaries uses the `second` attribute of a \n",
       "`ControlGroupEvent` as an index and organises the control group \n",
       "composition as one more dictionary, indexed with the integers 1 to 9, \n",
       "which stores a list of units that compose each one of the nine control \n",
       "groups of the player. i.e.\n",
       "\n",
       "`dict[pid(int): dict[second(int): dict[group(int): list_of_units]]]`"
      ],
      "text/plain": [
       "<IPython.core.display.Markdown object>"
      ]
     },
     "metadata": {},
     "output_type": "display_data"
    }
   ],
   "source": [
    "show_doc(CtrlGroupTracker, title_level=5)"
   ]
  },
  {
   "cell_type": "markdown",
   "metadata": {},
   "source": [
    "## Selection Behaviour Events\n",
    "\n",
    "As stated above, in this chapter, I take a look into two kinds of `GameEvents` that I can use to get a notion of the players' selection behaviours, i.e. `ControlGroupEvents` and `SelectonEvents`.\n",
    "\n",
    "### Handling `ControlGroupEvents`\n",
    "\n",
    "I will start by loading the sample `Replays` I use in this notebook to analyse this type of event.\n",
    "\n",
    "> Note:  In the following code, the first command registers that `CtrlGroupTracker` plug-in I define above.\n"
   ]
  },
  {
   "cell_type": "code",
   "execution_count": null,
   "metadata": {},
   "outputs": [],
   "source": [
    "#\n",
    "# Register CtrlGroupTracker plug-in\n",
    "sc2reader.engine.register_plugin(CtrlGroupTracker())\n",
    "\n",
    "# Load sample replays\n",
    "RPS_PATH = Path(\"./test_replays\")\n",
    "\n",
    "game_path = str(RPS_PATH/\"Jagannatha LE.SC2Replay\")\n",
    "single_replay = sc2reader.load_replay(game_path)\n",
    "ctrl_grp_test = sc2reader.load_replay(str(RPS_PATH/'ctrl_grp_t.SC2Replay'))\n",
    "ctrl_grp_test_2 = sc2reader.load_replay(str(RPS_PATH/'ctrl_grp_t_2.SC2Replay'))\n",
    "\n",
    "ta_test = sc2reader.load_replay(str(RPS_PATH/'Terran_abilities.SC2Replay'))\n",
    "pa_test = sc2reader.load_replay(str(RPS_PATH/'ProtossAbilities.SC2Replay'))\n",
    "\n",
    "tms_test = sc2reader.load_replay(str(RPS_PATH/'TMovesSelect.SC2Replay'))\n",
    "pms_test = sc2reader.load_replay(str(RPS_PATH/'p_move_test.SC2Replay'))"
   ]
  },
  {
   "cell_type": "markdown",
   "metadata": {},
   "source": [
    "With `Replays` loaded, one can see that they now have the `ctrl_grp_trk` attribute. Calling this attribute, I can choose to look at each of the players' **control group compositions** using their `pid` as an index. Afterwards, I can look at each composition independently using the value of the `second` attribute of the `ControlGroupEvent` that generated it as an index.\n",
    "\n",
    "> Tip: in the sample code, TEST_PID stores the sample player's player ID (`pid`). Meanwhile, the number 221, which I use to extract a sample composition, refers to the time index of the event that triggered its recording."
   ]
  },
  {
   "cell_type": "code",
   "execution_count": null,
   "metadata": {},
   "outputs": [
    {
     "name": "stdout",
     "output_type": "stream",
     "text": [
      "LOAD RESULTS:\n",
      "Ctrl group compositions: {1: [OrbitalCommand [3100001]], 2: [SCV [3440001]], 3: [OrbitalCommand [3100001]], 4: [Factory [3B80001]], 5: [OrbitalCommand [3100001]], 6: [], 7: [], 8: [], 9: []}\n",
      "---------------------------\n",
      "Sample Ctrl group composition:\n",
      "{1: [OrbitalCommand [3100001]],\n",
      " 2: [SCV [3440001]],\n",
      " 3: [OrbitalCommand [3100001]],\n",
      " 4: [Factory [3B80001]],\n",
      " 5: [OrbitalCommand [3100001]],\n",
      " 6: [],\n",
      " 7: [],\n",
      " 8: [],\n",
      " 9: []}\n",
      "----------------------------\n",
      "Sample GetControlGroupEvent\n",
      "Generated by: Player 2 - MxChrisxM (Terran)\n",
      "Recorded time: 221second\n"
     ]
    }
   ],
   "source": [
    "TEST_MATCH = single_replay\n",
    "TEST_PID = 2\n",
    "sample_ctrlg_comp = TEST_MATCH.ctrl_grp_trk[TEST_PID][221]\n",
    "print('LOAD RESULTS:')\n",
    "print(f'Ctrl group compositions: {sample_ctrlg_comp}')\n",
    "print('---------------------------')\n",
    "print('Sample Ctrl group composition:')\n",
    "pprint(TEST_MATCH.ctrl_grp_trk[TEST_PID][221])\n",
    "print('----------------------------')\n",
    "\n",
    "sample_event = [e for e in TEST_MATCH.events \n",
    "              if isinstance(e, sc2reader.events.game.ControlGroupEvent)\n",
    "              and e.pid == (TEST_PID - 1)\n",
    "              and e.second == 221]\n",
    "\n",
    "print(f'Sample {sample_event[0].name}')\n",
    "print(f'Generated by: {sample_event[0].player}')\n",
    "print(f'Recorded time: {sample_event[0].second}second')"
   ]
  },
  {
   "cell_type": "markdown",
   "metadata": {},
   "source": [
    "> Note: in the composition, nine lists track the units that belong to each of the nine control groups that players can assign in the game."
   ]
  },
  {
   "cell_type": "markdown",
   "metadata": {},
   "source": [
    "Beyond the control group compositions, I can use simple _list comprehensions_ to extract the `ControlGroupEvents` from the `Replay's` event list.\n",
    "With this technique, I can also segregate these events into three sub-types:\n",
    "\n",
    "- `SetControlGroupEvent`: created each time a player assigns a control group.\n",
    "- `GetControlGroupEvent`: registered each time a player summons, i.e. uses a hot-key to select a control group.\n",
    "- `AddToControlGroupEvent`: registered when a player uses a hot-key to assign selected units to an existing control group.\n",
    "\n",
    "This classification is helpful to distinguish between events that select units and those that do not."
   ]
  },
  {
   "cell_type": "code",
   "execution_count": null,
   "metadata": {},
   "outputs": [
    {
     "name": "stdout",
     "output_type": "stream",
     "text": [
      "ControlGroupEvents: 100\n",
      "SetControlGroupEvents: 14\n",
      "GetControlGroupEvents: 86\n",
      "AddControlGroupEvents: 0\n"
     ]
    }
   ],
   "source": [
    "#\n",
    "#List all ControlGroupEvents\n",
    "ctrl_grp_e = [e for e in TEST_MATCH.events \n",
    "              if isinstance(e, sc2reader.events.game.ControlGroupEvent)\n",
    "              and e.pid == (TEST_PID - 1)]\n",
    "\n",
    "#List ControlGroupEvents sub-types\n",
    "set_ctrl_grp = [e for e in ctrl_grp_e\n",
    "                if isinstance(e, sc2reader.events.game.SetControlGroupEvent)]\n",
    "\n",
    "get_ctrl_grp = [e for e in ctrl_grp_e\n",
    "                if isinstance(e, sc2reader.events.game.GetControlGroupEvent)]\n",
    "\n",
    "add_ctrl_grp = [e for e in ctrl_grp_e\n",
    "                if isinstance(e, \n",
    "                              sc2reader.events.game.AddToControlGroupEvent)]\n",
    "\n",
    "print(f'ControlGroupEvents: {len(ctrl_grp_e)}')\n",
    "print(f'SetControlGroupEvents: {len(set_ctrl_grp)}')\n",
    "print(f'GetControlGroupEvents: {len(get_ctrl_grp)}')\n",
    "print(f'AddControlGroupEvents: {len(add_ctrl_grp)}')"
   ]
  },
  {
   "cell_type": "markdown",
   "metadata": {},
   "source": [
    "Meanwhile, with a simple loop I can go through a control group composition group-lists to count how many of them actually have units assign to them as shown in the code bellow."
   ]
  },
  {
   "cell_type": "code",
   "execution_count": null,
   "metadata": {},
   "outputs": [
    {
     "data": {
      "text/plain": [
       "5"
      ]
     },
     "execution_count": null,
     "metadata": {},
     "output_type": "execute_result"
    }
   ],
   "source": [
    "count = 0 \n",
    "for l in sample_ctrlg_comp.values():\n",
    "    if l:\n",
    "        count += 1 \n",
    "\n",
    "count"
   ]
  },
  {
   "cell_type": "markdown",
   "metadata": {},
   "source": [
    "In this module, I define an internal function called `count_active_groups` that carries out this task."
   ]
  },
  {
   "cell_type": "code",
   "execution_count": null,
   "metadata": {},
   "outputs": [],
   "source": [
    "#exporti\n",
    "def count_active_groups(ctrl_grps: dict[int, list]) -> int:\n",
    "    '''Count how many of the control groups have units assign to them.\n",
    "\n",
    "    *Args*\n",
    "        - ctrl_grps (dict[int, list])\n",
    "            Control group compossitions indexed from 1 to 9\n",
    "    \n",
    "    *Returns*\n",
    "        - (int)\n",
    "            Number of active control groups\n",
    "    '''\n",
    "    count = 0 \n",
    "    for l in ctrl_grps.values():\n",
    "        if l:\n",
    "            count += 1 \n",
    "\n",
    "    return count\n"
   ]
  },
  {
   "cell_type": "code",
   "execution_count": null,
   "metadata": {},
   "outputs": [
    {
     "data": {
      "text/plain": [
       "5"
      ]
     },
     "execution_count": null,
     "metadata": {},
     "output_type": "execute_result"
    }
   ],
   "source": [
    "#\n",
    "# count_active_groups sample run\n",
    "count_active_groups(sample_ctrlg_comp)"
   ]
  },
  {
   "cell_type": "markdown",
   "metadata": {},
   "source": [
    "### Handling `SelectionEvents`\n",
    "\n",
    "As explained in `sc2reader's` documentation, \n",
    "    \n",
    ">: \"`SelectionEvents` are generated when ever the active selection of the player is updated. Unlike other game events, these events can also be generated by non-player actions like unit deaths or transformations. [...] selection events targetting control group buffers are also generated when control group selections are modified by non-player actions. When a player action updates a control group a `ControlGroupEvent` is generated.\" [(Kim, 2015, p. 48)](https://sc2reader.readthedocs.io/en/latest/events/game.html)\n",
    "\n",
    "Hence, `SelectionEvents` events can refer to game situations that also trigger `ControlGroupEvents`, but they are essentially different. \n",
    "\n",
    "Below, I extract the sample match's `SelectionEvents`. I also use their `control_group` attribute to see what control groups they are linked to. Note that there is a control group number ten according to the list of control groups linked to the selections. This group refers to the player's current active selection, whatever it was at the moment. In other words, if the player selects units just by clicking, it would trigger a `SelectionEvent` but not a `ControlGroupEvent`. Said `SelectionEvent` would be linked to the current selection instead of a control group."
   ]
  },
  {
   "cell_type": "code",
   "execution_count": null,
   "metadata": {},
   "outputs": [
    {
     "name": "stdout",
     "output_type": "stream",
     "text": [
      "SelectionEvents in sample replay: 215\n",
      "Groups referenced by the Selection Events:\n",
      "{1, 3, 4, 5, 10}\n"
     ]
    }
   ],
   "source": [
    "select_e = [e for e in TEST_MATCH.events \n",
    "              if isinstance(e, sc2reader.events.game.SelectionEvent)\n",
    "              and e.pid == (TEST_PID - 1)]\n",
    "\n",
    "print(f'SelectionEvents in sample replay: {len(select_e)}')\n",
    "print(f'Groups referenced by the Selection Events:')\n",
    "print(set([s.control_group for s in select_e]))"
   ]
  },
  {
   "cell_type": "markdown",
   "metadata": {},
   "source": [
    "Similarly, the following code exposes the intersection between the two sets. It shows how many `SelectionEvents` and `ControlGroupEvents` `sc2reader` registered independently and how many were triggered by the same game event. \n",
    "\n",
    "Recognizing this link is crucial if I want to count the two types of events together. In this case, I need to make sure that I only count each game event once. The following code shows how the sets of events intersect, how simply adding the sets miss-counts the elements, and how I can use set-union to count them correctly."
   ]
  },
  {
   "cell_type": "code",
   "execution_count": null,
   "metadata": {},
   "outputs": [
    {
     "name": "stdout",
     "output_type": "stream",
     "text": [
      "select_e_times_indexes: 179\n",
      "ctrl_grp_times_indexes: 85\n",
      "Number of elements that intersect: 7\n",
      "Number of elements that do not intersect: 250\n",
      "Sum of set counts: 264\n",
      "Union of select and ctrl_group: 257\n"
     ]
    }
   ],
   "source": [
    "sel_e_times = set([s.second for s in select_e])\n",
    "ctrl_grp_times = set([c.second for c in ctrl_grp_e])\n",
    "print(f'select_e_times_indexes: {len(sel_e_times)}')\n",
    "print(f'ctrl_grp_times_indexes: {len(ctrl_grp_times)}')\n",
    "\n",
    "intersect = sel_e_times.intersection(ctrl_grp_times)\n",
    "not_intersect_set = sel_e_times.symmetric_difference(ctrl_grp_times)\n",
    "print(f'Number of elements that intersect: {len(intersect)}')\n",
    "print(f'Number of elements that do not intersect: {len(not_intersect_set)}')\n",
    "print(f'Sum of set counts: {len(sel_e_times) + len(ctrl_grp_times)}')\n",
    "print(f'Union of select and ctrl_group: {len(sel_e_times | ctrl_grp_times)}')"
   ]
  },
  {
   "cell_type": "markdown",
   "metadata": {},
   "source": [
    "## Functions\n",
    "\n",
    "### Helper functions\n",
    "\n",
    "Internally the module defines the helper functions:\n",
    "\n",
    "- `build_ctrlg_df` that builds a DataFrame with the `Replay's` list of `ControlGroupEvents`. "
   ]
  },
  {
   "cell_type": "code",
   "execution_count": null,
   "metadata": {},
   "outputs": [],
   "source": [
    "#exporti\n",
    "def build_ctrlg_df(events: list, \n",
    "                   rpl:sc2reader.resources.Replay) -> pd.DataFrame:\n",
    "\n",
    "    raw_df = pd.DataFrame([e.__dict__ for e in events])[['second', \n",
    "                                                         'player', \n",
    "                                                         'name', \n",
    "                                                         'control_group']]\n",
    "                                                         \n",
    "    raw_df.insert(1, 'pid', [player.pid for player in raw_df.player])\n",
    "    raw_df.insert(0, 'real_time', \n",
    "                  [calc_realtime_index(sec, rpl) for sec in raw_df.second])\n",
    "\n",
    "    return raw_df.drop(['player'], axis=1)"
   ]
  },
  {
   "cell_type": "markdown",
   "metadata": {},
   "source": [
    "The table results from a sample run of `build_ctrlg_df` called on the notebooks `TEST_MATCH`."
   ]
  },
  {
   "cell_type": "code",
   "execution_count": null,
   "metadata": {},
   "outputs": [],
   "source": [
    "#hide\n",
    "#print(build_ctrlg_df(ctrl_grp_e, TEST_MATCH).head().to_markdown())"
   ]
  },
  {
   "cell_type": "markdown",
   "metadata": {},
   "source": [
    "|    |   real_time |   second |   pid | name                 |   control_group |\n",
    "|---:|------------:|---------:|------:|:---------------------|----------------:|\n",
    "|  0 |     4.28571 |        6 |     2 | SetControlGroupEvent |               1 |\n",
    "|  1 |     4.28571 |        6 |     2 | SetControlGroupEvent |               2 |\n",
    "|  2 |     4.28571 |        6 |     2 | SetControlGroupEvent |               3 |\n",
    "|  3 |     5       |        7 |     2 | SetControlGroupEvent |               4 |\n",
    "|  4 |     5       |        7 |     2 | SetControlGroupEvent |               5 |"
   ]
  },
  {
   "cell_type": "markdown",
   "metadata": {},
   "source": [
    "### Exportable Functions\n",
    "\n",
    "Considering all of the above, I define multiple functions to extract the players' _seclection behaviour_ indicators. \n",
    "\n",
    "These functions include:"
   ]
  },
  {
   "cell_type": "code",
   "execution_count": null,
   "metadata": {},
   "outputs": [],
   "source": [
    "#export\n",
    "def count_max_active_groups(rpl: sc2reader.resources.Replay, \n",
    "                      pid: int) -> dict[str, float]:\n",
    "    \"\"\"Counts the maximum number of active control groups during the \n",
    "    different stages of the game.\n",
    "\n",
    "    *Args*\n",
    "        - rpl (sc2reader.resources.Replay)\n",
    "            The replay being analysed.\n",
    "        - pid (int)\n",
    "            In-game player ID of the player being considered in the \n",
    "            analysis.\n",
    "    \n",
    "    *Returns*\n",
    "        - dict[str, int]\n",
    "            Maximum number of active control groups at each game stage \n",
    "            indexed with the keys [stage]_max_act_grps\n",
    "    \"\"\"\n",
    "\n",
    "    ctrl_grp_e = [e for e in rpl.events \n",
    "                if isinstance(e, sc2reader.events.game.ControlGroupEvent)\n",
    "                and e.pid == (pid - 1)]\n",
    "\n",
    "    ctrl_grp_e_df = build_ctrlg_df(ctrl_grp_e, rpl)\n",
    "\n",
    "    grp_trk = rpl.ctrl_grp_trk\n",
    "    grp_trk_indexes = [(row[1].pid, row[1].second) \n",
    "                        for row in ctrl_grp_e_df.iterrows()]\n",
    "    ctrl_grp_e_df['active_groups'] = [count_active_groups(grp_trk[player][sec]) \n",
    "                                      for player, sec in grp_trk_indexes]\n",
    "\n",
    "    column_names = ['whole_max_act_grps', 'early_max_act_grps',\n",
    "                    'mid_max_act_grps', 'late_max_act_grps']\n",
    "    \n",
    "    interv_dfs= gen_interval_sub_dfs(rpl.length.seconds,\n",
    "                                     ctrl_grp_e_df,\n",
    "                                     ['active_groups'])\n",
    "    \n",
    "    return {name: df.agg('max')['active_groups'] \n",
    "            for name, df in zip(column_names,interv_dfs)}"
   ]
  },
  {
   "cell_type": "markdown",
   "metadata": {},
   "source": [
    "`count_max_active_groups` sample run:"
   ]
  },
  {
   "cell_type": "code",
   "execution_count": null,
   "metadata": {},
   "outputs": [
    {
     "data": {
      "text/plain": [
       "{'whole_max_act_grps': 5,\n",
       " 'early_max_act_grps': 5,\n",
       " 'mid_max_act_grps': 5,\n",
       " 'late_max_act_grps': 5}"
      ]
     },
     "execution_count": null,
     "metadata": {},
     "output_type": "execute_result"
    }
   ],
   "source": [
    "count_max_active_groups(TEST_MATCH, TEST_PID)"
   ]
  },
  {
   "cell_type": "code",
   "execution_count": null,
   "metadata": {},
   "outputs": [],
   "source": [
    "#export\n",
    "def calc_ctrlg_ratio(rpl: sc2reader.resources.Replay, \n",
    "                      pid: int) -> dict[str, float]:\n",
    "    \n",
    "    \"\"\"Calculates the ratio between `ControlGroupEvents` and the union of\n",
    "    the `CommandEvents`, `SelectionEvents` and `ControlGroupCommand` sets \n",
    "    to quantify the players' level of awareness and use of this tactical \n",
    "    feature.\n",
    "\n",
    "    *Args*\n",
    "        - rpl (sc2reader.resources.Replay)\n",
    "            The replay being analysed.\n",
    "        - pid (int)\n",
    "            In-game player ID of the player being considered in the \n",
    "            analysis.\n",
    "\n",
    "    *Returns*\n",
    "        - (dict[str, float])\n",
    "\n",
    "    \"\"\"\n",
    "\n",
    "    command_secs = {e.second for e in rpl.events \n",
    "                    if isinstance(e, sc2reader.events.game.CommandEvent)\n",
    "                    and e.pid == (pid - 1)}\n",
    "\n",
    "    select_secs = {e.second for e in rpl.events \n",
    "                    if isinstance(e, sc2reader.events.game.SelectionEvent)\n",
    "                    and e.pid == (pid - 1)}\n",
    "\n",
    "    ctrlg_secs = {e.second for e in rpl.events \n",
    "                    if isinstance(e, sc2reader.events.game.ControlGroupEvent)\n",
    "                    and e.pid == (pid - 1)}\n",
    "\n",
    "    \n",
    "    total_counted_events = len(command_secs | select_secs | ctrlg_secs)\n",
    "\n",
    "\n",
    "    return {\"ctrlg_ratio\": len(ctrlg_secs)/total_counted_events}"
   ]
  },
  {
   "cell_type": "code",
   "execution_count": null,
   "metadata": {},
   "outputs": [
    {
     "data": {
      "text/plain": [
       "{'ctrlg_ratio': 0.19630484988452657}"
      ]
     },
     "execution_count": null,
     "metadata": {},
     "output_type": "execute_result"
    }
   ],
   "source": [
    "calc_ctrlg_ratio(TEST_MATCH, TEST_PID)"
   ]
  },
  {
   "cell_type": "markdown",
   "metadata": {},
   "source": [
    "The next two functions use the union between `GetControlGroupEvent` and `SelectEvent` sets to quantify if the player preferes to select units based on mouse clicks or using control groups."
   ]
  },
  {
   "cell_type": "code",
   "execution_count": null,
   "metadata": {},
   "outputs": [],
   "source": [
    "#export\n",
    "def calc_get_ctrl_grp_ratio(rpl: sc2reader.resources.Replay, \n",
    "                            pid: int) -> dict[str, float]:\n",
    "    \"\"\"Calculates the ratio between `GetControlGroupEvent` to the all \n",
    "    section events (i.e. the union of `GetControlGroupEvent` and \n",
    "    `SelectEvent`).\n",
    "    \"\"\"\n",
    "    \n",
    "    select_secs = {e.second for e in rpl.events \n",
    "                   if isinstance(e, sc2reader.events.game.SelectionEvent)\n",
    "                   and e.pid == (pid - 1)}\n",
    "    \n",
    "    ctrlg_secs = {e.second for e in rpl.events \n",
    "                  if isinstance(e, sc2reader.events.game.GetControlGroupEvent)\n",
    "                  and e.pid == (pid - 1)}\n",
    "\n",
    "    selection_union = len(ctrlg_secs | select_secs)\n",
    "\n",
    "    return {'get_ctrl_grp_ratio':len(ctrlg_secs)/selection_union}"
   ]
  },
  {
   "cell_type": "markdown",
   "metadata": {},
   "source": [
    "`calc_get_ctrl_grp_ratio` sample run:"
   ]
  },
  {
   "cell_type": "code",
   "execution_count": null,
   "metadata": {},
   "outputs": [
    {
     "data": {
      "text/plain": [
       "{'get_ctrl_grp_ratio': 0.308}"
      ]
     },
     "execution_count": null,
     "metadata": {},
     "output_type": "execute_result"
    }
   ],
   "source": [
    "calc_get_ctrl_grp_ratio(TEST_MATCH, TEST_PID)"
   ]
  },
  {
   "cell_type": "code",
   "execution_count": null,
   "metadata": {},
   "outputs": [],
   "source": [
    "#export\n",
    "def calc_select_ratio(rpl: sc2reader.resources.Replay, \n",
    "                            pid: int) -> dict[str, float]:\n",
    "    \"\"\"Calculates the ratio between `SelectEvent` to the all \n",
    "    section events (i.e. the union of `GetControlGroupEvent` and \n",
    "    `SelectEvent`).\n",
    "    \"\"\"\n",
    "    select_secs = {e.second for e in rpl.events \n",
    "                   if isinstance(e, sc2reader.events.game.SelectionEvent)\n",
    "                   and e.pid == (pid - 1)}\n",
    "    \n",
    "    ctrlg_secs = {e.second for e in rpl.events \n",
    "                  if isinstance(e, sc2reader.events.game.GetControlGroupEvent)\n",
    "                  and e.pid == (pid - 1)}\n",
    "\n",
    "    selection_union = len(ctrlg_secs | select_secs)\n",
    "\n",
    "    return {'select_ratio':len(select_secs)/selection_union}"
   ]
  },
  {
   "cell_type": "markdown",
   "metadata": {},
   "source": [
    "`calc_select_ratio` sample run:"
   ]
  },
  {
   "cell_type": "code",
   "execution_count": null,
   "metadata": {},
   "outputs": [
    {
     "data": {
      "text/plain": [
       "{'select_ratio': 0.716}"
      ]
     },
     "execution_count": null,
     "metadata": {},
     "output_type": "execute_result"
    }
   ],
   "source": [
    "calc_select_ratio(TEST_MATCH, TEST_PID)"
   ]
  },
  {
   "cell_type": "markdown",
   "metadata": {},
   "source": [
    "## References\n",
    "\n",
    "- Kim, G. (2015) 'sc2reader Documentation'. Available at: https://sc2reader.readthedocs.io/_/downloads/en/latest/pdf/."
   ]
  },
  {
   "cell_type": "code",
   "execution_count": null,
   "metadata": {},
   "outputs": [
    {
     "name": "stdout",
     "output_type": "stream",
     "text": [
      "Converted 00_Comp_model.ipynb.\n",
      "Converted 01_01_ingest_process.ipynb.\n",
      "Converted 01_summarise_rpl.ipynb.\n",
      "Converted 02_handle_tracker_events.ipynb.\n",
      "Converted 03_macro_econ_parser.ipynb.\n",
      "Converted 04_build_parser.ipynb.\n",
      "Converted 05_handle_command_events.ipynb.\n",
      "Converted 06_selection_parser.ipynb.\n",
      "Converted index.ipynb.\n"
     ]
    }
   ],
   "source": [
    "#hide\n",
    "from nbdev.export import notebook2script\n",
    "notebook2script()"
   ]
  }
 ],
 "metadata": {
  "kernelspec": {
   "display_name": "Python 3 (ipykernel)",
   "language": "python",
   "name": "python3"
  }
 },
 "nbformat": 4,
 "nbformat_minor": 2
}
