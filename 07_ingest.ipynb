{
 "cells": [
  {
   "cell_type": "code",
   "execution_count": null,
   "id": "16b9487b",
   "metadata": {},
   "outputs": [],
   "source": [
    "# default_exp ingest.ingest"
   ]
  },
  {
   "cell_type": "code",
   "execution_count": null,
   "id": "b215b2b8",
   "metadata": {},
   "outputs": [],
   "source": [
    "#hide\n",
    "from nbdev.showdoc import *"
   ]
  },
  {
   "cell_type": "code",
   "execution_count": null,
   "id": "b833f537",
   "metadata": {},
   "outputs": [],
   "source": [
    "#exporti\n",
    "\n",
    "import re\n",
    "import pymongo\n",
    "import json\n",
    "import sc2reader\n",
    "import errno\n",
    "import jsonschema\n",
    "import os\n",
    "\n",
    "import pandas as pd\n",
    "import numpy as np\n",
    "\n",
    "from typing import *\n",
    "from pathlib import Path\n",
    "from pprint import pprint\n",
    "from jsonschema import validate\n",
    "from dataclasses import dataclass, astuple, asdict, field\n",
    "\n",
    "from sc_training.ingest import *\n",
    "\n",
    "sc2reader.engine.register_plugin(CtrlGroupTracker())"
   ]
  },
  {
   "cell_type": "code",
   "execution_count": null,
   "id": "cdcdb3c7",
   "metadata": {},
   "outputs": [],
   "source": [
    "#hide \n",
    "\n",
    "test_data_path = (Path(Path.cwd()/'test_replays') \n",
    "                  if Path('test_replays').exists() \n",
    "                  else Path('../../test_replays'))\n",
    "\n",
    "test_batch_path = (test_data_path / \"TestProfilerBatch\")\n",
    "\n",
    "assert test_data_path.exists()\n",
    "assert test_data_path.is_dir()"
   ]
  },
  {
   "cell_type": "markdown",
   "id": "a565bbbc",
   "metadata": {},
   "source": [
    "# Section 1.7 - The main ingest module "
   ]
  },
  {
   "cell_type": "markdown",
   "id": "0b067f11",
   "metadata": {},
   "source": [
    "## Introduction\n",
    "\n",
    "This section defines the ingest process' `inventory_replays` and `get_replay_indicators` functions following the design proposed in the Ingestion Sequence Diagram (see Section 1 - Data Ingestion and Clustering Process). It exports these functions into the ingest module of the ingest sub-package.\n",
    "\n",
    "### Exportable Members\n",
    "- `inventory_replays`\n",
    "- `get_replay_indicators`"
   ]
  },
  {
   "cell_type": "markdown",
   "id": "98fffdfa",
   "metadata": {},
   "source": [
    "## Inventoring and Storing `replays` collection\n",
    "\n",
    "To inventory the replays in a replay batch I can use the `get_replay_info` defined in the `summarise_rpl` module (see Section 1.1).\n",
    "\n",
    "In the following code, I load a batch of replays and I print the summary of the first two replays using the `get_replay_info` function."
   ]
  },
  {
   "cell_type": "code",
   "execution_count": null,
   "id": "a916a97e",
   "metadata": {},
   "outputs": [
    {
     "name": "stdout",
     "output_type": "stream",
     "text": [
      "File path:                   C:\\Users\\david\\Documents\\phdcode\\sc_training\\test_replays\\TestProfilerBatch\\16-Bit LE (2).SC2Replay \n",
      "File name:                   16-Bit LE (2).SC2Replay \n",
      "Date (datetime.datetime):    2021-06-04 03:49:10 \n",
      "Duration (seconds):          707 \n",
      "Game type:                   1v1 \n",
      "Game release:                5.0.7.84643 \n",
      "Map:                         16-Bit LE \n",
      "Game category:               Private \n",
      "winner:                      1 \n",
      "players:                     [(1, 'HDEspino', 'Terran', 'Win'), (2, 'A.I. 1 (Harder)', 'Zerg', 'Loss')] \n",
      "\n",
      "<class 'sc_training.ingest.summarise_rpl.Replay_data'>\n",
      "File path:                   C:\\Users\\david\\Documents\\phdcode\\sc_training\\test_replays\\TestProfilerBatch\\16-Bit LE (3).SC2Replay \n",
      "File name:                   16-Bit LE (3).SC2Replay \n",
      "Date (datetime.datetime):    2021-06-08 02:04:37 \n",
      "Duration (seconds):          384 \n",
      "Game type:                   1v1 \n",
      "Game release:                5.0.7.84643 \n",
      "Map:                         16-Bit LE \n",
      "Game category:               Private \n",
      "winner:                      1 \n",
      "players:                     [(1, 'HDEspino', 'Protoss', 'Win'), (2, 'A.I. 1 (Easy)', 'Protoss', 'Loss')] \n",
      "\n",
      "<class 'sc_training.ingest.summarise_rpl.Replay_data'>\n"
     ]
    }
   ],
   "source": [
    "replay_batch = sc2reader.load_replays(str(test_batch_path))\n",
    "\n",
    "for i, rpl in enumerate(replay_batch):\n",
    "    print(get_replay_info(rpl))\n",
    "    print(type(get_replay_info(rpl)))\n",
    "    if i == 1:\n",
    "        break"
   ]
  },
  {
   "cell_type": "markdown",
   "id": "cbdeab90",
   "metadata": {},
   "source": [
    "### Storing inventory in Database\n",
    "\n",
    "I can store the `Replay_data` objects returned by `get_replay_info` in a document-based database to illustrate how this function could store an inventory or replay information in such a format. Storing this inventory means that other processes could access it to navigate the information built by the ingest process.\n",
    "\n",
    "In the case of `sc_training`, I use a `config.json` file stored in the working project's data folder to set up a MongoDB local client and, through it, a database. The following code loads this file and defines the loading procedure for when this module is imported. \n",
    "\n",
    "I will divide this loading process into three steps. First, I locate and load the `config` file. This location process allows users to create a custom `config.json` in a data directory in their projects. That file can be used to customise the name of the database, the port address and number for the MongoDB client, and the location of the replays the user wants to process. \n",
    "\n",
    "Apart from this option, the code also defines how the module can default to a `config` file stored in the library's data folder if the user fails to provide this file. This default file allows the system to attempt to function based on the assumption that the users are using a Windows computer and have a traditional installation of StarCraft II and MongoDB. Of course, this default set-up would not be expected to work in all cases, but it provides an option and a sample of the `config` file."
   ]
  },
  {
   "cell_type": "markdown",
   "id": "60a744ae",
   "metadata": {},
   "source": [
    "Once the file is located, I also define a procedure to ensure it contains the necessary information to connect with the MongoDB client and access the appropriate database."
   ]
  },
  {
   "cell_type": "code",
   "execution_count": null,
   "id": "3ceeab1c",
   "metadata": {},
   "outputs": [],
   "source": [
    "#exporti\n",
    "@dataclass\n",
    "class Config_settings:\n",
    "    port_address: str\n",
    "    port_number: int\n",
    "    db_name: str\n",
    "    replay_path: str\n",
    "\n",
    "    def __str__(self):\n",
    "        headers = [\"Port Address: \",\"Port Number: \",\n",
    "                  \"DB Name: \",\"Replays file: \"]\n",
    "        strings = [f'{h:<15}{att:>40}\\n' for h, att\n",
    "                   in zip(headers, astuple(self))]\n",
    "        return ''.join(strings)\n",
    "        \n",
    "Config_schema = {\n",
    "    \"type\": \"object\",\n",
    "    \"properties\":{\n",
    "        \"DB_NAME\": {\"type\":\"string\"},\n",
    "        \"PORT_ADDRESS\":  {\"type\":\"string\"},\n",
    "        \"PORT_NUMBER\": {\"type\":\"number\"},\n",
    "        \"REPLAY_PATH\": {\"type\":\"string\"}\n",
    "    }\n",
    "}\n",
    "\n",
    "def validate_config_file(file: Path, schema: Dict[str, Any]) -> bool:\n",
    "    try:\n",
    "        validate(file, schema)\n",
    "    except jsonschema.exceptions.ValidationError as err:\n",
    "        print(err)\n",
    "        print(\"config.json does not conform to the required specifications\")\n",
    "        raise err\n",
    "    except jsonschema.exceptions.SchemaError as err:\n",
    "        print(err)\n",
    "        print(\"The Config_schema is invalid\")\n",
    "        raise err\n",
    "    \n",
    "    return True\n",
    "\n",
    "def open_config_file(config_file: Path) -> dict[str, Any]:\n",
    "    try:\n",
    "        if not config_file.exists():\n",
    "            raise FileNotFoundError\n",
    "        \n",
    "        validate_config_file(json.load(config_file.open()), Config_schema)\n",
    "        \n",
    "        with config_file.open('r') as cf:\n",
    "            return json.load(cf)\n",
    "\n",
    "    except FileNotFoundError as err:\n",
    "        print('config.json not found')\n",
    "        raise err\n"
   ]
  },
  {
   "cell_type": "markdown",
   "id": "7df290ce",
   "metadata": {},
   "source": [
    "All of those check and load procedures are contained within the `load_configurations` function. The following sample code shows the use of this fucntion to set up a test data base."
   ]
  },
  {
   "cell_type": "code",
   "execution_count": null,
   "id": "e28e9049",
   "metadata": {},
   "outputs": [],
   "source": [
    "#export\n",
    "def load_configurations() -> Config_settings:\n",
    "    \"\"\"Loads the project's\n",
    "    \"\"\"\n",
    "\n",
    "    config_file = (Path(Path.cwd()/'data/config.json') \n",
    "               if Path(Path.cwd()/'data/config.json').exists()\n",
    "               else Path(Path(__file__)/'../../../data/config.json'))\n",
    "\n",
    "    config_dict = open_config_file(config_file)\n",
    "    return Config_settings(\n",
    "        config_dict['PORT_ADDRESS'],\n",
    "        config_dict['PORT_NUMBER'],\n",
    "        config_dict['DB_NAME'],\n",
    "        config_dict['REPLAY_PATH']\n",
    "    )"
   ]
  },
  {
   "cell_type": "code",
   "execution_count": null,
   "id": "c3659a36",
   "metadata": {},
   "outputs": [],
   "source": [
    "db_settings = load_configurations()\n",
    "mongo_client = pymongo.MongoClient(db_settings.port_address, \n",
    "                                   db_settings.port_number)\n",
    "worcking_bd = mongo_client[db_settings.db_name]"
   ]
  },
  {
   "cell_type": "code",
   "execution_count": null,
   "id": "8e5c3ad0",
   "metadata": {},
   "outputs": [
    {
     "name": "stdout",
     "output_type": "stream",
     "text": [
      "config.json content:\n",
      "Port Address:                                 localhost\n",
      "Port Number:                                      27017\n",
      "DB Name:                                   TEST_library\n",
      "Replays file:          .\\test_replays\\TestProfilerBatch\n",
      "\n",
      "Local Mongo DB Client\n",
      "MongoClient(host=['localhost:27017'], document_class=dict, tz_aware=False, connect=True)\n",
      "\n",
      "Database: \n",
      "Database(MongoClient(host=['localhost:27017'], document_class=dict, tz_aware=False, connect=True), 'TEST_library')\n"
     ]
    }
   ],
   "source": [
    "print('config.json content:')\n",
    "print(db_settings)\n",
    "print('Local Mongo DB Client')\n",
    "print(mongo_client, end='\\n\\n')\n",
    "print('Database: ')\n",
    "print(worcking_bd)\n"
   ]
  },
  {
   "cell_type": "markdown",
   "id": "e65bd2ac",
   "metadata": {},
   "source": [
    "Once the database is set, I can loop through the replays in a file inserting the return values of the functions from the ingest subpackage's different modules into collections within the database. \n",
    "\n",
    "According to the Ingest and Clustering Sequence Diagram (see Section 1 Intro), I need to define a function that takes a batch of replays and inserts the indexing data into the `replays` collection. The following code shows the use of a loop that would do precisely that. \n",
    "\n",
    "> Note: in the example, I set up a new database called `sample_db` that I will use in this notebook for illustration purposes. "
   ]
  },
  {
   "cell_type": "code",
   "execution_count": null,
   "id": "f08ad9a4",
   "metadata": {},
   "outputs": [],
   "source": [
    "sample_db = mongo_client['sample_db']\n",
    "collection = sample_db['replays']\n",
    "\n",
    "replay_batch = sc2reader.load_replays(db_settings.replay_path)\n",
    "\n",
    "# for rpl in replay_batch:\n",
    "#     if not collection.count_documents({'replay_name': rpl.filename}, \n",
    "#                                       limit = 1):\n",
    "#         # print(f'Adding {Path(rpl.filename).name} to replays collection.')\n",
    "#         collection.insert_one(asdict(get_replay_info(rpl)))\n",
    "#     else:\n",
    "#         print(rpl.filename, \"already exists in the replay_info collection.\")"
   ]
  },
  {
   "cell_type": "markdown",
   "id": "ae5e31d1",
   "metadata": {},
   "source": [
    "Once the loop finishes, the collection has been created in the database. The following snippet shows that this collection is now composed of several documents containing the indexing data for each replay. Additionally, I added a conditional statement within the loop to check if the collection already contains a replay. In that case, the loop will print a warning and avoid inserting repeated documents into the database."
   ]
  },
  {
   "cell_type": "code",
   "execution_count": null,
   "id": "3fac8e41",
   "metadata": {},
   "outputs": [
    {
     "name": "stdout",
     "output_type": "stream",
     "text": [
      "The collection now contains: 153 documents\n"
     ]
    }
   ],
   "source": [
    "print('The collection now contains:', \n",
    "      collection.estimated_document_count(), 'documents')"
   ]
  },
  {
   "cell_type": "markdown",
   "id": "214239e4",
   "metadata": {},
   "source": [
    "## Building the `indicators` collection\n",
    "\n",
    "Similarly, I can loop through every replay in a batch, extracting the performance indicators for each replays' players. Moreover, I can store these indicators as separate documents in a second collection (i.e. rpl_indicators). This two collection approach was defined in Section 1's introduction.\n",
    "\n",
    "In the following code, I illustrate how such a loop would apply all the functions defined in the `ingest` subpackage to build the indicators of two players in a sample replay. Each player's indicators are stored in a single flat dictionary, i.e. a dictionary that has no nested data structures as values.  "
   ]
  },
  {
   "cell_type": "code",
   "execution_count": null,
   "id": "a86fe0b5",
   "metadata": {},
   "outputs": [],
   "source": [
    "#exporti\n",
    "def flatten_indicators(nested_value: dict) -> dict[str, float]:\n",
    "    \n",
    "    if isinstance(list(nested_value.values())[0], dict):\n",
    "        output_dict = {}\n",
    "        for k, nested in nested_value.items():\n",
    "            for nested_k, v in nested.items():\n",
    "                output_dict[f'{k}_{nested_k}'] = v\n",
    "        return output_dict\n",
    "    elif isinstance(list(nested_value.values())[0], tuple):\n",
    "        output_dict = {}\n",
    "        order = ['first', 'second']\n",
    "        for k, nested in nested_value.items():\n",
    "            for ord, v in zip(order, nested):\n",
    "                output_dict[f'{ord}_{k}'] = str(v)\n",
    "        return output_dict\n"
   ]
  },
  {
   "cell_type": "code",
   "execution_count": null,
   "id": "914d3fc5",
   "metadata": {},
   "outputs": [
    {
     "name": "stdout",
     "output_type": "stream",
     "text": [
      "Processing: test_replays\\Jagannatha LE.SC2Replay\n",
      "Processing player: pid:1 Player 1 - HDEspino (Protoss)\n",
      "Processing player: pid:2 Player 2 - MxChrisxM (Terran)\n"
     ]
    }
   ],
   "source": [
    "\n",
    "indicators = sample_db['indicators']\n",
    "\n",
    "sample_replay = [sc2reader.load_replay('test_replays\\Jagannatha LE.SC2Replay')]\n",
    "\n",
    "simple_functions = [get_player_macro_econ_stats,\n",
    "                    get_expan_times,\n",
    "                    get_expan_counts,\n",
    "                    calc_attack_ratio,\n",
    "                    calc_ctrlg_ratio,\n",
    "                    count_max_active_groups,\n",
    "                    calc_get_ctrl_grp_ratio,\n",
    "                    calc_select_ratio,\n",
    "                    list_player_upgrades,\n",
    "                    calc_spe_abil_ratios]\n",
    "\n",
    "double_functions = [count_composition,\n",
    "                    count_started]\n",
    "\n",
    "\n",
    "\n",
    "\n",
    "indicators_list = []\n",
    "for rpl in sample_replay:\n",
    "    print(f'Processing: {rpl.filename}')\n",
    "    for pid, player in rpl.player.items():\n",
    "        print(f'Processing player: pid:{pid} {player}')\n",
    "        rpl_indicators = {}\n",
    "        \n",
    "        for func in simple_functions:\n",
    "            rpl_indicators.update(func(rpl, pid))\n",
    "\n",
    "        for func in double_functions:\n",
    "            for flag in [True, False]:\n",
    "                rpl_indicators.update(flatten_indicators(func(rpl, pid, flag)))\n",
    "                \n",
    "        v = get_prefered_spec_abil(rpl, pid)\n",
    "        rpl_indicators.update(flatten_indicators(v))\n",
    "                \n",
    "        indicators_list.append(rpl_indicators)\n"
   ]
  },
  {
   "cell_type": "markdown",
   "id": "780a8f93",
   "metadata": {},
   "source": [
    "As a result of the code above, `indicaors_list` now contains two dictionaries that store the indicators for each player. \n",
    "\n",
    "> Tip: In some cases, each player's indicators lists would contain a different number of indicators. This difference exists because the list stores separate counts for the players' units and buildings according to their race during the match. Remember that each one of the game races has a different number of available units. "
   ]
  },
  {
   "cell_type": "code",
   "execution_count": null,
   "id": "3204a4d9",
   "metadata": {},
   "outputs": [
    {
     "name": "stdout",
     "output_type": "stream",
     "text": [
      "Number of players evaluated:  2\n",
      "First set of indicators belongs to: HDEspino\n",
      "First set of indicators contains:  388 indicators.\n",
      "Second set of indicators belongs to: MxChrisxM\n",
      "Second set of indicators contains:  377 indicators.\n"
     ]
    }
   ],
   "source": [
    "print('Number of players evaluated: ',len(indicators_list))\n",
    "print('First set of indicators belongs to:', \n",
    "      indicators_list[0]['player_username'])\n",
    "print('First set of indicators contains: ',\n",
    "        len(indicators_list[0]), 'indicators.')\n",
    "print('Second set of indicators belongs to:', \n",
    "      indicators_list[1]['player_username'])\n",
    "print('Second set of indicators contains: ',\n",
    "        len(indicators_list[1]), 'indicators.')      "
   ]
  },
  {
   "cell_type": "markdown",
   "id": "cf740faa",
   "metadata": {},
   "source": [
    "## Exportable functions \n",
    "This section defines `inventory_replays`. With this function, users can provide a directory containing multiple `.SC2Replay` files. The function will build four collections in the database specified in the `config.json` file. \n",
    "\n",
    "Thus, I have condensed two initially proposed functions in the ingestion process diagram, i.e. `inventory_replays` and `get_replay_indicators`, to run in one loop. I also split the indicators by play race into separate collections. This separation will make it easier to compare and condense these replays into the players' race profiles.\n",
    "\n",
    "Internally, the function uses three helper functions:\n",
    "\n",
    "- `set_up_db`: connects to the MongoDB client and loads the working database.\n",
    "- `verify_replays_path`: makes sure that the path past by the user is valid.\n",
    "- `build_indicators`: runs through the indicator extraction loop and stores the results in the indicators collections.\n",
    "\n",
    "Of these, I export the `set_up_db`."
   ]
  },
  {
   "cell_type": "code",
   "execution_count": null,
   "id": "a7a9b4fe",
   "metadata": {},
   "outputs": [],
   "source": [
    "#export\n",
    "def set_up_db():\n",
    "    \"\"\"Loads the database specified in the project's config.json file.\n",
    "    \"\"\"\n",
    "    db_settings = load_configurations()\n",
    "    mongo_client = pymongo.MongoClient(db_settings.port_address, \n",
    "                                    db_settings.port_number)\n",
    "    worcking_bd = mongo_client[db_settings.db_name]\n",
    "\n",
    "    return worcking_bd"
   ]
  },
  {
   "cell_type": "code",
   "execution_count": null,
   "id": "54b344c4",
   "metadata": {},
   "outputs": [],
   "source": [
    "#exporti\n",
    "def verify_replays_path(rpl_path: Any) -> Path:\n",
    "\n",
    "    if isinstance(rpl_path, str):\n",
    "        path = Path(rpl_path)\n",
    "    elif not isinstance(rpl_path, Path):\n",
    "        string = 'replay_path must be of type str or Path, not ' \n",
    "        raise TypeError((string + str(type(replay_batch))))\n",
    "    else:\n",
    "        path = rpl_path\n",
    "\n",
    "    if not path.exists():\n",
    "        raise ValueError(f'{path} is not valid location')\n",
    "\n",
    "    return path"
   ]
  },
  {
   "cell_type": "code",
   "execution_count": null,
   "id": "799db382",
   "metadata": {},
   "outputs": [],
   "source": [
    "#exporti\n",
    "def build_indicators(rpl: sc2reader.resources.Replay,\n",
    "                    working_db: pymongo.database.Database) -> None:\n",
    "    \n",
    "    \"\"\"Runs through the indicator extraction loop and stores the results \n",
    "    in the indicators collections.\n",
    "    \"\"\"\n",
    "    simple_functions = [get_player_macro_econ_stats,\n",
    "                        get_expan_times,\n",
    "                        get_expan_counts,\n",
    "                        calc_attack_ratio,\n",
    "                        calc_ctrlg_ratio,\n",
    "                        count_max_active_groups,\n",
    "                        calc_get_ctrl_grp_ratio,\n",
    "                        calc_select_ratio,\n",
    "                        list_player_upgrades,\n",
    "                        calc_spe_abil_ratios\n",
    "                        ]\n",
    "\n",
    "    double_functions = [count_composition,\n",
    "                        count_started]\n",
    "    indi_collect = worcking_bd['indicators']\n",
    "    for pid, player in rpl.player.items():  \n",
    "        rpl_indicators = {}\n",
    "        for func in simple_functions:\n",
    "            rpl_indicators.update(func(rpl, pid))\n",
    "\n",
    "        v = get_prefered_spec_abil(rpl, pid)\n",
    "        rpl_indicators.update(flatten_indicators(v))\n",
    "\n",
    "        for func in double_functions:\n",
    "            for flag in [True, False]:\n",
    "                rpl_indicators.update(flatten_indicators(func(rpl, pid, flag)))\n",
    "\n",
    "        rpl_ind = ({k: v \n",
    "                    if (not (isinstance(v, np.int64) \n",
    "                        or isinstance(v, np.float64)))\n",
    "                    else float(v) for k, v in rpl_indicators.items()})\n",
    "        \n",
    "        indi_collect.insert_one(rpl_ind)"
   ]
  },
  {
   "cell_type": "markdown",
   "id": "4be2e639",
   "metadata": {},
   "source": [
    "### `inventory_replays`\n",
    "So, to summarise, the main exportable function of the ingest subpackage is `inventory_replays`. "
   ]
  },
  {
   "cell_type": "code",
   "execution_count": null,
   "id": "8f57ebd2",
   "metadata": {},
   "outputs": [],
   "source": [
    "#export\n",
    "def inventory_replays(replay_batch: Any) -> None:\n",
    "    \"\"\"This function builds four collections within the database \n",
    "    specified in the config.json file. \n",
    "\n",
    "    - `replays`\n",
    "        Stores the metadata of the replays, can be used for indexing and\n",
    "        for finding the other replays.\n",
    "    - `inicators_Protoss`, `indicator_Terran`, `indicators_Zerg`\n",
    "        Store the indicators for each performance of every player, \n",
    "        separated by the race they play with in every match.\n",
    "    \"\"\"\n",
    "    working_db = set_up_db()\n",
    "    rpls_collect = working_db['replays']\n",
    "    path = verify_replays_path(replay_batch)\n",
    "\n",
    "    replays = sc2reader.load_replays(str(path))\n",
    "    \n",
    "    load_count = 0\n",
    "    for rpl in replays:\n",
    "        if (not (rpl.type == \"1v1\")):\n",
    "            print(f'{rpl.filename}is not ladder or practice')\n",
    "            continue\n",
    "        if not rpls_collect.count_documents({'replay_name': rpl.filename}, \n",
    "                                            limit = 1):\n",
    "            print(f'Processing {rpl.filename}')\n",
    "            rpls_collect.insert_one(asdict(get_replay_info(rpl)))\n",
    "            build_indicators(rpl, worcking_bd)\n",
    "            load_count += 1\n",
    "        else:\n",
    "            print(rpl.filename, \"already exists in the replay_info rpls_collect.\")\n",
    "        \n",
    "    print(f'Load complete. {load_count} files loaded')\n",
    "        "
   ]
  },
  {
   "cell_type": "markdown",
   "id": "cf9b21d4",
   "metadata": {},
   "source": [
    "After running the function once I get the following sample results:"
   ]
  },
  {
   "cell_type": "code",
   "execution_count": null,
   "id": "fd63ab74",
   "metadata": {},
   "outputs": [
    {
     "name": "stdout",
     "output_type": "stream",
     "text": [
      "Processing C:\\Users\\david\\Documents\\phdcode\\sc_training\\test_replays\\TestProfilerBatch\\16-Bit LE (2).SC2Replay\n",
      "Processing C:\\Users\\david\\Documents\\phdcode\\sc_training\\test_replays\\TestProfilerBatch\\16-Bit LE (3).SC2Replay\n",
      "Processing C:\\Users\\david\\Documents\\phdcode\\sc_training\\test_replays\\TestProfilerBatch\\16-Bit LE.SC2Replay\n",
      "Processing C:\\Users\\david\\Documents\\phdcode\\sc_training\\test_replays\\TestProfilerBatch\\2000 Atmospheres LE (10).SC2Replay\n",
      "Processing C:\\Users\\david\\Documents\\phdcode\\sc_training\\test_replays\\TestProfilerBatch\\2000 Atmospheres LE (11).SC2Replay\n",
      "Processing C:\\Users\\david\\Documents\\phdcode\\sc_training\\test_replays\\TestProfilerBatch\\2000 Atmospheres LE (12).SC2Replay\n",
      "Processing C:\\Users\\david\\Documents\\phdcode\\sc_training\\test_replays\\TestProfilerBatch\\2000 Atmospheres LE (13).SC2Replay\n",
      "Processing C:\\Users\\david\\Documents\\phdcode\\sc_training\\test_replays\\TestProfilerBatch\\2000 Atmospheres LE (14).SC2Replay\n",
      "Processing C:\\Users\\david\\Documents\\phdcode\\sc_training\\test_replays\\TestProfilerBatch\\2000 Atmospheres LE (15).SC2Replay\n",
      "Processing C:\\Users\\david\\Documents\\phdcode\\sc_training\\test_replays\\TestProfilerBatch\\2000 Atmospheres LE (16).SC2Replay\n",
      "Processing C:\\Users\\david\\Documents\\phdcode\\sc_training\\test_replays\\TestProfilerBatch\\2000 Atmospheres LE (17).SC2Replay\n",
      "Processing C:\\Users\\david\\Documents\\phdcode\\sc_training\\test_replays\\TestProfilerBatch\\2000 Atmospheres LE (18).SC2Replay\n",
      "Processing C:\\Users\\david\\Documents\\phdcode\\sc_training\\test_replays\\TestProfilerBatch\\2000 Atmospheres LE (19).SC2Replay\n",
      "Processing C:\\Users\\david\\Documents\\phdcode\\sc_training\\test_replays\\TestProfilerBatch\\2000 Atmospheres LE (2).SC2Replay\n",
      "Processing C:\\Users\\david\\Documents\\phdcode\\sc_training\\test_replays\\TestProfilerBatch\\2000 Atmospheres LE (20).SC2Replay\n",
      "Processing C:\\Users\\david\\Documents\\phdcode\\sc_training\\test_replays\\TestProfilerBatch\\2000 Atmospheres LE (21).SC2Replay\n",
      "Processing C:\\Users\\david\\Documents\\phdcode\\sc_training\\test_replays\\TestProfilerBatch\\2000 Atmospheres LE (3).SC2Replay\n",
      "Processing C:\\Users\\david\\Documents\\phdcode\\sc_training\\test_replays\\TestProfilerBatch\\2000 Atmospheres LE (4).SC2Replay\n",
      "Processing C:\\Users\\david\\Documents\\phdcode\\sc_training\\test_replays\\TestProfilerBatch\\2000 Atmospheres LE (5).SC2Replay\n",
      "Processing C:\\Users\\david\\Documents\\phdcode\\sc_training\\test_replays\\TestProfilerBatch\\2000 Atmospheres LE (6).SC2Replay\n",
      "Processing C:\\Users\\david\\Documents\\phdcode\\sc_training\\test_replays\\TestProfilerBatch\\2000 Atmospheres LE (7).SC2Replay\n",
      "Processing C:\\Users\\david\\Documents\\phdcode\\sc_training\\test_replays\\TestProfilerBatch\\2000 Atmospheres LE (8).SC2Replay\n",
      "Processing C:\\Users\\david\\Documents\\phdcode\\sc_training\\test_replays\\TestProfilerBatch\\2000 Atmospheres LE (9).SC2Replay\n",
      "Processing C:\\Users\\david\\Documents\\phdcode\\sc_training\\test_replays\\TestProfilerBatch\\2000 Atmospheres LE.SC2Replay\n",
      "Processing C:\\Users\\david\\Documents\\phdcode\\sc_training\\test_replays\\TestProfilerBatch\\Beckett Industries LE (10).SC2Replay\n",
      "Processing C:\\Users\\david\\Documents\\phdcode\\sc_training\\test_replays\\TestProfilerBatch\\Beckett Industries LE (11).SC2Replay\n",
      "Processing C:\\Users\\david\\Documents\\phdcode\\sc_training\\test_replays\\TestProfilerBatch\\Beckett Industries LE (12).SC2Replay\n",
      "Processing C:\\Users\\david\\Documents\\phdcode\\sc_training\\test_replays\\TestProfilerBatch\\Beckett Industries LE (13).SC2Replay\n",
      "Processing C:\\Users\\david\\Documents\\phdcode\\sc_training\\test_replays\\TestProfilerBatch\\Beckett Industries LE (2).SC2Replay\n",
      "Processing C:\\Users\\david\\Documents\\phdcode\\sc_training\\test_replays\\TestProfilerBatch\\Beckett Industries LE (3).SC2Replay\n",
      "Processing C:\\Users\\david\\Documents\\phdcode\\sc_training\\test_replays\\TestProfilerBatch\\Beckett Industries LE (4).SC2Replay\n",
      "Processing C:\\Users\\david\\Documents\\phdcode\\sc_training\\test_replays\\TestProfilerBatch\\Beckett Industries LE (5).SC2Replay\n",
      "Processing C:\\Users\\david\\Documents\\phdcode\\sc_training\\test_replays\\TestProfilerBatch\\Beckett Industries LE (6).SC2Replay\n",
      "Processing C:\\Users\\david\\Documents\\phdcode\\sc_training\\test_replays\\TestProfilerBatch\\Beckett Industries LE (7).SC2Replay\n",
      "Processing C:\\Users\\david\\Documents\\phdcode\\sc_training\\test_replays\\TestProfilerBatch\\Beckett Industries LE (8).SC2Replay\n",
      "Processing C:\\Users\\david\\Documents\\phdcode\\sc_training\\test_replays\\TestProfilerBatch\\Beckett Industries LE (9).SC2Replay\n",
      "Processing C:\\Users\\david\\Documents\\phdcode\\sc_training\\test_replays\\TestProfilerBatch\\Beckett Industries LE.SC2Replay\n",
      "Processing C:\\Users\\david\\Documents\\phdcode\\sc_training\\test_replays\\TestProfilerBatch\\Blackburn LE (10).SC2Replay\n",
      "Processing C:\\Users\\david\\Documents\\phdcode\\sc_training\\test_replays\\TestProfilerBatch\\Blackburn LE (11).SC2Replay\n",
      "Processing C:\\Users\\david\\Documents\\phdcode\\sc_training\\test_replays\\TestProfilerBatch\\Blackburn LE (12).SC2Replay\n",
      "Processing C:\\Users\\david\\Documents\\phdcode\\sc_training\\test_replays\\TestProfilerBatch\\Blackburn LE (2).SC2Replay\n",
      "Processing C:\\Users\\david\\Documents\\phdcode\\sc_training\\test_replays\\TestProfilerBatch\\Blackburn LE (3).SC2Replay\n",
      "Processing C:\\Users\\david\\Documents\\phdcode\\sc_training\\test_replays\\TestProfilerBatch\\Blackburn LE (4).SC2Replay\n",
      "Processing C:\\Users\\david\\Documents\\phdcode\\sc_training\\test_replays\\TestProfilerBatch\\Blackburn LE (6).SC2Replay\n",
      "Processing C:\\Users\\david\\Documents\\phdcode\\sc_training\\test_replays\\TestProfilerBatch\\Blackburn LE (7).SC2Replay\n",
      "Processing C:\\Users\\david\\Documents\\phdcode\\sc_training\\test_replays\\TestProfilerBatch\\Blackburn LE (8).SC2Replay\n",
      "Processing C:\\Users\\david\\Documents\\phdcode\\sc_training\\test_replays\\TestProfilerBatch\\Blackburn LE (9).SC2Replay\n",
      "Processing C:\\Users\\david\\Documents\\phdcode\\sc_training\\test_replays\\TestProfilerBatch\\Blackburn LE.SC2Replay\n",
      "C:\\Users\\david\\Documents\\phdcode\\sc_training\\test_replays\\TestProfilerBatch\\Dead of Night (2).SC2Replayis not ladder or practice\n",
      "C:\\Users\\david\\Documents\\phdcode\\sc_training\\test_replays\\TestProfilerBatch\\Dead of Night.SC2Replayis not ladder or practice\n",
      "Processing C:\\Users\\david\\Documents\\phdcode\\sc_training\\test_replays\\TestProfilerBatch\\Deathaura LE (2).SC2Replay\n",
      "Processing C:\\Users\\david\\Documents\\phdcode\\sc_training\\test_replays\\TestProfilerBatch\\Deathaura LE (3).SC2Replay\n",
      "Processing C:\\Users\\david\\Documents\\phdcode\\sc_training\\test_replays\\TestProfilerBatch\\Deathaura LE (4).SC2Replay\n",
      "Processing C:\\Users\\david\\Documents\\phdcode\\sc_training\\test_replays\\TestProfilerBatch\\Deathaura LE (5).SC2Replay\n",
      "Processing C:\\Users\\david\\Documents\\phdcode\\sc_training\\test_replays\\TestProfilerBatch\\Deathaura LE.SC2Replay\n",
      "C:\\Users\\david\\Documents\\phdcode\\sc_training\\test_replays\\TestProfilerBatch\\Emerald City LE (2).SC2Replayis not ladder or practice\n",
      "Processing C:\\Users\\david\\Documents\\phdcode\\sc_training\\test_replays\\TestProfilerBatch\\Emerald City LE.SC2Replay\n",
      "Processing C:\\Users\\david\\Documents\\phdcode\\sc_training\\test_replays\\TestProfilerBatch\\Jagannatha LE (10).SC2Replay\n",
      "Processing C:\\Users\\david\\Documents\\phdcode\\sc_training\\test_replays\\TestProfilerBatch\\Jagannatha LE (11).SC2Replay\n",
      "Processing C:\\Users\\david\\Documents\\phdcode\\sc_training\\test_replays\\TestProfilerBatch\\Jagannatha LE (13).SC2Replay\n",
      "Processing C:\\Users\\david\\Documents\\phdcode\\sc_training\\test_replays\\TestProfilerBatch\\Jagannatha LE (14).SC2Replay\n",
      "Processing C:\\Users\\david\\Documents\\phdcode\\sc_training\\test_replays\\TestProfilerBatch\\Jagannatha LE (15).SC2Replay\n",
      "Processing C:\\Users\\david\\Documents\\phdcode\\sc_training\\test_replays\\TestProfilerBatch\\Jagannatha LE (16).SC2Replay\n",
      "Processing C:\\Users\\david\\Documents\\phdcode\\sc_training\\test_replays\\TestProfilerBatch\\Jagannatha LE (18).SC2Replay\n",
      "Processing C:\\Users\\david\\Documents\\phdcode\\sc_training\\test_replays\\TestProfilerBatch\\Jagannatha LE (19).SC2Replay\n",
      "Processing C:\\Users\\david\\Documents\\phdcode\\sc_training\\test_replays\\TestProfilerBatch\\Jagannatha LE (2).SC2Replay\n",
      "Processing C:\\Users\\david\\Documents\\phdcode\\sc_training\\test_replays\\TestProfilerBatch\\Jagannatha LE (20).SC2Replay\n",
      "Processing C:\\Users\\david\\Documents\\phdcode\\sc_training\\test_replays\\TestProfilerBatch\\Jagannatha LE (21).SC2Replay\n",
      "Processing C:\\Users\\david\\Documents\\phdcode\\sc_training\\test_replays\\TestProfilerBatch\\Jagannatha LE (22).SC2Replay\n",
      "Processing C:\\Users\\david\\Documents\\phdcode\\sc_training\\test_replays\\TestProfilerBatch\\Jagannatha LE (3).SC2Replay\n"
     ]
    },
    {
     "name": "stdout",
     "output_type": "stream",
     "text": [
      "Processing C:\\Users\\david\\Documents\\phdcode\\sc_training\\test_replays\\TestProfilerBatch\\Jagannatha LE (4).SC2Replay\n",
      "Processing C:\\Users\\david\\Documents\\phdcode\\sc_training\\test_replays\\TestProfilerBatch\\Jagannatha LE (5).SC2Replay\n",
      "Processing C:\\Users\\david\\Documents\\phdcode\\sc_training\\test_replays\\TestProfilerBatch\\Jagannatha LE (6).SC2Replay\n",
      "Processing C:\\Users\\david\\Documents\\phdcode\\sc_training\\test_replays\\TestProfilerBatch\\Jagannatha LE (7).SC2Replay\n",
      "Processing C:\\Users\\david\\Documents\\phdcode\\sc_training\\test_replays\\TestProfilerBatch\\Jagannatha LE (8).SC2Replay\n",
      "Processing C:\\Users\\david\\Documents\\phdcode\\sc_training\\test_replays\\TestProfilerBatch\\Jagannatha LE (9).SC2Replay\n",
      "Processing C:\\Users\\david\\Documents\\phdcode\\sc_training\\test_replays\\TestProfilerBatch\\Jagannatha LE.SC2Replay\n",
      "Processing C:\\Users\\david\\Documents\\phdcode\\sc_training\\test_replays\\TestProfilerBatch\\Lightshade LE (10).SC2Replay\n",
      "Processing C:\\Users\\david\\Documents\\phdcode\\sc_training\\test_replays\\TestProfilerBatch\\Lightshade LE (11).SC2Replay\n",
      "Processing C:\\Users\\david\\Documents\\phdcode\\sc_training\\test_replays\\TestProfilerBatch\\Lightshade LE (12).SC2Replay\n",
      "Processing C:\\Users\\david\\Documents\\phdcode\\sc_training\\test_replays\\TestProfilerBatch\\Lightshade LE (13).SC2Replay\n",
      "Processing C:\\Users\\david\\Documents\\phdcode\\sc_training\\test_replays\\TestProfilerBatch\\Lightshade LE (14).SC2Replay\n",
      "Processing C:\\Users\\david\\Documents\\phdcode\\sc_training\\test_replays\\TestProfilerBatch\\Lightshade LE (15).SC2Replay\n",
      "Processing C:\\Users\\david\\Documents\\phdcode\\sc_training\\test_replays\\TestProfilerBatch\\Lightshade LE (16).SC2Replay\n",
      "Processing C:\\Users\\david\\Documents\\phdcode\\sc_training\\test_replays\\TestProfilerBatch\\Lightshade LE (17).SC2Replay\n",
      "Processing C:\\Users\\david\\Documents\\phdcode\\sc_training\\test_replays\\TestProfilerBatch\\Lightshade LE (18).SC2Replay\n",
      "Processing C:\\Users\\david\\Documents\\phdcode\\sc_training\\test_replays\\TestProfilerBatch\\Lightshade LE (19).SC2Replay\n",
      "Processing C:\\Users\\david\\Documents\\phdcode\\sc_training\\test_replays\\TestProfilerBatch\\Lightshade LE (2).SC2Replay\n",
      "Processing C:\\Users\\david\\Documents\\phdcode\\sc_training\\test_replays\\TestProfilerBatch\\Lightshade LE (20).SC2Replay\n",
      "Processing C:\\Users\\david\\Documents\\phdcode\\sc_training\\test_replays\\TestProfilerBatch\\Lightshade LE (21).SC2Replay\n",
      "Processing C:\\Users\\david\\Documents\\phdcode\\sc_training\\test_replays\\TestProfilerBatch\\Lightshade LE (22).SC2Replay\n",
      "Processing C:\\Users\\david\\Documents\\phdcode\\sc_training\\test_replays\\TestProfilerBatch\\Lightshade LE (3).SC2Replay\n",
      "Processing C:\\Users\\david\\Documents\\phdcode\\sc_training\\test_replays\\TestProfilerBatch\\Lightshade LE (4).SC2Replay\n",
      "Processing C:\\Users\\david\\Documents\\phdcode\\sc_training\\test_replays\\TestProfilerBatch\\Lightshade LE (5).SC2Replay\n",
      "Processing C:\\Users\\david\\Documents\\phdcode\\sc_training\\test_replays\\TestProfilerBatch\\Lightshade LE (6).SC2Replay\n",
      "Processing C:\\Users\\david\\Documents\\phdcode\\sc_training\\test_replays\\TestProfilerBatch\\Lightshade LE (7).SC2Replay\n",
      "Processing C:\\Users\\david\\Documents\\phdcode\\sc_training\\test_replays\\TestProfilerBatch\\Lightshade LE (8).SC2Replay\n",
      "Processing C:\\Users\\david\\Documents\\phdcode\\sc_training\\test_replays\\TestProfilerBatch\\Lightshade LE (9).SC2Replay\n",
      "Processing C:\\Users\\david\\Documents\\phdcode\\sc_training\\test_replays\\TestProfilerBatch\\Lightshade LE.SC2Replay\n",
      "C:\\Users\\david\\Documents\\phdcode\\sc_training\\test_replays\\TestProfilerBatch\\Megaton.SC2Replayis not ladder or practice\n",
      "Processing C:\\Users\\david\\Documents\\phdcode\\sc_training\\test_replays\\TestProfilerBatch\\Oxide LE (10).SC2Replay\n",
      "Processing C:\\Users\\david\\Documents\\phdcode\\sc_training\\test_replays\\TestProfilerBatch\\Oxide LE (11).SC2Replay\n",
      "Processing C:\\Users\\david\\Documents\\phdcode\\sc_training\\test_replays\\TestProfilerBatch\\Oxide LE (12).SC2Replay\n",
      "Processing C:\\Users\\david\\Documents\\phdcode\\sc_training\\test_replays\\TestProfilerBatch\\Oxide LE (2).SC2Replay\n",
      "Processing C:\\Users\\david\\Documents\\phdcode\\sc_training\\test_replays\\TestProfilerBatch\\Oxide LE (3).SC2Replay\n",
      "Processing C:\\Users\\david\\Documents\\phdcode\\sc_training\\test_replays\\TestProfilerBatch\\Oxide LE (4).SC2Replay\n",
      "Processing C:\\Users\\david\\Documents\\phdcode\\sc_training\\test_replays\\TestProfilerBatch\\Oxide LE (5).SC2Replay\n",
      "Processing C:\\Users\\david\\Documents\\phdcode\\sc_training\\test_replays\\TestProfilerBatch\\Oxide LE (6).SC2Replay\n",
      "Processing C:\\Users\\david\\Documents\\phdcode\\sc_training\\test_replays\\TestProfilerBatch\\Oxide LE (7).SC2Replay\n",
      "Processing C:\\Users\\david\\Documents\\phdcode\\sc_training\\test_replays\\TestProfilerBatch\\Oxide LE (8).SC2Replay\n",
      "Processing C:\\Users\\david\\Documents\\phdcode\\sc_training\\test_replays\\TestProfilerBatch\\Oxide LE (9).SC2Replay\n",
      "Processing C:\\Users\\david\\Documents\\phdcode\\sc_training\\test_replays\\TestProfilerBatch\\Oxide LE.SC2Replay\n",
      "Processing C:\\Users\\david\\Documents\\phdcode\\sc_training\\test_replays\\TestProfilerBatch\\Pillars of Gold LE (2).SC2Replay\n",
      "Processing C:\\Users\\david\\Documents\\phdcode\\sc_training\\test_replays\\TestProfilerBatch\\Pillars of Gold LE.SC2Replay\n",
      "Processing C:\\Users\\david\\Documents\\phdcode\\sc_training\\test_replays\\TestProfilerBatch\\Romanticide LE (10).SC2Replay\n",
      "Processing C:\\Users\\david\\Documents\\phdcode\\sc_training\\test_replays\\TestProfilerBatch\\Romanticide LE (11).SC2Replay\n",
      "Processing C:\\Users\\david\\Documents\\phdcode\\sc_training\\test_replays\\TestProfilerBatch\\Romanticide LE (12).SC2Replay\n",
      "Processing C:\\Users\\david\\Documents\\phdcode\\sc_training\\test_replays\\TestProfilerBatch\\Romanticide LE (13).SC2Replay\n",
      "Processing C:\\Users\\david\\Documents\\phdcode\\sc_training\\test_replays\\TestProfilerBatch\\Romanticide LE (15).SC2Replay\n",
      "Processing C:\\Users\\david\\Documents\\phdcode\\sc_training\\test_replays\\TestProfilerBatch\\Romanticide LE (16).SC2Replay\n",
      "Processing C:\\Users\\david\\Documents\\phdcode\\sc_training\\test_replays\\TestProfilerBatch\\Romanticide LE (17).SC2Replay\n",
      "Processing C:\\Users\\david\\Documents\\phdcode\\sc_training\\test_replays\\TestProfilerBatch\\Romanticide LE (18).SC2Replay\n",
      "Processing C:\\Users\\david\\Documents\\phdcode\\sc_training\\test_replays\\TestProfilerBatch\\Romanticide LE (19).SC2Replay\n",
      "Processing C:\\Users\\david\\Documents\\phdcode\\sc_training\\test_replays\\TestProfilerBatch\\Romanticide LE (2).SC2Replay\n",
      "Processing C:\\Users\\david\\Documents\\phdcode\\sc_training\\test_replays\\TestProfilerBatch\\Romanticide LE (20).SC2Replay\n",
      "Processing C:\\Users\\david\\Documents\\phdcode\\sc_training\\test_replays\\TestProfilerBatch\\Romanticide LE (21).SC2Replay\n",
      "Processing C:\\Users\\david\\Documents\\phdcode\\sc_training\\test_replays\\TestProfilerBatch\\Romanticide LE (22).SC2Replay\n",
      "Processing C:\\Users\\david\\Documents\\phdcode\\sc_training\\test_replays\\TestProfilerBatch\\Romanticide LE (23).SC2Replay\n",
      "Processing C:\\Users\\david\\Documents\\phdcode\\sc_training\\test_replays\\TestProfilerBatch\\Romanticide LE (24).SC2Replay\n",
      "Processing C:\\Users\\david\\Documents\\phdcode\\sc_training\\test_replays\\TestProfilerBatch\\Romanticide LE (3).SC2Replay\n",
      "Processing C:\\Users\\david\\Documents\\phdcode\\sc_training\\test_replays\\TestProfilerBatch\\Romanticide LE (4).SC2Replay\n",
      "Processing C:\\Users\\david\\Documents\\phdcode\\sc_training\\test_replays\\TestProfilerBatch\\Romanticide LE (5).SC2Replay\n",
      "Processing C:\\Users\\david\\Documents\\phdcode\\sc_training\\test_replays\\TestProfilerBatch\\Romanticide LE (6).SC2Replay\n",
      "Processing C:\\Users\\david\\Documents\\phdcode\\sc_training\\test_replays\\TestProfilerBatch\\Romanticide LE (7).SC2Replay\n",
      "Processing C:\\Users\\david\\Documents\\phdcode\\sc_training\\test_replays\\TestProfilerBatch\\Romanticide LE (8).SC2Replay\n",
      "Processing C:\\Users\\david\\Documents\\phdcode\\sc_training\\test_replays\\TestProfilerBatch\\Romanticide LE (9).SC2Replay\n",
      "Processing C:\\Users\\david\\Documents\\phdcode\\sc_training\\test_replays\\TestProfilerBatch\\Romanticide LE.SC2Replay\n",
      "Processing C:\\Users\\david\\Documents\\phdcode\\sc_training\\test_replays\\TestProfilerBatch\\Romanticide LE_rush_lose.SC2Replay\n",
      "Processing C:\\Users\\david\\Documents\\phdcode\\sc_training\\test_replays\\TestProfilerBatch\\Romanticide LE_win.SC2Replay\n",
      "Processing C:\\Users\\david\\Documents\\phdcode\\sc_training\\test_replays\\TestProfilerBatch\\Submarine LE (2).SC2Replay\n",
      "Processing C:\\Users\\david\\Documents\\phdcode\\sc_training\\test_replays\\TestProfilerBatch\\Submarine LE (3).SC2Replay\n",
      "Processing C:\\Users\\david\\Documents\\phdcode\\sc_training\\test_replays\\TestProfilerBatch\\Submarine LE.SC2Replay\n"
     ]
    },
    {
     "name": "stdout",
     "output_type": "stream",
     "text": [
      "Processing C:\\Users\\david\\Documents\\phdcode\\sc_training\\test_replays\\TestProfilerBatch\\Void Training Stage 1 (3).SC2Replay\n",
      "Processing C:\\Users\\david\\Documents\\phdcode\\sc_training\\test_replays\\TestProfilerBatch\\Void Training Stage 1 (4).SC2Replay\n",
      "Processing C:\\Users\\david\\Documents\\phdcode\\sc_training\\test_replays\\TestProfilerBatch\\Void Training Stage 1 (5).SC2Replay\n",
      "Processing C:\\Users\\david\\Documents\\phdcode\\sc_training\\test_replays\\TestProfilerBatch\\Void Training Stage 1.SC2Replay\n",
      "Processing C:\\Users\\david\\Documents\\phdcode\\sc_training\\test_replays\\TestProfilerBatch\\Void Training Stage 2.SC2Replay\n",
      "Processing C:\\Users\\david\\Documents\\phdcode\\sc_training\\test_replays\\TestProfilerBatch\\Void Training Stage 3 (2).SC2Replay\n",
      "Processing C:\\Users\\david\\Documents\\phdcode\\sc_training\\test_replays\\TestProfilerBatch\\Void Training Stage 3 (3).SC2Replay\n",
      "Processing C:\\Users\\david\\Documents\\phdcode\\sc_training\\test_replays\\TestProfilerBatch\\Void Training Stage 3 (4).SC2Replay\n",
      "Processing C:\\Users\\david\\Documents\\phdcode\\sc_training\\test_replays\\TestProfilerBatch\\Void Training Stage 3 (5).SC2Replay\n",
      "Processing C:\\Users\\david\\Documents\\phdcode\\sc_training\\test_replays\\TestProfilerBatch\\Void Training Stage 3 (6).SC2Replay\n",
      "Processing C:\\Users\\david\\Documents\\phdcode\\sc_training\\test_replays\\TestProfilerBatch\\Void Training Stage 3.SC2Replay\n",
      "Load complete. 149 files loaded\n"
     ]
    }
   ],
   "source": [
    "# \n",
    "mongo_client.drop_database('TEST_library')\n",
    "inventory_replays(test_batch_path)"
   ]
  },
  {
   "cell_type": "code",
   "execution_count": null,
   "id": "178bd118",
   "metadata": {},
   "outputs": [
    {
     "data": {
      "text/plain": [
       "['indicators', 'replays']"
      ]
     },
     "execution_count": null,
     "metadata": {},
     "output_type": "execute_result"
    }
   ],
   "source": [
    "collections = [col for col in worcking_bd.list_collection_names()]\n",
    "collections"
   ]
  },
  {
   "cell_type": "code",
   "execution_count": null,
   "id": "59310c89",
   "metadata": {},
   "outputs": [
    {
     "name": "stdout",
     "output_type": "stream",
     "text": [
      "indicators has 298 records.\n",
      "replays has 149 records.\n"
     ]
    }
   ],
   "source": [
    "for col in collections:\n",
    "    print(f'{col} has {worcking_bd[col].estimated_document_count()} records.')"
   ]
  },
  {
   "cell_type": "code",
   "execution_count": null,
   "id": "8dc021a4",
   "metadata": {},
   "outputs": [
    {
     "name": "stdout",
     "output_type": "stream",
     "text": [
      "Converted 00_Comp_model.ipynb.\n",
      "Converted 01_01_ingest_and_clustering.ipynb.\n",
      "Converted 01_summarise_rpl.ipynb.\n",
      "Converted 02_handle_tracker_events.ipynb.\n",
      "Converted 03_macro_econ_parser.ipynb.\n",
      "Converted 04_build_parser.ipynb.\n",
      "Converted 05_handle_command_events.ipynb.\n",
      "Converted 06_selection_parser.ipynb.\n",
      "Converted 07_ingest.ipynb.\n",
      "Converted 08_profiler.ipynb.\n",
      "Converted index.ipynb.\n"
     ]
    }
   ],
   "source": [
    "#hide\n",
    "from nbdev.export import notebook2script\n",
    "notebook2script()"
   ]
  },
  {
   "cell_type": "code",
   "execution_count": null,
   "id": "f77f62e1",
   "metadata": {},
   "outputs": [],
   "source": []
  }
 ],
 "metadata": {
  "kernelspec": {
   "display_name": "Python 3 (ipykernel)",
   "language": "python",
   "name": "python3"
  }
 },
 "nbformat": 4,
 "nbformat_minor": 5
}
