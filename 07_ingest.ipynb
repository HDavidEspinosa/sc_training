{
 "cells": [
  {
   "cell_type": "code",
   "execution_count": null,
   "id": "20a1c9f8",
   "metadata": {},
   "outputs": [],
   "source": [
    "# default_exp ingest.ingest"
   ]
  },
  {
   "cell_type": "code",
   "execution_count": null,
   "id": "ea58fb75",
   "metadata": {},
   "outputs": [],
   "source": [
    "#hide\n",
    "from nbdev.showdoc import *"
   ]
  },
  {
   "cell_type": "code",
   "execution_count": null,
   "id": "5b714091",
   "metadata": {},
   "outputs": [],
   "source": [
    "#exporti\n",
    "\n",
    "import re\n",
    "import pymongo\n",
    "import json\n",
    "import sc2reader\n",
    "\n",
    "from pathlib import Path\n",
    "from pprint import pprint\n",
    "\n",
    "from sc_training.ingest import *"
   ]
  },
  {
   "cell_type": "code",
   "execution_count": null,
   "id": "845d6c36",
   "metadata": {},
   "outputs": [],
   "source": []
  },
  {
   "cell_type": "markdown",
   "id": "c0f74d39",
   "metadata": {},
   "source": [
    "# Section 1.7 - The main ingest module "
   ]
  },
  {
   "cell_type": "markdown",
   "id": "6cd9d865",
   "metadata": {},
   "source": [
    "## Introduction\n",
    "\n",
    "\n",
    "### Exportable Members"
   ]
  },
  {
   "cell_type": "markdown",
   "id": "1583d66c",
   "metadata": {},
   "source": [
    "## Inventoring and Storing `replays` collection"
   ]
  },
  {
   "cell_type": "markdown",
   "id": "8c8ca403",
   "metadata": {},
   "source": [
    "### `cofig` file"
   ]
  },
  {
   "cell_type": "code",
   "execution_count": null,
   "id": "e8f024d5",
   "metadata": {},
   "outputs": [],
   "source": []
  },
  {
   "cell_type": "code",
   "execution_count": null,
   "id": "ad2b2048",
   "metadata": {},
   "outputs": [],
   "source": []
  },
  {
   "cell_type": "markdown",
   "id": "33f70f94",
   "metadata": {},
   "source": [
    "## Building the `indicators` collection"
   ]
  },
  {
   "cell_type": "code",
   "execution_count": null,
   "id": "b81064a1",
   "metadata": {},
   "outputs": [],
   "source": []
  },
  {
   "cell_type": "code",
   "execution_count": null,
   "id": "9b392ad3",
   "metadata": {},
   "outputs": [],
   "source": []
  },
  {
   "cell_type": "markdown",
   "id": "303c65a1",
   "metadata": {},
   "source": [
    "## Exportable functions "
   ]
  },
  {
   "cell_type": "code",
   "execution_count": null,
   "id": "bbc22ca2",
   "metadata": {},
   "outputs": [],
   "source": [
    "#export\n",
    "def inventory_replay():\n",
    "    pass\n",
    "\n"
   ]
  },
  {
   "cell_type": "code",
   "execution_count": null,
   "id": "3709684e",
   "metadata": {},
   "outputs": [],
   "source": []
  },
  {
   "cell_type": "code",
   "execution_count": null,
   "id": "f88f635d",
   "metadata": {},
   "outputs": [],
   "source": []
  },
  {
   "cell_type": "code",
   "execution_count": null,
   "id": "1963bea5",
   "metadata": {},
   "outputs": [],
   "source": [
    "#export\n",
    "def get_replay_indicators():\n",
    "    pass"
   ]
  },
  {
   "cell_type": "code",
   "execution_count": null,
   "id": "c4fee624",
   "metadata": {},
   "outputs": [],
   "source": []
  },
  {
   "cell_type": "code",
   "execution_count": null,
   "id": "1d97e30f",
   "metadata": {},
   "outputs": [],
   "source": []
  }
 ],
 "metadata": {
  "kernelspec": {
   "display_name": "Python 3 (ipykernel)",
   "language": "python",
   "name": "python3"
  }
 },
 "nbformat": 4,
 "nbformat_minor": 5
}
