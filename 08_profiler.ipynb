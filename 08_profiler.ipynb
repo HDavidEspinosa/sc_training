{
 "cells": [
  {
   "cell_type": "code",
   "execution_count": null,
   "id": "26fe63ed",
   "metadata": {},
   "outputs": [],
   "source": [
    "# default_exp profiler\n"
   ]
  },
  {
   "cell_type": "code",
   "execution_count": null,
   "id": "dd05987c",
   "metadata": {},
   "outputs": [],
   "source": [
    "#hide\n",
    "from nbdev.showdoc import *\n"
   ]
  },
  {
   "cell_type": "code",
   "execution_count": null,
   "id": "8c23222a",
   "metadata": {},
   "outputs": [],
   "source": [
    "#exporti\n",
    "\n",
    "import re\n",
    "import pymongo\n",
    "import json\n",
    "import sc2reader\n",
    "import errno\n",
    "import jsonschema\n",
    "import os\n",
    "\n",
    "import pandas as pd\n",
    "import numpy as np\n",
    "\n",
    "from typing import *\n",
    "from pathlib import Path\n",
    "from pprint import pprint\n",
    "from jsonschema import validate\n",
    "from dataclasses import dataclass, astuple, asdict, field\n",
    "\n",
    "from sc_training.ingest import *\n",
    "\n",
    "sc2reader.engine.register_plugin(CtrlGroupTracker())"
   ]
  },
  {
   "cell_type": "markdown",
   "id": "91869fd6",
   "metadata": {},
   "source": [
    "# Section 2 - Player Profiler"
   ]
  },
  {
   "cell_type": "markdown",
   "id": "8c81b562",
   "metadata": {},
   "source": [
    "## Introduction\n",
    "\n",
    "In this section, I use the database built in Section 1.7 to define a `player_profiler` function that will take the data of each player's performances and then it will process it to compile three player profiles for each player, each corresponding to one of the play races of StarCraft 2. The section compiles this function into the `profiler` module.\n",
    "\n",
    "The following code shows the players in the data base that have more than 2 replays in the database. "
   ]
  },
  {
   "cell_type": "code",
   "execution_count": null,
   "id": "25b46a08",
   "metadata": {},
   "outputs": [],
   "source": [
    "working_db = set_up_db()"
   ]
  },
  {
   "cell_type": "code",
   "execution_count": null,
   "id": "d414866b",
   "metadata": {},
   "outputs": [
    {
     "data": {
      "text/plain": [
       "{'HDEspino': 149,\n",
       " 'DaveyC': 2,\n",
       " 'Xnorms': 2,\n",
       " 'Shah': 3,\n",
       " 'Razer': 2,\n",
       " 'gae': 2,\n",
       " 'SenorCat': 2,\n",
       " 'Worawit': 2,\n",
       " 'aria': 2,\n",
       " 'xiiaoyao': 2}"
      ]
     },
     "execution_count": null,
     "metadata": {},
     "output_type": "execute_result"
    }
   ],
   "source": [
    "players_match_count = dict()\n",
    "for rec in working_db['replays'].find():\n",
    "    for player in rec['players']:\n",
    "        if not (player['username'].startswith('A.I.') \n",
    "                or player['username'].startswith('llll')\n",
    "                or player['username'].startswith('Player 2')):\n",
    "            players_match_count.setdefault(player['username'], 0)\n",
    "            players_match_count[player['username']] += 1\n",
    "            \n",
    "{name: count for name , count in players_match_count.items() if count >= 2}"
   ]
  },
  {
   "cell_type": "markdown",
   "id": "10060157",
   "metadata": {},
   "source": [
    "Of this players I will focus only on `HDEspino` given that the player has a substancial number of replays. \n",
    "\n",
    "In any case, once I have a list of user names in a database, I can extract all the replays replative to that player with simple queries to the data base. \n",
    "\n",
    "For example, the following queries extract all replays were `HDEspino` was playing either as player one or two."
   ]
  },
  {
   "cell_type": "code",
   "execution_count": null,
   "id": "1a33f366",
   "metadata": {},
   "outputs": [
    {
     "name": "stdout",
     "output_type": "stream",
     "text": [
      "91\n",
      "39\n"
     ]
    }
   ],
   "source": [
    "print(len([rpl for rpl \n",
    "           in working_db['replays'].find({'players.0.username':'HDEspino',\n",
    "                                          'players.0.race':'Protoss'})]))\n",
    "print(len([rpl for rpl \n",
    "           in working_db['replays'].find({'players.1.username':'HDEspino',\n",
    "                                          'players.1.race':'Protoss'})]))\n"
   ]
  },
  {
   "cell_type": "markdown",
   "id": "90597a9c",
   "metadata": {},
   "source": [
    "Based on this list, I will build the Protoss profile for this player to illustrate what this process would entail.\n",
    "\n",
    "First, I will query the system to identify the replays where the user was one of the players and was playing as Protoss. Then, I use that information to build a DataFrame containing all of the indicators for the player's performances in these replays."
   ]
  },
  {
   "cell_type": "code",
   "execution_count": null,
   "id": "914a0628",
   "metadata": {},
   "outputs": [
    {
     "data": {
      "text/plain": [
       "91"
      ]
     },
     "execution_count": null,
     "metadata": {},
     "output_type": "execute_result"
    }
   ],
   "source": [
    "player_1_protoss = [rpl['replay_name'] for rpl \n",
    "                   in working_db['replays'].\n",
    "                      find({'players.0.username':'HDEspino', \n",
    "                            'players.0.race':'Protoss'},\n",
    "                            {'replay_name':1, 'players':1})]\n",
    "\n",
    "working_repls = {}\n",
    "for rpl in player_1_protoss:\n",
    "    for cur in working_db['indicators'].find({'replay_name':rpl, \n",
    "                                              'player_id': 1}, \n",
    "                                             {'_id':0, 'replay_name':0,\n",
    "                                              'player_username':0,\n",
    "                                              'player_id': 0}):\n",
    "        working_repls[rpl] = cur\n",
    "        \n",
    "len(working_repls)"
   ]
  },
  {
   "cell_type": "code",
   "execution_count": null,
   "id": "d9c36c00",
   "metadata": {},
   "outputs": [
    {
     "data": {
      "text/plain": [
       "130"
      ]
     },
     "execution_count": null,
     "metadata": {},
     "output_type": "execute_result"
    }
   ],
   "source": [
    "player_2_protoss = [rpl['replay_name'] for rpl \n",
    "                   in working_db['replays'].\n",
    "                      find({'players.1.username':'HDEspino', \n",
    "                            'players.1.race':'Protoss'},\n",
    "                            {'replay_name':1, 'players':1})]\n",
    "\n",
    "for rpl in player_2_protoss:\n",
    "    for cur in working_db['indicators'].find({'replay_name':rpl, \n",
    "                                              'player_id': 2}, \n",
    "                                             {'_id':0, 'replay_name':0,\n",
    "                                              'player_username':0,\n",
    "                                              'player_id': 0}):\n",
    "        working_repls[rpl] = cur\n",
    "        \n",
    "len(working_repls)"
   ]
  },
  {
   "cell_type": "code",
   "execution_count": null,
   "id": "5fa24bad",
   "metadata": {},
   "outputs": [
    {
     "data": {
      "text/plain": [
       "['first_whole_pref_sab',\n",
       " 'second_whole_pref_sab',\n",
       " 'first_early_pref_sab',\n",
       " 'second_early_pref_sab',\n",
       " 'first_mid_pref_sab',\n",
       " 'second_mid_pref_sab',\n",
       " 'first_late_pref_sab',\n",
       " 'second_late_pref_sab']"
      ]
     },
     "execution_count": null,
     "metadata": {},
     "output_type": "execute_result"
    }
   ],
   "source": [
    "working_df = pd.DataFrame(working_repls.values(), index=working_repls.keys())\n",
    "[x for x in list(working_df.columns) if 'pref' in x]"
   ]
  },
  {
   "cell_type": "code",
   "execution_count": null,
   "id": "5e3b0905",
   "metadata": {},
   "outputs": [
    {
     "ename": "TypeError",
     "evalue": "unhashable type: 'list'",
     "output_type": "error",
     "traceback": [
      "\u001b[1;31m---------------------------------------------------------------------------\u001b[0m",
      "\u001b[1;31mTypeError\u001b[0m                                 Traceback (most recent call last)",
      "\u001b[1;32m~\\AppData\\Local\\Temp/ipykernel_3880/739817364.py\u001b[0m in \u001b[0;36m<module>\u001b[1;34m\u001b[0m\n\u001b[1;32m----> 1\u001b[1;33m working_repls[['first_whole_pref_sab',\n\u001b[0m\u001b[0;32m      2\u001b[0m  \u001b[1;34m'second_whole_pref_sab'\u001b[0m\u001b[1;33m,\u001b[0m\u001b[1;33m\u001b[0m\u001b[1;33m\u001b[0m\u001b[0m\n\u001b[0;32m      3\u001b[0m  \u001b[1;34m'first_early_pref_sab'\u001b[0m\u001b[1;33m,\u001b[0m\u001b[1;33m\u001b[0m\u001b[1;33m\u001b[0m\u001b[0m\n\u001b[0;32m      4\u001b[0m  \u001b[1;34m'second_early_pref_sab'\u001b[0m\u001b[1;33m,\u001b[0m\u001b[1;33m\u001b[0m\u001b[1;33m\u001b[0m\u001b[0m\n\u001b[0;32m      5\u001b[0m  \u001b[1;34m'first_mid_pref_sab'\u001b[0m\u001b[1;33m,\u001b[0m\u001b[1;33m\u001b[0m\u001b[1;33m\u001b[0m\u001b[0m\n",
      "\u001b[1;31mTypeError\u001b[0m: unhashable type: 'list'"
     ]
    }
   ],
   "source": [
    "working_repls[['first_whole_pref_sab',\n",
    " 'second_whole_pref_sab',\n",
    " 'first_early_pref_sab',\n",
    " 'second_early_pref_sab',\n",
    " 'first_mid_pref_sab',\n",
    " 'second_mid_pref_sab',\n",
    " 'first_late_pref_sab',\n",
    " 'second_late_pref_sab']]"
   ]
  },
  {
   "cell_type": "code",
   "execution_count": null,
   "id": "deddb578",
   "metadata": {},
   "outputs": [],
   "source": []
  }
 ],
 "metadata": {
  "kernelspec": {
   "display_name": "Python 3 (ipykernel)",
   "language": "python",
   "name": "python3"
  }
 },
 "nbformat": 4,
 "nbformat_minor": 5
}
