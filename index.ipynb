{
 "cells": [
  {
   "cell_type": "code",
   "execution_count": null,
   "metadata": {},
   "outputs": [],
   "source": [
    "#hide\r\n",
    "%load_ext autoreload\r\n",
    "%autoreload 2"
   ]
  },
  {
   "cell_type": "code",
   "execution_count": null,
   "metadata": {},
   "outputs": [],
   "source": [
    "#hide\r\n",
    "from sc_training import *"
   ]
  },
  {
   "cell_type": "markdown",
   "metadata": {},
   "source": [
    "# sc_training\r\n",
    "\r\n",
    "> : This library is a prototype meant to facilitate the exploration of the technical feasibility, requirements, possibilities and limitations of developing an in-game recommender system for StarCraft II, i.e. SC2 Training Grounds."
   ]
  },
  {
   "cell_type": "markdown",
   "metadata": {},
   "source": [
    "> Note: this prototype is mainly a tool for the reflective practice of development. This reflection is part of my PhD research project, \"Encouraging Play Experience Expansion Through Machine-Learning-Based Recommendations: User-Experience Design considerations in the use of Machine-Learning-Based Recommendation System for Videogames\".\r\n",
    "\r\n",
    "## Introduction\r\n",
    "\r\n",
    "`sc_training` is a python library developed to document, organise and communicate the basic technical posibilities, specifications and design that support SC2 Training Grounds.\r\n",
    "\r\n",
    "As such, I develop this library using literate and iterative programming. This means that I try to build the library while simultaneously providing a narrative explanation and documentation for this development, i.e. literate programming. In other words, \"the program is its own documentation\" (Knuth, 1984; Ramsey, 1994; Literate Programming, 2014; Kery et al., 2018). This approach also helps me keep a journal of the development process, which is especially useful as this library is developed as part of my creative practice PhD project. This methodology allows me to rapidly test and explore many features and ideas while integrating the finalised elements into the library's source code and structure (Howard, 2019).\r\n",
    "\r\n",
    "In this case, I used [nbdev](https://nbdev.fast.ai/) to facilitate this process. This means that this library includes three components that can be explored separately or combined. First, the library was developed through a series of Jupyter notebooks. These interactive documents contain intertwined textual elements and source code, which can be consulted using jupyter lab or other IPython interpreters. Readers can read these documents if they want to explore the basic ideas in this library and the source code that compose all its functions. \r\n",
    "\r\n",
    "> Tip: the following link explains how to set up the Jupyter and IPython libraries to use these documents; [Jupyter/IPython Quick Start Guide](https://jupyter-notebook-beginner-guide.readthedocs.io/en/latest/). I also include a PDF version of this notebooks as an extra support document.\r\n",
    "\r\n",
    "Second, the library also includes its interactive documentation, where I review the development of each of its modules. I have structured this documentation as linearly as possible to reflect its development process and the structure that underlines the library.\r\n",
    "\r\n",
    "Each module's documentation includes several sections that review the main challenges I faced at each development stage. Additionally, at each document's end, there is a summary of the functions each module exports as a solution to these challenges. This summary hides much of the implementation details of each module, which readers can review in the library's source code or its development Jupyter notebooks. \r\n",
    "\r\n",
    "> Tip: this documentation can be consulted as an interactive website through the following link [Interactive Documentation](https://hdavidespinosa.github.io/sc_training/).\r\n",
    "\r\n",
    "Finally, this library is also exported as a traditional python library. This means that readers can find a functioning version of all the module's source code contained in the `sc_training` folder of the library. With this source code anyone can replicateand verify any of the examples and experiments I explore in the documentation and the notebooks.\r\n",
    "\r\n",
    "## Modules and Structure\r\n",
    "\r\n",
    "`sc_training` has various modules that are divided into several sections. The sections respond to the general strategy proposed in SC2 Training Grounds Design Brief. \r\n",
    "\r\n",
    "### Section 1 Input and Data Structures\r\n",
    "\r\n",
    "Modules 00 to 07 cover an in-depth exploration of the [sc2reader](https://github.com/ggtracker/sc2reader) library. I use this package as the primary interface to extract data from StarCraft II replays and maps as input for SC2 Training Grounds.  \r\n",
    "\r\n",
    "### Section 2 Clustering\r\n",
    "\r\n",
    "In modules XX to XX, I review the clustering component of SC 2 Training Grounds. This component uses the player profiles constructed with Section 1's modules to generate a player classification model based on the players' performance indicators. \r\n",
    "\r\n",
    "### Section 3 Classifier\r\n",
    "\r\n",
    "The modules in this section explore how I would use supervised learning techniques to generate a classification model based on the initial cluster analysis. This model aims to allow the system to rapidly and efficiently classify players into the categories defined in the previous cluster analysis.\r\n",
    "\r\n",
    "### Section 4 Recommender\r\n",
    "\r\n",
    "This final section explores how the player classification can be used to generate play recommendations for the players. This recommendation's objective is to help players build and follow specific training regimes to improve their performance in StarCraft II online melee matches.\r\n",
    "\r\n",
    "> Warning: this library is not meant as a complete implementation of the recommender system. Instead, the library has three primary objectives. First, it facilitates exploring some of the technical challenges developers and designers would face when creating a solution like the one described in the *SC2 Training Grounds Desing Brief*. Second, it helps me gauge the possibilities and limitations of the resources I am using. These, in turn, help me scope and design a more realistic interface and experience for the solution in its *User experience Design Document*. Third, as a part of a proof-of-concept, it helps me evaluate the realistic technical feasibility of this project.\r\n",
    " "
   ]
  },
  {
   "cell_type": "markdown",
   "metadata": {},
   "source": [
    "## Setup\r\n",
    "\r\n",
    "As a prelude to the exploration in the following modules, I will like to clarify some aspects of the composition of this document for brevity and clarity. \r\n",
    "\r\n",
    "In every case, when I start developing one of this library's modules, I have to include some setup elements at the beginning of each document. Since this process is almost identical in most cases, I will cover it here so that I can hide it in the module's documentation.\r\n",
    "\r\n",
    "> Note: Remember that any elements that I may hide in these documents can still be consulted and verified in the library's development notebooks and the library's exported source code.\r\n",
    "\r\n",
    "The development of all modules starts with two elements: importing the module's dependencies and loading the development tests and sample data.\r\n",
    "\r\n",
    "Importing the module's dependencies means invoking several libraries used by each module. The following is an example of these imports."
   ]
  },
  {
   "cell_type": "code",
   "execution_count": null,
   "metadata": {},
   "outputs": [],
   "source": [
    "# This are some of the common libraries for this library's\r\n",
    "# development.\r\n",
    "\r\n",
    "# These are some of the libraries of Python's standard library \r\n",
    "# I use to support differnt functionalities. \r\n",
    "from pathlib import Path\r\n",
    "from pprint import pprint\r\n",
    "from dataclasses import dataclass, astuple, field\r\n",
    "from datetime import datetime\r\n",
    "from typing import *\r\n",
    "\r\n",
    "# I use the following libries to load and manage data files. \r\n",
    "import csv\r\n",
    "import json\r\n",
    "\r\n",
    "# Pymongo allows me to interact with a local MongoDB client to \r\n",
    "# store and manage my document-based database.\r\n",
    "import pymongo\r\n",
    "\r\n",
    "# The following libraries offer various utilities for efficient\r\n",
    "# data and numeric manipulation, and for data visualisation.\r\n",
    "import numpy as np\r\n",
    "import pandas as pd\r\n",
    "import matplotlib.pyplot as plt\r\n",
    "\r\n",
    "import sklearn # Depending on the module I use different modules of\r\n",
    "               # scikit-learn library.\r\n",
    "\r\n",
    "\r\n",
    "# sc2reader facilitates data extraction from replay files\r\n",
    "import sc2reader"
   ]
  },
  {
   "cell_type": "markdown",
   "metadata": {},
   "source": [
    "Additionally, to develop each module, I need to load some StarCraft II replay files (marked with the .SC2Replay extension). The game generates these files to store all relevant configuration and game-play information necessary to rebuild and reproduce a match. \r\n",
    "\r\n",
    "The replays used to test and develop this project are extracted from publicly available datasets. In no case do I access any personal or private information of the users or players. These data sets have been collected using Blizzards developer's API and their client protocol (SC2client-proto), which only gathers them with the express authorisation of the users. The following code illustrates how they are loaded using sc2reader and collected into variables that store `sc2reader.resources.Replay` objects for later processing. I store this data in the library's test_replays folder.\r\n",
    "\r\n",
    "> Tip:  One can load one replay at a time using the `sc2replays.load_replay(<str_file_path>)` method."
   ]
  },
  {
   "cell_type": "code",
   "execution_count": null,
   "metadata": {},
   "outputs": [
    {
     "data": {
      "text/plain": [
       "<sc2reader.resources.Replay at 0x2ccb1f5abb0>"
      ]
     },
     "execution_count": null,
     "metadata": {},
     "output_type": "execute_result"
    }
   ],
   "source": [
    "# This code sets up the notebook's sample replay.\r\n",
    "rps_path = Path(Path.cwd()/'test_replays') \\\r\n",
    "           if Path('test_replays').exists() \\\r\n",
    "           else Path('../test_replays')\r\n",
    "game_path = str(rps_path/'Jagannatha LE.SC2Replay')\r\n",
    "single_replay = sc2reader.load_replay(game_path)\r\n",
    "single_replay"
   ]
  },
  {
   "cell_type": "markdown",
   "metadata": {},
   "source": [
    "> Tip: Alternatively, one can use the sc2replays.load_replays(<str_dir_path>) method, which returns a generator of replay objects."
   ]
  },
  {
   "cell_type": "code",
   "execution_count": null,
   "metadata": {},
   "outputs": [
    {
     "data": {
      "text/plain": [
       "<generator object SC2Factory.load_all at 0x000002CCB1FBE580>"
      ]
     },
     "execution_count": null,
     "metadata": {},
     "output_type": "execute_result"
    }
   ],
   "source": [
    "replays = sc2reader.load_replays(str(rps_path))\r\n",
    "replays"
   ]
  },
  {
   "cell_type": "markdown",
   "metadata": {},
   "source": [
    "Beyond these two initial setup elements, some modules also load data files that store helpful information to organise and configure the modules and their functions. These data files are stored in the library's data folder. The code below illustrates how I load some of these files. "
   ]
  },
  {
   "cell_type": "code",
   "execution_count": null,
   "metadata": {},
   "outputs": [],
   "source": [
    "data_path = Path(Path.cwd()/'data') \\\r\n",
    "            if Path('data').exists() \\\r\n",
    "            else Path('../data')\r\n",
    "\r\n",
    "with open(data_path/'unit_names.csv') as f:\r\n",
    "    file_reader = csv.reader(f)\r\n",
    "    unit_names = next(file_reader)\r\n",
    "    \r\n",
    "with open(data_path/'changes_names.csv') as f:\r\n",
    "    file_reader = csv.reader(f)\r\n",
    "    change_names = next(file_reader)\r\n",
    "    \r\n",
    "with open(data_path/'army_list.json') as f:\r\n",
    "    race_armies = json.load(f)\r\n",
    "\r\n",
    "with open(data_path/'buildings_list.json') as f:\r\n",
    "    race_buildings = json.load(f)\r\n",
    "\r\n",
    "with open(data_path/'upgrades.json') as f:\r\n",
    "    race_upgrades = json.load(f)"
   ]
  },
  {
   "cell_type": "markdown",
   "metadata": {},
   "source": [
    "## Exportable functions\r\n",
    "\r\n",
    "As I pointed out before, in each module, I include a section where I compile all the exportable functions that respond to the challenges summarise by each module. Once exported, other modules can call these functions by importing the module that exported them in the first place.\r\n",
    "\r\n",
    "For example, in the following code, I demonstrate how to call the `get_replay_info` function developed in the `summarise_rpl` module (see <<Chapter 01 summarise_rpl>>)."
   ]
  },
  {
   "cell_type": "code",
   "execution_count": null,
   "metadata": {},
   "outputs": [
    {
     "name": "stdout",
     "output_type": "stream",
     "text": [
      "File path:                   c:\\Users\\david\\Documents\\phdcode\\sc_training\\test_replays\\Jagannatha LE.SC2Replay \n",
      "File name:                   Jagannatha LE.SC2Replay \n",
      "Date (datetime.datetime):    2021-02-24 02:53:06 \n",
      "Duration (seconds):          590 \n",
      "Game type:                   1v1 \n",
      "Game release:                5.0.6.83830 \n",
      "Map:                         Jagannatha LE \n",
      "Game category:               Ladder \n",
      "winner:                      Team 2: Player 2 - MxChrisxM (Terran) \n",
      "players:                     [(1, 'HDEspino', 'Protoss', 'Loss'), (2, 'MxChrisxM', 'Terran', 'Win')] \n",
      "\n"
     ]
    }
   ],
   "source": [
    "from sc_training.summarise_rpl import *\r\n",
    "\r\n",
    "#Note that get_replay_info is defined in the summarise_rpl module.\r\n",
    "replay_data = get_replay_info(single_replay)\r\n",
    "print(replay_data)"
   ]
  },
  {
   "cell_type": "markdown",
   "metadata": {},
   "source": [
    "## Install\n",
    "\n",
    "> Warning: THE FOLLOWING 2 SECTIONS ARE INCOMPLETE PLACEHOLDERS. PLEASE DISREGARD FOR NOW\n",
    "\n",
    "If time allows I will cover the package intallation process and a sample run of the final system in these sections \n",
    "\n",
    "> Note: This is a test quote"
   ]
  },
  {
   "cell_type": "markdown",
   "metadata": {},
   "source": [
    "`pirpi install sc_traing`"
   ]
  },
  {
   "cell_type": "markdown",
   "metadata": {},
   "source": [
    "## How to use"
   ]
  },
  {
   "cell_type": "markdown",
   "metadata": {},
   "source": [
    "Fill me in please! Don't forget code examples:"
   ]
  },
  {
   "cell_type": "code",
   "execution_count": null,
   "metadata": {},
   "outputs": [],
   "source": [
    "# This are this module's dependencies.\r\n",
    "from pathlib import Path\r\n",
    "from pprint import pprint\r\n",
    "from dataclasses import dataclass, astuple, field\r\n",
    "from datetime import datetime\r\n",
    "from typing import *\r\n",
    "\r\n",
    "\r\n",
    "import sc2reader\r\n"
   ]
  },
  {
   "cell_type": "code",
   "execution_count": null,
   "metadata": {},
   "outputs": [
    {
     "data": {
      "text/plain": [
       "<sc2reader.resources.Replay at 0x2ccb14d34f0>"
      ]
     },
     "execution_count": null,
     "metadata": {},
     "output_type": "execute_result"
    }
   ],
   "source": [
    "# This code sets up the notebook's sample replay.\r\n",
    "rps_path = Path(\"./test_replays\")\r\n",
    "game_path = str(rps_path/\"Jagannatha LE.SC2Replay\")\r\n",
    "single_replay = sc2reader.load_replay(game_path)\r\n",
    "single_replay"
   ]
  },
  {
   "cell_type": "code",
   "execution_count": null,
   "metadata": {},
   "outputs": [],
   "source": [
    "p1 = single_replay.player[1]"
   ]
  },
  {
   "cell_type": "code",
   "execution_count": null,
   "metadata": {},
   "outputs": [
    {
     "data": {
      "text/plain": [
       "[BeaconArmy [2640001],\n",
       " BeaconDefend [2680001],\n",
       " BeaconAttack [26C0001],\n",
       " BeaconHarass [2700001],\n",
       " BeaconIdle [2740001]]"
      ]
     },
     "execution_count": null,
     "metadata": {},
     "output_type": "execute_result"
    }
   ],
   "source": [
    "p1.units[:5]"
   ]
  },
  {
   "cell_type": "code",
   "execution_count": null,
   "metadata": {},
   "outputs": [
    {
     "name": "stdout",
     "output_type": "stream",
     "text": [
      "Converted 01_summarise_rpl.ipynb.\n",
      "Converted 02_handle_tracker_events.ipynb.\n",
      "Converted 03_macro_econ_parser.ipynb.\n",
      "Converted 04_build_parser.ipynb.\n",
      "Converted 05_handle_game_events.ipynb.\n",
      "Converted index.ipynb.\n"
     ]
    }
   ],
   "source": [
    "#hide\r\n",
    "from nbdev.export import notebook2script\r\n",
    "notebook2script()"
   ]
  },
  {
   "cell_type": "code",
   "execution_count": null,
   "metadata": {},
   "outputs": [],
   "source": []
  }
 ],
 "metadata": {
  "kernelspec": {
   "display_name": "Python 3.9.5 64-bit ('sctraining_env': conda)",
   "name": "python3"
  }
 },
 "nbformat": 4,
 "nbformat_minor": 2
}
