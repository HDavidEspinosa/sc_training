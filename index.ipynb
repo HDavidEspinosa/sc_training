{
 "cells": [
  {
   "cell_type": "markdown",
   "metadata": {},
   "source": [
    "# SC2 Training Grounds - Technical Specifications Document"
   ]
  },
  {
   "cell_type": "code",
   "execution_count": null,
   "metadata": {},
   "outputs": [],
   "source": [
    "#hide\r\n",
    "from sc_training import *\r\n"
   ]
  },
  {
   "cell_type": "markdown",
   "metadata": {},
   "source": [
    "This document explores the technical back-end design for SC2 Training Grounds. It also functions as the development environment for `sc_training`, a prototype Python library that demonstrates parts of a high-level implementation of this design. \r\n",
    "\r\n",
    "> Note: this prototype is primarily meant as a tool for reflective practice. This reflection is part of my PhD research project, \"Encouraging Play Experience Expansion Through Machine-Learning-Based Recommendations: User-Experience Design considerations in the use of Machine-Learning-Based Recommendation System for Video games\"."
   ]
  },
  {
   "cell_type": "markdown",
   "metadata": {},
   "source": [
    "## Executive Summary\r\n",
    "\r\n",
    "`sc_training` is a python library developed to document, organise and communicate the design of *SC2 Training Grounds'* computer model. I developed this library for the following purposes:\r\n",
    "\r\n",
    "1. To review the technical challenges associated with creating a solution such as *SC2 Training Grounds*.\r\n",
    "2. To assess the possibilities and limitations of the resources I could use to develop this solution. Therefore, allowing me to design a more realistic and grounded user experience for the application. \r\n",
    "3. To provide a proof-of-concept that tests the technical feasibility of the project.\r\n",
    "\r\n",
    "In this case, I used literate and iterative programming to develop the library while providing a narrative explanation and documentation of this process (Knuth, 1984; Ramsey, 1994; Literate Programming, 2014; Kery et al., 2018). This methodology allows rapid testing and exploration of ideas while integrating them into a functioning program (Howard, 2019). Hence, the library is simultaneously the program's documentation and the program itself."
   ]
  },
  {
   "cell_type": "markdown",
   "metadata": {},
   "source": [
    "## Accessing the Library's Files and Documentation\r\n",
    "\r\n",
    "> Note: a pdf version of this document is attached as Appendix C of my PhD project. This format is included for convenience. However, I remind the reader that, in this format, the library loses part of its original functions as an interactive artefact. Readers can download all the files described below from the following [GitHub repository](https://github.com/HDavidEspinosa/sc_training).\r\n",
    "\r\n",
    "To facilitate the use of literary programming, I developed this library using I used [nbdev](https://nbdev.fast.ai/). The use of this tool means that this library is rendered in various ways to accommodate different interests. \r\n",
    "\r\n",
    "- First, since nbdev uses _interactive notebooks_ (see [Jupyter notebooks](https://jupyter-notebook-beginner-guide.readthedocs.io/en/latest/)) as a development environment, the library was developed and is originally contained in this format. These interactive documents intertwine textual elements that describe the ideas that support its components and the source code that defines its functions (see [Jupyter/IPython Quick Start Guide](https://jupyter-notebook-beginner-guide.readthedocs.io/en/latest/) for a guide on how to set up the Jupyter and IPython libraries to use these documents). \r\n",
    "- Second, the library is also exported as a traditional _python library_. Readers can find a functioning version of all the library's modules in the [repository's `sc_training` folder](https://github.com/HDavidEspinosa/sc_training/tree/master/sc_training), which they can use to replicate and verify any examples and experiments explored in this deliverable. \r\n",
    "- Third, these notebooks produce a _website_ that serves as the library's [Interactive Documentation](https://hdavidespinosa.github.io/sc_training/). This documentation omits many technical details focusing on the descriptions of the development process and the library's structure."
   ]
  },
  {
   "cell_type": "markdown",
   "metadata": {},
   "source": [
    "## Setup\r\n",
    "Before going into the document itself, it is important to clarify some aspects regarding their composition. \r\n",
    "\r\n",
    "Because of the nature of the documents, each notebook is exported as a module of the `sc_training` library. \r\n",
    "\r\n",
    "Meanwhile, since each notebook works as a separate module, I have to include some setup elements at the beginning of each document. Since this process is almost identical in most cases, I will cover it here so that I can hide it in the module's documentation.\r\n",
    "\r\n",
    "> Note: Remember that any elements I hide in these documents can still be reviewed and verified in the library's development notebooks and the library's exported source code.\r\n",
    "\r\n",
    "The development of all modules starts with two elements: importing the module's dependencies and loading the development tests and sample data.\r\n",
    "\r\n",
    "Importing the module's dependencies means invoking several libraries used by each module. The following is an example of these imports."
   ]
  },
  {
   "cell_type": "code",
   "execution_count": null,
   "metadata": {},
   "outputs": [],
   "source": [
    "# This are some of the common libraries for this library's\r\n",
    "# development.\r\n",
    "\r\n",
    "# These are some of the libraries of Python's standard library \r\n",
    "# I use to support different functionalities. \r\n",
    "from pathlib import Path\r\n",
    "from pprint import pprint\r\n",
    "from dataclasses import dataclass, astuple, field\r\n",
    "from datetime import datetime\r\n",
    "from typing import *\r\n",
    "\r\n",
    "# I use the following libries to load and manage data files. \r\n",
    "import csv\r\n",
    "import json\r\n",
    "\r\n",
    "# Pymongo allows me to interact with a local MongoDB client to \r\n",
    "# store and manage my document-based database.\r\n",
    "import pymongo\r\n",
    "\r\n",
    "# The following libraries offer various utilities for efficient\r\n",
    "# data and numeric manipulation, and for data visualisation.\r\n",
    "import numpy as np\r\n",
    "import pandas as pd\r\n",
    "import matplotlib.pyplot as plt\r\n",
    "\r\n",
    "import sklearn # Depending on the module I use different modules of\r\n",
    "               # scikit-learn library.\r\n",
    "\r\n",
    "\r\n",
    "# sc2reader facilitates data extraction from replay files\r\n",
    "import sc2reader"
   ]
  },
  {
   "cell_type": "markdown",
   "metadata": {},
   "source": [
    "Additionally, to develop each module, I need to load some StarCraft II replay files (marked with the .SC2Replay extension). The game generates these files to store all relevant configuration and game-play information necessary to rebuild and reproduce a match. \r\n",
    "\r\n",
    "The replays used to test and develop this project are extracted from publicly available datasets. In no case do I access any personal or private information of the users or players. The following code illustrates how they are loaded using `sc2reader` and collected into variables that store `sc2reader.resources.Replay` objects for later processing. I store this data in the repository's `test_replays` folder.\r\n",
    "\r\n",
    "> Tip:  One can load one replay at a time using the `sc2replays.load_replay(<str_file_path>)` method."
   ]
  },
  {
   "cell_type": "code",
   "execution_count": null,
   "metadata": {},
   "outputs": [
    {
     "data": {
      "text/plain": [
       "<sc2reader.resources.Replay at 0x1ec1d787dc0>"
      ]
     },
     "execution_count": null,
     "metadata": {},
     "output_type": "execute_result"
    }
   ],
   "source": [
    "# This code sets up the notebook's sample replay.\r\n",
    "rps_path = Path(Path.cwd()/'test_replays') \\\r\n",
    "           if Path('test_replays').exists() \\\r\n",
    "           else Path('../test_replays')\r\n",
    "game_path = str(rps_path/'Jagannatha LE.SC2Replay')\r\n",
    "single_replay = sc2reader.load_replay(game_path)\r\n",
    "single_replay"
   ]
  },
  {
   "cell_type": "markdown",
   "metadata": {},
   "source": [
    "> Tip: Alternatively, one can use the sc2replays.load_replays(<str_dir_path>) method, which returns a generator of replay objects."
   ]
  },
  {
   "cell_type": "code",
   "execution_count": null,
   "metadata": {},
   "outputs": [
    {
     "data": {
      "text/plain": [
       "<generator object SC2Factory.load_all at 0x000001EC234FFA50>"
      ]
     },
     "execution_count": null,
     "metadata": {},
     "output_type": "execute_result"
    }
   ],
   "source": [
    "replays = sc2reader.load_replays(str(rps_path))\r\n",
    "replays"
   ]
  },
  {
   "cell_type": "markdown",
   "metadata": {},
   "source": [
    "Beyond these two initial setup elements, some modules also load data files that store helpful information to organise and configure the modules and their functions. These data files are stored in the library's data folder. The code below illustrates how I load some of these files. "
   ]
  },
  {
   "cell_type": "code",
   "execution_count": null,
   "metadata": {},
   "outputs": [],
   "source": [
    "data_path = Path(Path.cwd()/'data') \\\r\n",
    "            if Path('data').exists() \\\r\n",
    "            else Path('../../data')\r\n",
    "\r\n",
    "with open(data_path/'unit_names.csv') as f:\r\n",
    "    file_reader = csv.reader(f)\r\n",
    "    unit_names = next(file_reader)\r\n",
    "    \r\n",
    "with open(data_path/'changes_names.csv') as f:\r\n",
    "    file_reader = csv.reader(f)\r\n",
    "    change_names = next(file_reader)\r\n",
    "    \r\n",
    "with open(data_path/'army_list.json') as f:\r\n",
    "    race_armies = json.load(f)\r\n",
    "\r\n",
    "with open(data_path/'buildings_list.json') as f:\r\n",
    "    race_buildings = json.load(f)\r\n",
    "\r\n",
    "with open(data_path/'upgrades.json') as f:\r\n",
    "    race_upgrades = json.load(f)"
   ]
  },
  {
   "cell_type": "markdown",
   "metadata": {},
   "source": [
    "## Exportable functions\r\n",
    "\r\n",
    "In each module, I include a section where I compile all the exportable functions that respond to each module's challenges and requirements. Once exported, other modules can call these functions by importing the module that exported them in the first place.\r\n",
    "\r\n",
    "For example, in the following code, I demonstrate how to call the `get_replay_info` function from the `summarise_rpl` module (see <<Chapter 1 - Summarising Replays>>)."
   ]
  },
  {
   "cell_type": "code",
   "execution_count": null,
   "metadata": {},
   "outputs": [
    {
     "name": "stdout",
     "output_type": "stream",
     "text": [
      "File path:                   c:\\Users\\david\\Documents\\phdcode\\sc_training\\test_replays\\Jagannatha LE.SC2Replay \n",
      "File name:                   Jagannatha LE.SC2Replay \n",
      "Date (datetime.datetime):    2021-02-24 02:53:06 \n",
      "Duration (seconds):          590 \n",
      "Game type:                   1v1 \n",
      "Game release:                5.0.6.83830 \n",
      "Map:                         Jagannatha LE \n",
      "Game category:               Ladder \n",
      "winner:                      2 \n",
      "players:                     [(1, 'HDEspino', 'Protoss', 'Loss'), (2, 'MxChrisxM', 'Terran', 'Win')] \n",
      "\n"
     ]
    }
   ],
   "source": [
    "from sc_training.ingest.summarise_rpl import *\r\n",
    "\r\n",
    "#Note that get_replay_info is defined in the summarise_rpl module.\r\n",
    "replay_data = get_replay_info(single_replay)\r\n",
    "print(replay_data)"
   ]
  },
  {
   "cell_type": "markdown",
   "metadata": {},
   "source": [
    "## References\n",
    "\n",
    "- Howard, J. (2019) nbdev: use Jupyter Notebooks for everything fast.ai, fast.ai. Available at: https://www.fast.ai/2019/12/02/nbdev/ (Accessed: 8 July 2021).\n",
    "- Kery, M. B. et al. (2018) 'The Story in the Notebook', in Proceedings of the 2018 CHI Conference on Human Factors in Computing Systems. New York, NY, USA: ACM, pp. 1-11. doi: 10.1145/3173574.3173748.\n",
    "- Knuth, D. E. (1984) 'Literate Programming', The Computer Journal, 27(2), pp. 97-111. doi: 10.1093/comjnl/27.2.97.\n",
    "- Literate Programming (2014) WikiWiki. Available at: https://wiki.c2.com/?LiterateProgramming (Accessed: 6 July 2021).\n",
    "- Ramsey, N. (1994) 'Literate programming simplified', IEEE Software, 11(5), pp. 97-105. doi: 10.1109/52.311070."
   ]
  },
  {
   "cell_type": "code",
   "execution_count": null,
   "metadata": {},
   "outputs": [
    {
     "name": "stdout",
     "output_type": "stream",
     "text": [
      "Converted 00_Comp_model.ipynb.\n",
      "Converted 01_01_ingest_and_clustering.ipynb.\n",
      "Converted 01_summarise_rpl.ipynb.\n",
      "Converted 02_handle_tracker_events.ipynb.\n",
      "Converted 03_macro_econ_parser.ipynb.\n",
      "Converted 04_build_parser.ipynb.\n",
      "Converted 05_handle_command_events.ipynb.\n",
      "Converted 06_selection_parser.ipynb.\n",
      "Converted 07_ingest.ipynb.\n",
      "Converted 08_profiler.ipynb.\n",
      "Converted index.ipynb.\n"
     ]
    }
   ],
   "source": [
    "#hide\r\n",
    "\r\n",
    "from nbdev.export import notebook2script\r\n",
    "notebook2script()"
   ]
  },
  {
   "cell_type": "code",
   "execution_count": null,
   "metadata": {},
   "outputs": [],
   "source": []
  }
 ],
 "metadata": {
  "kernelspec": {
   "display_name": "Python 3.9.7 64-bit ('sctraining_env': conda)",
   "name": "python3"
  }
 },
 "nbformat": 4,
 "nbformat_minor": 2
}
